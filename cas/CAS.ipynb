{
 "cells": [
  {
   "cell_type": "code",
   "execution_count": 1,
   "metadata": {},
   "outputs": [],
   "source": [
    "from IPython.display import display, Latex, Math\n",
    "from cas.utils import pprint, eprint, delim\n",
    "from cas.rule import RuleList, Rule\n",
    "from cas.operable import Operable, _instances\n",
    "from cas.symbol import Symbol\n",
    "from cas.number import Number\n",
    "from cas.indexed import Indexed\n",
    "from cas.expr import Expr\n",
    "from cas.neg import Neg"
   ]
  },
  {
   "cell_type": "code",
   "execution_count": 2,
   "metadata": {},
   "outputs": [],
   "source": [
    "import sys\n",
    "# from functools import *\n",
    "\n",
    "# def attr(s):\n",
    "#     return lambda x: getattr(x, s)\n",
    "\n",
    "# def get_index(l, val):\n",
    "#     try:\n",
    "#         return l.index(val)\n",
    "#     except ValueError:\n",
    "#         return len(l)+1\n"
   ]
  },
  {
   "cell_type": "code",
   "execution_count": 3,
   "metadata": {},
   "outputs": [
    {
     "data": {
      "text/latex": [
       "$\\displaystyle r$"
      ],
      "text/plain": [
       "<IPython.core.display.Math object>"
      ]
     },
     "metadata": {},
     "output_type": "display_data"
    },
    {
     "name": "stdout",
     "output_type": "stream",
     "text": [
      "True\n",
      "True\n"
     ]
    },
    {
     "data": {
      "text/plain": [
       "18"
      ]
     },
     "execution_count": 3,
     "metadata": {},
     "output_type": "execute_result"
    }
   ],
   "source": [
    "r = Symbol('r')\n",
    "pprint( r )\n",
    "r2 = Symbol('r')\n",
    "print( r == r2 )\n",
    "print( r is r2 )\n",
    "sum([*[1,2,3],*[3,4,5]])"
   ]
  },
  {
   "cell_type": "code",
   "execution_count": 4,
   "metadata": {},
   "outputs": [
    {
     "data": {
      "text/plain": [
       "{3666505650955502923: Symbol('{\\\\infty}'),\n",
       " -2910690074441788494: Number('0'),\n",
       " -5247702632668462731: Number('1'),\n",
       " 7539352741180393376: Symbol('r'),\n",
       " 8101878190514253162: Symbol('f')}"
      ]
     },
     "execution_count": 4,
     "metadata": {},
     "output_type": "execute_result"
    }
   ],
   "source": [
    "_instances\n",
    "f = Symbol('f')\n",
    "_instances"
   ]
  },
  {
   "cell_type": "code",
   "execution_count": 5,
   "metadata": {},
   "outputs": [
    {
     "name": "stdout",
     "output_type": "stream",
     "text": [
      "{\\infty} Symbol('{\\\\infty}') 6\n",
      "0 Number('0') 8\n",
      "1 Number('1') 7\n",
      "r Symbol('r') 7\n",
      "f Symbol('f') 6\n"
     ]
    }
   ],
   "source": [
    "for _, s in _instances.items():\n",
    "    print( s, repr(s), sys.getrefcount(s) )"
   ]
  },
  {
   "cell_type": "code",
   "execution_count": 6,
   "metadata": {},
   "outputs": [
    {
     "data": {
      "text/plain": [
       "Number('0')"
      ]
     },
     "execution_count": 6,
     "metadata": {},
     "output_type": "execute_result"
    }
   ],
   "source": [
    "Zero = Number(0)\n",
    "Zero"
   ]
  },
  {
   "cell_type": "code",
   "execution_count": 7,
   "metadata": {},
   "outputs": [
    {
     "data": {
      "text/plain": [
       "(Number('-1'), Number('-2'), Number('-3'))"
      ]
     },
     "execution_count": 7,
     "metadata": {},
     "output_type": "execute_result"
    }
   ],
   "source": [
    "Number(-1), Number(-2), Number(-3)"
   ]
  },
  {
   "cell_type": "code",
   "execution_count": 8,
   "metadata": {},
   "outputs": [
    {
     "data": {
      "text/latex": [
       "$\\displaystyle r_{a}$"
      ],
      "text/plain": [
       "<IPython.core.display.Math object>"
      ]
     },
     "metadata": {},
     "output_type": "display_data"
    }
   ],
   "source": [
    "r = Symbol('r')\n",
    "a = Symbol('a')\n",
    "pprint( r[a] )"
   ]
  },
  {
   "cell_type": "code",
   "execution_count": 9,
   "metadata": {},
   "outputs": [
    {
     "data": {
      "text/latex": [
       "$\\displaystyle -\\left( -r\\right) = r$"
      ],
      "text/plain": [
       "<IPython.core.display.Math object>"
      ]
     },
     "metadata": {},
     "output_type": "display_data"
    }
   ],
   "source": [
    "eprint( -(-r) )"
   ]
  },
  {
   "cell_type": "code",
   "execution_count": 10,
   "metadata": {},
   "outputs": [
    {
     "data": {
      "text/latex": [
       "$\\displaystyle r-r = 0$"
      ],
      "text/plain": [
       "<IPython.core.display.Math object>"
      ]
     },
     "metadata": {},
     "output_type": "display_data"
    }
   ],
   "source": [
    "eprint( r-r )"
   ]
  },
  {
   "cell_type": "code",
   "execution_count": 11,
   "metadata": {},
   "outputs": [
    {
     "name": "stdout",
     "output_type": "stream",
     "text": [
      "flatten args :\n",
      "Add(Add(Add(Add(Add(Add(Add(Add(Symbol('r'), Symbol('r')), Number('1')), Symbol('r')), Neg(Symbol('r'))), Neg(Symbol('r'))), Number('3')), Neg(Mul(Number('2'), Symbol('r')))), Neg(Number('5'))) -> Add(Symbol('r'), Symbol('r'), Symbol('r'), Neg(Symbol('r')), Neg(Symbol('r')), Number('1'), Number('3'), Neg(Number('5')), Neg(Mul(Number('2'), Symbol('r'))))\n"
     ]
    },
    {
     "data": {
      "text/latex": [
       "$\\displaystyle \\quad\\quad \\left( \\left( \\left( \\left( \\left( \\left( \\left( r+r\\right)+1\\right)+r\\right)-r\\right)-r\\right)+3\\right)-\\left( 2r\\right)\\right)-5\\quad \\rightarrow\\quad r+r+r-r-r+1+3-5-\\left( 2r\\right)$"
      ],
      "text/plain": [
       "<IPython.core.display.Math object>"
      ]
     },
     "metadata": {},
     "output_type": "display_data"
    },
    {
     "name": "stdout",
     "output_type": "stream",
     "text": [
      "add numbers :\n",
      "Add(Symbol('r'), Symbol('r'), Symbol('r'), Neg(Symbol('r')), Neg(Symbol('r')), Number('1'), Number('3'), Neg(Number('5')), Neg(Mul(Number('2'), Symbol('r')))) -> Add(Symbol('r'), Symbol('r'), Symbol('r'), Neg(Symbol('r')), Neg(Symbol('r')), Number('-1'), Neg(Mul(Number('2'), Symbol('r'))))\n"
     ]
    },
    {
     "data": {
      "text/latex": [
       "$\\displaystyle \\quad\\quad r+r+r-r-r+1+3-5-\\left( 2r\\right)\\quad \\rightarrow\\quad r+r+r-r-r-1-\\left( 2r\\right)$"
      ],
      "text/plain": [
       "<IPython.core.display.Math object>"
      ]
     },
     "metadata": {},
     "output_type": "display_data"
    },
    {
     "name": "stdout",
     "output_type": "stream",
     "text": [
      "add rules :\n",
      "Add(Symbol('r'), Symbol('r'), Symbol('r'), Neg(Symbol('r')), Neg(Symbol('r')), Number('-1'), Neg(Mul(Number('2'), Symbol('r')))) -> Add(Symbol('r'), Number('-1'), Mul(Neg(Number('1')), Mul(Number('2'), Symbol('r'))))\n"
     ]
    },
    {
     "data": {
      "text/latex": [
       "$\\displaystyle \\quad\\quad r+r+r-r-r-1-\\left( 2r\\right)\\quad \\rightarrow\\quad r-1+\\left( -1\\right)\\left( 2r\\right)$"
      ],
      "text/plain": [
       "<IPython.core.display.Math object>"
      ]
     },
     "metadata": {},
     "output_type": "display_data"
    },
    {
     "name": "stdout",
     "output_type": "stream",
     "text": [
      "mul rules :\n",
      "Mul(Neg(Number('1')), Mul(Number('2'), Symbol('r'))) -> Mul(Number('-2'), Symbol('r'))\n"
     ]
    },
    {
     "data": {
      "text/latex": [
       "$\\displaystyle \\quad\\quad \\left( -1\\right)\\left( 2r\\right)\\quad \\rightarrow\\quad -2r$"
      ],
      "text/plain": [
       "<IPython.core.display.Math object>"
      ]
     },
     "metadata": {},
     "output_type": "display_data"
    },
    {
     "name": "stdout",
     "output_type": "stream",
     "text": [
      "add rules :\n",
      "Add(Symbol('r'), Number('-1'), Mul(Number('-2'), Symbol('r'))) -> Add(Number('-1'), Mul(Neg(Number('1')), Symbol('r')))\n"
     ]
    },
    {
     "data": {
      "text/latex": [
       "$\\displaystyle \\quad\\quad r-1-2r\\quad \\rightarrow\\quad -1+\\left( -1\\right)r$"
      ],
      "text/plain": [
       "<IPython.core.display.Math object>"
      ]
     },
     "metadata": {},
     "output_type": "display_data"
    },
    {
     "name": "stdout",
     "output_type": "stream",
     "text": [
      "mul rules :\n",
      "Mul(Neg(Number('1')), Symbol('r')) -> Neg(Symbol('r'))\n"
     ]
    },
    {
     "data": {
      "text/latex": [
       "$\\displaystyle \\quad\\quad \\left( -1\\right)r\\quad \\rightarrow\\quad -r$"
      ],
      "text/plain": [
       "<IPython.core.display.Math object>"
      ]
     },
     "metadata": {},
     "output_type": "display_data"
    },
    {
     "name": "stdout",
     "output_type": "stream",
     "text": [
      "add rules :\n",
      "Add(Neg(Symbol('r')), Number('-1')) -> Add(Number('-1'), Mul(Neg(Number('1')), Symbol('r')))\n"
     ]
    },
    {
     "data": {
      "text/latex": [
       "$\\displaystyle \\quad\\quad -r-1\\quad \\rightarrow\\quad -1+\\left( -1\\right)r$"
      ],
      "text/plain": [
       "<IPython.core.display.Math object>"
      ]
     },
     "metadata": {},
     "output_type": "display_data"
    },
    {
     "name": "stdout",
     "output_type": "stream",
     "text": [
      "mul rules :\n",
      "Mul(Neg(Number('1')), Symbol('r')) -> Neg(Symbol('r'))\n"
     ]
    },
    {
     "data": {
      "text/latex": [
       "$\\displaystyle \\quad\\quad \\left( -1\\right)r\\quad \\rightarrow\\quad -r$"
      ],
      "text/plain": [
       "<IPython.core.display.Math object>"
      ]
     },
     "metadata": {},
     "output_type": "display_data"
    },
    {
     "data": {
      "text/latex": [
       "$\\displaystyle \\left( \\left( \\left( \\left( \\left( \\left( \\left( r+r\\right)+1\\right)+r\\right)-r\\right)-r\\right)+3\\right)-\\left( 2r\\right)\\right)-5 = -r-1$"
      ],
      "text/plain": [
       "<IPython.core.display.Math object>"
      ]
     },
     "metadata": {},
     "output_type": "display_data"
    }
   ],
   "source": [
    "expr = r + r + 0 + 1 + r + (-r) - r + 3 - 2*r -5\n",
    "eprint( expr, verbose=True )"
   ]
  },
  {
   "cell_type": "code",
   "execution_count": 12,
   "metadata": {},
   "outputs": [
    {
     "data": {
      "text/latex": [
       "$\\displaystyle r = x+y$"
      ],
      "text/plain": [
       "<IPython.core.display.Math object>"
      ]
     },
     "metadata": {},
     "output_type": "display_data"
    }
   ],
   "source": [
    "x = Symbol('x')\n",
    "y = Symbol('y')\n",
    "r.rules.append( Rule(\n",
    "    'definition',\n",
    "    lambda obj: True,\n",
    "    lambda obj, v: x+y\n",
    "    )\n",
    ")\n",
    "eprint( r )"
   ]
  },
  {
   "cell_type": "code",
   "execution_count": 13,
   "metadata": {},
   "outputs": [
    {
     "data": {
      "text/latex": [
       "$\\displaystyle p$"
      ],
      "text/plain": [
       "<IPython.core.display.Math object>"
      ]
     },
     "metadata": {},
     "output_type": "display_data"
    },
    {
     "data": {
      "text/latex": [
       "$\\displaystyle \\left( 1+p\\left( p\\left( r\\left( rp\\right)\\right)\\right)\\right)+p\\left( p\\left( pr^{ 2 }\\right)\\right) = 1+2\\left( x+y\\right)^{ 2 }p^{ 3 }$"
      ],
      "text/plain": [
       "<IPython.core.display.Math object>"
      ]
     },
     "metadata": {},
     "output_type": "display_data"
    }
   ],
   "source": [
    "r = Symbol('r')\n",
    "p = Symbol('p')\n",
    "pprint( p )\n",
    "eprint( r*p*r*p*p + 1 + p*r**2*p*p )"
   ]
  },
  {
   "cell_type": "code",
   "execution_count": 14,
   "metadata": {},
   "outputs": [
    {
     "data": {
      "text/latex": [
       "$\\displaystyle rr^{ n } = \\left( x+y\\right)^{ n+1 }$"
      ],
      "text/plain": [
       "<IPython.core.display.Math object>"
      ]
     },
     "metadata": {},
     "output_type": "display_data"
    }
   ],
   "source": [
    "n = Symbol('n')\n",
    "eprint( r**n * r )"
   ]
  },
  {
   "cell_type": "code",
   "execution_count": 15,
   "metadata": {},
   "outputs": [
    {
     "data": {
      "text/latex": [
       "$\\displaystyle n^{ r }n^{ p } = n^{ p+x+y }$"
      ],
      "text/plain": [
       "<IPython.core.display.Math object>"
      ]
     },
     "metadata": {},
     "output_type": "display_data"
    }
   ],
   "source": [
    "eprint( n**r * n**p )"
   ]
  },
  {
   "cell_type": "code",
   "execution_count": 16,
   "metadata": {},
   "outputs": [
    {
     "data": {
      "text/latex": [
       "$\\displaystyle p+y = m$"
      ],
      "text/plain": [
       "<IPython.core.display.Math object>"
      ]
     },
     "metadata": {},
     "output_type": "display_data"
    },
    {
     "data": {
      "text/latex": [
       "$\\displaystyle n^{ r }n^{ p } = n^{ m+x }$"
      ],
      "text/plain": [
       "<IPython.core.display.Math object>"
      ]
     },
     "metadata": {},
     "output_type": "display_data"
    }
   ],
   "source": [
    "from cas.add import Add\n",
    "from cas.mul import Mul\n",
    "from cas.pow import Pow\n",
    "\n",
    "m = Symbol('m')\n",
    "rule = Rule(\n",
    "    'y+p -> m',\n",
    "    lambda obj: isinstance(obj, Add) and y in obj.args and p in obj.args,\n",
    "    lambda obj, v: Add(m, *[ arg for arg in obj.args if not arg == y and not arg == p])\n",
    ")\n",
    "Add.rules.append(rule)\n",
    "eprint( p+y )\n",
    "eprint( n**r * n**p )"
   ]
  },
  {
   "cell_type": "code",
   "execution_count": 17,
   "metadata": {},
   "outputs": [],
   "source": [
    "from cas.symbol import Symbol\n",
    "from cas.appliedfunction import AppliedFunction\n",
    "from cas.appliedindexedfunction import AppliedIndexedFunction\n",
    "from cas.kroneckerdelta import KroneckerDelta\n",
    "from cas.diracdelta import DiracDelta\n",
    "from cas.summation import Summation\n",
    "from cas.derivative import Derivative"
   ]
  },
  {
   "cell_type": "code",
   "execution_count": 18,
   "metadata": {},
   "outputs": [
    {
     "data": {
      "text/latex": [
       "$\\displaystyle \\frac{ {\\rm d} }{ {\\rm d}x }\\left( \\left( g(x^{ 3 }, y^{ 3 })\\right)^{ 2 }\\right) = 6x^{ 2 }\\left( \\partial_{0}g\\right)(x^{ 3 }, y^{ 3 })g(x^{ 3 }, y^{ 3 })+6y^{ 2 }\\left( \\partial_{1}g\\right)(x^{ 3 }, y^{ 3 })g(x^{ 3 }, y^{ 3 })\\frac{ {\\rm d}y }{ {\\rm d}x }$"
      ],
      "text/plain": [
       "<IPython.core.display.Math object>"
      ]
     },
     "metadata": {},
     "output_type": "display_data"
    }
   ],
   "source": [
    "g = Symbol('g')\n",
    "eprint( Derivative(g(x**3,y**3)**2, x), verbose=False )"
   ]
  },
  {
   "cell_type": "code",
   "execution_count": 19,
   "metadata": {},
   "outputs": [
    {
     "name": "stdout",
     "output_type": "stream",
     "text": [
      "d(add(...)) -> add(d(...)) :\n",
      "Derivative(Add(Add(Symbol('r'), Mul(Number('3'), Symbol('p'))), Pow(Symbol('p'), Neg(Number('1')))), Symbol('r')) -> Add(Derivative(Add(Symbol('r'), Mul(Number('3'), Symbol('p'))), Symbol('r')), Derivative(Pow(Symbol('p'), Neg(Number('1'))), Symbol('r')))\n"
     ]
    },
    {
     "data": {
      "text/latex": [
       "$\\displaystyle \\quad\\quad \\frac{ {\\rm d} }{ {\\rm d}r }\\left( \\left( r+3p\\right)+\\frac{1}{p}\\right)\\quad \\rightarrow\\quad \\frac{ {\\rm d} }{ {\\rm d}r }\\left( r+3p\\right)+\\frac{ {\\rm d} }{ {\\rm d}r }\\left( \\frac{1}{p}\\right)$"
      ],
      "text/plain": [
       "<IPython.core.display.Math object>"
      ]
     },
     "metadata": {},
     "output_type": "display_data"
    },
    {
     "name": "stdout",
     "output_type": "stream",
     "text": [
      "d(add(...)) -> add(d(...)) :\n",
      "Derivative(Add(Symbol('r'), Mul(Number('3'), Symbol('p'))), Symbol('r')) -> Add(Number('1'), Derivative(Mul(Number('3'), Symbol('p')), Symbol('r')))\n"
     ]
    },
    {
     "data": {
      "text/latex": [
       "$\\displaystyle \\quad\\quad \\frac{ {\\rm d} }{ {\\rm d}r }\\left( r+3p\\right)\\quad \\rightarrow\\quad 1+\\frac{ {\\rm d} }{ {\\rm d}r }\\left( 3p\\right)$"
      ],
      "text/plain": [
       "<IPython.core.display.Math object>"
      ]
     },
     "metadata": {},
     "output_type": "display_data"
    },
    {
     "name": "stdout",
     "output_type": "stream",
     "text": [
      "mul deriv\n",
      "derivative rule :\n",
      "Derivative(Mul(Number('3'), Symbol('p')), Symbol('r')) -> Mul(Number('3'), Derivative(Symbol('p'), Symbol('r')))\n"
     ]
    },
    {
     "data": {
      "text/latex": [
       "$\\displaystyle \\quad\\quad \\frac{ {\\rm d} }{ {\\rm d}r }\\left( 3p\\right)\\quad \\rightarrow\\quad 3\\frac{ {\\rm d}p }{ {\\rm d}r }$"
      ],
      "text/plain": [
       "<IPython.core.display.Math object>"
      ]
     },
     "metadata": {},
     "output_type": "display_data"
    },
    {
     "name": "stdout",
     "output_type": "stream",
     "text": [
      "nothing deriv\n",
      "definition :\n",
      "Symbol('r') -> Add(Symbol('x'), Symbol('y'))\n"
     ]
    },
    {
     "data": {
      "text/latex": [
       "$\\displaystyle \\quad\\quad r\\quad \\rightarrow\\quad x+y$"
      ],
      "text/plain": [
       "<IPython.core.display.Math object>"
      ]
     },
     "metadata": {},
     "output_type": "display_data"
    },
    {
     "name": "stdout",
     "output_type": "stream",
     "text": [
      "pow deriv\n",
      "derivative rule :\n",
      "Derivative(Pow(Symbol('p'), Neg(Number('1'))), Symbol('r')) -> Mul(Mul(Neg(Number('1')), Pow(Symbol('p'), Add(Neg(Number('1')), Neg(Number('1'))))), Derivative(Symbol('p'), Symbol('r')))\n"
     ]
    },
    {
     "data": {
      "text/latex": [
       "$\\displaystyle \\quad\\quad \\frac{ {\\rm d} }{ {\\rm d}r }\\left( \\frac{1}{p}\\right)\\quad \\rightarrow\\quad \\left( \\left( -1\\right)p^{ -1-1 }\\right)\\frac{ {\\rm d}p }{ {\\rm d}r }$"
      ],
      "text/plain": [
       "<IPython.core.display.Math object>"
      ]
     },
     "metadata": {},
     "output_type": "display_data"
    },
    {
     "name": "stdout",
     "output_type": "stream",
     "text": [
      "mul rules :\n",
      "Mul(Neg(Number('1')), Pow(Symbol('p'), Add(Neg(Number('1')), Neg(Number('1'))))) -> Neg(Pow(Symbol('p'), Add(Neg(Number('1')), Neg(Number('1')))))\n"
     ]
    },
    {
     "data": {
      "text/latex": [
       "$\\displaystyle \\quad\\quad \\left( -1\\right)p^{ -1-1 }\\quad \\rightarrow\\quad -p^{ -1-1 }$"
      ],
      "text/plain": [
       "<IPython.core.display.Math object>"
      ]
     },
     "metadata": {},
     "output_type": "display_data"
    },
    {
     "name": "stdout",
     "output_type": "stream",
     "text": [
      "add rules :\n",
      "Add(Neg(Number('1')), Neg(Number('1'))) -> Number('-2')\n"
     ]
    },
    {
     "data": {
      "text/latex": [
       "$\\displaystyle \\quad\\quad -1-1\\quad \\rightarrow\\quad -2$"
      ],
      "text/plain": [
       "<IPython.core.display.Math object>"
      ]
     },
     "metadata": {},
     "output_type": "display_data"
    },
    {
     "name": "stdout",
     "output_type": "stream",
     "text": [
      "nothing deriv\n",
      "definition :\n",
      "Symbol('r') -> Add(Symbol('x'), Symbol('y'))\n"
     ]
    },
    {
     "data": {
      "text/latex": [
       "$\\displaystyle \\quad\\quad r\\quad \\rightarrow\\quad x+y$"
      ],
      "text/plain": [
       "<IPython.core.display.Math object>"
      ]
     },
     "metadata": {},
     "output_type": "display_data"
    },
    {
     "name": "stdout",
     "output_type": "stream",
     "text": [
      "flatten args :\n",
      "Add(Add(Number('1'), Mul(Number('3'), Derivative(Symbol('p'), Add(Symbol('x'), Symbol('y'))))), Mul(Neg(Pow(Symbol('p'), Number('-2'))), Derivative(Symbol('p'), Add(Symbol('x'), Symbol('y'))))) -> Add(Number('1'), Mul(Number('3'), Derivative(Symbol('p'), Add(Symbol('x'), Symbol('y')))), Mul(Neg(Pow(Symbol('p'), Number('-2'))), Derivative(Symbol('p'), Add(Symbol('x'), Symbol('y')))))\n"
     ]
    },
    {
     "data": {
      "text/latex": [
       "$\\displaystyle \\quad\\quad \\left( 1+3\\frac{ {\\rm d}p }{ {\\rm d}x+y }\\right)+\\left( -p^{ -2 }\\right)\\frac{ {\\rm d}p }{ {\\rm d}x+y }\\quad \\rightarrow\\quad 1+3\\frac{ {\\rm d}p }{ {\\rm d}x+y }+\\left( -p^{ -2 }\\right)\\frac{ {\\rm d}p }{ {\\rm d}x+y }$"
      ],
      "text/plain": [
       "<IPython.core.display.Math object>"
      ]
     },
     "metadata": {},
     "output_type": "display_data"
    },
    {
     "name": "stdout",
     "output_type": "stream",
     "text": [
      "nothing deriv\n",
      "mul rules :\n",
      "Mul(Neg(Pow(Symbol('p'), Number('-2'))), Derivative(Symbol('p'), Add(Symbol('x'), Symbol('y')))) -> Neg(Mul(Pow(Symbol('p'), Number('-2')), Derivative(Symbol('p'), Add(Symbol('x'), Symbol('y')))))\n"
     ]
    },
    {
     "data": {
      "text/latex": [
       "$\\displaystyle \\quad\\quad \\left( -p^{ -2 }\\right)\\frac{ {\\rm d}p }{ {\\rm d}x+y }\\quad \\rightarrow\\quad -\\left( p^{ -2 }\\frac{ {\\rm d}p }{ {\\rm d}x+y }\\right)$"
      ],
      "text/plain": [
       "<IPython.core.display.Math object>"
      ]
     },
     "metadata": {},
     "output_type": "display_data"
    },
    {
     "name": "stdout",
     "output_type": "stream",
     "text": [
      "mul rules :\n",
      "Mul(Pow(Symbol('p'), Number('-2')), Derivative(Symbol('p'), Add(Symbol('x'), Symbol('y')))) -> Mul(Pow(Symbol('p'), Neg(Number('2'))), Derivative(Symbol('p'), Add(Symbol('x'), Symbol('y'))))\n"
     ]
    },
    {
     "data": {
      "text/latex": [
       "$\\displaystyle \\quad\\quad p^{ -2 }\\frac{ {\\rm d}p }{ {\\rm d}x+y }\\quad \\rightarrow\\quad \\frac{1}{p^{2} }\\frac{ {\\rm d}p }{ {\\rm d}x+y }$"
      ],
      "text/plain": [
       "<IPython.core.display.Math object>"
      ]
     },
     "metadata": {},
     "output_type": "display_data"
    },
    {
     "name": "stdout",
     "output_type": "stream",
     "text": [
      "nothing deriv\n",
      "add rules :\n",
      "Add(Number('1'), Mul(Number('3'), Derivative(Symbol('p'), Add(Symbol('x'), Symbol('y')))), Neg(Mul(Pow(Symbol('p'), Neg(Number('2'))), Derivative(Symbol('p'), Add(Symbol('x'), Symbol('y')))))) -> Add(Number('1'), Mul(Neg(Number('1')), Mul(Pow(Symbol('p'), Neg(Number('2'))), Derivative(Symbol('p'), Add(Symbol('x'), Symbol('y'))))), Mul(Number('3'), Derivative(Symbol('p'), Add(Symbol('x'), Symbol('y')))))\n"
     ]
    },
    {
     "data": {
      "text/latex": [
       "$\\displaystyle \\quad\\quad 1+3\\frac{ {\\rm d}p }{ {\\rm d}x+y }-\\left( \\frac{1}{p^{2} }\\frac{ {\\rm d}p }{ {\\rm d}x+y }\\right)\\quad \\rightarrow\\quad 1+\\left( -1\\right)\\left( \\frac{1}{p^{2} }\\frac{ {\\rm d}p }{ {\\rm d}x+y }\\right)+3\\frac{ {\\rm d}p }{ {\\rm d}x+y }$"
      ],
      "text/plain": [
       "<IPython.core.display.Math object>"
      ]
     },
     "metadata": {},
     "output_type": "display_data"
    },
    {
     "name": "stdout",
     "output_type": "stream",
     "text": [
      "mul rules :\n",
      "Mul(Neg(Number('1')), Mul(Pow(Symbol('p'), Neg(Number('2'))), Derivative(Symbol('p'), Add(Symbol('x'), Symbol('y'))))) -> Neg(Mul(Pow(Symbol('p'), Neg(Number('2'))), Derivative(Symbol('p'), Add(Symbol('x'), Symbol('y')))))\n"
     ]
    },
    {
     "data": {
      "text/latex": [
       "$\\displaystyle \\quad\\quad \\left( -1\\right)\\left( \\frac{1}{p^{2} }\\frac{ {\\rm d}p }{ {\\rm d}x+y }\\right)\\quad \\rightarrow\\quad -\\left( \\frac{1}{p^{2} }\\frac{ {\\rm d}p }{ {\\rm d}x+y }\\right)$"
      ],
      "text/plain": [
       "<IPython.core.display.Math object>"
      ]
     },
     "metadata": {},
     "output_type": "display_data"
    },
    {
     "name": "stdout",
     "output_type": "stream",
     "text": [
      "nothing deriv\n",
      "nothing deriv\n"
     ]
    },
    {
     "data": {
      "text/latex": [
       "$\\displaystyle \\frac{ {\\rm d} }{ {\\rm d}r }\\left( \\left( r+3p\\right)+\\frac{1}{p}\\right) = 1+3\\frac{ {\\rm d}p }{ {\\rm d}x+y }-\\left( \\frac{1}{p^{2} }\\frac{ {\\rm d}p }{ {\\rm d}x+y }\\right)$"
      ],
      "text/plain": [
       "<IPython.core.display.Math object>"
      ]
     },
     "metadata": {},
     "output_type": "display_data"
    }
   ],
   "source": [
    "eprint( Derivative( r + 3*p + 1/p, r ), verbose=True )"
   ]
  },
  {
   "cell_type": "code",
   "execution_count": 20,
   "metadata": {},
   "outputs": [
    {
     "data": {
      "text/latex": [
       "$\\displaystyle \\left( a+4\\right)+5 = a+9$"
      ],
      "text/plain": [
       "<IPython.core.display.Math object>"
      ]
     },
     "metadata": {},
     "output_type": "display_data"
    },
    {
     "data": {
      "text/latex": [
       "$\\displaystyle 9\\left( 4a\\right) = 36a$"
      ],
      "text/plain": [
       "<IPython.core.display.Math object>"
      ]
     },
     "metadata": {},
     "output_type": "display_data"
    }
   ],
   "source": [
    "eprint(a + 4 + 5)\n",
    "eprint( a*4*9 )"
   ]
  },
  {
   "cell_type": "code",
   "execution_count": 21,
   "metadata": {},
   "outputs": [
    {
     "name": "stdout",
     "output_type": "stream",
     "text": [
      "Pow(Symbol('p'), Number('2'))\n"
     ]
    },
    {
     "data": {
      "text/latex": [
       "$\\displaystyle f(p)$"
      ],
      "text/plain": [
       "<IPython.core.display.Math object>"
      ]
     },
     "metadata": {},
     "output_type": "display_data"
    },
    {
     "name": "stdout",
     "output_type": "stream",
     "text": [
      "Pow(Symbol('p'), Number('4'))\n",
      "Symbol('p')\n",
      "Symbol('p')\n",
      "string Pow(Symbol('p'), Number('4'))\n"
     ]
    },
    {
     "data": {
      "text/latex": [
       "$\\displaystyle f(p) = p^{ 4 }$"
      ],
      "text/plain": [
       "<IPython.core.display.Math object>"
      ]
     },
     "metadata": {},
     "output_type": "display_data"
    },
    {
     "name": "stdout",
     "output_type": "stream",
     "text": [
      "Pow(Symbol('p'), Number('4'))\n",
      "Symbol('p')\n",
      "Symbol('r')\n",
      "string Pow(Symbol('r'), Number('4'))\n"
     ]
    },
    {
     "data": {
      "text/latex": [
       "$\\displaystyle f(r) = \\left( x+y\\right)^{ 4 }$"
      ],
      "text/plain": [
       "<IPython.core.display.Math object>"
      ]
     },
     "metadata": {},
     "output_type": "display_data"
    }
   ],
   "source": [
    "f(p) << p**4\n",
    "print( repr(p**2) )\n",
    "pprint( f(p) )\n",
    "eprint( f(p) )\n",
    "eprint( f(r) )\n"
   ]
  },
  {
   "cell_type": "code",
   "execution_count": 22,
   "metadata": {},
   "outputs": [
    {
     "name": "stdout",
     "output_type": "stream",
     "text": [
      "Pow(Symbol('p'), Number('4'))\n",
      "Symbol('p')\n",
      "Pow(Symbol('p'), Number('2'))\n",
      "string Pow(Pow(Symbol('p'), Number('2')), Number('4'))\n"
     ]
    },
    {
     "data": {
      "text/latex": [
       "$\\displaystyle f(p^{ 2 }) = p^{ 8 }$"
      ],
      "text/plain": [
       "<IPython.core.display.Math object>"
      ]
     },
     "metadata": {},
     "output_type": "display_data"
    }
   ],
   "source": [
    "eprint( f(p**2) )"
   ]
  },
  {
   "cell_type": "code",
   "execution_count": 23,
   "metadata": {},
   "outputs": [
    {
     "data": {
      "text/latex": [
       "$\\displaystyle \\frac{ {\\rm d} }{ {\\rm d}x }\\left( g(x)\\right) = \\left( \\partial_{0}g\\right)(x)$"
      ],
      "text/plain": [
       "<IPython.core.display.Math object>"
      ]
     },
     "metadata": {},
     "output_type": "display_data"
    }
   ],
   "source": [
    "g = Symbol('g')\n",
    "eprint( Derivative( g(x), x ) )"
   ]
  },
  {
   "cell_type": "code",
   "execution_count": 24,
   "metadata": {},
   "outputs": [
    {
     "data": {
      "text/latex": [
       "$\\displaystyle \\sum_{a=0}^{N}\\left( \\left( x+y\\right)+3a\\right) = 3\\sum_{a=0}^{N}a+Nx+Ny$"
      ],
      "text/plain": [
       "<IPython.core.display.Math object>"
      ]
     },
     "metadata": {},
     "output_type": "display_data"
    },
    {
     "data": {
      "text/latex": [
       "$\\displaystyle \\sum_{a=0}^{N}\\left( \\left( x+2y\\right)+r_{a}\\right) = 2Ny+Nx+\\sum_{a=0}^{N}r_{a}$"
      ],
      "text/plain": [
       "<IPython.core.display.Math object>"
      ]
     },
     "metadata": {},
     "output_type": "display_data"
    },
    {
     "name": "stdout",
     "output_type": "stream",
     "text": [
      "mul summation\n",
      "summation rule :\n",
      "Summation(Mul(Number('2'), Symbol('x')), Symbol('a'), Number('0'), Symbol('N')) -> Mul(Number('2'), Symbol('x'), Add(Symbol('N'), Neg(Number('0'))))\n"
     ]
    },
    {
     "data": {
      "text/latex": [
       "$\\displaystyle \\quad\\quad \\sum_{a=0}^{N}2x\\quad \\rightarrow\\quad 2x\\left( N-0\\right)$"
      ],
      "text/plain": [
       "<IPython.core.display.Math object>"
      ]
     },
     "metadata": {},
     "output_type": "display_data"
    },
    {
     "name": "stdout",
     "output_type": "stream",
     "text": [
      "add rules :\n",
      "Add(Symbol('N'), Neg(Number('0'))) -> Symbol('N')\n"
     ]
    },
    {
     "data": {
      "text/latex": [
       "$\\displaystyle \\quad\\quad N-0\\quad \\rightarrow\\quad N$"
      ],
      "text/plain": [
       "<IPython.core.display.Math object>"
      ]
     },
     "metadata": {},
     "output_type": "display_data"
    },
    {
     "name": "stdout",
     "output_type": "stream",
     "text": [
      "mul rules :\n",
      "Mul(Number('2'), Symbol('x'), Symbol('N')) -> Mul(Number('2'), Symbol('N'), Symbol('x'))\n"
     ]
    },
    {
     "data": {
      "text/latex": [
       "$\\displaystyle \\quad\\quad 2xN\\quad \\rightarrow\\quad 2Nx$"
      ],
      "text/plain": [
       "<IPython.core.display.Math object>"
      ]
     },
     "metadata": {},
     "output_type": "display_data"
    },
    {
     "data": {
      "text/latex": [
       "$\\displaystyle \\sum_{a=0}^{N}2x = 2Nx$"
      ],
      "text/plain": [
       "<IPython.core.display.Math object>"
      ]
     },
     "metadata": {},
     "output_type": "display_data"
    }
   ],
   "source": [
    "N = Symbol('N')\n",
    "eprint( Summation( x+y+3*a, a, 0, N ) )\n",
    "eprint( Summation( x+2*y+r[a], a, 0, N ) )\n",
    "eprint( Summation( 2*x, a, 0, N ), verbose=True )"
   ]
  },
  {
   "cell_type": "code",
   "execution_count": 25,
   "metadata": {},
   "outputs": [
    {
     "data": {
      "text/latex": [
       "$\\displaystyle \\frac{ {\\rm d} }{ {\\rm d}x }\\left( \\sum_{a=0}^{N}W(x-r_{a})\\right) = \\sum_{a=0}^{N}\\left( \\partial_{0}W\\right)(x-r_{a})-\\left( \\sum_{a=0}^{N}\\left( \\partial_{0}W\\right)(x-r_{a})\\frac{ {\\rm d}r_{a} }{ {\\rm d}x }\\right)$"
      ],
      "text/plain": [
       "<IPython.core.display.Math object>"
      ]
     },
     "metadata": {},
     "output_type": "display_data"
    }
   ],
   "source": [
    "W = Symbol('W')\n",
    "t = Symbol('t')\n",
    "eprint( Derivative( Summation( W(x-r[a] ), a, 0, N ), x), verbose=False )"
   ]
  },
  {
   "cell_type": "code",
   "execution_count": 26,
   "metadata": {},
   "outputs": [
    {
     "data": {
      "text/latex": [
       "$\\displaystyle \\frac{ {\\rm d} }{ {\\rm d}r_{b} }\\left( \\sum_{a=0}^{N}W(x-r_{a})\\right) = \\frac{ {\\rm d}x }{ {\\rm d}r_{b} }\\sum_{a=0}^{N}\\left( \\partial_{0}W\\right)(x-r_{a})-\\left( \\left( \\partial_{0}W\\right)(x-r_{b})\\right)$"
      ],
      "text/plain": [
       "<IPython.core.display.Math object>"
      ]
     },
     "metadata": {},
     "output_type": "display_data"
    }
   ],
   "source": [
    "b = Symbol('b')\n",
    "eprint( Derivative( Summation( W(x-r[a] ), a, 0, N ), r[b] ), verbose=False )"
   ]
  },
  {
   "cell_type": "code",
   "execution_count": 27,
   "metadata": {},
   "outputs": [
    {
     "data": {
      "text/latex": [
       "$\\displaystyle \\frac{ {\\rm d} }{ {\\rm d}r_{b}(t) }\\left( \\sum_{a=0}^{N}W(x-r_{a}(t))\\right) = \\frac{ {\\rm d}x }{ {\\rm d}r_{b}(t) }\\sum_{a=0}^{N}\\left( \\partial_{0}W\\right)(x-r_{a}(t))-\\left( \\left( \\partial_{0}W\\right)(x-r_{b}(t)){\\delta}(0)\\right)$"
      ],
      "text/plain": [
       "<IPython.core.display.Math object>"
      ]
     },
     "metadata": {},
     "output_type": "display_data"
    }
   ],
   "source": [
    "t2 = Symbol(r't^{\\prime}')\n",
    "DiracDelta.rules.append(\n",
    "    'DiracDelta rule 2',\n",
    "    lambda obj: obj.args[0] == Number(0),\n",
    "    lambda obj, v: Number(1)\n",
    ")\n",
    "eprint( Derivative( Summation( W(x-r[a](t) ), a, 0, N ), r[b](t) ), verbose=False )"
   ]
  },
  {
   "cell_type": "code",
   "execution_count": 28,
   "metadata": {},
   "outputs": [
    {
     "data": {
      "text/latex": [
       "$\\displaystyle \\frac{ {\\rm d} }{ {\\rm d}r_{c}(t) }\\left( \\sum_{a=0}^{N}\\frac{1}{\\left( \\sum_{b=0}^{N}W(r_{a}(t)-r_{b}(t))\\right)}{\\varepsilon}(\\sum_{b=0}^{N}W(r_{a}(t)-r_{b}(t)))\\right) = \\frac{1}{\\left( \\sum_{b=0}^{N}W(r_{c}(t)-r_{b}(t))\\right)}\\left( \\partial_{0}{\\varepsilon}\\right)(\\sum_{b=0}^{N}W(r_{c}(t)-r_{b}(t))){\\delta}(0)\\sum_{b=0}^{N}\\left( \\partial_{0}W\\right)(r_{c}(t)-r_{b}(t))+{\\delta}(0)\\sum_{a=0}^{N}\\frac{1}{\\left( \\sum_{b=0}^{N}W(r_{a}(t)-r_{b}(t))\\right)^{2} }\\left( \\partial_{0}W\\right)(r_{a}(t)-r_{c}(t)){\\varepsilon}(\\sum_{b=0}^{N}W(r_{a}(t)-r_{b}(t)))-\\left( \\frac{1}{\\left( \\sum_{b=0}^{N}W(r_{c}(t)-r_{b}(t))\\right)^{2} }{\\delta}(0){\\varepsilon}(\\sum_{b=0}^{N}W(r_{c}(t)-r_{b}(t)))\\sum_{b=0}^{N}\\left( \\partial_{0}W\\right)(r_{c}(t)-r_{b}(t))\\right)-\\left( {\\delta}(0)\\sum_{a=0}^{N}\\frac{1}{\\left( \\sum_{b=0}^{N}W(r_{a}(t)-r_{b}(t))\\right)}\\left( \\partial_{0}W\\right)(r_{a}(t)-r_{c}(t))\\left( \\partial_{0}{\\varepsilon}\\right)(\\sum_{b=0}^{N}W(r_{a}(t)-r_{b}(t)))\\right)$"
      ],
      "text/plain": [
       "<IPython.core.display.Math object>"
      ]
     },
     "metadata": {},
     "output_type": "display_data"
    }
   ],
   "source": [
    "rho_a = Summation( W(r[a](t) - r[b](t)), b, 0, N )\n",
    "epsilon = Symbol(r'{\\varepsilon}')\n",
    "c = Symbol('c')\n",
    "eprint( Derivative( Summation( epsilon( rho_a )/rho_a, a, 0, N ), r[c](t) ) )"
   ]
  },
  {
   "cell_type": "code",
   "execution_count": 29,
   "metadata": {},
   "outputs": [
    {
     "data": {
      "text/latex": [
       "$\\displaystyle \\frac{ {\\rm d} }{ {\\rm d}r_{c}(t) }\\left( \\sum_{a=0}^{N}\\frac{1}{{\\rho}_{a}}{\\varepsilon}({\\rho}_{a})\\right) = \\sum_{a=0}^{N}\\frac{1}{{\\rho}_{a}}\\left( \\partial_{0}{\\varepsilon}\\right)({\\rho}_{a})\\frac{ {\\rm d}{\\rho}_{a} }{ {\\rm d}r_{c}(t) }-\\left( \\sum_{a=0}^{N}\\frac{1}{{\\rho}_{a}^{2} }{\\varepsilon}({\\rho}_{a})\\frac{ {\\rm d}{\\rho}_{a} }{ {\\rm d}r_{c}(t) }\\right)$"
      ],
      "text/plain": [
       "<IPython.core.display.Math object>"
      ]
     },
     "metadata": {},
     "output_type": "display_data"
    }
   ],
   "source": [
    "rho = Symbol(r'{\\rho}')\n",
    "eprint( Derivative( Summation( epsilon( rho[a] )/rho[a], a, 0, N ), r[c](t) ) )"
   ]
  },
  {
   "cell_type": "code",
   "execution_count": null,
   "metadata": {},
   "outputs": [],
   "source": []
  }
 ],
 "metadata": {
  "kernelspec": {
   "display_name": "Python 3",
   "language": "python",
   "name": "python3"
  },
  "language_info": {
   "codemirror_mode": {
    "name": "ipython",
    "version": 3
   },
   "file_extension": ".py",
   "mimetype": "text/x-python",
   "name": "python",
   "nbconvert_exporter": "python",
   "pygments_lexer": "ipython3",
   "version": "3.6.3"
  },
  "toc-autonumbering": false,
  "toc-showmarkdowntxt": false
 },
 "nbformat": 4,
 "nbformat_minor": 4
}
