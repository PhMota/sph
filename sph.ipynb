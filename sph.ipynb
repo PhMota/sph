{
 "cells": [
  {
   "cell_type": "code",
   "execution_count": 2,
   "metadata": {},
   "outputs": [
    {
     "data": {
      "text/plain": [
       "'3.6.6 (default, Sep 12 2018, 18:26:19) \\n[GCC 8.0.1 20180414 (experimental) [trunk revision 259383]]'"
      ]
     },
     "execution_count": 2,
     "metadata": {},
     "output_type": "execute_result"
    }
   ],
   "source": [
    "import sys\n",
    "sys.version"
   ]
  },
  {
   "cell_type": "code",
   "execution_count": 3,
   "metadata": {},
   "outputs": [
    {
     "data": {
      "text/plain": [
       "'1.3'"
      ]
     },
     "execution_count": 3,
     "metadata": {},
     "output_type": "execute_result"
    }
   ],
   "source": [
    "from sympy import *\n",
    "import sympy\n",
    "sympy.__version__"
   ]
  },
  {
   "cell_type": "code",
   "execution_count": 4,
   "metadata": {},
   "outputs": [],
   "source": [
    "init_printing()"
   ]
  },
  {
   "cell_type": "code",
   "execution_count": 24,
   "metadata": {},
   "outputs": [],
   "source": [
    "class Symbolic: pass\n",
    "sym = Symbolic()\n",
    "\n",
    "f = IndexedBase('f')\n",
    "nu = IndexedBase(r'\\nu')\n",
    "r = IndexedBase('r')\n",
    "x, y = symbols('x y',real=True)\n",
    "h = symbols('h', positive=True)\n",
    "n = symbols('n', integer=True, positive=True)\n",
    "i = Wild('i')\n",
    "w = Wild('w')\n",
    "W = Function('W')"
   ]
  },
  {
   "cell_type": "code",
   "execution_count": 7,
   "metadata": {},
   "outputs": [
    {
     "data": {
      "text/latex": [
       "$$\\left ( \\frac{\\left(x - y\\right) \\left. \\frac{d}{d \\xi_{1}} W{\\left (\\xi_{1} \\right )} \\right|_{\\substack{ \\xi_{1}=\\frac{\\sqrt{i + \\left(x - y\\right)^{2}}}{h} }}}{h \\sqrt{i + \\left(x - y\\right)^{2}}}, \\quad \\frac{2 h \\delta\\left(x\\right) \\left. \\frac{d}{d \\xi_{1}} W{\\left (\\xi_{1} \\right )} \\right|_{\\substack{ \\xi_{1}=\\frac{\\left|{x}\\right|}{h} }} + \\operatorname{sign}^{2}{\\left (x \\right )} \\left. \\frac{d^{2}}{d \\xi_{1}^{2}} W{\\left (\\xi_{1} \\right )} \\right|_{\\substack{ \\xi_{1}=\\frac{\\left|{x}\\right|}{h} }}}{h^{2}}\\right )$$"
      ],
      "text/plain": [
       "⎛                                                                             \n",
       "⎜                           ______________           ⎛ d        ⎞│            \n",
       "⎜(x - y)⋅⎛ d        ⎞│     ╱            2   2⋅h⋅δ(x)⋅⎜───(W(ξ₁))⎟│   │x│ + sig\n",
       "⎜        ⎜───(W(ξ₁))⎟│   ╲╱  i + (x - y)             ⎝dξ₁       ⎠│ξ₁=───      \n",
       "⎜        ⎝dξ₁       ⎠│ξ₁=─────────────────                            h       \n",
       "⎜                                h                                            \n",
       "⎜─────────────────────────────────────────, ──────────────────────────────────\n",
       "⎜                ______________                                           2   \n",
       "⎜               ╱            2                                           h    \n",
       "⎝           h⋅╲╱  i + (x - y)                                                 \n",
       "\n",
       "      ⎛  2        ⎞│      ⎞\n",
       " 2    ⎜ d         ⎟│      ⎟\n",
       "n (x)⋅⎜────(W(ξ₁))⎟│      ⎟\n",
       "      ⎜   2       ⎟│   │x│⎟\n",
       "      ⎝dξ₁        ⎠│ξ₁=───⎟\n",
       "                        h ⎟\n",
       "──────────────────────────⎟\n",
       "                          ⎟\n",
       "                          ⎟\n",
       "                          ⎠"
      ]
     },
     "execution_count": 7,
     "metadata": {},
     "output_type": "execute_result"
    }
   ],
   "source": [
    "dist = lambda _0, _1: sqrt( (_0 - _1)**2 + i )\n",
    "diff( W(dist(x,y)/h), x), diff( W(abs(x)/h), x, x).simplify()"
   ]
  },
  {
   "cell_type": "code",
   "execution_count": 41,
   "metadata": {},
   "outputs": [
    {
     "ename": "AttributeError",
     "evalue": "'Fake' object has no attribute 'baseline'",
     "output_type": "error",
     "traceback": [
      "\u001b[0;31m---------------------------------------------------------------------------\u001b[0m",
      "\u001b[0;31mAttributeError\u001b[0m                            Traceback (most recent call last)",
      "\u001b[0;32m/usr/lib/python3/dist-packages/IPython/core/formatters.py\u001b[0m in \u001b[0;36m__call__\u001b[0;34m(self, obj)\u001b[0m\n\u001b[1;32m    697\u001b[0m                 \u001b[0mtype_pprinters\u001b[0m\u001b[0;34m=\u001b[0m\u001b[0mself\u001b[0m\u001b[0;34m.\u001b[0m\u001b[0mtype_printers\u001b[0m\u001b[0;34m,\u001b[0m\u001b[0;34m\u001b[0m\u001b[0m\n\u001b[1;32m    698\u001b[0m                 deferred_pprinters=self.deferred_printers)\n\u001b[0;32m--> 699\u001b[0;31m             \u001b[0mprinter\u001b[0m\u001b[0;34m.\u001b[0m\u001b[0mpretty\u001b[0m\u001b[0;34m(\u001b[0m\u001b[0mobj\u001b[0m\u001b[0;34m)\u001b[0m\u001b[0;34m\u001b[0m\u001b[0m\n\u001b[0m\u001b[1;32m    700\u001b[0m             \u001b[0mprinter\u001b[0m\u001b[0;34m.\u001b[0m\u001b[0mflush\u001b[0m\u001b[0;34m(\u001b[0m\u001b[0;34m)\u001b[0m\u001b[0;34m\u001b[0m\u001b[0m\n\u001b[1;32m    701\u001b[0m             \u001b[0;32mreturn\u001b[0m \u001b[0mstream\u001b[0m\u001b[0;34m.\u001b[0m\u001b[0mgetvalue\u001b[0m\u001b[0;34m(\u001b[0m\u001b[0;34m)\u001b[0m\u001b[0;34m\u001b[0m\u001b[0m\n",
      "\u001b[0;32m/usr/lib/python3/dist-packages/IPython/lib/pretty.py\u001b[0m in \u001b[0;36mpretty\u001b[0;34m(self, obj)\u001b[0m\n\u001b[1;32m    381\u001b[0m                 \u001b[0;32mif\u001b[0m \u001b[0mcls\u001b[0m \u001b[0;32min\u001b[0m \u001b[0mself\u001b[0m\u001b[0;34m.\u001b[0m\u001b[0mtype_pprinters\u001b[0m\u001b[0;34m:\u001b[0m\u001b[0;34m\u001b[0m\u001b[0m\n\u001b[1;32m    382\u001b[0m                     \u001b[0;31m# printer registered in self.type_pprinters\u001b[0m\u001b[0;34m\u001b[0m\u001b[0;34m\u001b[0m\u001b[0m\n\u001b[0;32m--> 383\u001b[0;31m                     \u001b[0;32mreturn\u001b[0m \u001b[0mself\u001b[0m\u001b[0;34m.\u001b[0m\u001b[0mtype_pprinters\u001b[0m\u001b[0;34m[\u001b[0m\u001b[0mcls\u001b[0m\u001b[0;34m]\u001b[0m\u001b[0;34m(\u001b[0m\u001b[0mobj\u001b[0m\u001b[0;34m,\u001b[0m \u001b[0mself\u001b[0m\u001b[0;34m,\u001b[0m \u001b[0mcycle\u001b[0m\u001b[0;34m)\u001b[0m\u001b[0;34m\u001b[0m\u001b[0m\n\u001b[0m\u001b[1;32m    384\u001b[0m                 \u001b[0;32melse\u001b[0m\u001b[0;34m:\u001b[0m\u001b[0;34m\u001b[0m\u001b[0m\n\u001b[1;32m    385\u001b[0m                     \u001b[0;31m# deferred printer\u001b[0m\u001b[0;34m\u001b[0m\u001b[0;34m\u001b[0m\u001b[0m\n",
      "\u001b[0;32m/home/mota/.local/lib/python3.6/site-packages/sympy/interactive/printing.py\u001b[0m in \u001b[0;36m_print_plain\u001b[0;34m(arg, p, cycle)\u001b[0m\n\u001b[1;32m     66\u001b[0m         \u001b[0;34m\"\"\"caller for pretty, for use in IPython 0.11\"\"\"\u001b[0m\u001b[0;34m\u001b[0m\u001b[0m\n\u001b[1;32m     67\u001b[0m         \u001b[0;32mif\u001b[0m \u001b[0m_can_print_latex\u001b[0m\u001b[0;34m(\u001b[0m\u001b[0marg\u001b[0m\u001b[0;34m)\u001b[0m\u001b[0;34m:\u001b[0m\u001b[0;34m\u001b[0m\u001b[0m\n\u001b[0;32m---> 68\u001b[0;31m             \u001b[0mp\u001b[0m\u001b[0;34m.\u001b[0m\u001b[0mtext\u001b[0m\u001b[0;34m(\u001b[0m\u001b[0mstringify_func\u001b[0m\u001b[0;34m(\u001b[0m\u001b[0marg\u001b[0m\u001b[0;34m)\u001b[0m\u001b[0;34m)\u001b[0m\u001b[0;34m\u001b[0m\u001b[0m\n\u001b[0m\u001b[1;32m     69\u001b[0m         \u001b[0;32melse\u001b[0m\u001b[0;34m:\u001b[0m\u001b[0;34m\u001b[0m\u001b[0m\n\u001b[1;32m     70\u001b[0m             \u001b[0mp\u001b[0m\u001b[0;34m.\u001b[0m\u001b[0mtext\u001b[0m\u001b[0;34m(\u001b[0m\u001b[0mIPython\u001b[0m\u001b[0;34m.\u001b[0m\u001b[0mlib\u001b[0m\u001b[0;34m.\u001b[0m\u001b[0mpretty\u001b[0m\u001b[0;34m.\u001b[0m\u001b[0mpretty\u001b[0m\u001b[0;34m(\u001b[0m\u001b[0marg\u001b[0m\u001b[0;34m)\u001b[0m\u001b[0;34m)\u001b[0m\u001b[0;34m\u001b[0m\u001b[0m\n",
      "\u001b[0;32m/home/mota/.local/lib/python3.6/site-packages/sympy/printing/pretty/pretty.py\u001b[0m in \u001b[0;36mpretty\u001b[0;34m(expr, **settings)\u001b[0m\n\u001b[1;32m   2339\u001b[0m \u001b[0;34m\u001b[0m\u001b[0m\n\u001b[1;32m   2340\u001b[0m     \u001b[0;32mtry\u001b[0m\u001b[0;34m:\u001b[0m\u001b[0;34m\u001b[0m\u001b[0m\n\u001b[0;32m-> 2341\u001b[0;31m         \u001b[0;32mreturn\u001b[0m \u001b[0mpp\u001b[0m\u001b[0;34m.\u001b[0m\u001b[0mdoprint\u001b[0m\u001b[0;34m(\u001b[0m\u001b[0mexpr\u001b[0m\u001b[0;34m)\u001b[0m\u001b[0;34m\u001b[0m\u001b[0m\n\u001b[0m\u001b[1;32m   2342\u001b[0m     \u001b[0;32mfinally\u001b[0m\u001b[0;34m:\u001b[0m\u001b[0;34m\u001b[0m\u001b[0m\n\u001b[1;32m   2343\u001b[0m         \u001b[0mpretty_use_unicode\u001b[0m\u001b[0;34m(\u001b[0m\u001b[0muflag\u001b[0m\u001b[0;34m)\u001b[0m\u001b[0;34m\u001b[0m\u001b[0m\n",
      "\u001b[0;32m/home/mota/.local/lib/python3.6/site-packages/sympy/printing/pretty/pretty.py\u001b[0m in \u001b[0;36mdoprint\u001b[0;34m(self, expr)\u001b[0m\n\u001b[1;32m     60\u001b[0m \u001b[0;34m\u001b[0m\u001b[0m\n\u001b[1;32m     61\u001b[0m     \u001b[0;32mdef\u001b[0m \u001b[0mdoprint\u001b[0m\u001b[0;34m(\u001b[0m\u001b[0mself\u001b[0m\u001b[0;34m,\u001b[0m \u001b[0mexpr\u001b[0m\u001b[0;34m)\u001b[0m\u001b[0;34m:\u001b[0m\u001b[0;34m\u001b[0m\u001b[0m\n\u001b[0;32m---> 62\u001b[0;31m         \u001b[0;32mreturn\u001b[0m \u001b[0mself\u001b[0m\u001b[0;34m.\u001b[0m\u001b[0m_print\u001b[0m\u001b[0;34m(\u001b[0m\u001b[0mexpr\u001b[0m\u001b[0;34m)\u001b[0m\u001b[0;34m.\u001b[0m\u001b[0mrender\u001b[0m\u001b[0;34m(\u001b[0m\u001b[0;34m**\u001b[0m\u001b[0mself\u001b[0m\u001b[0;34m.\u001b[0m\u001b[0m_settings\u001b[0m\u001b[0;34m)\u001b[0m\u001b[0;34m\u001b[0m\u001b[0m\n\u001b[0m\u001b[1;32m     63\u001b[0m \u001b[0;34m\u001b[0m\u001b[0m\n\u001b[1;32m     64\u001b[0m     \u001b[0;31m# empty op so _print(stringPict) returns the same\u001b[0m\u001b[0;34m\u001b[0m\u001b[0;34m\u001b[0m\u001b[0m\n",
      "\u001b[0;32m/home/mota/.local/lib/python3.6/site-packages/sympy/printing/printer.py\u001b[0m in \u001b[0;36m_print\u001b[0;34m(self, expr, **kwargs)\u001b[0m\n\u001b[1;32m    285\u001b[0m                 \u001b[0mprintmethod\u001b[0m \u001b[0;34m=\u001b[0m \u001b[0;34m'_print_'\u001b[0m \u001b[0;34m+\u001b[0m \u001b[0mcls\u001b[0m\u001b[0;34m.\u001b[0m\u001b[0m__name__\u001b[0m\u001b[0;34m\u001b[0m\u001b[0m\n\u001b[1;32m    286\u001b[0m                 \u001b[0;32mif\u001b[0m \u001b[0mhasattr\u001b[0m\u001b[0;34m(\u001b[0m\u001b[0mself\u001b[0m\u001b[0;34m,\u001b[0m \u001b[0mprintmethod\u001b[0m\u001b[0;34m)\u001b[0m\u001b[0;34m:\u001b[0m\u001b[0;34m\u001b[0m\u001b[0m\n\u001b[0;32m--> 287\u001b[0;31m                     \u001b[0;32mreturn\u001b[0m \u001b[0mgetattr\u001b[0m\u001b[0;34m(\u001b[0m\u001b[0mself\u001b[0m\u001b[0;34m,\u001b[0m \u001b[0mprintmethod\u001b[0m\u001b[0;34m)\u001b[0m\u001b[0;34m(\u001b[0m\u001b[0mexpr\u001b[0m\u001b[0;34m,\u001b[0m \u001b[0;34m**\u001b[0m\u001b[0mkwargs\u001b[0m\u001b[0;34m)\u001b[0m\u001b[0;34m\u001b[0m\u001b[0m\n\u001b[0m\u001b[1;32m    288\u001b[0m             \u001b[0;31m# Unknown object, fall back to the emptyPrinter.\u001b[0m\u001b[0;34m\u001b[0m\u001b[0;34m\u001b[0m\u001b[0m\n\u001b[1;32m    289\u001b[0m             \u001b[0;32mreturn\u001b[0m \u001b[0mself\u001b[0m\u001b[0;34m.\u001b[0m\u001b[0memptyPrinter\u001b[0m\u001b[0;34m(\u001b[0m\u001b[0mexpr\u001b[0m\u001b[0;34m)\u001b[0m\u001b[0;34m\u001b[0m\u001b[0m\n",
      "\u001b[0;32m/home/mota/.local/lib/python3.6/site-packages/sympy/printing/pretty/pretty.py\u001b[0m in \u001b[0;36m_print_tuple\u001b[0;34m(self, t)\u001b[0m\n\u001b[1;32m   1914\u001b[0m             \u001b[0;32mreturn\u001b[0m \u001b[0mprettyForm\u001b[0m\u001b[0;34m(\u001b[0m\u001b[0;34m*\u001b[0m\u001b[0mptuple\u001b[0m\u001b[0;34m.\u001b[0m\u001b[0mparens\u001b[0m\u001b[0;34m(\u001b[0m\u001b[0;34m'('\u001b[0m\u001b[0;34m,\u001b[0m \u001b[0;34m')'\u001b[0m\u001b[0;34m,\u001b[0m \u001b[0mifascii_nougly\u001b[0m\u001b[0;34m=\u001b[0m\u001b[0;32mTrue\u001b[0m\u001b[0;34m)\u001b[0m\u001b[0;34m)\u001b[0m\u001b[0;34m\u001b[0m\u001b[0m\n\u001b[1;32m   1915\u001b[0m         \u001b[0;32melse\u001b[0m\u001b[0;34m:\u001b[0m\u001b[0;34m\u001b[0m\u001b[0m\n\u001b[0;32m-> 1916\u001b[0;31m             \u001b[0;32mreturn\u001b[0m \u001b[0mself\u001b[0m\u001b[0;34m.\u001b[0m\u001b[0m_print_seq\u001b[0m\u001b[0;34m(\u001b[0m\u001b[0mt\u001b[0m\u001b[0;34m,\u001b[0m \u001b[0;34m'('\u001b[0m\u001b[0;34m,\u001b[0m \u001b[0;34m')'\u001b[0m\u001b[0;34m)\u001b[0m\u001b[0;34m\u001b[0m\u001b[0m\n\u001b[0m\u001b[1;32m   1917\u001b[0m \u001b[0;34m\u001b[0m\u001b[0m\n\u001b[1;32m   1918\u001b[0m     \u001b[0;32mdef\u001b[0m \u001b[0m_print_Tuple\u001b[0m\u001b[0;34m(\u001b[0m\u001b[0mself\u001b[0m\u001b[0;34m,\u001b[0m \u001b[0mexpr\u001b[0m\u001b[0;34m)\u001b[0m\u001b[0;34m:\u001b[0m\u001b[0;34m\u001b[0m\u001b[0m\n",
      "\u001b[0;32m/home/mota/.local/lib/python3.6/site-packages/sympy/printing/pretty/pretty.py\u001b[0m in \u001b[0;36m_print_seq\u001b[0;34m(self, seq, left, right, delimiter, parenthesize)\u001b[0m\n\u001b[1;32m   1882\u001b[0m                 \u001b[0ms\u001b[0m \u001b[0;34m=\u001b[0m \u001b[0mpform\u001b[0m\u001b[0;34m\u001b[0m\u001b[0m\n\u001b[1;32m   1883\u001b[0m             \u001b[0;32melse\u001b[0m\u001b[0;34m:\u001b[0m\u001b[0;34m\u001b[0m\u001b[0m\n\u001b[0;32m-> 1884\u001b[0;31m                 \u001b[0ms\u001b[0m \u001b[0;34m=\u001b[0m \u001b[0mprettyForm\u001b[0m\u001b[0;34m(\u001b[0m\u001b[0;34m*\u001b[0m\u001b[0mstringPict\u001b[0m\u001b[0;34m.\u001b[0m\u001b[0mnext\u001b[0m\u001b[0;34m(\u001b[0m\u001b[0ms\u001b[0m\u001b[0;34m,\u001b[0m \u001b[0mdelimiter\u001b[0m\u001b[0;34m)\u001b[0m\u001b[0;34m)\u001b[0m\u001b[0;34m\u001b[0m\u001b[0m\n\u001b[0m\u001b[1;32m   1885\u001b[0m                 \u001b[0ms\u001b[0m \u001b[0;34m=\u001b[0m \u001b[0mprettyForm\u001b[0m\u001b[0;34m(\u001b[0m\u001b[0;34m*\u001b[0m\u001b[0mstringPict\u001b[0m\u001b[0;34m.\u001b[0m\u001b[0mnext\u001b[0m\u001b[0;34m(\u001b[0m\u001b[0ms\u001b[0m\u001b[0;34m,\u001b[0m \u001b[0mpform\u001b[0m\u001b[0;34m)\u001b[0m\u001b[0;34m)\u001b[0m\u001b[0;34m\u001b[0m\u001b[0m\n\u001b[1;32m   1886\u001b[0m \u001b[0;34m\u001b[0m\u001b[0m\n",
      "\u001b[0;32m/home/mota/.local/lib/python3.6/site-packages/sympy/printing/pretty/stringpict.py\u001b[0m in \u001b[0;36mnext\u001b[0;34m(*args)\u001b[0m\n\u001b[1;32m     67\u001b[0m \u001b[0;34m\u001b[0m\u001b[0m\n\u001b[1;32m     68\u001b[0m         \u001b[0;31m#make a list of pictures, with equal height and baseline\u001b[0m\u001b[0;34m\u001b[0m\u001b[0;34m\u001b[0m\u001b[0m\n\u001b[0;32m---> 69\u001b[0;31m         \u001b[0mnewBaseline\u001b[0m \u001b[0;34m=\u001b[0m \u001b[0mmax\u001b[0m\u001b[0;34m(\u001b[0m\u001b[0mobj\u001b[0m\u001b[0;34m.\u001b[0m\u001b[0mbaseline\u001b[0m \u001b[0;32mfor\u001b[0m \u001b[0mobj\u001b[0m \u001b[0;32min\u001b[0m \u001b[0mobjects\u001b[0m\u001b[0;34m)\u001b[0m\u001b[0;34m\u001b[0m\u001b[0m\n\u001b[0m\u001b[1;32m     70\u001b[0m         newHeightBelowBaseline = max(\n\u001b[1;32m     71\u001b[0m             \u001b[0mobj\u001b[0m\u001b[0;34m.\u001b[0m\u001b[0mheight\u001b[0m\u001b[0;34m(\u001b[0m\u001b[0;34m)\u001b[0m \u001b[0;34m-\u001b[0m \u001b[0mobj\u001b[0m\u001b[0;34m.\u001b[0m\u001b[0mbaseline\u001b[0m\u001b[0;34m\u001b[0m\u001b[0m\n",
      "\u001b[0;32m/home/mota/.local/lib/python3.6/site-packages/sympy/printing/pretty/stringpict.py\u001b[0m in \u001b[0;36m<genexpr>\u001b[0;34m(.0)\u001b[0m\n\u001b[1;32m     67\u001b[0m \u001b[0;34m\u001b[0m\u001b[0m\n\u001b[1;32m     68\u001b[0m         \u001b[0;31m#make a list of pictures, with equal height and baseline\u001b[0m\u001b[0;34m\u001b[0m\u001b[0;34m\u001b[0m\u001b[0m\n\u001b[0;32m---> 69\u001b[0;31m         \u001b[0mnewBaseline\u001b[0m \u001b[0;34m=\u001b[0m \u001b[0mmax\u001b[0m\u001b[0;34m(\u001b[0m\u001b[0mobj\u001b[0m\u001b[0;34m.\u001b[0m\u001b[0mbaseline\u001b[0m \u001b[0;32mfor\u001b[0m \u001b[0mobj\u001b[0m \u001b[0;32min\u001b[0m \u001b[0mobjects\u001b[0m\u001b[0;34m)\u001b[0m\u001b[0;34m\u001b[0m\u001b[0m\n\u001b[0m\u001b[1;32m     70\u001b[0m         newHeightBelowBaseline = max(\n\u001b[1;32m     71\u001b[0m             \u001b[0mobj\u001b[0m\u001b[0;34m.\u001b[0m\u001b[0mheight\u001b[0m\u001b[0;34m(\u001b[0m\u001b[0;34m)\u001b[0m \u001b[0;34m-\u001b[0m \u001b[0mobj\u001b[0m\u001b[0;34m.\u001b[0m\u001b[0mbaseline\u001b[0m\u001b[0;34m\u001b[0m\u001b[0m\n",
      "\u001b[0;31mAttributeError\u001b[0m: 'Fake' object has no attribute 'baseline'"
     ]
    },
    {
     "data": {
      "text/latex": [
       "$$\\left ( N_{x}\\mathbf{\\hat{n}_x} + N_{y}\\mathbf{\\hat{n}_y}, \\quad N_{x}\\mathbf{\\hat{n}_x} + N_{y}\\mathbf{\\hat{n}_y}\\right )$$"
      ]
     },
     "execution_count": 41,
     "metadata": {},
     "output_type": "execute_result"
    }
   ],
   "source": [
    "from sympy.physics.vector import *\n",
    "RF = ReferenceFrame('N')\n",
    "\n",
    "rx = Symbol('r_x')\n",
    "ry = Symbol('r_y')\n",
    "R = RF[0]*RF.x+RF[1]*RF.y\n",
    "\n",
    "sx = Symbol('s_x')\n",
    "sy = Symbol('s_y')\n",
    "S = RF[0]*RF.x + RF[1]*RF.y\n",
    "\n",
    "R, S"
   ]
  },
  {
   "cell_type": "code",
   "execution_count": 50,
   "metadata": {},
   "outputs": [
    {
     "data": {
      "text/latex": [
       "$$\\frac{N_{x} \\left. \\frac{d}{d \\xi_{1}} W{\\left (\\xi_{1} \\right )} \\right|_{\\substack{ \\xi_{1}=\\frac{\\sqrt{N_{x}^{2} + N_{y}^{2}}}{h} }}}{h \\sqrt{N_{x}^{2} + N_{y}^{2}}}\\mathbf{\\hat{n}_x} + \\frac{N_{y} \\left. \\frac{d}{d \\xi_{1}} W{\\left (\\xi_{1} \\right )} \\right|_{\\substack{ \\xi_{1}=\\frac{\\sqrt{N_{x}^{2} + N_{y}^{2}}}{h} }}}{h \\sqrt{N_{x}^{2} + N_{y}^{2}}}\\mathbf{\\hat{n}_y}$$"
      ],
      "text/plain": [
       "                      ____________                              ____________\n",
       "Nₓ⋅⎛ d        ⎞│     ╱   2      2        N_y⋅⎛ d        ⎞│     ╱   2      2\n",
       "   ⎜───(W(ξ₁))⎟│   ╲╱  Nₓ  + N_y             ⎜───(W(ξ₁))⎟│   ╲╱  Nₓ  + N_y\n",
       "   ⎝dξ₁       ⎠│ξ₁=───────────────           ⎝dξ₁       ⎠│ξ₁=───────────────\n",
       "                          h                                         h\n",
       "────────────────────────────────── n_x + ─────────────────────────────────── n\n",
       "             ____________                              ____________\n",
       "            ╱   2      2                              ╱   2      2\n",
       "        h⋅╲╱  Nₓ  + N_y                           h⋅╲╱  Nₓ  + N_y\n",
       "\n",
       "\n",
       "\n",
       "\n",
       "\n",
       "\n",
       "_y\n",
       "\n",
       "\n"
      ]
     },
     "execution_count": 50,
     "metadata": {},
     "output_type": "execute_result"
    }
   ],
   "source": [
    "gradW = gradient( W(R.magnitude()/h), RF )\n",
    "gradW"
   ]
  },
  {
   "cell_type": "code",
   "execution_count": 54,
   "metadata": {},
   "outputs": [
    {
     "ename": "AttributeError",
     "evalue": "'function' object has no attribute 'x'",
     "output_type": "error",
     "traceback": [
      "\u001b[0;31m---------------------------------------------------------------------------\u001b[0m",
      "\u001b[0;31mAttributeError\u001b[0m                            Traceback (most recent call last)",
      "\u001b[0;32m<ipython-input-54-650342b3c977>\u001b[0m in \u001b[0;36m<module>\u001b[0;34m()\u001b[0m\n\u001b[0;32m----> 1\u001b[0;31m \u001b[0mgrad2W\u001b[0m \u001b[0;34m=\u001b[0m \u001b[0mgradient\u001b[0m\u001b[0;34m(\u001b[0m \u001b[0mgradW\u001b[0m\u001b[0;34m,\u001b[0m \u001b[0mRF\u001b[0m \u001b[0;34m)\u001b[0m\u001b[0;34m\u001b[0m\u001b[0m\n\u001b[0m",
      "\u001b[0;32m/home/mota/.local/lib/python3.6/site-packages/sympy/physics/vector/fieldfunctions.py\u001b[0m in \u001b[0;36mgradient\u001b[0;34m(scalar, frame)\u001b[0m\n\u001b[1;32m    130\u001b[0m     \u001b[0mscalar\u001b[0m \u001b[0;34m=\u001b[0m \u001b[0mexpress\u001b[0m\u001b[0;34m(\u001b[0m\u001b[0mscalar\u001b[0m\u001b[0;34m,\u001b[0m \u001b[0mframe\u001b[0m\u001b[0;34m,\u001b[0m \u001b[0mvariables\u001b[0m\u001b[0;34m=\u001b[0m\u001b[0;32mTrue\u001b[0m\u001b[0;34m)\u001b[0m\u001b[0;34m\u001b[0m\u001b[0m\n\u001b[1;32m    131\u001b[0m     \u001b[0;32mfor\u001b[0m \u001b[0mi\u001b[0m\u001b[0;34m,\u001b[0m \u001b[0mx\u001b[0m \u001b[0;32min\u001b[0m \u001b[0menumerate\u001b[0m\u001b[0;34m(\u001b[0m\u001b[0mframe\u001b[0m\u001b[0;34m)\u001b[0m\u001b[0;34m:\u001b[0m\u001b[0;34m\u001b[0m\u001b[0m\n\u001b[0;32m--> 132\u001b[0;31m         \u001b[0moutvec\u001b[0m \u001b[0;34m+=\u001b[0m \u001b[0mdiff\u001b[0m\u001b[0;34m(\u001b[0m\u001b[0mscalar\u001b[0m\u001b[0;34m,\u001b[0m \u001b[0mframe\u001b[0m\u001b[0;34m[\u001b[0m\u001b[0mi\u001b[0m\u001b[0;34m]\u001b[0m\u001b[0;34m)\u001b[0m \u001b[0;34m*\u001b[0m \u001b[0mx\u001b[0m\u001b[0;34m\u001b[0m\u001b[0m\n\u001b[0m\u001b[1;32m    133\u001b[0m     \u001b[0;32mreturn\u001b[0m \u001b[0moutvec\u001b[0m\u001b[0;34m\u001b[0m\u001b[0m\n\u001b[1;32m    134\u001b[0m \u001b[0;34m\u001b[0m\u001b[0m\n",
      "\u001b[0;32m/home/mota/.local/lib/python3.6/site-packages/sympy/core/function.py\u001b[0m in \u001b[0;36mdiff\u001b[0;34m(f, *symbols, **kwargs)\u001b[0m\n\u001b[1;32m   1977\u001b[0m     \u001b[0;32mexcept\u001b[0m \u001b[0mAttributeError\u001b[0m\u001b[0;34m:\u001b[0m\u001b[0;34m\u001b[0m\u001b[0m\n\u001b[1;32m   1978\u001b[0m         \u001b[0;32mpass\u001b[0m\u001b[0;34m\u001b[0m\u001b[0m\n\u001b[0;32m-> 1979\u001b[0;31m     \u001b[0;32mreturn\u001b[0m \u001b[0mDerivative\u001b[0m\u001b[0;34m(\u001b[0m\u001b[0mf\u001b[0m\u001b[0;34m,\u001b[0m \u001b[0;34m*\u001b[0m\u001b[0msymbols\u001b[0m\u001b[0;34m,\u001b[0m \u001b[0;34m**\u001b[0m\u001b[0mkwargs\u001b[0m\u001b[0;34m)\u001b[0m\u001b[0;34m\u001b[0m\u001b[0m\n\u001b[0m\u001b[1;32m   1980\u001b[0m \u001b[0;34m\u001b[0m\u001b[0m\n\u001b[1;32m   1981\u001b[0m \u001b[0;34m\u001b[0m\u001b[0m\n",
      "\u001b[0;32m/home/mota/.local/lib/python3.6/site-packages/sympy/core/function.py\u001b[0m in \u001b[0;36m__new__\u001b[0;34m(cls, expr, *variables, **kwargs)\u001b[0m\n\u001b[1;32m   1111\u001b[0m         \u001b[0;32mfrom\u001b[0m \u001b[0msympy\u001b[0m\u001b[0;34m.\u001b[0m\u001b[0mutilities\u001b[0m\u001b[0;34m.\u001b[0m\u001b[0mmisc\u001b[0m \u001b[0;32mimport\u001b[0m \u001b[0mfilldedent\u001b[0m\u001b[0;34m\u001b[0m\u001b[0m\n\u001b[1;32m   1112\u001b[0m \u001b[0;34m\u001b[0m\u001b[0m\n\u001b[0;32m-> 1113\u001b[0;31m         \u001b[0mexpr\u001b[0m \u001b[0;34m=\u001b[0m \u001b[0msympify\u001b[0m\u001b[0;34m(\u001b[0m\u001b[0mexpr\u001b[0m\u001b[0;34m)\u001b[0m\u001b[0;34m\u001b[0m\u001b[0m\n\u001b[0m\u001b[1;32m   1114\u001b[0m         \u001b[0;32mtry\u001b[0m\u001b[0;34m:\u001b[0m\u001b[0;34m\u001b[0m\u001b[0m\n\u001b[1;32m   1115\u001b[0m             \u001b[0mhas_symbol_set\u001b[0m \u001b[0;34m=\u001b[0m \u001b[0misinstance\u001b[0m\u001b[0;34m(\u001b[0m\u001b[0mexpr\u001b[0m\u001b[0;34m.\u001b[0m\u001b[0mfree_symbols\u001b[0m\u001b[0;34m,\u001b[0m \u001b[0mset\u001b[0m\u001b[0;34m)\u001b[0m\u001b[0;34m\u001b[0m\u001b[0m\n",
      "\u001b[0;32m/home/mota/.local/lib/python3.6/site-packages/sympy/core/sympify.py\u001b[0m in \u001b[0;36msympify\u001b[0;34m(a, locals, convert_xor, strict, rational, evaluate)\u001b[0m\n\u001b[1;32m    366\u001b[0m     \u001b[0;32mtry\u001b[0m\u001b[0;34m:\u001b[0m\u001b[0;34m\u001b[0m\u001b[0m\n\u001b[1;32m    367\u001b[0m         \u001b[0ma\u001b[0m \u001b[0;34m=\u001b[0m \u001b[0ma\u001b[0m\u001b[0;34m.\u001b[0m\u001b[0mreplace\u001b[0m\u001b[0;34m(\u001b[0m\u001b[0;34m'\\n'\u001b[0m\u001b[0;34m,\u001b[0m \u001b[0;34m''\u001b[0m\u001b[0;34m)\u001b[0m\u001b[0;34m\u001b[0m\u001b[0m\n\u001b[0;32m--> 368\u001b[0;31m         \u001b[0mexpr\u001b[0m \u001b[0;34m=\u001b[0m \u001b[0mparse_expr\u001b[0m\u001b[0;34m(\u001b[0m\u001b[0ma\u001b[0m\u001b[0;34m,\u001b[0m \u001b[0mlocal_dict\u001b[0m\u001b[0;34m=\u001b[0m\u001b[0mlocals\u001b[0m\u001b[0;34m,\u001b[0m \u001b[0mtransformations\u001b[0m\u001b[0;34m=\u001b[0m\u001b[0mtransformations\u001b[0m\u001b[0;34m,\u001b[0m \u001b[0mevaluate\u001b[0m\u001b[0;34m=\u001b[0m\u001b[0mevaluate\u001b[0m\u001b[0;34m)\u001b[0m\u001b[0;34m\u001b[0m\u001b[0m\n\u001b[0m\u001b[1;32m    369\u001b[0m     \u001b[0;32mexcept\u001b[0m \u001b[0;34m(\u001b[0m\u001b[0mTokenError\u001b[0m\u001b[0;34m,\u001b[0m \u001b[0mSyntaxError\u001b[0m\u001b[0;34m)\u001b[0m \u001b[0;32mas\u001b[0m \u001b[0mexc\u001b[0m\u001b[0;34m:\u001b[0m\u001b[0;34m\u001b[0m\u001b[0m\n\u001b[1;32m    370\u001b[0m         \u001b[0;32mraise\u001b[0m \u001b[0mSympifyError\u001b[0m\u001b[0;34m(\u001b[0m\u001b[0;34m'could not parse %r'\u001b[0m \u001b[0;34m%\u001b[0m \u001b[0ma\u001b[0m\u001b[0;34m,\u001b[0m \u001b[0mexc\u001b[0m\u001b[0;34m)\u001b[0m\u001b[0;34m\u001b[0m\u001b[0m\n",
      "\u001b[0;32m/home/mota/.local/lib/python3.6/site-packages/sympy/parsing/sympy_parser.py\u001b[0m in \u001b[0;36mparse_expr\u001b[0;34m(s, local_dict, transformations, global_dict, evaluate)\u001b[0m\n\u001b[1;32m    963\u001b[0m         \u001b[0mcode\u001b[0m \u001b[0;34m=\u001b[0m \u001b[0mcompile\u001b[0m\u001b[0;34m(\u001b[0m\u001b[0mevaluateFalse\u001b[0m\u001b[0;34m(\u001b[0m\u001b[0mcode\u001b[0m\u001b[0;34m)\u001b[0m\u001b[0;34m,\u001b[0m \u001b[0;34m'<string>'\u001b[0m\u001b[0;34m,\u001b[0m \u001b[0;34m'eval'\u001b[0m\u001b[0;34m)\u001b[0m\u001b[0;34m\u001b[0m\u001b[0m\n\u001b[1;32m    964\u001b[0m \u001b[0;34m\u001b[0m\u001b[0m\n\u001b[0;32m--> 965\u001b[0;31m     \u001b[0;32mreturn\u001b[0m \u001b[0meval_expr\u001b[0m\u001b[0;34m(\u001b[0m\u001b[0mcode\u001b[0m\u001b[0;34m,\u001b[0m \u001b[0mlocal_dict\u001b[0m\u001b[0;34m,\u001b[0m \u001b[0mglobal_dict\u001b[0m\u001b[0;34m)\u001b[0m\u001b[0;34m\u001b[0m\u001b[0m\n\u001b[0m\u001b[1;32m    966\u001b[0m \u001b[0;34m\u001b[0m\u001b[0m\n\u001b[1;32m    967\u001b[0m \u001b[0;34m\u001b[0m\u001b[0m\n",
      "\u001b[0;32m/home/mota/.local/lib/python3.6/site-packages/sympy/parsing/sympy_parser.py\u001b[0m in \u001b[0;36meval_expr\u001b[0;34m(code, local_dict, global_dict)\u001b[0m\n\u001b[1;32m    876\u001b[0m     \"\"\"\n\u001b[1;32m    877\u001b[0m     expr = eval(\n\u001b[0;32m--> 878\u001b[0;31m         code, global_dict, local_dict)  # take local objects in preference\n\u001b[0m\u001b[1;32m    879\u001b[0m \u001b[0;34m\u001b[0m\u001b[0m\n\u001b[1;32m    880\u001b[0m     \u001b[0;32mreturn\u001b[0m \u001b[0mexpr\u001b[0m\u001b[0;34m\u001b[0m\u001b[0m\n",
      "\u001b[0;32m<string>\u001b[0m in \u001b[0;36m<module>\u001b[0;34m()\u001b[0m\n",
      "\u001b[0;31mAttributeError\u001b[0m: 'function' object has no attribute 'x'"
     ]
    }
   ],
   "source": [
    "grad2W = gradient( gradW, RF )"
   ]
  },
  {
   "cell_type": "code",
   "execution_count": 18,
   "metadata": {},
   "outputs": [
    {
     "data": {
      "text/latex": [
       "$$\\left ( \\frac{\\left(x_{0} - y_{0}\\right) \\left. \\frac{d}{d \\xi_{1}} W{\\left (\\xi_{1} \\right )} \\right|_{\\substack{ \\xi_{1}=\\frac{\\sqrt{\\left(x_{0} - y_{0}\\right)^{2} + \\left(x_{1} - y_{1}\\right)^{2}}}{h} }}}{h \\sqrt{\\left(x_{0} - y_{0}\\right)^{2} + \\left(x_{1} - y_{1}\\right)^{2}}}, \\quad \\frac{- \\frac{\\left(x_{0} - y_{0}\\right)^{2} \\left. \\frac{d}{d \\xi_{1}} W{\\left (\\xi_{1} \\right )} \\right|_{\\substack{ \\xi_{1}=\\frac{\\sqrt{\\left(x_{0} - y_{0}\\right)^{2} + \\left(x_{1} - y_{1}\\right)^{2}}}{h} }}}{\\left(\\left(x_{0} - y_{0}\\right)^{2} + \\left(x_{1} - y_{1}\\right)^{2}\\right)^{\\frac{3}{2}}} + \\frac{\\left. \\frac{d}{d \\xi_{1}} W{\\left (\\xi_{1} \\right )} \\right|_{\\substack{ \\xi_{1}=\\frac{\\sqrt{\\left(x_{0} - y_{0}\\right)^{2} + \\left(x_{1} - y_{1}\\right)^{2}}}{h} }}}{\\sqrt{\\left(x_{0} - y_{0}\\right)^{2} + \\left(x_{1} - y_{1}\\right)^{2}}} + \\frac{\\left(x_{0} - y_{0}\\right)^{2} \\left. \\frac{d^{2}}{d \\xi_{1}^{2}} W{\\left (\\xi_{1} \\right )} \\right|_{\\substack{ \\xi_{1}=\\frac{\\sqrt{\\left(x_{0} - y_{0}\\right)^{2} + \\left(x_{1} - y_{1}\\right)^{2}}}{h} }}}{h \\left(\\left(x_{0} - y_{0}\\right)^{2} + \\left(x_{1} - y_{1}\\right)^{2}\\right)}}{h}\\right )$$"
      ],
      "text/plain": [
       "⎛                                                                             \n",
       "⎜                                                                   2         \n",
       "⎜                                                          (x₀ - y₀) ⋅⎛ d     \n",
       "⎜                                                                     ⎜───(W(ξ\n",
       "⎜                                                                     ⎝dξ₁    \n",
       "⎜                             _________________________                       \n",
       "⎜(x₀ - y₀)⋅⎛ d        ⎞│     ╱          2            2   - ───────────────────\n",
       "⎜          ⎜───(W(ξ₁))⎟│   ╲╱  (x₀ - y₀)  + (x₁ - y₁)                         \n",
       "⎜          ⎝dξ₁       ⎠│ξ₁=────────────────────────────                  ⎛    \n",
       "⎜                                       h                                ⎝(x₀ \n",
       "⎜──────────────────────────────────────────────────────, ─────────────────────\n",
       "⎜                 _________________________                                   \n",
       "⎜                ╱          2            2                                    \n",
       "⎝            h⋅╲╱  (x₀ - y₀)  + (x₁ - y₁)                                     \n",
       "\n",
       "                                                                              \n",
       "           _________________________                      ____________________\n",
       "   ⎞│     ╱          2            2    ⎛ d        ⎞│     ╱          2         \n",
       "₁))⎟│   ╲╱  (x₀ - y₀)  + (x₁ - y₁)     ⎜───(W(ξ₁))⎟│   ╲╱  (x₀ - y₀)  + (x₁ - \n",
       "   ⎠│ξ₁=────────────────────────────   ⎝dξ₁       ⎠│ξ₁=───────────────────────\n",
       "                     h                                              h         \n",
       "──────────────────────────────────── + ───────────────────────────────────────\n",
       "                    3/2                           _________________________   \n",
       "     2            2⎞                             ╱          2            2    \n",
       "- y₀)  + (x₁ - y₁) ⎠                           ╲╱  (x₀ - y₀)  + (x₁ - y₁)     \n",
       "──────────────────────────────────────────────────────────────────────────────\n",
       "                                                            h                 \n",
       "                                                                              \n",
       "                                                                              \n",
       "\n",
       "                   ⎛  2        ⎞│                               ⎞\n",
       "_____            2 ⎜ d         ⎟│      _________________________⎟\n",
       "   2    (x₀ - y₀) ⋅⎜────(W(ξ₁))⎟│     ╱          2            2 ⎟\n",
       "y₁)                ⎜   2       ⎟│   ╲╱  (x₀ - y₀)  + (x₁ - y₁)  ⎟\n",
       "─────              ⎝dξ₁        ⎠│ξ₁=────────────────────────────⎟\n",
       "                                                 h              ⎟\n",
       "───── + ────────────────────────────────────────────────────────⎟\n",
       "                        ⎛         2            2⎞               ⎟\n",
       "                      h⋅⎝(x₀ - y₀)  + (x₁ - y₁) ⎠               ⎟\n",
       "                                                                ⎟\n",
       "────────────────────────────────────────────────────────────────⎟\n",
       "                                                                ⎟\n",
       "                                                                ⎟\n",
       "                                                                ⎠"
      ]
     },
     "execution_count": 18,
     "metadata": {},
     "output_type": "execute_result"
    }
   ],
   "source": [
    "dist = lambda _00, _01, _10, _11: sqrt( (_00 - _10)**2 + (_01 - _11)**2 )\n",
    "x0,x1, y0,y1 = symbols('x_0 x_1 y_0 y_1',real=True)\n",
    "diff( W(dist(x0,x1,y0,y1)/h), x0), diff( W(dist(x0,x1,y0,y1)/h), x0, x0)"
   ]
  },
  {
   "cell_type": "code",
   "execution_count": 13,
   "metadata": {},
   "outputs": [
    {
     "data": {
      "text/latex": [
       "$$2 \\delta\\left(x - y\\right)$$"
      ],
      "text/plain": [
       "2⋅δ(x - y)"
      ]
     },
     "execution_count": 13,
     "metadata": {},
     "output_type": "execute_result"
    }
   ],
   "source": [
    "diff(abs(x-y),x,x)"
   ]
  },
  {
   "cell_type": "code",
   "execution_count": 34,
   "metadata": {},
   "outputs": [
    {
     "data": {
      "text/latex": [
       "$$\\sum_{a=0}^{n} {\\nu}_{a} {f}_{a}$$"
      ],
      "text/plain": [
       "  n              \n",
       " ___             \n",
       " ╲               \n",
       "  ╲   \\nu[a]⋅f[a]\n",
       "  ╱              \n",
       " ╱               \n",
       " ‾‾‾             \n",
       "a = 0            "
      ]
     },
     "execution_count": 34,
     "metadata": {},
     "output_type": "execute_result"
    }
   ],
   "source": [
    "N = 10\n",
    "a = symbols('a',cls=Idx)\n",
    "s = Sum( nu[a]*f[a], (a,0,n))\n",
    "s"
   ]
  },
  {
   "cell_type": "code",
   "execution_count": 35,
   "metadata": {},
   "outputs": [
    {
     "data": {
      "text/latex": [
       "$$\\sum_{a=0}^{n} {\\nu}_{a} {f}_{a}$$"
      ],
      "text/plain": [
       "  n              \n",
       " ___             \n",
       " ╲               \n",
       "  ╲   \\nu[a]⋅f[a]\n",
       "  ╱              \n",
       " ╱               \n",
       " ‾‾‾             \n",
       "a = 0            "
      ]
     },
     "execution_count": 35,
     "metadata": {},
     "output_type": "execute_result"
    }
   ],
   "source": [
    "j = Wild('j')\n",
    "k = Wild('k')\n",
    "replaces = [ Sum( Indexed(w, a), (a,0,n)), Function('SPH')(w) ]\n",
    "s.replace( *replaces )"
   ]
  },
  {
   "cell_type": "code",
   "execution_count": null,
   "metadata": {},
   "outputs": [],
   "source": []
  },
  {
   "cell_type": "code",
   "execution_count": 323,
   "metadata": {},
   "outputs": [
    {
     "data": {
      "text/latex": [
       "$$\\sum_{a=0}^{n} {\\nu}_{a} {f}_{a}$$"
      ],
      "text/plain": [
       "  n              \n",
       " ___             \n",
       " ╲               \n",
       "  ╲   \\nu[a]⋅f[a]\n",
       "  ╱              \n",
       " ╱               \n",
       " ‾‾‾             \n",
       "a = 0            "
      ]
     },
     "execution_count": 323,
     "metadata": {},
     "output_type": "execute_result"
    }
   ],
   "source": [
    "nu.val = np.ones(10)\n",
    "f.val = np.ones_like(nu.val)\n",
    "\n",
    "s.evalf( subs={nu[a]:2,f[a]:nu[a]} )"
   ]
  },
  {
   "cell_type": "code",
   "execution_count": 321,
   "metadata": {},
   "outputs": [
    {
     "data": {
      "text/plain": [
       "array([1., 1., 1., 1., 1., 1., 1., 1., 1., 1.])"
      ]
     },
     "execution_count": 321,
     "metadata": {},
     "output_type": "execute_result"
    }
   ],
   "source": [
    "nu.val"
   ]
  },
  {
   "cell_type": "code",
   "execution_count": 250,
   "metadata": {},
   "outputs": [
    {
     "data": {
      "text/latex": [
       "$${\\nu}_{0} {f}_{0} + {\\nu}_{1} {f}_{1} + {\\nu}_{2} {f}_{2} + {\\nu}_{3} {f}_{3} + {\\nu}_{4} {f}_{4} + {\\nu}_{5} {f}_{5}$$"
      ],
      "text/plain": [
       "\\nu[0]⋅f[0] + \\nu[1]⋅f[1] + \\nu[2]⋅f[2] + \\nu[3]⋅f[3] + \\nu[4]⋅f[4] + \\nu[5]⋅f\n",
       "[5]"
      ]
     },
     "execution_count": 250,
     "metadata": {},
     "output_type": "execute_result"
    }
   ],
   "source": [
    "s1 = s.subs(n,5).doit()\n",
    "s1"
   ]
  },
  {
   "cell_type": "code",
   "execution_count": 251,
   "metadata": {},
   "outputs": [
    {
     "data": {
      "text/latex": [
       "$$6$$"
      ],
      "text/plain": [
       "6"
      ]
     },
     "execution_count": 251,
     "metadata": {},
     "output_type": "execute_result"
    }
   ],
   "source": [
    "s1.replace(Indexed, lambda i,j: 1 )"
   ]
  },
  {
   "cell_type": "code",
   "execution_count": 252,
   "metadata": {},
   "outputs": [
    {
     "data": {
      "text/latex": [
       "$$\\begin{cases} 0 & \\text{for}\\: q \\geq 2 \\\\0.75 q^{3} + 1.5 q^{2} & \\text{for}\\: q < 1 \\\\0.25 \\left(- q + 2\\right)^{3} & \\text{otherwise} \\end{cases}$$"
      ],
      "text/plain": [
       "⎧       0          for q ≥ 2\n",
       "⎪                           \n",
       "⎪      3        2           \n",
       "⎨0.75⋅q  + 1.5⋅q   for q < 1\n",
       "⎪                           \n",
       "⎪              3            \n",
       "⎩ 0.25⋅(-q + 2)    otherwise"
      ]
     },
     "execution_count": 252,
     "metadata": {},
     "output_type": "execute_result"
    }
   ],
   "source": [
    "q = symbols('q')\n",
    "W0 = 3/2*q**2+3/4*q**3\n",
    "W1 = 1/4*(2-q)**3\n",
    "W2 = 0\n",
    "W_f = Piecewise( (W2, q>=2), (W0,q<1), (W1, True) )\n",
    "W_f"
   ]
  },
  {
   "cell_type": "code",
   "execution_count": 253,
   "metadata": {},
   "outputs": [
    {
     "data": {
      "text/latex": [
       "$$\\begin{cases} 0 & \\text{for}\\: q \\geq 2 \\\\2.25 q^{2} + 3.0 q & \\text{for}\\: q < 1 \\\\- 0.75 \\left(- q + 2\\right)^{2} & \\text{otherwise} \\end{cases}$$"
      ],
      "text/plain": [
       "⎧       0         for q ≥ 2\n",
       "⎪                          \n",
       "⎪      2                   \n",
       "⎨2.25⋅q  + 3.0⋅q  for q < 1\n",
       "⎪                          \n",
       "⎪              2           \n",
       "⎩-0.75⋅(-q + 2)   otherwise"
      ]
     },
     "execution_count": 253,
     "metadata": {},
     "output_type": "execute_result"
    }
   ],
   "source": [
    "diff(W_f)"
   ]
  },
  {
   "cell_type": "code",
   "execution_count": 254,
   "metadata": {},
   "outputs": [
    {
     "data": {
      "text/latex": [
       "$$\\begin{cases} 0 & \\text{for}\\: q \\geq 2 \\\\4.5 q + 3.0 & \\text{for}\\: q < 1 \\\\- 1.5 q + 3.0 & \\text{otherwise} \\end{cases}$$"
      ],
      "text/plain": [
       "⎧     0        for q ≥ 2\n",
       "⎪                       \n",
       "⎨4.5⋅q + 3.0   for q < 1\n",
       "⎪                       \n",
       "⎩-1.5⋅q + 3.0  otherwise"
      ]
     },
     "execution_count": 254,
     "metadata": {},
     "output_type": "execute_result"
    }
   ],
   "source": [
    "diff(W_f,q,q)"
   ]
  },
  {
   "cell_type": "code",
   "execution_count": 266,
   "metadata": {},
   "outputs": [
    {
     "data": {
      "text/latex": [
       "$$\\begin{cases} 0 & \\text{for}\\: \\frac{- q + x}{h} \\geq 2 \\\\\\frac{1.5 \\left(- 2 q + 2 x\\right)}{h^{2}} + \\frac{2.25 \\left(- q + x\\right)^{2}}{h^{3}} & \\text{for}\\: \\frac{- q + x}{h} < 1 \\\\- \\frac{0.75 \\left(2 - \\frac{- q + x}{h}\\right)^{2}}{h} & \\text{otherwise} \\end{cases}$$"
      ],
      "text/plain": [
       "⎧                                       -q + x    \n",
       "⎪                0                  for ────── ≥ 2\n",
       "⎪                                         h       \n",
       "⎪                                                 \n",
       "⎪                                2                \n",
       "⎪1.5⋅(-2⋅q + 2⋅x)   2.25⋅(-q + x)       -q + x    \n",
       "⎪──────────────── + ──────────────  for ────── < 1\n",
       "⎪        2                 3              h       \n",
       "⎨       h                 h                       \n",
       "⎪                                                 \n",
       "⎪                        2                        \n",
       "⎪            ⎛    -q + x⎞                         \n",
       "⎪      -0.75⋅⎜2 - ──────⎟                         \n",
       "⎪            ⎝      h   ⎠                         \n",
       "⎪      ────────────────────           otherwise   \n",
       "⎪               h                                 \n",
       "⎩                                                 "
      ]
     },
     "execution_count": 266,
     "metadata": {},
     "output_type": "execute_result"
    }
   ],
   "source": [
    "W = lambda x_: W_f.subs(q,x_)\n",
    "diff(W((x-q)/h), x)"
   ]
  },
  {
   "cell_type": "code",
   "execution_count": 285,
   "metadata": {},
   "outputs": [
    {
     "data": {
      "text/latex": [
       "$$0.75 h$$"
      ],
      "text/plain": [
       "0.75⋅h"
      ]
     },
     "execution_count": 285,
     "metadata": {},
     "output_type": "execute_result"
    }
   ],
   "source": [
    "Integral( W(q/h), (q,0,2*h)).doit()"
   ]
  },
  {
   "cell_type": "code",
   "execution_count": 265,
   "metadata": {},
   "outputs": [
    {
     "data": {
      "text/latex": [
       "$$\\sum_{a=0}^{n} \\begin{cases} 0 & \\text{for}\\: \\frac{x - {r}_{a}}{h} \\geq 2 \\\\\\left(\\frac{1.5 \\left(x - {r}_{a}\\right)^{2}}{h^{2}} + \\frac{0.75 \\left(x - {r}_{a}\\right)^{3}}{h^{3}}\\right) {\\nu}_{a} {f}_{a} & \\text{for}\\: \\frac{x - {r}_{a}}{h} < 1 \\\\0.25 \\left(2 - \\frac{x - {r}_{a}}{h}\\right)^{3} {\\nu}_{a} {f}_{a} & \\text{otherwise} \\end{cases}$$"
      ],
      "text/plain": [
       "    n                                                                         \n",
       "__________                                                                    \n",
       "╲                                                                             \n",
       " ╲         ⎧                                                      x - r[a]    \n",
       "  ╲        ⎪                       0                          for ──────── ≥ 2\n",
       "   ╲       ⎪                                                         h        \n",
       "    ╲      ⎪                                                                  \n",
       "     ╲     ⎪⎛              2                  3⎞                              \n",
       "      ╲    ⎪⎜1.5⋅(x - r[a])    0.75⋅(x - r[a]) ⎟                  x - r[a]    \n",
       "       ╲   ⎪⎜─────────────── + ────────────────⎟⋅\\nu[a]⋅f[a]  for ──────── < 1\n",
       "        ╲  ⎨⎜        2                 3       ⎟                     h        \n",
       "        ╱  ⎪⎝       h                 h        ⎠                              \n",
       "       ╱   ⎪                                                                  \n",
       "      ╱    ⎪                           3                                      \n",
       "     ╱     ⎪             ⎛    x - r[a]⎞                                       \n",
       "    ╱      ⎪        0.25⋅⎜2 - ────────⎟ ⋅\\nu[a]⋅f[a]             otherwise    \n",
       "   ╱       ⎪             ⎝       h    ⎠                                       \n",
       "  ╱        ⎩                                                                  \n",
       " ╱                                                                            \n",
       "╱                                                                             \n",
       "‾‾‾‾‾‾‾‾‾‾                                                                    \n",
       "  a = 0                                                                       "
      ]
     },
     "execution_count": 265,
     "metadata": {},
     "output_type": "execute_result"
    }
   ],
   "source": [
    "s = summation( nu[a]*f[a]*W((x-r[a])/h), (a,0,n))\n",
    "s"
   ]
  },
  {
   "cell_type": "code",
   "execution_count": 26,
   "metadata": {},
   "outputs": [
    {
     "data": {
      "text/latex": [
       "$${f}_{a} {g}_{a} + 2.0 {f}_{a}$$"
      ],
      "text/plain": [
       "f[a]⋅g[a] + 2.0⋅f[a]"
      ]
     },
     "execution_count": 26,
     "metadata": {},
     "output_type": "execute_result"
    }
   ],
   "source": [
    "#import inspect\n",
    "#inspect.getmembers(g*f)\n",
    "def recursive_index(expr_,idx_):\n",
    "    if type(expr_) == int:\n",
    "        return expr_\n",
    "    #print('rec_ind',expr_)\n",
    "    #print('rec_ind',expr_.func)\n",
    "    if expr_.func == tensor.indexed.IndexedBase:\n",
    "        return expr_[idx_]\n",
    "    elif expr_.func in [tensor.indexed.Indexed, symbol.Symbol, Wild]:\n",
    "        return expr_\n",
    "    elif expr_.func in [numbers.Integer, numbers.Float]:\n",
    "        return expr_    \n",
    "    else:\n",
    "        return expr_.func( *map(lambda _0: recursive_index(_0,idx_), expr_.args) )\n",
    "    \n",
    "recursive_index(f*g+f*2.,a)"
   ]
  },
  {
   "cell_type": "code",
   "execution_count": 359,
   "metadata": {},
   "outputs": [
    {
     "data": {
      "text/plain": [
       "sympy.core.numbers.Float"
      ]
     },
     "execution_count": 359,
     "metadata": {},
     "output_type": "execute_result"
    }
   ],
   "source": [
    "(f*2.5).args[0].func"
   ]
  },
  {
   "cell_type": "code",
   "execution_count": 38,
   "metadata": {},
   "outputs": [
    {
     "name": "stdout",
     "output_type": "stream",
     "text": [
      "f[a]*g[a] + f[a]\n",
      "<class 'sympy.core.add.Add'>\n",
      "f[a]*g[a]\n",
      "<class 'sympy.core.mul.Mul'>\n",
      "f[a]\n",
      "<class 'sympy.tensor.indexed.Indexed'>\n",
      "g[a]\n",
      "<class 'sympy.tensor.indexed.Indexed'>\n",
      "f[a]\n",
      "<class 'sympy.tensor.indexed.Indexed'>\n"
     ]
    },
    {
     "data": {
      "text/latex": [
       "$$f g + f$$"
      ],
      "text/plain": [
       "f⋅g + f"
      ]
     },
     "execution_count": 38,
     "metadata": {},
     "output_type": "execute_result"
    }
   ],
   "source": [
    "def recursive_base(expr_,idx_):\n",
    "    print( expr_)\n",
    "    print( expr_.func )\n",
    "    if expr_.func == tensor.indexed.IndexedBase:\n",
    "        return expr_\n",
    "    elif expr_.func == tensor.indexed.Indexed:\n",
    "        return expr_.base\n",
    "    elif expr_.func in [numbers.Integer,numbers.Float]:\n",
    "        return expr_\n",
    "    else:\n",
    "        return expr_.func( *map(lambda _0: recursive_base(_0,idx_), expr_.args) )\n",
    "\n",
    "recursive_base(f[a]*g[a]+f[a],a)"
   ]
  },
  {
   "cell_type": "code",
   "execution_count": 299,
   "metadata": {},
   "outputs": [],
   "source": [
    "def recursive_replace( expr_, replaces ):\n",
    "    if expr_.func in [numbers.Integer, numbers.Float, numbers.NegativeOne, \n",
    "                      symbol.Symbol, symbol.Dummy, indexed.IndexedBase, symbol.Wild]:\n",
    "        return expr_\n",
    "    for replace in replaces:\n",
    "        if not expr_.match(replace[0]):\n",
    "            args = list(map( lambda _0: recursive_replace(_0, replaces ), expr_.args ))\n",
    "            expr_ = expr_.func( *args )\n",
    "        else:\n",
    "            print('done', expr_, '-->', expr_.replace( *replace ).expand() )\n",
    "            expr_ = expr_.replace( *replace )\n",
    "    return expr_"
   ]
  },
  {
   "cell_type": "code",
   "execution_count": 533,
   "metadata": {},
   "outputs": [
    {
     "name": "stdout",
     "output_type": "stream",
     "text": [
      "done f*g --> 1\n"
     ]
    },
    {
     "data": {
      "text/latex": [
       "$$1$$"
      ],
      "text/plain": [
       "1"
      ]
     },
     "execution_count": 533,
     "metadata": {},
     "output_type": "execute_result"
    }
   ],
   "source": [
    "recursive_replace( f*g, [[w*w2,w**2]] )"
   ]
  },
  {
   "cell_type": "code",
   "execution_count": 91,
   "metadata": {},
   "outputs": [
    {
     "data": {
      "text/latex": [
       "$$f$$"
      ],
      "text/plain": [
       "f"
      ]
     },
     "execution_count": 91,
     "metadata": {},
     "output_type": "execute_result"
    }
   ],
   "source": [
    "import inspect\n",
    "#inspect.getmembers(f[a])\n",
    "f[a].base"
   ]
  },
  {
   "cell_type": "code",
   "execution_count": 27,
   "metadata": {},
   "outputs": [
    {
     "data": {
      "text/latex": [
       "$$\\sum_{b=0}^{n} W{\\left (\\frac{{r}_{a} - {r}_{b}}{h} \\right )} {\\nu}_{b} {g}_{b}^{2}$$"
      ],
      "text/plain": [
       "  n                              \n",
       " ____                            \n",
       " ╲                               \n",
       "  ╲    ⎛r[a] - r[b]⎞            2\n",
       "   ╲  W⎜───────────⎟⋅\\nu[b]⋅g[b] \n",
       "   ╱   ⎝     h     ⎠             \n",
       "  ╱                              \n",
       " ╱                               \n",
       " ‾‾‾‾                            \n",
       "b = 0                            "
      ]
     },
     "execution_count": 27,
     "metadata": {},
     "output_type": "execute_result"
    }
   ],
   "source": [
    "W = Function('W')\n",
    "b = symbols('b',cls=Idx)\n",
    "def interpolation( x, f=None ):\n",
    "    #print(x)\n",
    "    #print(x.func)\n",
    "    if x.func == symbol.Wild:\n",
    "        i_ = Wild('a_')\n",
    "    elif x.func == tensor.indexed.Indexed:\n",
    "        ind = x.indices[0]\n",
    "        #print('ind',ind)\n",
    "        #print('ind',ind.func)\n",
    "        if ind.func == symbol.Wild:\n",
    "            i_ = Wild( 'b_' )\n",
    "        else:\n",
    "            i_ = Symbol( chr(ord( ind.label.name )+1) )\n",
    "    else:\n",
    "        i_ = Symbol( 'a' )\n",
    "    #print('ind_',i_)\n",
    "    #print('ind_',i_.func)\n",
    "    \n",
    "    return Sum( nu[i_]*recursive_index(f,i_)*W((x-r[i_])/h), (i_,0,n) )\n",
    "    \n",
    "g = IndexedBase('g')\n",
    "interpolation(r[a],g*g)"
   ]
  },
  {
   "cell_type": "code",
   "execution_count": 47,
   "metadata": {},
   "outputs": [
    {
     "data": {
      "text/latex": [
       "$$\\left ( \\sum_{a=0}^{n} W{\\left (\\frac{x - {r}_{a}}{h} \\right )} {\\nu}_{a} {f}_{a}, \\quad \\sum_{a=0}^{n} W{\\left (\\frac{x - {r}_{a}}{h} \\right )} {\\nu}_{a}\\right )$$"
      ],
      "text/plain": [
       "⎛  n                              n                     ⎞\n",
       "⎜ ____                           ____                   ⎟\n",
       "⎜ ╲                              ╲                      ⎟\n",
       "⎜  ╲    ⎛x - r[a]⎞                ╲    ⎛x - r[a]⎞       ⎟\n",
       "⎜   ╲  W⎜────────⎟⋅\\nu[a]⋅f[a]     ╲  W⎜────────⎟⋅\\nu[a]⎟\n",
       "⎜   ╱   ⎝   h    ⎠            ,    ╱   ⎝   h    ⎠       ⎟\n",
       "⎜  ╱                              ╱                     ⎟\n",
       "⎜ ╱                              ╱                      ⎟\n",
       "⎜ ‾‾‾‾                           ‾‾‾‾                   ⎟\n",
       "⎝a = 0                          a = 0                   ⎠"
      ]
     },
     "execution_count": 47,
     "metadata": {},
     "output_type": "execute_result"
    }
   ],
   "source": [
    "interpolation(x,f), interpolation(x,1)"
   ]
  },
  {
   "cell_type": "code",
   "execution_count": 31,
   "metadata": {},
   "outputs": [
    {
     "data": {
      "text/latex": [
       "$$\\left ( \\sum_{b=0}^{n} W{\\left (\\frac{{r}_{a} - {r}_{b}}{h} \\right )} {\\nu}_{b} {f}_{b}, \\quad \\sum_{b=0}^{n} \\frac{\\left(- \\delta_{b c} + \\delta_{a c}\\right) {\\nu}_{b} {f}_{b} \\left. \\frac{d}{d \\xi_{1}} W{\\left (\\xi_{1} \\right )} \\right|_{\\substack{ \\xi_{1}=\\frac{{r}_{a} - {r}_{b}}{h} }}}{h}\\right )$$"
      ],
      "text/plain": [
       "⎛                                    n                                        \n",
       "⎜  n                               _____                                      \n",
       "⎜ ____                             ╲                                          \n",
       "⎜ ╲                                 ╲                                ⎛ d      \n",
       "⎜  ╲    ⎛r[a] - r[b]⎞                ╲   ⎛- δ    + δ   ⎞⋅\\nu[b]⋅f[b]⋅⎜───(W(ξ₁\n",
       "⎜   ╲  W⎜───────────⎟⋅\\nu[b]⋅f[b]     ╲  ⎝   b,c    a,c⎠             ⎝dξ₁     \n",
       "⎜   ╱   ⎝     h     ⎠            ,    ╱                                       \n",
       "⎜  ╱                                 ╱   ─────────────────────────────────────\n",
       "⎜ ╱                                 ╱                               h         \n",
       "⎜ ‾‾‾‾                             ╱                                          \n",
       "⎜b = 0                             ‾‾‾‾‾                                      \n",
       "⎝                                  b = 0                                      \n",
       "\n",
       "                  ⎞\n",
       "                  ⎟\n",
       "                  ⎟\n",
       "  ⎞│              ⎟\n",
       "))⎟│   r[a] - r[b]⎟\n",
       "  ⎠│ξ₁=───────────⎟\n",
       "            h     ⎟\n",
       "──────────────────⎟\n",
       "                  ⎟\n",
       "                  ⎟\n",
       "                  ⎟\n",
       "                  ⎠"
      ]
     },
     "execution_count": 31,
     "metadata": {},
     "output_type": "execute_result"
    }
   ],
   "source": [
    "c = symbols('c', cls = Idx )\n",
    "interpolation(r[a],f), diff( interpolation(r[a],f), r[c])"
   ]
  },
  {
   "cell_type": "code",
   "execution_count": 37,
   "metadata": {},
   "outputs": [
    {
     "data": {
      "text/plain": [
       "<method-wrapper '__call__' of UndefinedFunction object at 0x21cf818>"
      ]
     },
     "execution_count": 37,
     "metadata": {},
     "output_type": "execute_result"
    }
   ],
   "source": [
    "t = symbols('t')\n",
    "diff( interpolation(r[a],f), t)\n",
    "tmp = Function('f')\n",
    "tmp.__call__('t')\n",
    "type(tmp)\n",
    "import inspect\n",
    "inspect.getmembers(tmp)\n",
    "tmp.__call__"
   ]
  },
  {
   "cell_type": "code",
   "execution_count": null,
   "metadata": {},
   "outputs": [],
   "source": []
  },
  {
   "cell_type": "markdown",
   "metadata": {},
   "source": [
    "Lagrangean in SPH form\n",
    "$$\n",
    "L = \\sum_a \\frac{\\nu_a\\varepsilon(\\rho_a)}{\\rho_a}\n",
    "$$"
   ]
  },
  {
   "cell_type": "code",
   "execution_count": 28,
   "metadata": {},
   "outputs": [
    {
     "data": {
      "text/latex": [
       "$$\\sum_{a=0}^{n} \\frac{\\left(\\varepsilon{\\left (\\sum_{b=0}^{n} W{\\left (\\frac{{r}_{a} - {r}_{b}}{h} \\right )} {\\nu}_{b} \\right )}\\right) {\\nu}_{a}}{\\sum_{b=0}^{n} W{\\left (\\frac{{r}_{a} - {r}_{b}}{h} \\right )} {\\nu}_{b}}$$"
      ],
      "text/plain": [
       "      n                                                      \n",
       "_____________                                                \n",
       "╲                                                            \n",
       " ╲                       ⎛  n                        ⎞       \n",
       "  ╲                      ⎜ ____                      ⎟       \n",
       "   ╲                     ⎜ ╲                         ⎟       \n",
       "    ╲                    ⎜  ╲    ⎛r[a] - r[b]⎞       ⎟       \n",
       "     ╲                   ⎜   ╲  W⎜───────────⎟⋅\\nu[b]⎟       \n",
       "      ╲       \\varepsilon⎜   ╱   ⎝     h     ⎠       ⎟⋅\\nu[a]\n",
       "       ╲                 ⎜  ╱                        ⎟       \n",
       "        ╲                ⎜ ╱                         ⎟       \n",
       "         ╲               ⎜ ‾‾‾‾                      ⎟       \n",
       "          ╲              ⎝b = 0                      ⎠       \n",
       "           ╲  ───────────────────────────────────────────────\n",
       "           ╱              n                                  \n",
       "          ╱              ____                                \n",
       "         ╱               ╲                                   \n",
       "        ╱                 ╲    ⎛r[a] - r[b]⎞                 \n",
       "       ╱                   ╲  W⎜───────────⎟⋅\\nu[b]          \n",
       "      ╱                    ╱   ⎝     h     ⎠                 \n",
       "     ╱                    ╱                                  \n",
       "    ╱                    ╱                                   \n",
       "   ╱                     ‾‾‾‾                                \n",
       "  ╱                     b = 0                                \n",
       " ╱                                                           \n",
       "╱                                                            \n",
       "‾‾‾‾‾‾‾‾‾‾‾‾‾                                                \n",
       "    a = 0                                                    "
      ]
     },
     "execution_count": 28,
     "metadata": {},
     "output_type": "execute_result"
    }
   ],
   "source": [
    "a = symbols('a', cls = Idx )\n",
    "vare = Function(r'\\varepsilon')\n",
    "L = Sum( nu[a]*vare(interpolation(r[a],1))/interpolation(r[a],1), (a,0,n))\n",
    "L"
   ]
  },
  {
   "cell_type": "code",
   "execution_count": 55,
   "metadata": {},
   "outputs": [
    {
     "data": {
      "text/latex": [
       "$$\\begin{cases} \\frac{\\left(- \\frac{P{\\left ({\\rho}_{c} \\right )} \\sum_{b=0}^{n} {W'}_{c,b} {\\nu}_{b}}{{\\rho}_{c}^{2}} + \\sum_{a=0}^{n} \\frac{P{\\left ({\\rho}_{a} \\right )} {W'}_{a,c} {\\nu}_{a}}{{\\rho}_{a}^{2}}\\right) {\\nu}_{c}}{h} & \\text{for}\\: c \\geq 0 \\wedge c \\leq n \\\\0 & \\text{otherwise} \\end{cases}$$"
      ],
      "text/plain": [
       "⎧⎛               n                                                     ⎞      \n",
       "⎪⎜              ___                                                    ⎟      \n",
       "⎪⎜              ╲                                                      ⎟      \n",
       "⎪⎜               ╲   W'[c, b]⋅\\nu[b]     n                             ⎟      \n",
       "⎪⎜  P(\\rho[c])⋅  ╱                      ____                           ⎟      \n",
       "⎪⎜              ╱                       ╲                              ⎟      \n",
       "⎪⎜              ‾‾‾                      ╲   P(\\rho[a])⋅W'[a, c]⋅\\nu[a]⎟      \n",
       "⎪⎜             b = 0                      ╲  ──────────────────────────⎟      \n",
       "⎨⎜- ──────────────────────────────── +    ╱                  2         ⎟⋅\\nu[c\n",
       "⎪⎜                     2                 ╱            \\rho[a]          ⎟      \n",
       "⎪⎜              \\rho[c]                 ╱                              ⎟      \n",
       "⎪⎜                                      ‾‾‾‾                           ⎟      \n",
       "⎪⎝                                     a = 0                           ⎠      \n",
       "⎪─────────────────────────────────────────────────────────────────────────────\n",
       "⎪                                      h                                      \n",
       "⎪                                                                             \n",
       "⎩                                      0                                      \n",
       "\n",
       "                    \n",
       "                    \n",
       "                    \n",
       "                    \n",
       "                    \n",
       "                    \n",
       "                    \n",
       "                    \n",
       "]                   \n",
       "                    \n",
       "                    \n",
       "                    \n",
       "                    \n",
       "─  for c ≥ 0 ∧ c ≤ n\n",
       "                    \n",
       "                    \n",
       "       otherwise    "
      ]
     },
     "execution_count": 55,
     "metadata": {},
     "output_type": "execute_result"
    }
   ],
   "source": [
    "def get_dL_dr( L, xx ):\n",
    "    dL_dr = diff( L, xx ).expand().simplify().doit()\n",
    "    w2 = Wild('w_2')\n",
    "    subs_W = lambda expr: expr.replace( Subs(diff( W(w), w), (w), (w2)) , Function(r\"W'\")(w2) )\n",
    "    dL_dr1 = subs_W(dL_dr)\n",
    "    subs_Wab = lambda expr: subs_W(expr)\\\n",
    "    .replace( Function(r\"W\")((r[w]-r[w2])/h), IndexedBase(r\"W\")[w,w2] )\\\n",
    "    .replace( Function(r\"W'\")((r[w]-r[w2])/h), IndexedBase(r\"W'\")[w,w2] )\n",
    "    dL_dr1 = subs_Wab(dL_dr1)\n",
    "    w3 = Wild('w3')\n",
    "    #rho = IndexedBase(r\"\\rho'\")\n",
    "    subs_rho = lambda expr: subs_Wab(expr)\\\n",
    "    .replace( Sum( nu[w]*IndexedBase(r\"W\")[w2,w], (w,0,n) ), IndexedBase(r'\\rho')[w2] )\\\n",
    "    #.replace( Sum( nu[w]*IndexedBase(r\"W'\")[w2,w], (w,0,n) ), rho[w2] )\n",
    "    subs_P = lambda expr: subs_rho(expr)\\\n",
    "    .replace( Subs(diff( vare(w), w ), (w), w2), (-Function(\"P\")(w2)+vare(w2))/w2 )\\\n",
    "    .replace( Sum( IndexedBase(r\"W'\")[w,w2], (w,0,n) ), -Sum( IndexedBase(r\"W'\")[w2,w], (w,0,n) ) )\n",
    "    dv_dt = subs_P( dL_dr1 ).simplify()\n",
    "    return dv_dt\n",
    "c = symbols('c', clas=Idx)\n",
    "get_dL_dr(L, r[c])"
   ]
  },
  {
   "cell_type": "code",
   "execution_count": 65,
   "metadata": {},
   "outputs": [
    {
     "data": {
      "text/latex": [
       "$$\\left(- \\frac{\\left(r{\\left (t \\right )} - s{\\left (t \\right )}\\right) \\frac{d}{d t} h{\\left (t \\right )}}{h^{2}{\\left (t \\right )}} + \\frac{\\frac{d}{d t} r{\\left (t \\right )} - \\frac{d}{d t} s{\\left (t \\right )}}{h{\\left (t \\right )}}\\right) \\left. \\frac{d}{d \\xi_{1}} W{\\left (\\xi_{1} \\right )} \\right|_{\\substack{ \\xi_{1}=\\frac{r{\\left (t \\right )} - s{\\left (t \\right )}}{h{\\left (t \\right )}} }}$$"
      ],
      "text/plain": [
       "⎛                d          d          d       ⎞                            \n",
       "⎜  (r(t) - s(t))⋅──(h(t))   ──(r(t)) - ──(s(t))⎟                            \n",
       "⎜                dt         dt         dt      ⎟ ⎛ d        ⎞│              \n",
       "⎜- ────────────────────── + ───────────────────⎟⋅⎜───(W(ξ₁))⎟│   r(t) - s(t)\n",
       "⎜           2                       h(t)       ⎟ ⎝dξ₁       ⎠│ξ₁=───────────\n",
       "⎝          h (t)                               ⎠                     h(t)   "
      ]
     },
     "execution_count": 65,
     "metadata": {},
     "output_type": "execute_result"
    }
   ],
   "source": [
    "rf = Function('r')\n",
    "sf = Function('s')\n",
    "hf = Function('h')\n",
    "rho_h = W( (rf(t)-sf(t))/hf(t) )\n",
    "diff(rho_h, t)"
   ]
  },
  {
   "cell_type": "code",
   "execution_count": 323,
   "metadata": {},
   "outputs": [
    {
     "data": {
      "text/latex": [
       "$$\\left ( \\sum_{a=0}^{n} \\frac{{\\nu}_{a} {\\varepsilon}_{a}}{\\sum_{b=0}^{n} W{\\left (\\frac{{r}_{a} - {r}_{b}}{h} \\right )} {\\nu}_{b}}, \\quad \\begin{cases} \\frac{{\\nu}_{c}}{{\\rho}_{c}} & \\text{for}\\: n \\geq c \\wedge c \\geq 0 \\\\0 & \\text{otherwise} \\end{cases}\\right )$$"
      ],
      "text/plain": [
       "⎛   n                                                             ⎞\n",
       "⎜________                                                         ⎟\n",
       "⎜╲                                                                ⎟\n",
       "⎜ ╲          \\nu[a]⋅\\varepsilon[a]                                ⎟\n",
       "⎜  ╲      ───────────────────────────                             ⎟\n",
       "⎜   ╲       n                                                     ⎟\n",
       "⎜    ╲     ____                                                   ⎟\n",
       "⎜     ╲    ╲                           ⎧ \\nu[c]                   ⎟\n",
       "⎜      ╲    ╲    ⎛r[a] - r[b]⎞         ⎪───────  for n ≥ c ∧ c ≥ 0⎟\n",
       "⎜      ╱     ╲  W⎜───────────⎟⋅\\nu[b], ⎨\\rho[c]                   ⎟\n",
       "⎜     ╱      ╱   ⎝     h     ⎠         ⎪                          ⎟\n",
       "⎜    ╱      ╱                          ⎩   0         otherwise    ⎟\n",
       "⎜   ╱      ╱                                                      ⎟\n",
       "⎜  ╱       ‾‾‾‾                                                   ⎟\n",
       "⎜ ╱       b = 0                                                   ⎟\n",
       "⎜╱                                                                ⎟\n",
       "⎜‾‾‾‾‾‾‾‾                                                         ⎟\n",
       "⎝ a = 0                                                           ⎠"
      ]
     },
     "execution_count": 323,
     "metadata": {},
     "output_type": "execute_result"
    }
   ],
   "source": [
    "vare2 = IndexedBase(r'\\varepsilon')\n",
    "L2 = Sum( nu[a]*vare2[a]/interpolation(r[a],1), (a,0,n))\n",
    "L2, get_dL_dr( L2, vare2[c] )"
   ]
  },
  {
   "cell_type": "code",
   "execution_count": 324,
   "metadata": {},
   "outputs": [
    {
     "data": {
      "text/latex": [
       "$$\\begin{cases} \\frac{\\left(- \\frac{{\\rho'}_{c} {\\varepsilon}_{c}}{{\\rho}_{c}^{2}} + \\sum_{a=0}^{n} \\frac{{W'}_{a,c} {\\nu}_{a} {\\varepsilon}_{a}}{{\\rho}_{a}^{2}}\\right) {\\nu}_{c}}{h} & \\text{for}\\: n \\geq c \\wedge c \\geq 0 \\\\0 & \\text{otherwise} \\end{cases}$$"
      ],
      "text/plain": [
       "⎧⎛                              n                                 ⎞           \n",
       "⎪⎜                             ____                               ⎟           \n",
       "⎪⎜                             ╲                                  ⎟           \n",
       "⎪⎜                              ╲   W'[a, c]⋅\\nu[a]⋅\\varepsilon[a]⎟           \n",
       "⎪⎜  \\rho'[c]⋅\\varepsilon[c]      ╲  ──────────────────────────────⎟           \n",
       "⎪⎜- ─────────────────────── +    ╱                    2           ⎟⋅\\nu[c]    \n",
       "⎪⎜                 2            ╱              \\rho[a]            ⎟           \n",
       "⎨⎜          \\rho[c]            ╱                                  ⎟           \n",
       "⎪⎜                             ‾‾‾‾                               ⎟           \n",
       "⎪⎝                            a = 0                               ⎠           \n",
       "⎪─────────────────────────────────────────────────────────────────────────  fo\n",
       "⎪                                    h                                        \n",
       "⎪                                                                             \n",
       "⎪                                    0                                        \n",
       "⎩                                                                             \n",
       "\n",
       "               \n",
       "               \n",
       "               \n",
       "               \n",
       "               \n",
       "               \n",
       "               \n",
       "               \n",
       "               \n",
       "               \n",
       "r n ≥ c ∧ c ≥ 0\n",
       "               \n",
       "               \n",
       "  otherwise    \n",
       "               "
      ]
     },
     "execution_count": 324,
     "metadata": {},
     "output_type": "execute_result"
    }
   ],
   "source": [
    "get_dL_dr( L2, r[c] )"
   ]
  },
  {
   "cell_type": "code",
   "execution_count": 62,
   "metadata": {},
   "outputs": [
    {
     "data": {
      "text/latex": [
       "$$\\frac{\\begin{cases} - \\frac{\\left(\\varepsilon{\\left (\\sum_{b=0}^{n} W{\\left (\\frac{- {r}_{b} + {r}_{c}}{h} \\right )} {\\nu}_{b} \\right )}\\right) {\\nu}_{c} \\sum_{b=0}^{n} {\\nu}_{b} \\left. \\frac{d}{d \\xi_{1}} W{\\left (\\xi_{1} \\right )} \\right|_{\\substack{ \\xi_{1}=\\frac{- {r}_{b} + {r}_{c}}{h} }}}{\\left(\\sum_{b=0}^{n} W{\\left (\\frac{- {r}_{b} + {r}_{c}}{h} \\right )} {\\nu}_{b}\\right)^{2}} + \\frac{{\\nu}_{c} \\left(\\left. \\frac{d}{d \\xi_{1}} \\varepsilon{\\left (\\xi_{1} \\right )} \\right|_{\\substack{ \\xi_{1}=\\sum_{b=0}^{n} W{\\left (\\frac{- {r}_{b} + {r}_{c}}{h} \\right )} {\\nu}_{b} }}\\right) \\sum_{b=0}^{n} {\\nu}_{b} \\left. \\frac{d}{d \\xi_{1}} W{\\left (\\xi_{1} \\right )} \\right|_{\\substack{ \\xi_{1}=\\frac{- {r}_{b} + {r}_{c}}{h} }}}{\\sum_{b=0}^{n} W{\\left (\\frac{- {r}_{b} + {r}_{c}}{h} \\right )} {\\nu}_{b}} + \\sum_{a=0}^{n} \\frac{\\left(\\varepsilon{\\left (\\sum_{b=0}^{n} W{\\left (\\frac{{r}_{a} - {r}_{b}}{h} \\right )} {\\nu}_{b} \\right )}\\right) {\\nu}_{a} {\\nu}_{c} \\left. \\frac{d}{d \\xi_{1}} W{\\left (\\xi_{1} \\right )} \\right|_{\\substack{ \\xi_{1}=\\frac{{r}_{a} - {r}_{c}}{h} }}}{\\left(\\sum_{b=0}^{n} W{\\left (\\frac{{r}_{a} - {r}_{b}}{h} \\right )} {\\nu}_{b}\\right)^{2}} + \\sum_{a=0}^{n} - \\frac{{\\nu}_{a} {\\nu}_{c} \\left. \\frac{d}{d \\xi_{1}} W{\\left (\\xi_{1} \\right )} \\right|_{\\substack{ \\xi_{1}=\\frac{{r}_{a} - {r}_{c}}{h} }} \\left. \\frac{d}{d \\xi_{1}} \\varepsilon{\\left (\\xi_{1} \\right )} \\right|_{\\substack{ \\xi_{1}=\\sum_{b=0}^{n} W{\\left (\\frac{{r}_{a} - {r}_{b}}{h} \\right )} {\\nu}_{b} }}}{\\sum_{b=0}^{n} W{\\left (\\frac{{r}_{a} - {r}_{b}}{h} \\right )} {\\nu}_{b}} & \\text{for}\\: n \\geq c \\wedge c \\geq 0 \\\\2 \\sum_{a=0}^{n} 0 & \\text{otherwise} \\end{cases}}{h}$$"
      ],
      "text/plain": [
       "⎧                                                                             \n",
       "⎪                                                                             \n",
       "⎪                                                                             \n",
       "⎪                                                                             \n",
       "⎪             ⎛  n                         ⎞          n                       \n",
       "⎪             ⎜ ____                       ⎟         ____                     \n",
       "⎪             ⎜ ╲                          ⎟         ╲                        \n",
       "⎪             ⎜  ╲    ⎛-r[b] + r[c]⎞       ⎟          ╲          ⎛ d        ⎞│\n",
       "⎪             ⎜   ╲  W⎜────────────⎟⋅\\nu[b]⎟           ╲  \\nu[b]⋅⎜───(W(ξ₁))⎟│\n",
       "⎪  \\varepsilon⎜   ╱   ⎝     h      ⎠       ⎟⋅\\nu[c]⋅   ╱         ⎝dξ₁       ⎠│\n",
       "⎪             ⎜  ╱                         ⎟          ╱                       \n",
       "⎪             ⎜ ╱                          ⎟         ╱                        \n",
       "⎪             ⎜ ‾‾‾‾                       ⎟         ‾‾‾‾                     \n",
       "⎪             ⎝b = 0                       ⎠        b = 0                     \n",
       "⎪- ───────────────────────────────────────────────────────────────────────────\n",
       "⎪                                                             2               \n",
       "⎪                               ⎛  n                         ⎞                \n",
       "⎪                               ⎜ ____                       ⎟                \n",
       "⎨                               ⎜ ╲                          ⎟                \n",
       "⎪                               ⎜  ╲    ⎛-r[b] + r[c]⎞       ⎟                \n",
       "⎪                               ⎜   ╲  W⎜────────────⎟⋅\\nu[b]⎟                \n",
       "⎪                               ⎜   ╱   ⎝     h      ⎠       ⎟                \n",
       "⎪                               ⎜  ╱                         ⎟                \n",
       "⎪                               ⎜ ╱                          ⎟                \n",
       "⎪                               ⎜ ‾‾‾‾                       ⎟                \n",
       "⎪                               ⎝b = 0                       ⎠                \n",
       "⎪                                                                             \n",
       "⎪                                                                             \n",
       "⎪                                                                             \n",
       "⎪                                                                             \n",
       "⎪                                                                             \n",
       "⎪                                                                             \n",
       "⎪                                                                             \n",
       "⎪                                                                             \n",
       "⎪                                                                             \n",
       "⎪                                                                             \n",
       "⎩                                                                             \n",
       "──────────────────────────────────────────────────────────────────────────────\n",
       "                                                                              \n",
       "\n",
       "                                                                              \n",
       "                                                                              \n",
       "                                                                              \n",
       "                                                                              \n",
       "                                                     n                        \n",
       "                  \\nu[c]⋅                           ____                      \n",
       "                                                    ╲                         \n",
       "                         ⎛ d                  ⎞│     ╲    ⎛-r[b] + r[c]⎞      \n",
       "   -r[b] + r[c]          ⎜───(\\varepsilon(ξ₁))⎟│      ╲  W⎜────────────⎟⋅\\nu[b\n",
       "ξ₁=────────────          ⎝dξ₁                 ⎠│ξ₁=   ╱   ⎝     h      ⎠      \n",
       "        h                                            ╱                        \n",
       "                                                    ╱                         \n",
       "                                                    ‾‾‾‾                      \n",
       "                                                   b = 0                      \n",
       "─────────────── + ────────────────────────────────────────────────────────────\n",
       "                                                          n                   \n",
       "                                                         ____                 \n",
       "                                                         ╲                    \n",
       "                                                          ╲    ⎛-r[b] + r[c]⎞ \n",
       "                                                           ╲  W⎜────────────⎟⋅\n",
       "                                                           ╱   ⎝     h      ⎠ \n",
       "                                                          ╱                   \n",
       "                                                         ╱                    \n",
       "                                                         ‾‾‾‾                 \n",
       "                                                        b = 0                 \n",
       "                                                                              \n",
       "                                                                              \n",
       "                                                                              \n",
       "                                                                              \n",
       "                                                                              \n",
       "                                                                              \n",
       "                                                                              \n",
       "                                                                              \n",
       "                                                                              \n",
       "                                                                              \n",
       "                                                                              \n",
       "                                                                              \n",
       "──────────────────────────────────────────────────────────────────────────────\n",
       "                                                                              \n",
       "\n",
       "    n                                               n                         \n",
       "   ____                                       _____________                   \n",
       "   ╲                                          ╲                               \n",
       "    ╲          ⎛ d        ⎞│                   ╲                       ⎛  n   \n",
       "     ╲  \\nu[b]⋅⎜───(W(ξ₁))⎟│   -r[b] + r[c]     ╲                      ⎜ ____ \n",
       " ⋅   ╱         ⎝dξ₁       ⎠│ξ₁=────────────      ╲                     ⎜ ╲    \n",
       "    ╱                               h             ╲                    ⎜  ╲   \n",
       "   ╱                                               ╲                   ⎜   ╲  \n",
       "]  ‾‾‾‾                                             ╲       \\varepsilon⎜   ╱  \n",
       "  b = 0                                              ╲                 ⎜  ╱   \n",
       "                                                      ╲                ⎜ ╱    \n",
       "                                                       ╲               ⎜ ‾‾‾‾ \n",
       "                                                        ╲              ⎝b = 0 \n",
       "                                                         ╲  ──────────────────\n",
       "─────────────────────────────────────────── +            ╱                    \n",
       "                                                        ╱                     \n",
       "                                                       ╱                      \n",
       "                                                      ╱                       \n",
       "                                                     ╱                        \n",
       "\\nu[b]                                              ╱                         \n",
       "                                                   ╱                          \n",
       "                                                  ╱                           \n",
       "                                                 ╱                            \n",
       "                                                ╱                             \n",
       "                                               ╱                              \n",
       "                                              ╱                               \n",
       "                                              ‾‾‾‾‾‾‾‾‾‾‾‾‾                   \n",
       "                                                  a = 0                       \n",
       "                                                                              \n",
       "                                                  n                           \n",
       "                                                 ___                          \n",
       "                                                 ╲                            \n",
       "                                                  ╲   0                       \n",
       "                                              2⋅  ╱                           \n",
       "                                                 ╱                            \n",
       "                                                 ‾‾‾                          \n",
       "                                                a = 0                         \n",
       "──────────────────────────────────────────────────────────────────────────────\n",
       "                                                           h                  \n",
       "\n",
       "                                                                         n    \n",
       "                                                                   ___________\n",
       "                                                                   ╲          \n",
       "                     ⎞                                              ╲         \n",
       "                     ⎟                                               ╲        \n",
       "                     ⎟                                                ╲       \n",
       " ⎛r[a] - r[b]⎞       ⎟                                                 ╲      \n",
       "W⎜───────────⎟⋅\\nu[b]⎟               ⎛ d        ⎞│                      ╲     \n",
       " ⎝     h     ⎠       ⎟⋅\\nu[a]⋅\\nu[c]⋅⎜───(W(ξ₁))⎟│   r[a] - r[c]         ╲    \n",
       "                     ⎟               ⎝dξ₁       ⎠│ξ₁=───────────          ╲   \n",
       "                     ⎟                                    h                ╲  \n",
       "                     ⎟                                                      ╲ \n",
       "                     ⎠                                                       ╲\n",
       "────────────────────────────────────────────────────────────────              \n",
       "                                     2                           +            \n",
       "        ⎛  n                        ⎞                                        ╱\n",
       "        ⎜ ____                      ⎟                                       ╱ \n",
       "        ⎜ ╲                         ⎟                                      ╱  \n",
       "        ⎜  ╲    ⎛r[a] - r[b]⎞       ⎟                                     ╱   \n",
       "        ⎜   ╲  W⎜───────────⎟⋅\\nu[b]⎟                                    ╱    \n",
       "        ⎜   ╱   ⎝     h     ⎠       ⎟                                   ╱     \n",
       "        ⎜  ╱                        ⎟                                  ╱      \n",
       "        ⎜ ╱                         ⎟                                 ╱       \n",
       "        ⎜ ‾‾‾‾                      ⎟                                ╱        \n",
       "        ⎝b = 0                      ⎠                               ╱         \n",
       "                                                                   ╱          \n",
       "                                                                   ‾‾‾‾‾‾‾‾‾‾‾\n",
       "                                                                       a = 0  \n",
       "                                                                              \n",
       "                                                                              \n",
       "                                                                              \n",
       "                                                                              \n",
       "                                                                              \n",
       "                                                                              \n",
       "                                                                              \n",
       "                                                                              \n",
       "                                                                              \n",
       "──────────────────────────────────────────────────────────────────────────────\n",
       "                                                                              \n",
       "\n",
       "                                                                              \n",
       "__                                                                            \n",
       "                                                                              \n",
       "                  ⎛ d        ⎞│                                           n   \n",
       "   -\\nu[a]⋅\\nu[c]⋅⎜───(W(ξ₁))⎟│   r[a] - r[c]⋅                           ____ \n",
       "                  ⎝dξ₁       ⎠│ξ₁=───────────                            ╲    \n",
       "                                       h      ⎛ d                  ⎞│     ╲   \n",
       "                                              ⎜───(\\varepsilon(ξ₁))⎟│      ╲  \n",
       "                                              ⎝dξ₁                 ⎠│ξ₁=   ╱  \n",
       "                                                                          ╱   \n",
       "                                                                         ╱    \n",
       "                                                                         ‾‾‾‾ \n",
       "                                                                        b = 0 \n",
       "╲  ───────────────────────────────────────────────────────────────────────────\n",
       "╱                                       n                                     \n",
       "                                       ____                                   \n",
       "                                       ╲                                      \n",
       "                                        ╲    ⎛r[a] - r[b]⎞                    \n",
       "                                         ╲  W⎜───────────⎟⋅\\nu[b]             \n",
       "                                         ╱   ⎝     h     ⎠                    \n",
       "                                        ╱                                     \n",
       "                                       ╱                                      \n",
       "                                       ‾‾‾‾                                   \n",
       "                                      b = 0                                   \n",
       "                                                                              \n",
       "                                                                              \n",
       "‾‾                                                                            \n",
       "                                                                              \n",
       "                                                                              \n",
       "                                                                              \n",
       "                                                                              \n",
       "                                                                              \n",
       "                                                                              \n",
       "                                                                              \n",
       "                                                                              \n",
       "                                                                              \n",
       "                                                                              \n",
       "──────────────────────────────────────────────────────────────────────────────\n",
       "                                                                              \n",
       "\n",
       "                                         \n",
       "                                         \n",
       "                                         \n",
       "                                         \n",
       "                                         \n",
       "                                         \n",
       " ⎛r[a] - r[b]⎞                           \n",
       "W⎜───────────⎟⋅\\nu[b]                    \n",
       " ⎝     h     ⎠                           \n",
       "                                         \n",
       "                                         \n",
       "                                         \n",
       "                                         \n",
       "──────────────────────                   \n",
       "                        for n ≥ c ∧ c ≥ 0\n",
       "                                         \n",
       "                                         \n",
       "                                         \n",
       "                                         \n",
       "                                         \n",
       "                                         \n",
       "                                         \n",
       "                                         \n",
       "                                         \n",
       "                                         \n",
       "                                         \n",
       "                                         \n",
       "                                         \n",
       "                                         \n",
       "                                         \n",
       "                                         \n",
       "                                         \n",
       "                                         \n",
       "                            otherwise    \n",
       "                                         \n",
       "                                         \n",
       "                                         \n",
       "─────────────────────────────────────────\n",
       "                                         "
      ]
     },
     "execution_count": 62,
     "metadata": {},
     "output_type": "execute_result"
    }
   ],
   "source": [
    "dL_dr = diff( L, r[c] ).expand().simplify().doit()\n",
    "dL_dr"
   ]
  },
  {
   "cell_type": "code",
   "execution_count": 67,
   "metadata": {},
   "outputs": [
    {
     "data": {
      "text/latex": [
       "$$\\frac{\\begin{cases} - \\frac{\\left(\\varepsilon{\\left (\\sum_{b=0}^{n} W{\\left (\\frac{- {r}_{b} + {r}_{c}}{h} \\right )} {\\nu}_{b} \\right )}\\right) {\\nu}_{c} \\sum_{b=0}^{n} {\\nu}_{b} \\left. \\operatorname{W_{2}}{\\left (w_{2} \\right )} \\right|_{\\substack{ \\xi_{1}=\\frac{- {r}_{b} + {r}_{c}}{h} }}}{\\left(\\sum_{b=0}^{n} W{\\left (\\frac{- {r}_{b} + {r}_{c}}{h} \\right )} {\\nu}_{b}\\right)^{2}} + \\frac{{\\nu}_{c} \\left(\\left. \\frac{d}{d \\xi_{1}} \\varepsilon{\\left (\\xi_{1} \\right )} \\right|_{\\substack{ \\xi_{1}=\\sum_{b=0}^{n} W{\\left (\\frac{- {r}_{b} + {r}_{c}}{h} \\right )} {\\nu}_{b} }}\\right) \\sum_{b=0}^{n} {\\nu}_{b} \\left. \\operatorname{W_{2}}{\\left (w_{2} \\right )} \\right|_{\\substack{ \\xi_{1}=\\frac{- {r}_{b} + {r}_{c}}{h} }}}{\\sum_{b=0}^{n} W{\\left (\\frac{- {r}_{b} + {r}_{c}}{h} \\right )} {\\nu}_{b}} + \\sum_{a=0}^{n} \\frac{\\left(\\varepsilon{\\left (\\sum_{b=0}^{n} W{\\left (\\frac{{r}_{a} - {r}_{b}}{h} \\right )} {\\nu}_{b} \\right )}\\right) {\\nu}_{a} {\\nu}_{c} \\left. \\operatorname{W_{2}}{\\left (w_{2} \\right )} \\right|_{\\substack{ \\xi_{1}=\\frac{{r}_{a} - {r}_{c}}{h} }}}{\\left(\\sum_{b=0}^{n} W{\\left (\\frac{{r}_{a} - {r}_{b}}{h} \\right )} {\\nu}_{b}\\right)^{2}} + \\sum_{a=0}^{n} - \\frac{{\\nu}_{a} {\\nu}_{c} \\left. \\operatorname{W_{2}}{\\left (w_{2} \\right )} \\right|_{\\substack{ \\xi_{1}=\\frac{{r}_{a} - {r}_{c}}{h} }} \\left. \\frac{d}{d \\xi_{1}} \\varepsilon{\\left (\\xi_{1} \\right )} \\right|_{\\substack{ \\xi_{1}=\\sum_{b=0}^{n} W{\\left (\\frac{{r}_{a} - {r}_{b}}{h} \\right )} {\\nu}_{b} }}}{\\sum_{b=0}^{n} W{\\left (\\frac{{r}_{a} - {r}_{b}}{h} \\right )} {\\nu}_{b}} & \\text{for}\\: n \\geq c \\wedge c \\geq 0 \\\\2 \\sum_{a=0}^{n} 0 & \\text{otherwise} \\end{cases}}{h}$$"
      ],
      "text/plain": [
       "⎧                                                                             \n",
       "⎪                                                                             \n",
       "⎪                                                                             \n",
       "⎪                                                                             \n",
       "⎪             ⎛  n                         ⎞          n                       \n",
       "⎪             ⎜ ____                       ⎟         ____                     \n",
       "⎪             ⎜ ╲                          ⎟         ╲                        \n",
       "⎪             ⎜  ╲    ⎛-r[b] + r[c]⎞       ⎟          ╲   \\nu[b]⋅(W₂(w₂))│   -\n",
       "⎪             ⎜   ╲  W⎜────────────⎟⋅\\nu[b]⎟           ╲                 │ξ₁=─\n",
       "⎪  \\varepsilon⎜   ╱   ⎝     h      ⎠       ⎟⋅\\nu[c]⋅   ╱                      \n",
       "⎪             ⎜  ╱                         ⎟          ╱                       \n",
       "⎪             ⎜ ╱                          ⎟         ╱                        \n",
       "⎪             ⎜ ‾‾‾‾                       ⎟         ‾‾‾‾                     \n",
       "⎪             ⎝b = 0                       ⎠        b = 0                     \n",
       "⎪- ───────────────────────────────────────────────────────────────────────────\n",
       "⎪                                                           2                 \n",
       "⎪                             ⎛  n                         ⎞                  \n",
       "⎪                             ⎜ ____                       ⎟                  \n",
       "⎨                             ⎜ ╲                          ⎟                  \n",
       "⎪                             ⎜  ╲    ⎛-r[b] + r[c]⎞       ⎟                  \n",
       "⎪                             ⎜   ╲  W⎜────────────⎟⋅\\nu[b]⎟                  \n",
       "⎪                             ⎜   ╱   ⎝     h      ⎠       ⎟                  \n",
       "⎪                             ⎜  ╱                         ⎟                  \n",
       "⎪                             ⎜ ╱                          ⎟                  \n",
       "⎪                             ⎜ ‾‾‾‾                       ⎟                  \n",
       "⎪                             ⎝b = 0                       ⎠                  \n",
       "⎪                                                                             \n",
       "⎪                                                                             \n",
       "⎪                                                                             \n",
       "⎪                                                                             \n",
       "⎪                                                                             \n",
       "⎪                                                                             \n",
       "⎪                                                                             \n",
       "⎪                                                                             \n",
       "⎪                                                                             \n",
       "⎪                                                                             \n",
       "⎩                                                                             \n",
       "──────────────────────────────────────────────────────────────────────────────\n",
       "                                                                              \n",
       "\n",
       "                                                                              \n",
       "                                                                             _\n",
       "                                                                             ╲\n",
       "                                                                              \n",
       "                                                 n                            \n",
       "              \\nu[c]⋅                           ____                       ⋅  \n",
       "                                                ╲                             \n",
       "r[b] + r[c]          ⎛ d                  ⎞│     ╲    ⎛-r[b] + r[c]⎞         ╱\n",
       "───────────          ⎜───(\\varepsilon(ξ₁))⎟│      ╲  W⎜────────────⎟⋅\\nu[b]  ‾\n",
       "    h                ⎝dξ₁                 ⎠│ξ₁=   ╱   ⎝     h      ⎠        b \n",
       "                                                 ╱                            \n",
       "                                                ╱                             \n",
       "                                                ‾‾‾‾                          \n",
       "                                               b = 0                          \n",
       "─────────── + ────────────────────────────────────────────────────────────────\n",
       "                                                    n                         \n",
       "                                                   ____                       \n",
       "                                                   ╲                          \n",
       "                                                    ╲    ⎛-r[b] + r[c]⎞       \n",
       "                                                     ╲  W⎜────────────⎟⋅\\nu[b]\n",
       "                                                     ╱   ⎝     h      ⎠       \n",
       "                                                    ╱                         \n",
       "                                                   ╱                          \n",
       "                                                   ‾‾‾‾                       \n",
       "                                                  b = 0                       \n",
       "                                                                              \n",
       "                                                                              \n",
       "                                                                              \n",
       "                                                                              \n",
       "                                                                              \n",
       "                                                                              \n",
       "                                                                              \n",
       "                                                                              \n",
       "                                                                              \n",
       "                                                                              \n",
       "                                                                              \n",
       "                                                                              \n",
       "──────────────────────────────────────────────────────────────────────────────\n",
       "                                                                              \n",
       "\n",
       "n                                           n                                 \n",
       "___                                   _____________                           \n",
       "                                      ╲                                       \n",
       "╲   \\nu[b]⋅(W₂(w₂))│   -r[b] + r[c]    ╲                       ⎛  n           \n",
       " ╲                 │ξ₁=────────────     ╲                      ⎜ ____         \n",
       " ╱                          h            ╲                     ⎜ ╲            \n",
       "╱                                         ╲                    ⎜  ╲    ⎛r[a] -\n",
       "                                           ╲                   ⎜   ╲  W⎜──────\n",
       "‾‾‾                                         ╲       \\varepsilon⎜   ╱   ⎝     h\n",
       "= 0                                          ╲                 ⎜  ╱           \n",
       "                                              ╲                ⎜ ╱            \n",
       "                                               ╲               ⎜ ‾‾‾‾         \n",
       "                                                ╲              ⎝b = 0         \n",
       "                                                 ╲  ──────────────────────────\n",
       "─────────────────────────────────── +            ╱                            \n",
       "                                                ╱                           ⎛ \n",
       "                                               ╱                            ⎜ \n",
       "                                              ╱                             ⎜ \n",
       "                                             ╱                              ⎜ \n",
       "                                            ╱                               ⎜ \n",
       "                                           ╱                                ⎜ \n",
       "                                          ╱                                 ⎜ \n",
       "                                         ╱                                  ⎜ \n",
       "                                        ╱                                   ⎜ \n",
       "                                       ╱                                    ⎝b\n",
       "                                      ╱                                       \n",
       "                                      ‾‾‾‾‾‾‾‾‾‾‾‾‾                           \n",
       "                                          a = 0                               \n",
       "                                                                              \n",
       "                                          n                                   \n",
       "                                         ___                                  \n",
       "                                         ╲                                    \n",
       "                                          ╲   0                               \n",
       "                                      2⋅  ╱                                   \n",
       "                                         ╱                                    \n",
       "                                         ‾‾‾                                  \n",
       "                                        a = 0                                 \n",
       "──────────────────────────────────────────────────────────────────────────────\n",
       "                                                   h                          \n",
       "\n",
       "                                                             n                \n",
       "                                                       _____________          \n",
       "                                                       ╲                      \n",
       "             ⎞                                          ╲                     \n",
       "             ⎟                                           ╲           -\\nu[a]⋅\\\n",
       "             ⎟                                            ╲                   \n",
       " r[b]⎞       ⎟                                             ╲                  \n",
       "─────⎟⋅\\nu[b]⎟                                              ╲                 \n",
       "     ⎠       ⎟⋅\\nu[a]⋅\\nu[c]⋅(W₂(w₂))│   r[a] - r[c]         ╲                \n",
       "             ⎟                       │ξ₁=───────────          ╲               \n",
       "             ⎟                                h                ╲              \n",
       "             ⎟                                                  ╲             \n",
       "             ⎠                                                   ╲            \n",
       "────────────────────────────────────────────────────              ╲  ─────────\n",
       "                           2                         +            ╱           \n",
       " n                        ⎞                                      ╱            \n",
       "____                      ⎟                                     ╱             \n",
       "╲                         ⎟                                    ╱              \n",
       " ╲    ⎛r[a] - r[b]⎞       ⎟                                   ╱               \n",
       "  ╲  W⎜───────────⎟⋅\\nu[b]⎟                                  ╱                \n",
       "  ╱   ⎝     h     ⎠       ⎟                                 ╱                 \n",
       " ╱                        ⎟                                ╱                  \n",
       "╱                         ⎟                               ╱                   \n",
       "‾‾‾‾                      ⎟                              ╱                    \n",
       " = 0                      ⎠                             ╱                     \n",
       "                                                       ╱                      \n",
       "                                                       ‾‾‾‾‾‾‾‾‾‾‾‾‾          \n",
       "                                                           a = 0              \n",
       "                                                                              \n",
       "                                                                              \n",
       "                                                                              \n",
       "                                                                              \n",
       "                                                                              \n",
       "                                                                              \n",
       "                                                                              \n",
       "                                                                              \n",
       "                                                                              \n",
       "──────────────────────────────────────────────────────────────────────────────\n",
       "                                                                              \n",
       "\n",
       "                                                                              \n",
       "                                                                              \n",
       "                                                                              \n",
       "                                                          n                   \n",
       "nu[c]⋅(W₂(w₂))│   r[a] - r[c]⋅                           ____                 \n",
       "              │ξ₁=───────────                            ╲                    \n",
       "                       h      ⎛ d                  ⎞│     ╲    ⎛r[a] - r[b]⎞  \n",
       "                              ⎜───(\\varepsilon(ξ₁))⎟│      ╲  W⎜───────────⎟⋅\\\n",
       "                              ⎝dξ₁                 ⎠│ξ₁=   ╱   ⎝     h     ⎠  \n",
       "                                                          ╱                   \n",
       "                                                         ╱                    \n",
       "                                                         ‾‾‾‾                 \n",
       "                                                        b = 0                 \n",
       "──────────────────────────────────────────────────────────────────────────────\n",
       "                          n                                                   \n",
       "                         ____                                                 \n",
       "                         ╲                                                    \n",
       "                          ╲    ⎛r[a] - r[b]⎞                                  \n",
       "                           ╲  W⎜───────────⎟⋅\\nu[b]                           \n",
       "                           ╱   ⎝     h     ⎠                                  \n",
       "                          ╱                                                   \n",
       "                         ╱                                                    \n",
       "                         ‾‾‾‾                                                 \n",
       "                        b = 0                                                 \n",
       "                                                                              \n",
       "                                                                              \n",
       "                                                                              \n",
       "                                                                              \n",
       "                                                                              \n",
       "                                                                              \n",
       "                                                                              \n",
       "                                                                              \n",
       "                                                                              \n",
       "                                                                              \n",
       "                                                                              \n",
       "                                                                              \n",
       "                                                                              \n",
       "──────────────────────────────────────────────────────────────────────────────\n",
       "                                                                              \n",
       "\n",
       "                         \n",
       "                         \n",
       "                         \n",
       "                         \n",
       "                         \n",
       "                         \n",
       "                         \n",
       "nu[b]                    \n",
       "                         \n",
       "                         \n",
       "                         \n",
       "                         \n",
       "                         \n",
       "──────                   \n",
       "        for n ≥ c ∧ c ≥ 0\n",
       "                         \n",
       "                         \n",
       "                         \n",
       "                         \n",
       "                         \n",
       "                         \n",
       "                         \n",
       "                         \n",
       "                         \n",
       "                         \n",
       "                         \n",
       "                         \n",
       "                         \n",
       "                         \n",
       "                         \n",
       "                         \n",
       "                         \n",
       "                         \n",
       "            otherwise    \n",
       "                         \n",
       "                         \n",
       "                         \n",
       "─────────────────────────\n",
       "                         "
      ]
     },
     "execution_count": 67,
     "metadata": {},
     "output_type": "execute_result"
    }
   ],
   "source": [
    "w2 = Wild('w_2')\n",
    "dL_dr.replace( diff( W(w), w), Function('W_2')(w2) )"
   ]
  },
  {
   "cell_type": "code",
   "execution_count": 88,
   "metadata": {},
   "outputs": [
    {
     "data": {
      "text/latex": [
       "$$\\frac{\\left(- \\delta_{a b} + 1\\right) \\left. \\frac{d}{d \\xi_{1}} W{\\left (\\xi_{1} \\right )} \\right|_{\\substack{ \\xi_{1}=\\frac{{r}_{a} - {r}_{b}}{h} }}}{h}$$"
      ],
      "text/plain": [
       "             ⎛ d        ⎞│              \n",
       "⎛- δ    + 1⎞⋅⎜───(W(ξ₁))⎟│   r[a] - r[b]\n",
       "⎝   a,b    ⎠ ⎝dξ₁       ⎠│ξ₁=───────────\n",
       "                                  h     \n",
       "────────────────────────────────────────\n",
       "                   h                    "
      ]
     },
     "execution_count": 88,
     "metadata": {},
     "output_type": "execute_result"
    }
   ],
   "source": [
    "W_ab = W((r[a]-r[b])/h)\n",
    "Wp_ab = diff( W_ab, r[a] )\n",
    "Wp_ab"
   ]
  },
  {
   "cell_type": "code",
   "execution_count": 87,
   "metadata": {},
   "outputs": [
    {
     "data": {
      "text/plain": [
       "[('__abs__',\n",
       "  <bound method Expr.__abs__ of Subs(Derivative(W(_xi_1), _xi_1), (_xi_1,), ((r[a] - r[b])/h,))>),\n",
       " ('__add__',\n",
       "  <bound method Expr.__add__ of Subs(Derivative(W(_xi_1), _xi_1), (_xi_1,), ((r[a] - r[b])/h,))>),\n",
       " ('__class__', sympy.core.function.Subs),\n",
       " ('__complex__',\n",
       "  <bound method Expr.__complex__ of Subs(Derivative(W(_xi_1), _xi_1), (_xi_1,), ((r[a] - r[b])/h,))>),\n",
       " ('__delattr__',\n",
       "  <method-wrapper '__delattr__' of Subs object at 0x7f06d9ad81d8>),\n",
       " ('__dict__', {'_expr': Derivative(W(_(r[a] - r[b])/h), _(r[a] - r[b])/h)}),\n",
       " ('__dir__', <function Subs.__dir__>),\n",
       " ('__div__',\n",
       "  <bound method Expr.__div__ of Subs(Derivative(W(_xi_1), _xi_1), (_xi_1,), ((r[a] - r[b])/h,))>),\n",
       " ('__doc__',\n",
       "  \"\\n    Represents unevaluated substitutions of an expression.\\n\\n    ``Subs(expr, x, x0)`` receives 3 arguments: an expression, a variable or\\n    list of distinct variables and a point or list of evaluation points\\n    corresponding to those variables.\\n\\n    ``Subs`` objects are generally useful to represent unevaluated derivatives\\n    calculated at a point.\\n\\n    The variables may be expressions, but they are subjected to the limitations\\n    of subs(), so it is usually a good practice to use only symbols for\\n    variables, since in that case there can be no ambiguity.\\n\\n    There's no automatic expansion - use the method .doit() to effect all\\n    possible substitutions of the object and also of objects inside the\\n    expression.\\n\\n    When evaluating derivatives at a point that is not a symbol, a Subs object\\n    is returned. One is also able to calculate derivatives of Subs objects - in\\n    this case the expression is always expanded (for the unevaluated form, use\\n    Derivative()).\\n\\n    A simple example:\\n\\n    >>> from sympy import Subs, Function, sin\\n    >>> from sympy.abc import x, y, z\\n    >>> f = Function('f')\\n    >>> e = Subs(f(x).diff(x), x, y)\\n    >>> e.subs(y, 0)\\n    Subs(Derivative(f(x), x), (x,), (0,))\\n    >>> e.subs(f, sin).doit()\\n    cos(y)\\n\\n    An example with several variables:\\n\\n    >>> Subs(f(x)*sin(y) + z, (x, y), (0, 1))\\n    Subs(z + f(x)*sin(y), (x, y), (0, 1))\\n    >>> _.doit()\\n    z + f(0)*sin(1)\\n\\n    \"),\n",
       " ('__eq__',\n",
       "  <bound method Subs.__eq__ of Subs(Derivative(W(_xi_1), _xi_1), (_xi_1,), ((r[a] - r[b])/h,))>),\n",
       " ('__float__',\n",
       "  <bound method Expr.__float__ of Subs(Derivative(W(_xi_1), _xi_1), (_xi_1,), ((r[a] - r[b])/h,))>),\n",
       " ('__floordiv__',\n",
       "  <bound method Expr.__floordiv__ of Subs(Derivative(W(_xi_1), _xi_1), (_xi_1,), ((r[a] - r[b])/h,))>),\n",
       " ('__format__', <function Subs.__format__>),\n",
       " ('__ge__',\n",
       "  <bound method Expr.__ge__ of Subs(Derivative(W(_xi_1), _xi_1), (_xi_1,), ((r[a] - r[b])/h,))>),\n",
       " ('__getattribute__',\n",
       "  <method-wrapper '__getattribute__' of Subs object at 0x7f06d9ad81d8>),\n",
       " ('__getnewargs__',\n",
       "  <bound method Basic.__getnewargs__ of Subs(Derivative(W(_xi_1), _xi_1), (_xi_1,), ((r[a] - r[b])/h,))>),\n",
       " ('__getstate__',\n",
       "  <bound method Basic.__getstate__ of Subs(Derivative(W(_xi_1), _xi_1), (_xi_1,), ((r[a] - r[b])/h,))>),\n",
       " ('__gt__',\n",
       "  <bound method Expr.__gt__ of Subs(Derivative(W(_xi_1), _xi_1), (_xi_1,), ((r[a] - r[b])/h,))>),\n",
       " ('__hash__',\n",
       "  <bound method Subs.__hash__ of Subs(Derivative(W(_xi_1), _xi_1), (_xi_1,), ((r[a] - r[b])/h,))>),\n",
       " ('__init__', <method-wrapper '__init__' of Subs object at 0x7f06d9ad81d8>),\n",
       " ('__init_subclass__', <function Subs.__init_subclass__>),\n",
       " ('__int__',\n",
       "  <bound method Expr.__int__ of Subs(Derivative(W(_xi_1), _xi_1), (_xi_1,), ((r[a] - r[b])/h,))>),\n",
       " ('__le__',\n",
       "  <bound method Expr.__le__ of Subs(Derivative(W(_xi_1), _xi_1), (_xi_1,), ((r[a] - r[b])/h,))>),\n",
       " ('__long__',\n",
       "  <bound method Expr.__int__ of Subs(Derivative(W(_xi_1), _xi_1), (_xi_1,), ((r[a] - r[b])/h,))>),\n",
       " ('__lt__',\n",
       "  <bound method Expr.__lt__ of Subs(Derivative(W(_xi_1), _xi_1), (_xi_1,), ((r[a] - r[b])/h,))>),\n",
       " ('__mod__',\n",
       "  <bound method Expr.__mod__ of Subs(Derivative(W(_xi_1), _xi_1), (_xi_1,), ((r[a] - r[b])/h,))>),\n",
       " ('__module__', 'sympy.core.function'),\n",
       " ('__mul__',\n",
       "  <bound method Expr.__mul__ of Subs(Derivative(W(_xi_1), _xi_1), (_xi_1,), ((r[a] - r[b])/h,))>),\n",
       " ('__ne__',\n",
       "  <bound method Subs.__ne__ of Subs(Derivative(W(_xi_1), _xi_1), (_xi_1,), ((r[a] - r[b])/h,))>),\n",
       " ('__neg__',\n",
       "  <bound method Expr.__neg__ of Subs(Derivative(W(_xi_1), _xi_1), (_xi_1,), ((r[a] - r[b])/h,))>),\n",
       " ('__new__', <function sympy.core.function.Subs.__new__>),\n",
       " ('__pos__',\n",
       "  <bound method Expr.__pos__ of Subs(Derivative(W(_xi_1), _xi_1), (_xi_1,), ((r[a] - r[b])/h,))>),\n",
       " ('__pow__',\n",
       "  <bound method Expr.__pow__ of Subs(Derivative(W(_xi_1), _xi_1), (_xi_1,), ((r[a] - r[b])/h,))>),\n",
       " ('__radd__',\n",
       "  <bound method Expr.__radd__ of Subs(Derivative(W(_xi_1), _xi_1), (_xi_1,), ((r[a] - r[b])/h,))>),\n",
       " ('__rdiv__',\n",
       "  <bound method Expr.__rdiv__ of Subs(Derivative(W(_xi_1), _xi_1), (_xi_1,), ((r[a] - r[b])/h,))>),\n",
       " ('__reduce__', <function Subs.__reduce__>),\n",
       " ('__reduce_ex__',\n",
       "  <bound method Basic.__reduce_ex__ of Subs(Derivative(W(_xi_1), _xi_1), (_xi_1,), ((r[a] - r[b])/h,))>),\n",
       " ('__repr__',\n",
       "  <bound method Basic.__repr__ of Subs(Derivative(W(_xi_1), _xi_1), (_xi_1,), ((r[a] - r[b])/h,))>),\n",
       " ('__rfloordiv__',\n",
       "  <bound method Expr.__rfloordiv__ of Subs(Derivative(W(_xi_1), _xi_1), (_xi_1,), ((r[a] - r[b])/h,))>),\n",
       " ('__rmod__',\n",
       "  <bound method Expr.__rmod__ of Subs(Derivative(W(_xi_1), _xi_1), (_xi_1,), ((r[a] - r[b])/h,))>),\n",
       " ('__rmul__',\n",
       "  <bound method Expr.__rmul__ of Subs(Derivative(W(_xi_1), _xi_1), (_xi_1,), ((r[a] - r[b])/h,))>),\n",
       " ('__rpow__',\n",
       "  <bound method Expr.__rpow__ of Subs(Derivative(W(_xi_1), _xi_1), (_xi_1,), ((r[a] - r[b])/h,))>),\n",
       " ('__rsub__',\n",
       "  <bound method Expr.__rsub__ of Subs(Derivative(W(_xi_1), _xi_1), (_xi_1,), ((r[a] - r[b])/h,))>),\n",
       " ('__rtruediv__',\n",
       "  <bound method Expr.__rdiv__ of Subs(Derivative(W(_xi_1), _xi_1), (_xi_1,), ((r[a] - r[b])/h,))>),\n",
       " ('__setattr__',\n",
       "  <method-wrapper '__setattr__' of Subs object at 0x7f06d9ad81d8>),\n",
       " ('__setstate__',\n",
       "  <bound method Basic.__setstate__ of Subs(Derivative(W(_xi_1), _xi_1), (_xi_1,), ((r[a] - r[b])/h,))>),\n",
       " ('__sizeof__', <function Subs.__sizeof__>),\n",
       " ('__slots__', []),\n",
       " ('__str__',\n",
       "  <bound method Basic.__str__ of Subs(Derivative(W(_xi_1), _xi_1), (_xi_1,), ((r[a] - r[b])/h,))>),\n",
       " ('__sub__',\n",
       "  <bound method Expr.__sub__ of Subs(Derivative(W(_xi_1), _xi_1), (_xi_1,), ((r[a] - r[b])/h,))>),\n",
       " ('__subclasshook__', <function Subs.__subclasshook__>),\n",
       " ('__truediv__',\n",
       "  <bound method Expr.__div__ of Subs(Derivative(W(_xi_1), _xi_1), (_xi_1,), ((r[a] - r[b])/h,))>),\n",
       " ('__trunc__',\n",
       "  <bound method Expr.__trunc__ of Subs(Derivative(W(_xi_1), _xi_1), (_xi_1,), ((r[a] - r[b])/h,))>),\n",
       " ('__weakref__', None),\n",
       " ('_accept_eval_derivative',\n",
       "  <bound method Basic._accept_eval_derivative of Subs(Derivative(W(_xi_1), _xi_1), (_xi_1,), ((r[a] - r[b])/h,))>),\n",
       " ('_args', (Derivative(W(_xi_1), _xi_1), (_xi_1,), ((r[a] - r[b])/h,))),\n",
       " ('_assumptions',\n",
       "  {'algebraic': None,\n",
       "   'antihermitian': None,\n",
       "   'commutative': True,\n",
       "   'complex': None,\n",
       "   'composite': None,\n",
       "   'even': None,\n",
       "   'finite': None,\n",
       "   'hermitian': None,\n",
       "   'imaginary': None,\n",
       "   'infinite': None,\n",
       "   'integer': None,\n",
       "   'irrational': None,\n",
       "   'negative': None,\n",
       "   'noninteger': None,\n",
       "   'nonnegative': None,\n",
       "   'nonpositive': None,\n",
       "   'nonzero': None,\n",
       "   'odd': None,\n",
       "   'polar': None,\n",
       "   'positive': None,\n",
       "   'prime': None,\n",
       "   'rational': None,\n",
       "   'real': None,\n",
       "   'transcendental': None,\n",
       "   'zero': None}),\n",
       " ('_compare_pretty', <function sympy.core.basic.Basic._compare_pretty>),\n",
       " ('_constructor_postprocessor_mapping', {}),\n",
       " ('_diff_wrt', False),\n",
       " ('_eval_adjoint',\n",
       "  <bound method Expr._eval_adjoint of Subs(Derivative(W(_xi_1), _xi_1), (_xi_1,), ((r[a] - r[b])/h,))>),\n",
       " ('_eval_as_leading_term',\n",
       "  <bound method Subs._eval_as_leading_term of Subs(Derivative(W(_xi_1), _xi_1), (_xi_1,), ((r[a] - r[b])/h,))>),\n",
       " ('_eval_conjugate',\n",
       "  <bound method Expr._eval_conjugate of Subs(Derivative(W(_xi_1), _xi_1), (_xi_1,), ((r[a] - r[b])/h,))>),\n",
       " ('_eval_derivative',\n",
       "  <bound method Subs._eval_derivative of Subs(Derivative(W(_xi_1), _xi_1), (_xi_1,), ((r[a] - r[b])/h,))>),\n",
       " ('_eval_derivative_n_times',\n",
       "  <bound method Basic._eval_derivative_n_times of Subs(Derivative(W(_xi_1), _xi_1), (_xi_1,), ((r[a] - r[b])/h,))>),\n",
       " ('_eval_evalf',\n",
       "  <bound method EvalfMixin._eval_evalf of Subs(Derivative(W(_xi_1), _xi_1), (_xi_1,), ((r[a] - r[b])/h,))>),\n",
       " ('_eval_expand_complex',\n",
       "  <bound method Expr._eval_expand_complex of Subs(Derivative(W(_xi_1), _xi_1), (_xi_1,), ((r[a] - r[b])/h,))>),\n",
       " ('_eval_interval',\n",
       "  <bound method Expr._eval_interval of Subs(Derivative(W(_xi_1), _xi_1), (_xi_1,), ((r[a] - r[b])/h,))>),\n",
       " ('_eval_is_algebraic_expr',\n",
       "  <bound method Expr._eval_is_algebraic_expr of Subs(Derivative(W(_xi_1), _xi_1), (_xi_1,), ((r[a] - r[b])/h,))>),\n",
       " ('_eval_is_commutative',\n",
       "  <bound method Subs._eval_is_commutative of Subs(Derivative(W(_xi_1), _xi_1), (_xi_1,), ((r[a] - r[b])/h,))>),\n",
       " ('_eval_is_negative',\n",
       "  <bound method Expr._eval_is_negative of Subs(Derivative(W(_xi_1), _xi_1), (_xi_1,), ((r[a] - r[b])/h,))>),\n",
       " ('_eval_is_polynomial',\n",
       "  <bound method Expr._eval_is_polynomial of Subs(Derivative(W(_xi_1), _xi_1), (_xi_1,), ((r[a] - r[b])/h,))>),\n",
       " ('_eval_is_positive',\n",
       "  <bound method Expr._eval_is_positive of Subs(Derivative(W(_xi_1), _xi_1), (_xi_1,), ((r[a] - r[b])/h,))>),\n",
       " ('_eval_is_rational_function',\n",
       "  <bound method Expr._eval_is_rational_function of Subs(Derivative(W(_xi_1), _xi_1), (_xi_1,), ((r[a] - r[b])/h,))>),\n",
       " ('_eval_lseries',\n",
       "  <bound method Expr._eval_lseries of Subs(Derivative(W(_xi_1), _xi_1), (_xi_1,), ((r[a] - r[b])/h,))>),\n",
       " ('_eval_nseries',\n",
       "  <bound method Subs._eval_nseries of Subs(Derivative(W(_xi_1), _xi_1), (_xi_1,), ((r[a] - r[b])/h,))>),\n",
       " ('_eval_power',\n",
       "  <bound method Expr._eval_power of Subs(Derivative(W(_xi_1), _xi_1), (_xi_1,), ((r[a] - r[b])/h,))>),\n",
       " ('_eval_rewrite',\n",
       "  <bound method Basic._eval_rewrite of Subs(Derivative(W(_xi_1), _xi_1), (_xi_1,), ((r[a] - r[b])/h,))>),\n",
       " ('_eval_subs',\n",
       "  <bound method Subs._eval_subs of Subs(Derivative(W(_xi_1), _xi_1), (_xi_1,), ((r[a] - r[b])/h,))>),\n",
       " ('_eval_transpose',\n",
       "  <bound method Expr._eval_transpose of Subs(Derivative(W(_xi_1), _xi_1), (_xi_1,), ((r[a] - r[b])/h,))>),\n",
       " ('_evalf',\n",
       "  <bound method EvalfMixin._evalf of Subs(Derivative(W(_xi_1), _xi_1), (_xi_1,), ((r[a] - r[b])/h,))>),\n",
       " ('_exec_constructor_postprocessors',\n",
       "  <bound method Basic._exec_constructor_postprocessors of <class 'sympy.core.function.Subs'>>),\n",
       " ('_expand_hint', <function sympy.core.expr.Expr._expand_hint>),\n",
       " ('_explicit_class_assumptions', {}),\n",
       " ('_expr', Derivative(W(_(r[a] - r[b])/h), _(r[a] - r[b])/h)),\n",
       " ('_from_mpmath', <function sympy.core.expr.Expr._from_mpmath>),\n",
       " ('_has',\n",
       "  <bound method Subs._has of Subs(Derivative(W(_xi_1), _xi_1), (_xi_1,), ((r[a] - r[b])/h,))>),\n",
       " ('_has_matcher',\n",
       "  <bound method Basic._has_matcher of Subs(Derivative(W(_xi_1), _xi_1), (_xi_1,), ((r[a] - r[b])/h,))>),\n",
       " ('_hashable_content',\n",
       "  <bound method Subs._hashable_content of Subs(Derivative(W(_xi_1), _xi_1), (_xi_1,), ((r[a] - r[b])/h,))>),\n",
       " ('_mhash', -3562233445185494898),\n",
       " ('_op_priority', 10.0),\n",
       " ('_parse_order',\n",
       "  <bound method Expr._parse_order of <class 'sympy.core.function.Subs'>>),\n",
       " ('_pow',\n",
       "  <bound method Expr._pow of Subs(Derivative(W(_xi_1), _xi_1), (_xi_1,), ((r[a] - r[b])/h,))>),\n",
       " ('_prop_handler',\n",
       "  {'commutative': <function sympy.core.function.Subs._eval_is_commutative>,\n",
       "   'negative': <function sympy.core.expr.Expr._eval_is_negative>,\n",
       "   'positive': <function sympy.core.expr.Expr._eval_is_positive>}),\n",
       " ('_random',\n",
       "  <bound method Expr._random of Subs(Derivative(W(_xi_1), _xi_1), (_xi_1,), ((r[a] - r[b])/h,))>),\n",
       " ('_recursive_call', <function sympy.core.basic.Basic._recursive_call>),\n",
       " ('_sorted_args', (Derivative(W(_xi_1), _xi_1), (_xi_1,), ((r[a] - r[b])/h,))),\n",
       " ('_subs',\n",
       "  <bound method Basic._subs of Subs(Derivative(W(_xi_1), _xi_1), (_xi_1,), ((r[a] - r[b])/h,))>),\n",
       " ('_to_mpmath',\n",
       "  <bound method EvalfMixin._to_mpmath of Subs(Derivative(W(_xi_1), _xi_1), (_xi_1,), ((r[a] - r[b])/h,))>),\n",
       " ('_visit_eval_derivative_array',\n",
       "  <bound method Basic._visit_eval_derivative_array of Subs(Derivative(W(_xi_1), _xi_1), (_xi_1,), ((r[a] - r[b])/h,))>),\n",
       " ('_visit_eval_derivative_scalar',\n",
       "  <bound method Basic._visit_eval_derivative_scalar of Subs(Derivative(W(_xi_1), _xi_1), (_xi_1,), ((r[a] - r[b])/h,))>),\n",
       " ('_xreplace',\n",
       "  <bound method Basic._xreplace of Subs(Derivative(W(_xi_1), _xi_1), (_xi_1,), ((r[a] - r[b])/h,))>),\n",
       " ('adjoint',\n",
       "  <bound method Expr.adjoint of Subs(Derivative(W(_xi_1), _xi_1), (_xi_1,), ((r[a] - r[b])/h,))>),\n",
       " ('apart',\n",
       "  <bound method Expr.apart of Subs(Derivative(W(_xi_1), _xi_1), (_xi_1,), ((r[a] - r[b])/h,))>),\n",
       " ('args', (Derivative(W(_xi_1), _xi_1), (_xi_1,), ((r[a] - r[b])/h,))),\n",
       " ('args_cnc',\n",
       "  <bound method Expr.args_cnc of Subs(Derivative(W(_xi_1), _xi_1), (_xi_1,), ((r[a] - r[b])/h,))>),\n",
       " ('as_base_exp',\n",
       "  <bound method Expr.as_base_exp of Subs(Derivative(W(_xi_1), _xi_1), (_xi_1,), ((r[a] - r[b])/h,))>),\n",
       " ('as_coeff_Add',\n",
       "  <bound method Expr.as_coeff_Add of Subs(Derivative(W(_xi_1), _xi_1), (_xi_1,), ((r[a] - r[b])/h,))>),\n",
       " ('as_coeff_Mul',\n",
       "  <bound method Expr.as_coeff_Mul of Subs(Derivative(W(_xi_1), _xi_1), (_xi_1,), ((r[a] - r[b])/h,))>),\n",
       " ('as_coeff_add',\n",
       "  <bound method Expr.as_coeff_add of Subs(Derivative(W(_xi_1), _xi_1), (_xi_1,), ((r[a] - r[b])/h,))>),\n",
       " ('as_coeff_exponent',\n",
       "  <bound method Expr.as_coeff_exponent of Subs(Derivative(W(_xi_1), _xi_1), (_xi_1,), ((r[a] - r[b])/h,))>),\n",
       " ('as_coeff_mul',\n",
       "  <bound method Expr.as_coeff_mul of Subs(Derivative(W(_xi_1), _xi_1), (_xi_1,), ((r[a] - r[b])/h,))>),\n",
       " ('as_coefficient',\n",
       "  <bound method Expr.as_coefficient of Subs(Derivative(W(_xi_1), _xi_1), (_xi_1,), ((r[a] - r[b])/h,))>),\n",
       " ('as_coefficients_dict',\n",
       "  <bound method Expr.as_coefficients_dict of Subs(Derivative(W(_xi_1), _xi_1), (_xi_1,), ((r[a] - r[b])/h,))>),\n",
       " ('as_content_primitive',\n",
       "  <bound method Expr.as_content_primitive of Subs(Derivative(W(_xi_1), _xi_1), (_xi_1,), ((r[a] - r[b])/h,))>),\n",
       " ('as_expr',\n",
       "  <bound method Expr.as_expr of Subs(Derivative(W(_xi_1), _xi_1), (_xi_1,), ((r[a] - r[b])/h,))>),\n",
       " ('as_independent',\n",
       "  <bound method Expr.as_independent of Subs(Derivative(W(_xi_1), _xi_1), (_xi_1,), ((r[a] - r[b])/h,))>),\n",
       " ('as_leading_term',\n",
       "  <bound method Expr.as_leading_term of Subs(Derivative(W(_xi_1), _xi_1), (_xi_1,), ((r[a] - r[b])/h,))>),\n",
       " ('as_numer_denom',\n",
       "  <bound method Expr.as_numer_denom of Subs(Derivative(W(_xi_1), _xi_1), (_xi_1,), ((r[a] - r[b])/h,))>),\n",
       " ('as_ordered_factors',\n",
       "  <bound method Expr.as_ordered_factors of Subs(Derivative(W(_xi_1), _xi_1), (_xi_1,), ((r[a] - r[b])/h,))>),\n",
       " ('as_ordered_terms',\n",
       "  <bound method Expr.as_ordered_terms of Subs(Derivative(W(_xi_1), _xi_1), (_xi_1,), ((r[a] - r[b])/h,))>),\n",
       " ('as_poly',\n",
       "  <bound method Basic.as_poly of Subs(Derivative(W(_xi_1), _xi_1), (_xi_1,), ((r[a] - r[b])/h,))>),\n",
       " ('as_powers_dict',\n",
       "  <bound method Expr.as_powers_dict of Subs(Derivative(W(_xi_1), _xi_1), (_xi_1,), ((r[a] - r[b])/h,))>),\n",
       " ('as_real_imag',\n",
       "  <bound method Expr.as_real_imag of Subs(Derivative(W(_xi_1), _xi_1), (_xi_1,), ((r[a] - r[b])/h,))>),\n",
       " ('as_terms',\n",
       "  <bound method Expr.as_terms of Subs(Derivative(W(_xi_1), _xi_1), (_xi_1,), ((r[a] - r[b])/h,))>),\n",
       " ('assumptions0', {}),\n",
       " ('atoms',\n",
       "  <bound method Basic.atoms of Subs(Derivative(W(_xi_1), _xi_1), (_xi_1,), ((r[a] - r[b])/h,))>),\n",
       " ('cancel',\n",
       "  <bound method Expr.cancel of Subs(Derivative(W(_xi_1), _xi_1), (_xi_1,), ((r[a] - r[b])/h,))>),\n",
       " ('canonical_variables', {_xi_1: 0_}),\n",
       " ('class_key',\n",
       "  <bound method Basic.class_key of <class 'sympy.core.function.Subs'>>),\n",
       " ('coeff',\n",
       "  <bound method Expr.coeff of Subs(Derivative(W(_xi_1), _xi_1), (_xi_1,), ((r[a] - r[b])/h,))>),\n",
       " ('collect',\n",
       "  <bound method Expr.collect of Subs(Derivative(W(_xi_1), _xi_1), (_xi_1,), ((r[a] - r[b])/h,))>),\n",
       " ('combsimp',\n",
       "  <bound method Expr.combsimp of Subs(Derivative(W(_xi_1), _xi_1), (_xi_1,), ((r[a] - r[b])/h,))>),\n",
       " ('compare',\n",
       "  <bound method Basic.compare of Subs(Derivative(W(_xi_1), _xi_1), (_xi_1,), ((r[a] - r[b])/h,))>),\n",
       " ('compute_leading_term',\n",
       "  <bound method Expr.compute_leading_term of Subs(Derivative(W(_xi_1), _xi_1), (_xi_1,), ((r[a] - r[b])/h,))>),\n",
       " ('conjugate',\n",
       "  <bound method Expr.conjugate of Subs(Derivative(W(_xi_1), _xi_1), (_xi_1,), ((r[a] - r[b])/h,))>),\n",
       " ('copy',\n",
       "  <bound method Basic.copy of Subs(Derivative(W(_xi_1), _xi_1), (_xi_1,), ((r[a] - r[b])/h,))>),\n",
       " ('could_extract_minus_sign',\n",
       "  <bound method Expr.could_extract_minus_sign of Subs(Derivative(W(_xi_1), _xi_1), (_xi_1,), ((r[a] - r[b])/h,))>),\n",
       " ('count',\n",
       "  <bound method Basic.count of Subs(Derivative(W(_xi_1), _xi_1), (_xi_1,), ((r[a] - r[b])/h,))>),\n",
       " ('count_ops',\n",
       "  <bound method Expr.count_ops of Subs(Derivative(W(_xi_1), _xi_1), (_xi_1,), ((r[a] - r[b])/h,))>),\n",
       " ('default_assumptions', {}),\n",
       " ('diff',\n",
       "  <bound method Expr.diff of Subs(Derivative(W(_xi_1), _xi_1), (_xi_1,), ((r[a] - r[b])/h,))>),\n",
       " ('doit',\n",
       "  <bound method Subs.doit of Subs(Derivative(W(_xi_1), _xi_1), (_xi_1,), ((r[a] - r[b])/h,))>),\n",
       " ('dummy_eq',\n",
       "  <bound method Basic.dummy_eq of Subs(Derivative(W(_xi_1), _xi_1), (_xi_1,), ((r[a] - r[b])/h,))>),\n",
       " ('equals',\n",
       "  <bound method Expr.equals of Subs(Derivative(W(_xi_1), _xi_1), (_xi_1,), ((r[a] - r[b])/h,))>),\n",
       " ('evalf',\n",
       "  <bound method Subs.evalf of Subs(Derivative(W(_xi_1), _xi_1), (_xi_1,), ((r[a] - r[b])/h,))>),\n",
       " ('expand',\n",
       "  <bound method Expr.expand of Subs(Derivative(W(_xi_1), _xi_1), (_xi_1,), ((r[a] - r[b])/h,))>),\n",
       " ('expr', Derivative(W(_xi_1), _xi_1)),\n",
       " ('expr_free_symbols', set()),\n",
       " ('extract_additively',\n",
       "  <bound method Expr.extract_additively of Subs(Derivative(W(_xi_1), _xi_1), (_xi_1,), ((r[a] - r[b])/h,))>),\n",
       " ('extract_branch_factor',\n",
       "  <bound method Expr.extract_branch_factor of Subs(Derivative(W(_xi_1), _xi_1), (_xi_1,), ((r[a] - r[b])/h,))>),\n",
       " ('extract_multiplicatively',\n",
       "  <bound method Expr.extract_multiplicatively of Subs(Derivative(W(_xi_1), _xi_1), (_xi_1,), ((r[a] - r[b])/h,))>),\n",
       " ('factor',\n",
       "  <bound method Expr.factor of Subs(Derivative(W(_xi_1), _xi_1), (_xi_1,), ((r[a] - r[b])/h,))>),\n",
       " ('find',\n",
       "  <bound method Basic.find of Subs(Derivative(W(_xi_1), _xi_1), (_xi_1,), ((r[a] - r[b])/h,))>),\n",
       " ('fourier_series',\n",
       "  <bound method Expr.fourier_series of Subs(Derivative(W(_xi_1), _xi_1), (_xi_1,), ((r[a] - r[b])/h,))>),\n",
       " ('fps',\n",
       "  <bound method Expr.fps of Subs(Derivative(W(_xi_1), _xi_1), (_xi_1,), ((r[a] - r[b])/h,))>),\n",
       " ('free_symbols', {a, b, h, r, r[a], r[b]}),\n",
       " ('fromiter',\n",
       "  <bound method Basic.fromiter of <class 'sympy.core.function.Subs'>>),\n",
       " ('func', sympy.core.function.Subs),\n",
       " ('gammasimp',\n",
       "  <bound method Expr.gammasimp of Subs(Derivative(W(_xi_1), _xi_1), (_xi_1,), ((r[a] - r[b])/h,))>),\n",
       " ('getO',\n",
       "  <bound method Expr.getO of Subs(Derivative(W(_xi_1), _xi_1), (_xi_1,), ((r[a] - r[b])/h,))>),\n",
       " ('getn',\n",
       "  <bound method Expr.getn of Subs(Derivative(W(_xi_1), _xi_1), (_xi_1,), ((r[a] - r[b])/h,))>),\n",
       " ('has',\n",
       "  <bound method Basic.has of Subs(Derivative(W(_xi_1), _xi_1), (_xi_1,), ((r[a] - r[b])/h,))>),\n",
       " ('integrate',\n",
       "  <bound method Expr.integrate of Subs(Derivative(W(_xi_1), _xi_1), (_xi_1,), ((r[a] - r[b])/h,))>),\n",
       " ('invert',\n",
       "  <bound method Expr.invert of Subs(Derivative(W(_xi_1), _xi_1), (_xi_1,), ((r[a] - r[b])/h,))>),\n",
       " ('is_Add', False),\n",
       " ('is_AlgebraicNumber', False),\n",
       " ('is_Atom', False),\n",
       " ('is_Boolean', False),\n",
       " ('is_Derivative', False),\n",
       " ('is_Dummy', False),\n",
       " ('is_Equality', False),\n",
       " ('is_Float', False),\n",
       " ('is_Function', False),\n",
       " ('is_Indexed', False),\n",
       " ('is_Integer', False),\n",
       " ('is_MatAdd', False),\n",
       " ('is_MatMul', False),\n",
       " ('is_Matrix', False),\n",
       " ('is_Mul', False),\n",
       " ('is_Not', False),\n",
       " ('is_Number', False),\n",
       " ('is_NumberSymbol', False),\n",
       " ('is_Order', False),\n",
       " ('is_Piecewise', False),\n",
       " ('is_Point', False),\n",
       " ('is_Poly', False),\n",
       " ('is_Pow', False),\n",
       " ('is_Rational', False),\n",
       " ('is_Relational', False),\n",
       " ('is_Symbol', False),\n",
       " ('is_Vector', False),\n",
       " ('is_Wild', False),\n",
       " ('is_algebraic', None),\n",
       " ('is_algebraic_expr',\n",
       "  <bound method Expr.is_algebraic_expr of Subs(Derivative(W(_xi_1), _xi_1), (_xi_1,), ((r[a] - r[b])/h,))>),\n",
       " ('is_antihermitian', None),\n",
       " ('is_commutative', True),\n",
       " ('is_comparable', False),\n",
       " ('is_complex', None),\n",
       " ('is_composite', None),\n",
       " ('is_constant',\n",
       "  <bound method Expr.is_constant of Subs(Derivative(W(_xi_1), _xi_1), (_xi_1,), ((r[a] - r[b])/h,))>),\n",
       " ('is_even', None),\n",
       " ('is_finite', None),\n",
       " ('is_hermitian', None),\n",
       " ('is_hypergeometric',\n",
       "  <bound method Basic.is_hypergeometric of Subs(Derivative(W(_xi_1), _xi_1), (_xi_1,), ((r[a] - r[b])/h,))>),\n",
       " ('is_imaginary', None),\n",
       " ('is_infinite', None),\n",
       " ('is_integer', None),\n",
       " ('is_irrational', None),\n",
       " ('is_negative', None),\n",
       " ('is_noninteger', None),\n",
       " ('is_nonnegative', None),\n",
       " ('is_nonpositive', None),\n",
       " ('is_nonzero', None),\n",
       " ('is_number', False),\n",
       " ('is_odd', None),\n",
       " ('is_polar', None),\n",
       " ('is_polynomial',\n",
       "  <bound method Expr.is_polynomial of Subs(Derivative(W(_xi_1), _xi_1), (_xi_1,), ((r[a] - r[b])/h,))>),\n",
       " ('is_positive', None),\n",
       " ('is_prime', None),\n",
       " ('is_rational', None),\n",
       " ('is_rational_function',\n",
       "  <bound method Expr.is_rational_function of Subs(Derivative(W(_xi_1), _xi_1), (_xi_1,), ((r[a] - r[b])/h,))>),\n",
       " ('is_real', None),\n",
       " ('is_symbol', False),\n",
       " ('is_transcendental', None),\n",
       " ('is_zero', None),\n",
       " ('leadterm',\n",
       "  <bound method Expr.leadterm of Subs(Derivative(W(_xi_1), _xi_1), (_xi_1,), ((r[a] - r[b])/h,))>),\n",
       " ('limit',\n",
       "  <bound method Expr.limit of Subs(Derivative(W(_xi_1), _xi_1), (_xi_1,), ((r[a] - r[b])/h,))>),\n",
       " ('lseries',\n",
       "  <bound method Expr.lseries of Subs(Derivative(W(_xi_1), _xi_1), (_xi_1,), ((r[a] - r[b])/h,))>),\n",
       " ('match',\n",
       "  <bound method Basic.match of Subs(Derivative(W(_xi_1), _xi_1), (_xi_1,), ((r[a] - r[b])/h,))>),\n",
       " ('matches',\n",
       "  <bound method Basic.matches of Subs(Derivative(W(_xi_1), _xi_1), (_xi_1,), ((r[a] - r[b])/h,))>),\n",
       " ('n',\n",
       "  <bound method Subs.evalf of Subs(Derivative(W(_xi_1), _xi_1), (_xi_1,), ((r[a] - r[b])/h,))>),\n",
       " ('normal',\n",
       "  <bound method Expr.normal of Subs(Derivative(W(_xi_1), _xi_1), (_xi_1,), ((r[a] - r[b])/h,))>),\n",
       " ('nseries',\n",
       "  <bound method Expr.nseries of Subs(Derivative(W(_xi_1), _xi_1), (_xi_1,), ((r[a] - r[b])/h,))>),\n",
       " ('nsimplify',\n",
       "  <bound method Expr.nsimplify of Subs(Derivative(W(_xi_1), _xi_1), (_xi_1,), ((r[a] - r[b])/h,))>),\n",
       " ('point', ((r[a] - r[b])/h,)),\n",
       " ('powsimp',\n",
       "  <bound method Expr.powsimp of Subs(Derivative(W(_xi_1), _xi_1), (_xi_1,), ((r[a] - r[b])/h,))>),\n",
       " ('primitive',\n",
       "  <bound method Expr.primitive of Subs(Derivative(W(_xi_1), _xi_1), (_xi_1,), ((r[a] - r[b])/h,))>),\n",
       " ('radsimp',\n",
       "  <bound method Expr.radsimp of Subs(Derivative(W(_xi_1), _xi_1), (_xi_1,), ((r[a] - r[b])/h,))>),\n",
       " ('ratsimp',\n",
       "  <bound method Expr.ratsimp of Subs(Derivative(W(_xi_1), _xi_1), (_xi_1,), ((r[a] - r[b])/h,))>),\n",
       " ('rcall',\n",
       "  <bound method Basic.rcall of Subs(Derivative(W(_xi_1), _xi_1), (_xi_1,), ((r[a] - r[b])/h,))>),\n",
       " ('refine',\n",
       "  <bound method Expr.refine of Subs(Derivative(W(_xi_1), _xi_1), (_xi_1,), ((r[a] - r[b])/h,))>),\n",
       " ('removeO',\n",
       "  <bound method Expr.removeO of Subs(Derivative(W(_xi_1), _xi_1), (_xi_1,), ((r[a] - r[b])/h,))>),\n",
       " ('replace',\n",
       "  <bound method Basic.replace of Subs(Derivative(W(_xi_1), _xi_1), (_xi_1,), ((r[a] - r[b])/h,))>),\n",
       " ('rewrite',\n",
       "  <bound method Basic.rewrite of Subs(Derivative(W(_xi_1), _xi_1), (_xi_1,), ((r[a] - r[b])/h,))>),\n",
       " ('round',\n",
       "  <bound method Expr.round of Subs(Derivative(W(_xi_1), _xi_1), (_xi_1,), ((r[a] - r[b])/h,))>),\n",
       " ('separate',\n",
       "  <bound method Expr.separate of Subs(Derivative(W(_xi_1), _xi_1), (_xi_1,), ((r[a] - r[b])/h,))>),\n",
       " ('series',\n",
       "  <bound method Expr.series of Subs(Derivative(W(_xi_1), _xi_1), (_xi_1,), ((r[a] - r[b])/h,))>),\n",
       " ('simplify',\n",
       "  <bound method Expr.simplify of Subs(Derivative(W(_xi_1), _xi_1), (_xi_1,), ((r[a] - r[b])/h,))>),\n",
       " ('sort_key',\n",
       "  <bound method Expr.sort_key of Subs(Derivative(W(_xi_1), _xi_1), (_xi_1,), ((r[a] - r[b])/h,))>),\n",
       " ('subs',\n",
       "  <bound method Basic.subs of Subs(Derivative(W(_xi_1), _xi_1), (_xi_1,), ((r[a] - r[b])/h,))>),\n",
       " ('taylor_term',\n",
       "  <bound method Expr.taylor_term of Subs(Derivative(W(_xi_1), _xi_1), (_xi_1,), ((r[a] - r[b])/h,))>),\n",
       " ('together',\n",
       "  <bound method Expr.together of Subs(Derivative(W(_xi_1), _xi_1), (_xi_1,), ((r[a] - r[b])/h,))>),\n",
       " ('transpose',\n",
       "  <bound method Expr.transpose of Subs(Derivative(W(_xi_1), _xi_1), (_xi_1,), ((r[a] - r[b])/h,))>),\n",
       " ('trigsimp',\n",
       "  <bound method Expr.trigsimp of Subs(Derivative(W(_xi_1), _xi_1), (_xi_1,), ((r[a] - r[b])/h,))>),\n",
       " ('variables', (_xi_1,)),\n",
       " ('xreplace',\n",
       "  <bound method Basic.xreplace of Subs(Derivative(W(_xi_1), _xi_1), (_xi_1,), ((r[a] - r[b])/h,))>)]"
      ]
     },
     "execution_count": 87,
     "metadata": {},
     "output_type": "execute_result"
    }
   ],
   "source": [
    "import inspect\n",
    "inspect.getmembers( Wp_ab.args[2] )"
   ]
  },
  {
   "cell_type": "code",
   "execution_count": 95,
   "metadata": {},
   "outputs": [
    {
     "data": {
      "text/latex": [
       "$$\\frac{\\left(- \\delta_{a b} + 1\\right) \\operatorname{W'}{\\left (\\frac{{r}_{a} - {r}_{b}}{h} \\right )}}{h}$$"
      ],
      "text/plain": [
       "               ⎛r[a] - r[b]⎞\n",
       "⎛- δ    + 1⎞⋅W'⎜───────────⎟\n",
       "⎝   a,b    ⎠   ⎝     h     ⎠\n",
       "────────────────────────────\n",
       "             h              "
      ]
     },
     "execution_count": 95,
     "metadata": {},
     "output_type": "execute_result"
    }
   ],
   "source": [
    "subs_W = lambda expr: expr.replace( Subs(diff( W(w), w), (w), (w2)) , Function(r\"W'\")(w2) )\n",
    "subs_W(Wp_ab)"
   ]
  },
  {
   "cell_type": "code",
   "execution_count": 101,
   "metadata": {},
   "outputs": [
    {
     "data": {
      "text/latex": [
       "$$\\frac{\\begin{cases} - \\frac{\\left(\\varepsilon{\\left (\\sum_{b=0}^{n} W{\\left (\\frac{- {r}_{b} + {r}_{c}}{h} \\right )} {\\nu}_{b} \\right )}\\right) {\\nu}_{c} \\sum_{b=0}^{n} \\operatorname{W'}{\\left (\\frac{- {r}_{b} + {r}_{c}}{h} \\right )} {\\nu}_{b}}{\\left(\\sum_{b=0}^{n} W{\\left (\\frac{- {r}_{b} + {r}_{c}}{h} \\right )} {\\nu}_{b}\\right)^{2}} + \\frac{{\\nu}_{c} \\left(\\left. \\frac{d}{d \\xi_{1}} \\varepsilon{\\left (\\xi_{1} \\right )} \\right|_{\\substack{ \\xi_{1}=\\sum_{b=0}^{n} W{\\left (\\frac{- {r}_{b} + {r}_{c}}{h} \\right )} {\\nu}_{b} }}\\right) \\sum_{b=0}^{n} \\operatorname{W'}{\\left (\\frac{- {r}_{b} + {r}_{c}}{h} \\right )} {\\nu}_{b}}{\\sum_{b=0}^{n} W{\\left (\\frac{- {r}_{b} + {r}_{c}}{h} \\right )} {\\nu}_{b}} + \\sum_{a=0}^{n} \\frac{\\operatorname{W'}{\\left (\\frac{{r}_{a} - {r}_{c}}{h} \\right )} \\left(\\varepsilon{\\left (\\sum_{b=0}^{n} W{\\left (\\frac{{r}_{a} - {r}_{b}}{h} \\right )} {\\nu}_{b} \\right )}\\right) {\\nu}_{a} {\\nu}_{c}}{\\left(\\sum_{b=0}^{n} W{\\left (\\frac{{r}_{a} - {r}_{b}}{h} \\right )} {\\nu}_{b}\\right)^{2}} + \\sum_{a=0}^{n} - \\frac{\\operatorname{W'}{\\left (\\frac{{r}_{a} - {r}_{c}}{h} \\right )} {\\nu}_{a} {\\nu}_{c} \\left. \\frac{d}{d \\xi_{1}} \\varepsilon{\\left (\\xi_{1} \\right )} \\right|_{\\substack{ \\xi_{1}=\\sum_{b=0}^{n} W{\\left (\\frac{{r}_{a} - {r}_{b}}{h} \\right )} {\\nu}_{b} }}}{\\sum_{b=0}^{n} W{\\left (\\frac{{r}_{a} - {r}_{b}}{h} \\right )} {\\nu}_{b}} & \\text{for}\\: n \\geq c \\wedge c \\geq 0 \\\\2 \\sum_{a=0}^{n} 0 & \\text{otherwise} \\end{cases}}{h}$$"
      ],
      "text/plain": [
       "⎧                                                                             \n",
       "⎪                                                                             \n",
       "⎪                                                                             \n",
       "⎪                                                                             \n",
       "⎪             ⎛  n                         ⎞          n                       \n",
       "⎪             ⎜ ____                       ⎟         ____                     \n",
       "⎪             ⎜ ╲                          ⎟         ╲                        \n",
       "⎪             ⎜  ╲    ⎛-r[b] + r[c]⎞       ⎟          ╲     ⎛-r[b] + r[c]⎞    \n",
       "⎪             ⎜   ╲  W⎜────────────⎟⋅\\nu[b]⎟           ╲  W'⎜────────────⎟⋅\\nu\n",
       "⎪  \\varepsilon⎜   ╱   ⎝     h      ⎠       ⎟⋅\\nu[c]⋅   ╱    ⎝     h      ⎠    \n",
       "⎪             ⎜  ╱                         ⎟          ╱                       \n",
       "⎪             ⎜ ╱                          ⎟         ╱                        \n",
       "⎪             ⎜ ‾‾‾‾                       ⎟         ‾‾‾‾                     \n",
       "⎪             ⎝b = 0                       ⎠        b = 0                     \n",
       "⎪- ───────────────────────────────────────────────────────────────────────────\n",
       "⎪                                                       2                     \n",
       "⎪                         ⎛  n                         ⎞                      \n",
       "⎪                         ⎜ ____                       ⎟                      \n",
       "⎨                         ⎜ ╲                          ⎟                      \n",
       "⎪                         ⎜  ╲    ⎛-r[b] + r[c]⎞       ⎟                      \n",
       "⎪                         ⎜   ╲  W⎜────────────⎟⋅\\nu[b]⎟                      \n",
       "⎪                         ⎜   ╱   ⎝     h      ⎠       ⎟                      \n",
       "⎪                         ⎜  ╱                         ⎟                      \n",
       "⎪                         ⎜ ╱                          ⎟                      \n",
       "⎪                         ⎜ ‾‾‾‾                       ⎟                      \n",
       "⎪                         ⎝b = 0                       ⎠                      \n",
       "⎪                                                                             \n",
       "⎪                                                                             \n",
       "⎪                                                                             \n",
       "⎪                                                                             \n",
       "⎪                                                                             \n",
       "⎪                                                                             \n",
       "⎪                                                                             \n",
       "⎪                                                                             \n",
       "⎪                                                                             \n",
       "⎪                                                                             \n",
       "⎩                                                                             \n",
       "──────────────────────────────────────────────────────────────────────────────\n",
       "                                                                              \n",
       "\n",
       "                                                                      n       \n",
       "                                                                     ____     \n",
       "                                                                     ╲        \n",
       "                                                                      ╲     ⎛-\n",
       "                                         n                             ╲  W'⎜─\n",
       "      \\nu[c]⋅                           ____                       ⋅   ╱    ⎝ \n",
       "                                        ╲                             ╱       \n",
       "             ⎛ d                  ⎞│     ╲    ⎛-r[b] + r[c]⎞         ╱        \n",
       "[b]          ⎜───(\\varepsilon(ξ₁))⎟│      ╲  W⎜────────────⎟⋅\\nu[b]  ‾‾‾‾     \n",
       "             ⎝dξ₁                 ⎠│ξ₁=   ╱   ⎝     h      ⎠        b = 0     \n",
       "                                         ╱                                    \n",
       "                                        ╱                                     \n",
       "                                        ‾‾‾‾                                  \n",
       "                                       b = 0                                  \n",
       "─── + ────────────────────────────────────────────────────────────────────────\n",
       "                                        n                                     \n",
       "                                       ____                                   \n",
       "                                       ╲                                      \n",
       "                                        ╲    ⎛-r[b] + r[c]⎞                   \n",
       "                                         ╲  W⎜────────────⎟⋅\\nu[b]            \n",
       "                                         ╱   ⎝     h      ⎠                   \n",
       "                                        ╱                                     \n",
       "                                       ╱                                      \n",
       "                                       ‾‾‾‾                                   \n",
       "                                      b = 0                                   \n",
       "                                                                              \n",
       "                                                                              \n",
       "                                                                              \n",
       "                                                                              \n",
       "                                                                              \n",
       "                                                                              \n",
       "                                                                              \n",
       "                                                                              \n",
       "                                                                              \n",
       "                                                                              \n",
       "                                                                              \n",
       "                                                                              \n",
       "──────────────────────────────────────────────────────────────────────────────\n",
       "                                                                              \n",
       "\n",
       "                            n                                                 \n",
       "                      _____________                                           \n",
       "                      ╲                                                       \n",
       "r[b] + r[c]⎞           ╲                                       ⎛  n           \n",
       "───────────⎟⋅\\nu[b]     ╲                                      ⎜ ____         \n",
       "    h      ⎠             ╲                                     ⎜ ╲            \n",
       "                          ╲                                    ⎜  ╲    ⎛r[a] -\n",
       "                           ╲          ⎛r[a] - r[c]⎞            ⎜   ╲  W⎜──────\n",
       "                            ╲       W'⎜───────────⎟⋅\\varepsilon⎜   ╱   ⎝     h\n",
       "                             ╲        ⎝     h     ⎠            ⎜  ╱           \n",
       "                              ╲                                ⎜ ╱            \n",
       "                               ╲                               ⎜ ‾‾‾‾         \n",
       "                                ╲                              ⎝b = 0         \n",
       "                                 ╲  ──────────────────────────────────────────\n",
       "─────────────────── +            ╱                                            \n",
       "                                ╱                       ⎛  n                  \n",
       "                               ╱                        ⎜ ____                \n",
       "                              ╱                         ⎜ ╲                   \n",
       "                             ╱                          ⎜  ╲    ⎛r[a] - r[b]⎞ \n",
       "                            ╱                           ⎜   ╲  W⎜───────────⎟⋅\n",
       "                           ╱                            ⎜   ╱   ⎝     h     ⎠ \n",
       "                          ╱                             ⎜  ╱                  \n",
       "                         ╱                              ⎜ ╱                   \n",
       "                        ╱                               ⎜ ‾‾‾‾                \n",
       "                       ╱                                ⎝b = 0                \n",
       "                      ╱                                                       \n",
       "                      ‾‾‾‾‾‾‾‾‾‾‾‾‾                                           \n",
       "                          a = 0                                               \n",
       "                                                                              \n",
       "                          n                                                   \n",
       "                         ___                                                  \n",
       "                         ╲                                                    \n",
       "                          ╲   0                                               \n",
       "                      2⋅  ╱                                                   \n",
       "                         ╱                                                    \n",
       "                         ‾‾‾                                                  \n",
       "                        a = 0                                                 \n",
       "──────────────────────────────────────────────────────────────────────────────\n",
       "                                   h                                          \n",
       "\n",
       "                                     n                                        \n",
       "                               _____________                                  \n",
       "                               ╲                                              \n",
       "             ⎞                  ╲               ⎛r[a] - r[c]⎞                 \n",
       "             ⎟                   ╲           -W'⎜───────────⎟⋅\\nu[a]⋅\\nu[c]⋅  \n",
       "             ⎟                    ╲             ⎝     h     ⎠                 \n",
       " r[b]⎞       ⎟                     ╲                                        ⎛ \n",
       "─────⎟⋅\\nu[b]⎟                      ╲                                       ⎜─\n",
       "     ⎠       ⎟⋅\\nu[a]⋅\\nu[c]         ╲                                      ⎝d\n",
       "             ⎟                        ╲                                       \n",
       "             ⎟                         ╲                                      \n",
       "             ⎟                          ╲                                     \n",
       "             ⎠                           ╲                                    \n",
       "────────────────────────────              ╲  ─────────────────────────────────\n",
       "       2                     +            ╱                                 n \n",
       "      ⎞                                  ╱                                 ___\n",
       "      ⎟                                 ╱                                  ╲  \n",
       "      ⎟                                ╱                                    ╲ \n",
       "      ⎟                               ╱                                      ╲\n",
       "\\nu[b]⎟                              ╱                                       ╱\n",
       "      ⎟                             ╱                                       ╱ \n",
       "      ⎟                            ╱                                       ╱  \n",
       "      ⎟                           ╱                                        ‾‾‾\n",
       "      ⎟                          ╱                                        b = \n",
       "      ⎠                         ╱                                             \n",
       "                               ╱                                              \n",
       "                               ‾‾‾‾‾‾‾‾‾‾‾‾‾                                  \n",
       "                                   a = 0                                      \n",
       "                                                                              \n",
       "                                                                              \n",
       "                                                                              \n",
       "                                                                              \n",
       "                                                                              \n",
       "                                                                              \n",
       "                                                                              \n",
       "                                                                              \n",
       "                                                                              \n",
       "──────────────────────────────────────────────────────────────────────────────\n",
       "                                                                              \n",
       "\n",
       "                                                                       \n",
       "                                                                       \n",
       "                                                                       \n",
       "                          n                                            \n",
       "                         ____                                          \n",
       "                         ╲                                             \n",
       "d                  ⎞│     ╲    ⎛r[a] - r[b]⎞                           \n",
       "──(\\varepsilon(ξ₁))⎟│      ╲  W⎜───────────⎟⋅\\nu[b]                    \n",
       "ξ₁                 ⎠│ξ₁=   ╱   ⎝     h     ⎠                           \n",
       "                          ╱                                            \n",
       "                         ╱                                             \n",
       "                         ‾‾‾‾                                          \n",
       "                        b = 0                                          \n",
       "────────────────────────────────────────────────────                   \n",
       "                                                      for n ≥ c ∧ c ≥ 0\n",
       "_                                                                      \n",
       "                                                                       \n",
       "   ⎛r[a] - r[b]⎞                                                       \n",
       "  W⎜───────────⎟⋅\\nu[b]                                                \n",
       "   ⎝     h     ⎠                                                       \n",
       "                                                                       \n",
       "                                                                       \n",
       "‾                                                                      \n",
       "0                                                                      \n",
       "                                                                       \n",
       "                                                                       \n",
       "                                                                       \n",
       "                                                                       \n",
       "                                                                       \n",
       "                                                                       \n",
       "                                                                       \n",
       "                                                                       \n",
       "                                                                       \n",
       "                                                          otherwise    \n",
       "                                                                       \n",
       "                                                                       \n",
       "                                                                       \n",
       "───────────────────────────────────────────────────────────────────────\n",
       "                                                                       "
      ]
     },
     "execution_count": 101,
     "metadata": {},
     "output_type": "execute_result"
    }
   ],
   "source": [
    "dL_dr1 = subs_W(dL_dr)\n",
    "dL_dr1"
   ]
  },
  {
   "cell_type": "code",
   "execution_count": 110,
   "metadata": {},
   "outputs": [
    {
     "data": {
      "text/latex": [
       "$$\\frac{\\begin{cases} - \\frac{\\left(\\varepsilon{\\left (\\sum_{b=0}^{n} {W}_{c,b} {\\nu}_{b} \\right )}\\right) {\\nu}_{c} \\sum_{b=0}^{n} {W'}_{c,b} {\\nu}_{b}}{\\left(\\sum_{b=0}^{n} {W}_{c,b} {\\nu}_{b}\\right)^{2}} + \\frac{{\\nu}_{c} \\left(\\left. \\frac{d}{d \\xi_{1}} \\varepsilon{\\left (\\xi_{1} \\right )} \\right|_{\\substack{ \\xi_{1}=\\sum_{b=0}^{n} {W}_{c,b} {\\nu}_{b} }}\\right) \\sum_{b=0}^{n} {W'}_{c,b} {\\nu}_{b}}{\\sum_{b=0}^{n} {W}_{c,b} {\\nu}_{b}} + \\sum_{a=0}^{n} \\frac{\\left(\\varepsilon{\\left (\\sum_{b=0}^{n} {W}_{a,b} {\\nu}_{b} \\right )}\\right) {W'}_{a,c} {\\nu}_{a} {\\nu}_{c}}{\\left(\\sum_{b=0}^{n} {W}_{a,b} {\\nu}_{b}\\right)^{2}} + \\sum_{a=0}^{n} - \\frac{{W'}_{a,c} {\\nu}_{a} {\\nu}_{c} \\left. \\frac{d}{d \\xi_{1}} \\varepsilon{\\left (\\xi_{1} \\right )} \\right|_{\\substack{ \\xi_{1}=\\sum_{b=0}^{n} {W}_{a,b} {\\nu}_{b} }}}{\\sum_{b=0}^{n} {W}_{a,b} {\\nu}_{b}} & \\text{for}\\: n \\geq c \\wedge c \\geq 0 \\\\2 \\sum_{a=0}^{n} 0 & \\text{otherwise} \\end{cases}}{h}$$"
      ],
      "text/plain": [
       "⎧                                                                             \n",
       "⎪                                                                             \n",
       "⎪                                                                             \n",
       "⎪                                                                             \n",
       "⎪             ⎛  n                 ⎞          n                               \n",
       "⎪             ⎜ ___                ⎟         ___                    \\nu[c]⋅   \n",
       "⎪             ⎜ ╲                  ⎟         ╲                             ⎛ d\n",
       "⎪             ⎜  ╲   W[c, b]⋅\\nu[b]⎟          ╲   W'[c, b]⋅\\nu[b]          ⎜──\n",
       "⎪  \\varepsilon⎜  ╱                 ⎟⋅\\nu[c]⋅  ╱                            ⎝dξ\n",
       "⎪             ⎜ ╱                  ⎟         ╱                                \n",
       "⎪             ⎜ ‾‾‾                ⎟         ‾‾‾                              \n",
       "⎪             ⎝b = 0               ⎠        b = 0                             \n",
       "⎪- ────────────────────────────────────────────────────────────── + ──────────\n",
       "⎪                                           2                                 \n",
       "⎪                     ⎛  n                 ⎞                                  \n",
       "⎪                     ⎜ ___                ⎟                                  \n",
       "⎨                     ⎜ ╲                  ⎟                                  \n",
       "⎪                     ⎜  ╲   W[c, b]⋅\\nu[b]⎟                                  \n",
       "⎪                     ⎜  ╱                 ⎟                                  \n",
       "⎪                     ⎜ ╱                  ⎟                                  \n",
       "⎪                     ⎜ ‾‾‾                ⎟                                  \n",
       "⎪                     ⎝b = 0               ⎠                                  \n",
       "⎪                                                                             \n",
       "⎪                                                                             \n",
       "⎪                                                                             \n",
       "⎪                                                                             \n",
       "⎪                                                                             \n",
       "⎪                                                                             \n",
       "⎪                                                                             \n",
       "⎪                                                                             \n",
       "⎪                                                                             \n",
       "⎪                                                                             \n",
       "⎩                                                                             \n",
       "──────────────────────────────────────────────────────────────────────────────\n",
       "                                                                              \n",
       "\n",
       "                                                                         n    \n",
       "                                              n                     __________\n",
       "                                             ___                    ╲         \n",
       "                                             ╲                       ╲        \n",
       "                         n                    ╲   W'[c, b]⋅\\nu[b]     ╲       \n",
       "                        ___                ⋅  ╱                        ╲      \n",
       "                  ⎞│    ╲                    ╱                          ╲     \n",
       "─(\\varepsilon(ξ₁))⎟│     ╲   W[c, b]⋅\\nu[b]  ‾‾‾                         ╲    \n",
       "₁                 ⎠│ξ₁=  ╱                  b = 0                         ╲   \n",
       "                        ╱                                                  ╲  \n",
       "                        ‾‾‾                                                 ╲ \n",
       "                       b = 0                                                 ╲\n",
       "───────────────────────────────────────────────────────────────── +          ╱\n",
       "                    n                                                       ╱ \n",
       "                   ___                                                     ╱  \n",
       "                   ╲                                                      ╱   \n",
       "                    ╲   W[c, b]⋅\\nu[b]                                   ╱    \n",
       "                    ╱                                                   ╱     \n",
       "                   ╱                                                   ╱      \n",
       "                   ‾‾‾                                                ╱       \n",
       "                  b = 0                                              ╱        \n",
       "                                                                    ╱         \n",
       "                                                                    ‾‾‾‾‾‾‾‾‾‾\n",
       "                                                                       a = 0  \n",
       "                                                                              \n",
       "                                                                        n     \n",
       "                                                                       ___    \n",
       "                                                                       ╲      \n",
       "                                                                        ╲   0 \n",
       "                                                                    2⋅  ╱     \n",
       "                                                                       ╱      \n",
       "                                                                       ‾‾‾    \n",
       "                                                                      a = 0   \n",
       "──────────────────────────────────────────────────────────────────────────────\n",
       "                                                                              \n",
       "\n",
       "                                                                  n           \n",
       "_                                                            ___________      \n",
       "                                                             ╲                \n",
       "             ⎛  n                 ⎞                           ╲               \n",
       "             ⎜ ___                ⎟                            ╲         -W'[a\n",
       "             ⎜ ╲                  ⎟                             ╲             \n",
       "             ⎜  ╲   W[a, b]⋅\\nu[b]⎟                              ╲            \n",
       "  \\varepsilon⎜  ╱                 ⎟⋅W'[a, c]⋅\\nu[a]⋅\\nu[c]        ╲           \n",
       "             ⎜ ╱                  ⎟                                ╲          \n",
       "             ⎜ ‾‾‾                ⎟                                 ╲         \n",
       "             ⎝b = 0               ⎠                                  ╲        \n",
       "  ────────────────────────────────────────────────────────            ╲  ─────\n",
       "                                        2                  +          ╱       \n",
       "                  ⎛  n                 ⎞                             ╱        \n",
       "                  ⎜ ___                ⎟                            ╱         \n",
       "                  ⎜ ╲                  ⎟                           ╱          \n",
       "                  ⎜  ╲   W[a, b]⋅\\nu[b]⎟                          ╱           \n",
       "                  ⎜  ╱                 ⎟                         ╱            \n",
       "                  ⎜ ╱                  ⎟                        ╱             \n",
       "                  ⎜ ‾‾‾                ⎟                       ╱              \n",
       "                  ⎝b = 0               ⎠                      ╱               \n",
       "                                                             ╱                \n",
       "‾                                                            ‾‾‾‾‾‾‾‾‾‾‾      \n",
       "                                                                a = 0         \n",
       "                                                                              \n",
       "                                                                              \n",
       "                                                                              \n",
       "                                                                              \n",
       "                                                                              \n",
       "                                                                              \n",
       "                                                                              \n",
       "                                                                              \n",
       "                                                                              \n",
       "──────────────────────────────────────────────────────────────────────────────\n",
       "   h                                                                          \n",
       "\n",
       "                                                                              \n",
       "                                                                              \n",
       "                                                                              \n",
       "                                               n                              \n",
       ", c]⋅\\nu[a]⋅\\nu[c]⋅                           ___                             \n",
       "                   ⎛ d                  ⎞│    ╲                               \n",
       "                   ⎜───(\\varepsilon(ξ₁))⎟│     ╲   W[a, b]⋅\\nu[b]             \n",
       "                   ⎝dξ₁                 ⎠│ξ₁=  ╱                              \n",
       "                                              ╱                               \n",
       "                                              ‾‾‾                             \n",
       "                                             b = 0                            \n",
       "──────────────────────────────────────────────────────────────────            \n",
       "                       n                                            for n ≥ c \n",
       "                      ___                                                     \n",
       "                      ╲                                                       \n",
       "                       ╲   W[a, b]⋅\\nu[b]                                     \n",
       "                       ╱                                                      \n",
       "                      ╱                                                       \n",
       "                      ‾‾‾                                                     \n",
       "                     b = 0                                                    \n",
       "                                                                              \n",
       "                                                                              \n",
       "                                                                              \n",
       "                                                                              \n",
       "                                                                              \n",
       "                                                                              \n",
       "                                                                              \n",
       "                                                                              \n",
       "                                                                              \n",
       "                                                                        otherw\n",
       "                                                                              \n",
       "                                                                              \n",
       "                                                                              \n",
       "──────────────────────────────────────────────────────────────────────────────\n",
       "                                                                              \n",
       "\n",
       "       \n",
       "       \n",
       "       \n",
       "       \n",
       "       \n",
       "       \n",
       "       \n",
       "       \n",
       "       \n",
       "       \n",
       "       \n",
       "       \n",
       "∧ c ≥ 0\n",
       "       \n",
       "       \n",
       "       \n",
       "       \n",
       "       \n",
       "       \n",
       "       \n",
       "       \n",
       "       \n",
       "       \n",
       "       \n",
       "       \n",
       "       \n",
       "       \n",
       "       \n",
       "       \n",
       "ise    \n",
       "       \n",
       "       \n",
       "       \n",
       "───────\n",
       "       "
      ]
     },
     "execution_count": 110,
     "metadata": {},
     "output_type": "execute_result"
    }
   ],
   "source": [
    "subs_Wab = lambda expr: subs_W(expr)\\\n",
    ".replace( Function(r\"W\")((r[w]-r[w2])/h), IndexedBase(r\"W\")[w,w2] )\\\n",
    ".replace( Function(r\"W'\")((r[w]-r[w2])/h), IndexedBase(r\"W'\")[w,w2] )\n",
    "dL_dr1 = subs_Wab(dL_dr1)\n",
    "dL_dr1"
   ]
  },
  {
   "cell_type": "code",
   "execution_count": 167,
   "metadata": {},
   "outputs": [
    {
     "data": {
      "text/latex": [
       "$$\\frac{\\begin{cases} - \\frac{\\varepsilon{\\left ({\\rho}_{c} \\right )} {\\nu}_{c} {\\rho'}_{c}}{{\\rho}_{c}^{2}} + \\frac{{\\nu}_{c} {\\rho'}_{c} \\left. \\frac{d}{d \\xi_{1}} \\varepsilon{\\left (\\xi_{1} \\right )} \\right|_{\\substack{ \\xi_{1}={\\rho}_{c} }}}{{\\rho}_{c}} + \\sum_{a=0}^{n} \\frac{\\varepsilon{\\left ({\\rho}_{a} \\right )} {W'}_{a,c} {\\nu}_{a} {\\nu}_{c}}{{\\rho}_{a}^{2}} + \\sum_{a=0}^{n} - \\frac{{W'}_{a,c} {\\nu}_{a} {\\nu}_{c} \\left. \\frac{d}{d \\xi_{1}} \\varepsilon{\\left (\\xi_{1} \\right )} \\right|_{\\substack{ \\xi_{1}={\\rho}_{a} }}}{{\\rho}_{a}} & \\text{for}\\: n \\geq c \\wedge c \\geq 0 \\\\2 \\sum_{a=0}^{n} 0 & \\text{otherwise} \\end{cases}}{h}$$"
      ],
      "text/plain": [
       "⎧                                                                             \n",
       "⎪                                                                             \n",
       "⎪                                                                             \n",
       "⎪                                                         ⎛ d                 \n",
       "⎪                                         \\nu[c]⋅\\rho'[c]⋅⎜───(\\varepsilon(ξ₁)\n",
       "⎪  \\varepsilon(\\rho[c])⋅\\nu[c]⋅\\rho'[c]                   ⎝dξ₁                \n",
       "⎪- ──────────────────────────────────── + ────────────────────────────────────\n",
       "⎪                       2                                      \\rho[c]        \n",
       "⎪                \\rho[c]                                                      \n",
       "⎪                                                                             \n",
       "⎨                                                                             \n",
       "⎪                                                                             \n",
       "⎪                                                                             \n",
       "⎪                                                                             \n",
       "⎪                                                                             \n",
       "⎪                                                                             \n",
       "⎪                                                                             \n",
       "⎪                                                                             \n",
       "⎪                                                                             \n",
       "⎪                                                                             \n",
       "⎩                                                                             \n",
       "──────────────────────────────────────────────────────────────────────────────\n",
       "                                                                              \n",
       "\n",
       "                                                                      n       \n",
       "                  n                                                 _____     \n",
       "                 ____                                               ╲         \n",
       " ⎞│              ╲                                                   ╲        \n",
       ")⎟│               ╲   \\varepsilon(\\rho[a])⋅W'[a, c]⋅\\nu[a]⋅\\nu[c]     ╲   -W'[\n",
       " ⎠│ξ₁=\\rho[c]      ╲  ───────────────────────────────────────────      ╲      \n",
       "───────────── +    ╱                           2                  +    ╱  ────\n",
       "                  ╱                     \\rho[a]                       ╱       \n",
       "                 ╱                                                   ╱        \n",
       "                 ‾‾‾‾                                               ╱         \n",
       "                a = 0                                               ‾‾‾‾‾     \n",
       "                                                                    a = 0     \n",
       "                                                                              \n",
       "                           n                                                  \n",
       "                          ___                                                 \n",
       "                          ╲                                                   \n",
       "                           ╲   0                                              \n",
       "                       2⋅  ╱                                                  \n",
       "                          ╱                                                   \n",
       "                          ‾‾‾                                                 \n",
       "                         a = 0                                                \n",
       "──────────────────────────────────────────────────────────────────────────────\n",
       "                                    h                                         \n",
       "\n",
       "                                                                         \n",
       "                                                                         \n",
       "                                                                         \n",
       "                    ⎛ d                  ⎞│                              \n",
       "a, c]⋅\\nu[a]⋅\\nu[c]⋅⎜───(\\varepsilon(ξ₁))⎟│                              \n",
       "                    ⎝dξ₁                 ⎠│ξ₁=\\rho[a]                    \n",
       "──────────────────────────────────────────────────────  for n ≥ c ∧ c ≥ 0\n",
       "                     \\rho[a]                                             \n",
       "                                                                         \n",
       "                                                                         \n",
       "                                                                         \n",
       "                                                                         \n",
       "                                                                         \n",
       "                                                                         \n",
       "                                                                         \n",
       "                                                                         \n",
       "                                                                         \n",
       "                                                            otherwise    \n",
       "                                                                         \n",
       "                                                                         \n",
       "                                                                         \n",
       "─────────────────────────────────────────────────────────────────────────\n",
       "                                                                         "
      ]
     },
     "execution_count": 167,
     "metadata": {},
     "output_type": "execute_result"
    }
   ],
   "source": [
    "w3 = Wild('w3')\n",
    "rho = IndexedBase(r\"\\rho'\")\n",
    "subs_rho = lambda expr: subs_Wab(expr)\\\n",
    ".replace( Sum( nu[w]*IndexedBase(r\"W\")[w2,w], (w,0,n) ), IndexedBase(r'\\rho')[w2] )\\\n",
    ".replace( Sum( nu[w]*IndexedBase(r\"W'\")[w2,w], (w,0,n) ), rho[w2] )\n",
    "subs_rho(dL_dr1)"
   ]
  },
  {
   "cell_type": "code",
   "execution_count": 304,
   "metadata": {},
   "outputs": [
    {
     "data": {
      "text/latex": [
       "$$\\begin{cases} \\frac{\\left(- \\frac{P{\\left ({\\rho}_{c} \\right )} {\\rho'}_{c}}{{\\rho}_{c}^{2}} + \\sum_{a=0}^{n} \\frac{P{\\left ({\\rho}_{a} \\right )} {W'}_{a,c} {\\nu}_{a}}{{\\rho}_{a}^{2}}\\right) {\\nu}_{c}}{h} & \\text{for}\\: n \\geq c \\wedge c \\geq 0 \\\\0 & \\text{otherwise} \\end{cases}$$"
      ],
      "text/plain": [
       "⎧⎛                          n                             ⎞                   \n",
       "⎪⎜                         ____                           ⎟                   \n",
       "⎪⎜                         ╲                              ⎟                   \n",
       "⎪⎜                          ╲   P(\\rho[a])⋅W'[a, c]⋅\\nu[a]⎟                   \n",
       "⎪⎜  P(\\rho[c])⋅\\rho'[c]      ╲  ──────────────────────────⎟                   \n",
       "⎪⎜- ─────────────────── +    ╱                  2         ⎟⋅\\nu[c]            \n",
       "⎪⎜               2          ╱            \\rho[a]          ⎟                   \n",
       "⎨⎜        \\rho[c]          ╱                              ⎟                   \n",
       "⎪⎜                         ‾‾‾‾                           ⎟                   \n",
       "⎪⎝                        a = 0                           ⎠                   \n",
       "⎪─────────────────────────────────────────────────────────────────  for n ≥ c \n",
       "⎪                                h                                            \n",
       "⎪                                                                             \n",
       "⎪                                0                                      otherw\n",
       "⎩                                                                             \n",
       "\n",
       "       \n",
       "       \n",
       "       \n",
       "       \n",
       "       \n",
       "       \n",
       "       \n",
       "       \n",
       "       \n",
       "       \n",
       "∧ c ≥ 0\n",
       "       \n",
       "       \n",
       "ise    \n",
       "       "
      ]
     },
     "execution_count": 304,
     "metadata": {},
     "output_type": "execute_result"
    }
   ],
   "source": [
    "subs_P = lambda expr: subs_rho(expr)\\\n",
    ".replace( Subs(diff( vare(w), w ), (w), w2), (-Function(\"P\")(w2)+vare(w2))/w2 )\\\n",
    "#.replace( Sum( w3*IndexedBase(r\"W'\")[w,w2], (w,0,n) ), -Sum( w3*IndexedBase(r\"W'\")[w2,w], (w,0,n) ) )\n",
    "\n",
    "dv_dt = subs_P( dL_dr1 ).simplify()\n",
    "dv_dt"
   ]
  },
  {
   "cell_type": "code",
   "execution_count": 314,
   "metadata": {},
   "outputs": [
    {
     "ename": "TypeError",
     "evalue": "Idx object requires an integer label.",
     "output_type": "error",
     "traceback": [
      "\u001b[0;31m---------------------------------------------------------------------------\u001b[0m",
      "\u001b[0;31mValueError\u001b[0m                                Traceback (most recent call last)",
      "\u001b[0;32m/home/mota/.local/lib/python3.6/site-packages/sympy/solvers/inequalities.py\u001b[0m in \u001b[0;36msolve_univariate_inequality\u001b[0;34m(expr, gen, relational, domain, continuous)\u001b[0m\n\u001b[1;32m    517\u001b[0m                 \u001b[0;31m# or it might give None...\u001b[0m\u001b[0;34m\u001b[0m\u001b[0;34m\u001b[0m\u001b[0m\n\u001b[0;32m--> 518\u001b[0;31m                 \u001b[0msolns\u001b[0m \u001b[0;34m=\u001b[0m \u001b[0msolvify\u001b[0m\u001b[0;34m(\u001b[0m\u001b[0me\u001b[0m\u001b[0;34m,\u001b[0m \u001b[0mgen\u001b[0m\u001b[0;34m,\u001b[0m \u001b[0mdomain\u001b[0m\u001b[0;34m)\u001b[0m\u001b[0;34m\u001b[0m\u001b[0m\n\u001b[0m\u001b[1;32m    519\u001b[0m                 \u001b[0;32mif\u001b[0m \u001b[0msolns\u001b[0m \u001b[0;32mis\u001b[0m \u001b[0;32mNone\u001b[0m\u001b[0;34m:\u001b[0m\u001b[0;34m\u001b[0m\u001b[0m\n",
      "\u001b[0;32m/home/mota/.local/lib/python3.6/site-packages/sympy/solvers/solveset.py\u001b[0m in \u001b[0;36msolvify\u001b[0;34m(f, symbol, domain)\u001b[0m\n\u001b[1;32m   1767\u001b[0m     \"\"\"\n\u001b[0;32m-> 1768\u001b[0;31m     \u001b[0msolution_set\u001b[0m \u001b[0;34m=\u001b[0m \u001b[0msolveset\u001b[0m\u001b[0;34m(\u001b[0m\u001b[0mf\u001b[0m\u001b[0;34m,\u001b[0m \u001b[0msymbol\u001b[0m\u001b[0;34m,\u001b[0m \u001b[0mdomain\u001b[0m\u001b[0;34m)\u001b[0m\u001b[0;34m\u001b[0m\u001b[0m\n\u001b[0m\u001b[1;32m   1769\u001b[0m     \u001b[0mresult\u001b[0m \u001b[0;34m=\u001b[0m \u001b[0;32mNone\u001b[0m\u001b[0;34m\u001b[0m\u001b[0m\n",
      "\u001b[0;32m/home/mota/.local/lib/python3.6/site-packages/sympy/solvers/solveset.py\u001b[0m in \u001b[0;36msolveset\u001b[0;34m(f, symbol, domain)\u001b[0m\n\u001b[1;32m   1711\u001b[0m \u001b[0;34m\u001b[0m\u001b[0m\n\u001b[0;32m-> 1712\u001b[0;31m     \u001b[0;32mreturn\u001b[0m \u001b[0m_solveset\u001b[0m\u001b[0;34m(\u001b[0m\u001b[0mf\u001b[0m\u001b[0;34m,\u001b[0m \u001b[0msymbol\u001b[0m\u001b[0;34m,\u001b[0m \u001b[0mdomain\u001b[0m\u001b[0;34m,\u001b[0m \u001b[0m_check\u001b[0m\u001b[0;34m=\u001b[0m\u001b[0;32mTrue\u001b[0m\u001b[0;34m)\u001b[0m\u001b[0;34m\u001b[0m\u001b[0m\n\u001b[0m\u001b[1;32m   1713\u001b[0m \u001b[0;34m\u001b[0m\u001b[0m\n",
      "\u001b[0;32m/home/mota/.local/lib/python3.6/site-packages/sympy/solvers/solveset.py\u001b[0m in \u001b[0;36m_solveset\u001b[0;34m(f, symbol, domain, _check)\u001b[0m\n\u001b[1;32m    928\u001b[0m     \u001b[0;32melse\u001b[0m\u001b[0;34m:\u001b[0m\u001b[0;34m\u001b[0m\u001b[0m\n\u001b[0;32m--> 929\u001b[0;31m         \u001b[0mlhs\u001b[0m\u001b[0;34m,\u001b[0m \u001b[0mrhs_s\u001b[0m \u001b[0;34m=\u001b[0m \u001b[0minverter\u001b[0m\u001b[0;34m(\u001b[0m\u001b[0mf\u001b[0m\u001b[0;34m,\u001b[0m \u001b[0;36m0\u001b[0m\u001b[0;34m,\u001b[0m \u001b[0msymbol\u001b[0m\u001b[0;34m)\u001b[0m\u001b[0;34m\u001b[0m\u001b[0m\n\u001b[0m\u001b[1;32m    930\u001b[0m         \u001b[0;32mif\u001b[0m \u001b[0mlhs\u001b[0m \u001b[0;34m==\u001b[0m \u001b[0msymbol\u001b[0m\u001b[0;34m:\u001b[0m\u001b[0;34m\u001b[0m\u001b[0m\n",
      "\u001b[0;32m/home/mota/.local/lib/python3.6/site-packages/sympy/solvers/solveset.py\u001b[0m in \u001b[0;36m<lambda>\u001b[0;34m(f, rhs, symbol)\u001b[0m\n\u001b[1;32m    881\u001b[0m     \u001b[0msolver\u001b[0m \u001b[0;34m=\u001b[0m \u001b[0;32mlambda\u001b[0m \u001b[0mf\u001b[0m\u001b[0;34m,\u001b[0m \u001b[0mx\u001b[0m\u001b[0;34m,\u001b[0m \u001b[0mdomain\u001b[0m\u001b[0;34m=\u001b[0m\u001b[0mdomain\u001b[0m\u001b[0;34m:\u001b[0m \u001b[0m_solveset\u001b[0m\u001b[0;34m(\u001b[0m\u001b[0mf\u001b[0m\u001b[0;34m,\u001b[0m \u001b[0mx\u001b[0m\u001b[0;34m,\u001b[0m \u001b[0mdomain\u001b[0m\u001b[0;34m)\u001b[0m\u001b[0;34m\u001b[0m\u001b[0m\n\u001b[0;32m--> 882\u001b[0;31m     \u001b[0minverter\u001b[0m \u001b[0;34m=\u001b[0m \u001b[0;32mlambda\u001b[0m \u001b[0mf\u001b[0m\u001b[0;34m,\u001b[0m \u001b[0mrhs\u001b[0m\u001b[0;34m,\u001b[0m \u001b[0msymbol\u001b[0m\u001b[0;34m:\u001b[0m \u001b[0m_invert\u001b[0m\u001b[0;34m(\u001b[0m\u001b[0mf\u001b[0m\u001b[0;34m,\u001b[0m \u001b[0mrhs\u001b[0m\u001b[0;34m,\u001b[0m \u001b[0msymbol\u001b[0m\u001b[0;34m,\u001b[0m \u001b[0mdomain\u001b[0m\u001b[0;34m)\u001b[0m\u001b[0;34m\u001b[0m\u001b[0m\n\u001b[0m\u001b[1;32m    883\u001b[0m \u001b[0;34m\u001b[0m\u001b[0m\n",
      "\u001b[0;32m/home/mota/.local/lib/python3.6/site-packages/sympy/solvers/solveset.py\u001b[0m in \u001b[0;36m_invert\u001b[0;34m(f_x, y, x, domain)\u001b[0m\n\u001b[1;32m    147\u001b[0m     \u001b[0;32mif\u001b[0m \u001b[0mx\u001b[0m \u001b[0;32mnot\u001b[0m \u001b[0;32min\u001b[0m \u001b[0mf_x\u001b[0m\u001b[0;34m.\u001b[0m\u001b[0mfree_symbols\u001b[0m\u001b[0;34m:\u001b[0m\u001b[0;34m\u001b[0m\u001b[0m\n\u001b[0;32m--> 148\u001b[0;31m         \u001b[0;32mraise\u001b[0m \u001b[0mValueError\u001b[0m\u001b[0;34m(\u001b[0m\u001b[0;34m\"Inverse of constant function doesn't exist\"\u001b[0m\u001b[0;34m)\u001b[0m\u001b[0;34m\u001b[0m\u001b[0m\n\u001b[0m\u001b[1;32m    149\u001b[0m     \u001b[0my\u001b[0m \u001b[0;34m=\u001b[0m \u001b[0msympify\u001b[0m\u001b[0;34m(\u001b[0m\u001b[0my\u001b[0m\u001b[0;34m)\u001b[0m\u001b[0;34m\u001b[0m\u001b[0m\n",
      "\u001b[0;31mValueError\u001b[0m: Inverse of constant function doesn't exist",
      "\nDuring handling of the above exception, another exception occurred:\n",
      "\u001b[0;31mTypeError\u001b[0m                                 Traceback (most recent call last)",
      "\u001b[0;32m/home/mota/.local/lib/python3.6/site-packages/sympy/core/cache.py\u001b[0m in \u001b[0;36mwrapper\u001b[0;34m(*args, **kwargs)\u001b[0m\n\u001b[1;32m     92\u001b[0m                 \u001b[0;32mtry\u001b[0m\u001b[0;34m:\u001b[0m\u001b[0;34m\u001b[0m\u001b[0m\n\u001b[0;32m---> 93\u001b[0;31m                     \u001b[0mretval\u001b[0m \u001b[0;34m=\u001b[0m \u001b[0mcfunc\u001b[0m\u001b[0;34m(\u001b[0m\u001b[0;34m*\u001b[0m\u001b[0margs\u001b[0m\u001b[0;34m,\u001b[0m \u001b[0;34m**\u001b[0m\u001b[0mkwargs\u001b[0m\u001b[0;34m)\u001b[0m\u001b[0;34m\u001b[0m\u001b[0m\n\u001b[0m\u001b[1;32m     94\u001b[0m                 \u001b[0;32mexcept\u001b[0m \u001b[0mTypeError\u001b[0m\u001b[0;34m:\u001b[0m\u001b[0;34m\u001b[0m\u001b[0m\n",
      "\u001b[0;32m/home/mota/.local/lib/python3.6/site-packages/sympy/core/basic.py\u001b[0m in \u001b[0;36m_subs\u001b[0;34m(self, old, new, **hints)\u001b[0m\n\u001b[1;32m   1043\u001b[0m         \u001b[0;32mif\u001b[0m \u001b[0mrv\u001b[0m \u001b[0;32mis\u001b[0m \u001b[0;32mNone\u001b[0m\u001b[0;34m:\u001b[0m\u001b[0;34m\u001b[0m\u001b[0m\n\u001b[0;32m-> 1044\u001b[0;31m             \u001b[0mrv\u001b[0m \u001b[0;34m=\u001b[0m \u001b[0mfallback\u001b[0m\u001b[0;34m(\u001b[0m\u001b[0mself\u001b[0m\u001b[0;34m,\u001b[0m \u001b[0mold\u001b[0m\u001b[0;34m,\u001b[0m \u001b[0mnew\u001b[0m\u001b[0;34m)\u001b[0m\u001b[0;34m\u001b[0m\u001b[0m\n\u001b[0m\u001b[1;32m   1045\u001b[0m         \u001b[0;32mreturn\u001b[0m \u001b[0mrv\u001b[0m\u001b[0;34m\u001b[0m\u001b[0m\n",
      "\u001b[0;32m/home/mota/.local/lib/python3.6/site-packages/sympy/core/basic.py\u001b[0m in \u001b[0;36mfallback\u001b[0;34m(self, old, new)\u001b[0m\n\u001b[1;32m   1020\u001b[0m             \u001b[0;32mif\u001b[0m \u001b[0mhit\u001b[0m\u001b[0;34m:\u001b[0m\u001b[0;34m\u001b[0m\u001b[0m\n\u001b[0;32m-> 1021\u001b[0;31m                 \u001b[0mrv\u001b[0m \u001b[0;34m=\u001b[0m \u001b[0mself\u001b[0m\u001b[0;34m.\u001b[0m\u001b[0mfunc\u001b[0m\u001b[0;34m(\u001b[0m\u001b[0;34m*\u001b[0m\u001b[0margs\u001b[0m\u001b[0;34m)\u001b[0m\u001b[0;34m\u001b[0m\u001b[0m\n\u001b[0m\u001b[1;32m   1022\u001b[0m                 \u001b[0mhack2\u001b[0m \u001b[0;34m=\u001b[0m \u001b[0mhints\u001b[0m\u001b[0;34m.\u001b[0m\u001b[0mget\u001b[0m\u001b[0;34m(\u001b[0m\u001b[0;34m'hack2'\u001b[0m\u001b[0;34m,\u001b[0m \u001b[0;32mFalse\u001b[0m\u001b[0;34m)\u001b[0m\u001b[0;34m\u001b[0m\u001b[0m\n",
      "\u001b[0;32m/home/mota/.local/lib/python3.6/site-packages/sympy/tensor/indexed.py\u001b[0m in \u001b[0;36m__new__\u001b[0;34m(cls, label, range, **kw_args)\u001b[0m\n\u001b[1;32m    589\u001b[0m         \u001b[0;32mif\u001b[0m \u001b[0;32mnot\u001b[0m \u001b[0mlabel\u001b[0m\u001b[0;34m.\u001b[0m\u001b[0mis_integer\u001b[0m\u001b[0;34m:\u001b[0m\u001b[0;34m\u001b[0m\u001b[0m\n\u001b[0;32m--> 590\u001b[0;31m             \u001b[0;32mraise\u001b[0m \u001b[0mTypeError\u001b[0m\u001b[0;34m(\u001b[0m\u001b[0;34m\"Idx object requires an integer label.\"\u001b[0m\u001b[0;34m)\u001b[0m\u001b[0;34m\u001b[0m\u001b[0m\n\u001b[0m\u001b[1;32m    591\u001b[0m \u001b[0;34m\u001b[0m\u001b[0m\n",
      "\u001b[0;31mTypeError\u001b[0m: Idx object requires an integer label.",
      "\nDuring handling of the above exception, another exception occurred:\n",
      "\u001b[0;31mTypeError\u001b[0m                                 Traceback (most recent call last)",
      "\u001b[0;32m/home/mota/.local/lib/python3.6/site-packages/sympy/core/cache.py\u001b[0m in \u001b[0;36mwrapper\u001b[0;34m(*args, **kwargs)\u001b[0m\n\u001b[1;32m     92\u001b[0m                 \u001b[0;32mtry\u001b[0m\u001b[0;34m:\u001b[0m\u001b[0;34m\u001b[0m\u001b[0m\n\u001b[0;32m---> 93\u001b[0;31m                     \u001b[0mretval\u001b[0m \u001b[0;34m=\u001b[0m \u001b[0mcfunc\u001b[0m\u001b[0;34m(\u001b[0m\u001b[0;34m*\u001b[0m\u001b[0margs\u001b[0m\u001b[0;34m,\u001b[0m \u001b[0;34m**\u001b[0m\u001b[0mkwargs\u001b[0m\u001b[0;34m)\u001b[0m\u001b[0;34m\u001b[0m\u001b[0m\n\u001b[0m\u001b[1;32m     94\u001b[0m                 \u001b[0;32mexcept\u001b[0m \u001b[0mTypeError\u001b[0m\u001b[0;34m:\u001b[0m\u001b[0;34m\u001b[0m\u001b[0m\n",
      "\u001b[0;32m/home/mota/.local/lib/python3.6/site-packages/sympy/core/basic.py\u001b[0m in \u001b[0;36m_subs\u001b[0;34m(self, old, new, **hints)\u001b[0m\n\u001b[1;32m   1043\u001b[0m         \u001b[0;32mif\u001b[0m \u001b[0mrv\u001b[0m \u001b[0;32mis\u001b[0m \u001b[0;32mNone\u001b[0m\u001b[0;34m:\u001b[0m\u001b[0;34m\u001b[0m\u001b[0m\n\u001b[0;32m-> 1044\u001b[0;31m             \u001b[0mrv\u001b[0m \u001b[0;34m=\u001b[0m \u001b[0mfallback\u001b[0m\u001b[0;34m(\u001b[0m\u001b[0mself\u001b[0m\u001b[0;34m,\u001b[0m \u001b[0mold\u001b[0m\u001b[0;34m,\u001b[0m \u001b[0mnew\u001b[0m\u001b[0;34m)\u001b[0m\u001b[0;34m\u001b[0m\u001b[0m\n\u001b[0m\u001b[1;32m   1045\u001b[0m         \u001b[0;32mreturn\u001b[0m \u001b[0mrv\u001b[0m\u001b[0;34m\u001b[0m\u001b[0m\n",
      "\u001b[0;32m/home/mota/.local/lib/python3.6/site-packages/sympy/core/basic.py\u001b[0m in \u001b[0;36mfallback\u001b[0;34m(self, old, new)\u001b[0m\n\u001b[1;32m   1015\u001b[0m                     \u001b[0;32mcontinue\u001b[0m\u001b[0;34m\u001b[0m\u001b[0m\n\u001b[0;32m-> 1016\u001b[0;31m                 \u001b[0marg\u001b[0m \u001b[0;34m=\u001b[0m \u001b[0marg\u001b[0m\u001b[0;34m.\u001b[0m\u001b[0m_subs\u001b[0m\u001b[0;34m(\u001b[0m\u001b[0mold\u001b[0m\u001b[0;34m,\u001b[0m \u001b[0mnew\u001b[0m\u001b[0;34m,\u001b[0m \u001b[0;34m**\u001b[0m\u001b[0mhints\u001b[0m\u001b[0;34m)\u001b[0m\u001b[0;34m\u001b[0m\u001b[0m\n\u001b[0m\u001b[1;32m   1017\u001b[0m                 \u001b[0;32mif\u001b[0m \u001b[0;32mnot\u001b[0m \u001b[0m_aresame\u001b[0m\u001b[0;34m(\u001b[0m\u001b[0marg\u001b[0m\u001b[0;34m,\u001b[0m \u001b[0margs\u001b[0m\u001b[0;34m[\u001b[0m\u001b[0mi\u001b[0m\u001b[0;34m]\u001b[0m\u001b[0;34m)\u001b[0m\u001b[0;34m:\u001b[0m\u001b[0;34m\u001b[0m\u001b[0m\n",
      "\u001b[0;32m/home/mota/.local/lib/python3.6/site-packages/sympy/core/cache.py\u001b[0m in \u001b[0;36mwrapper\u001b[0;34m(*args, **kwargs)\u001b[0m\n\u001b[1;32m     94\u001b[0m                 \u001b[0;32mexcept\u001b[0m \u001b[0mTypeError\u001b[0m\u001b[0;34m:\u001b[0m\u001b[0;34m\u001b[0m\u001b[0m\n\u001b[0;32m---> 95\u001b[0;31m                     \u001b[0mretval\u001b[0m \u001b[0;34m=\u001b[0m \u001b[0mfunc\u001b[0m\u001b[0;34m(\u001b[0m\u001b[0;34m*\u001b[0m\u001b[0margs\u001b[0m\u001b[0;34m,\u001b[0m \u001b[0;34m**\u001b[0m\u001b[0mkwargs\u001b[0m\u001b[0;34m)\u001b[0m\u001b[0;34m\u001b[0m\u001b[0m\n\u001b[0m\u001b[1;32m     96\u001b[0m                 \u001b[0;32mreturn\u001b[0m \u001b[0mretval\u001b[0m\u001b[0;34m\u001b[0m\u001b[0m\n",
      "\u001b[0;32m/home/mota/.local/lib/python3.6/site-packages/sympy/core/basic.py\u001b[0m in \u001b[0;36m_subs\u001b[0;34m(self, old, new, **hints)\u001b[0m\n\u001b[1;32m   1043\u001b[0m         \u001b[0;32mif\u001b[0m \u001b[0mrv\u001b[0m \u001b[0;32mis\u001b[0m \u001b[0;32mNone\u001b[0m\u001b[0;34m:\u001b[0m\u001b[0;34m\u001b[0m\u001b[0m\n\u001b[0;32m-> 1044\u001b[0;31m             \u001b[0mrv\u001b[0m \u001b[0;34m=\u001b[0m \u001b[0mfallback\u001b[0m\u001b[0;34m(\u001b[0m\u001b[0mself\u001b[0m\u001b[0;34m,\u001b[0m \u001b[0mold\u001b[0m\u001b[0;34m,\u001b[0m \u001b[0mnew\u001b[0m\u001b[0;34m)\u001b[0m\u001b[0;34m\u001b[0m\u001b[0m\n\u001b[0m\u001b[1;32m   1045\u001b[0m         \u001b[0;32mreturn\u001b[0m \u001b[0mrv\u001b[0m\u001b[0;34m\u001b[0m\u001b[0m\n",
      "\u001b[0;32m/home/mota/.local/lib/python3.6/site-packages/sympy/core/basic.py\u001b[0m in \u001b[0;36mfallback\u001b[0;34m(self, old, new)\u001b[0m\n\u001b[1;32m   1020\u001b[0m             \u001b[0;32mif\u001b[0m \u001b[0mhit\u001b[0m\u001b[0;34m:\u001b[0m\u001b[0;34m\u001b[0m\u001b[0m\n\u001b[0;32m-> 1021\u001b[0;31m                 \u001b[0mrv\u001b[0m \u001b[0;34m=\u001b[0m \u001b[0mself\u001b[0m\u001b[0;34m.\u001b[0m\u001b[0mfunc\u001b[0m\u001b[0;34m(\u001b[0m\u001b[0;34m*\u001b[0m\u001b[0margs\u001b[0m\u001b[0;34m)\u001b[0m\u001b[0;34m\u001b[0m\u001b[0m\n\u001b[0m\u001b[1;32m   1022\u001b[0m                 \u001b[0mhack2\u001b[0m \u001b[0;34m=\u001b[0m \u001b[0mhints\u001b[0m\u001b[0;34m.\u001b[0m\u001b[0mget\u001b[0m\u001b[0;34m(\u001b[0m\u001b[0;34m'hack2'\u001b[0m\u001b[0;34m,\u001b[0m \u001b[0;32mFalse\u001b[0m\u001b[0;34m)\u001b[0m\u001b[0;34m\u001b[0m\u001b[0m\n",
      "\u001b[0;32m/home/mota/.local/lib/python3.6/site-packages/sympy/tensor/indexed.py\u001b[0m in \u001b[0;36m__new__\u001b[0;34m(cls, label, range, **kw_args)\u001b[0m\n\u001b[1;32m    589\u001b[0m         \u001b[0;32mif\u001b[0m \u001b[0;32mnot\u001b[0m \u001b[0mlabel\u001b[0m\u001b[0;34m.\u001b[0m\u001b[0mis_integer\u001b[0m\u001b[0;34m:\u001b[0m\u001b[0;34m\u001b[0m\u001b[0m\n\u001b[0;32m--> 590\u001b[0;31m             \u001b[0;32mraise\u001b[0m \u001b[0mTypeError\u001b[0m\u001b[0;34m(\u001b[0m\u001b[0;34m\"Idx object requires an integer label.\"\u001b[0m\u001b[0;34m)\u001b[0m\u001b[0;34m\u001b[0m\u001b[0m\n\u001b[0m\u001b[1;32m    591\u001b[0m \u001b[0;34m\u001b[0m\u001b[0m\n",
      "\u001b[0;31mTypeError\u001b[0m: Idx object requires an integer label.",
      "\nDuring handling of the above exception, another exception occurred:\n",
      "\u001b[0;31mTypeError\u001b[0m                                 Traceback (most recent call last)",
      "\u001b[0;32m/home/mota/.local/lib/python3.6/site-packages/sympy/core/cache.py\u001b[0m in \u001b[0;36mwrapper\u001b[0;34m(*args, **kwargs)\u001b[0m\n\u001b[1;32m     92\u001b[0m                 \u001b[0;32mtry\u001b[0m\u001b[0;34m:\u001b[0m\u001b[0;34m\u001b[0m\u001b[0m\n\u001b[0;32m---> 93\u001b[0;31m                     \u001b[0mretval\u001b[0m \u001b[0;34m=\u001b[0m \u001b[0mcfunc\u001b[0m\u001b[0;34m(\u001b[0m\u001b[0;34m*\u001b[0m\u001b[0margs\u001b[0m\u001b[0;34m,\u001b[0m \u001b[0;34m**\u001b[0m\u001b[0mkwargs\u001b[0m\u001b[0;34m)\u001b[0m\u001b[0;34m\u001b[0m\u001b[0m\n\u001b[0m\u001b[1;32m     94\u001b[0m                 \u001b[0;32mexcept\u001b[0m \u001b[0mTypeError\u001b[0m\u001b[0;34m:\u001b[0m\u001b[0;34m\u001b[0m\u001b[0m\n",
      "\u001b[0;32m/home/mota/.local/lib/python3.6/site-packages/sympy/core/basic.py\u001b[0m in \u001b[0;36m_subs\u001b[0;34m(self, old, new, **hints)\u001b[0m\n\u001b[1;32m   1043\u001b[0m         \u001b[0;32mif\u001b[0m \u001b[0mrv\u001b[0m \u001b[0;32mis\u001b[0m \u001b[0;32mNone\u001b[0m\u001b[0;34m:\u001b[0m\u001b[0;34m\u001b[0m\u001b[0m\n\u001b[0;32m-> 1044\u001b[0;31m             \u001b[0mrv\u001b[0m \u001b[0;34m=\u001b[0m \u001b[0mfallback\u001b[0m\u001b[0;34m(\u001b[0m\u001b[0mself\u001b[0m\u001b[0;34m,\u001b[0m \u001b[0mold\u001b[0m\u001b[0;34m,\u001b[0m \u001b[0mnew\u001b[0m\u001b[0;34m)\u001b[0m\u001b[0;34m\u001b[0m\u001b[0m\n\u001b[0m\u001b[1;32m   1045\u001b[0m         \u001b[0;32mreturn\u001b[0m \u001b[0mrv\u001b[0m\u001b[0;34m\u001b[0m\u001b[0m\n",
      "\u001b[0;32m/home/mota/.local/lib/python3.6/site-packages/sympy/core/basic.py\u001b[0m in \u001b[0;36mfallback\u001b[0;34m(self, old, new)\u001b[0m\n\u001b[1;32m   1020\u001b[0m             \u001b[0;32mif\u001b[0m \u001b[0mhit\u001b[0m\u001b[0;34m:\u001b[0m\u001b[0;34m\u001b[0m\u001b[0m\n\u001b[0;32m-> 1021\u001b[0;31m                 \u001b[0mrv\u001b[0m \u001b[0;34m=\u001b[0m \u001b[0mself\u001b[0m\u001b[0;34m.\u001b[0m\u001b[0mfunc\u001b[0m\u001b[0;34m(\u001b[0m\u001b[0;34m*\u001b[0m\u001b[0margs\u001b[0m\u001b[0;34m)\u001b[0m\u001b[0;34m\u001b[0m\u001b[0m\n\u001b[0m\u001b[1;32m   1022\u001b[0m                 \u001b[0mhack2\u001b[0m \u001b[0;34m=\u001b[0m \u001b[0mhints\u001b[0m\u001b[0;34m.\u001b[0m\u001b[0mget\u001b[0m\u001b[0;34m(\u001b[0m\u001b[0;34m'hack2'\u001b[0m\u001b[0;34m,\u001b[0m \u001b[0;32mFalse\u001b[0m\u001b[0;34m)\u001b[0m\u001b[0;34m\u001b[0m\u001b[0m\n",
      "\u001b[0;32m/home/mota/.local/lib/python3.6/site-packages/sympy/tensor/indexed.py\u001b[0m in \u001b[0;36m__new__\u001b[0;34m(cls, label, range, **kw_args)\u001b[0m\n\u001b[1;32m    589\u001b[0m         \u001b[0;32mif\u001b[0m \u001b[0;32mnot\u001b[0m \u001b[0mlabel\u001b[0m\u001b[0;34m.\u001b[0m\u001b[0mis_integer\u001b[0m\u001b[0;34m:\u001b[0m\u001b[0;34m\u001b[0m\u001b[0m\n\u001b[0;32m--> 590\u001b[0;31m             \u001b[0;32mraise\u001b[0m \u001b[0mTypeError\u001b[0m\u001b[0;34m(\u001b[0m\u001b[0;34m\"Idx object requires an integer label.\"\u001b[0m\u001b[0;34m)\u001b[0m\u001b[0;34m\u001b[0m\u001b[0m\n\u001b[0m\u001b[1;32m    591\u001b[0m \u001b[0;34m\u001b[0m\u001b[0m\n",
      "\u001b[0;31mTypeError\u001b[0m: Idx object requires an integer label.",
      "\nDuring handling of the above exception, another exception occurred:\n",
      "\u001b[0;31mTypeError\u001b[0m                                 Traceback (most recent call last)",
      "\u001b[0;32m<ipython-input-314-b1b484bd04e7>\u001b[0m in \u001b[0;36m<module>\u001b[0;34m()\u001b[0m\n\u001b[0;32m----> 1\u001b[0;31m \u001b[0mIv\u001b[0m \u001b[0;34m=\u001b[0m \u001b[0mintegrate\u001b[0m\u001b[0;34m(\u001b[0m \u001b[0mdv_dt\u001b[0m\u001b[0;34m.\u001b[0m\u001b[0mreplace\u001b[0m\u001b[0;34m(\u001b[0m\u001b[0mr\u001b[0m\u001b[0;34m[\u001b[0m\u001b[0mc\u001b[0m\u001b[0;34m]\u001b[0m\u001b[0;34m,\u001b[0m\u001b[0mx\u001b[0m\u001b[0;34m)\u001b[0m\u001b[0;34m,\u001b[0m \u001b[0;34m(\u001b[0m\u001b[0mx\u001b[0m\u001b[0;34m,\u001b[0m\u001b[0;34m-\u001b[0m\u001b[0moo\u001b[0m\u001b[0;34m,\u001b[0m\u001b[0moo\u001b[0m\u001b[0;34m)\u001b[0m \u001b[0;34m)\u001b[0m\u001b[0;34m\u001b[0m\u001b[0m\n\u001b[0m",
      "\u001b[0;32m/home/mota/.local/lib/python3.6/site-packages/sympy/integrals/integrals.py\u001b[0m in \u001b[0;36mintegrate\u001b[0;34m(*args, **kwargs)\u001b[0m\n\u001b[1;32m   1463\u001b[0m     \u001b[0;32mif\u001b[0m \u001b[0misinstance\u001b[0m\u001b[0;34m(\u001b[0m\u001b[0mintegral\u001b[0m\u001b[0;34m,\u001b[0m \u001b[0mIntegral\u001b[0m\u001b[0;34m)\u001b[0m\u001b[0;34m:\u001b[0m\u001b[0;34m\u001b[0m\u001b[0m\n\u001b[1;32m   1464\u001b[0m         return integral.doit(deep=False, meijerg=meijerg, conds=conds,\n\u001b[0;32m-> 1465\u001b[0;31m                              risch=risch, manual=manual)\n\u001b[0m\u001b[1;32m   1466\u001b[0m     \u001b[0;32melse\u001b[0m\u001b[0;34m:\u001b[0m\u001b[0;34m\u001b[0m\u001b[0m\n\u001b[1;32m   1467\u001b[0m         \u001b[0;32mreturn\u001b[0m \u001b[0mintegral\u001b[0m\u001b[0;34m\u001b[0m\u001b[0m\n",
      "\u001b[0;32m/home/mota/.local/lib/python3.6/site-packages/sympy/integrals/integrals.py\u001b[0m in \u001b[0;36mdoit\u001b[0;34m(self, **hints)\u001b[0m\n\u001b[1;32m    631\u001b[0m                         \u001b[0;32mtry\u001b[0m\u001b[0;34m:\u001b[0m\u001b[0;34m\u001b[0m\u001b[0m\n\u001b[1;32m    632\u001b[0m                             \u001b[0mevalued\u001b[0m \u001b[0;34m=\u001b[0m \u001b[0mAdd\u001b[0m\u001b[0;34m(\u001b[0m\u001b[0;34m*\u001b[0m\u001b[0mothers\u001b[0m\u001b[0;34m)\u001b[0m\u001b[0;34m.\u001b[0m\u001b[0m_eval_interval\u001b[0m\u001b[0;34m(\u001b[0m\u001b[0mx\u001b[0m\u001b[0;34m,\u001b[0m \u001b[0ma\u001b[0m\u001b[0;34m,\u001b[0m \u001b[0mb\u001b[0m\u001b[0;34m)\u001b[0m\u001b[0;34m\u001b[0m\u001b[0m\n\u001b[0;32m--> 633\u001b[0;31m                             \u001b[0mevalued_pw\u001b[0m \u001b[0;34m=\u001b[0m \u001b[0mpiecewise_fold\u001b[0m\u001b[0;34m(\u001b[0m\u001b[0mAdd\u001b[0m\u001b[0;34m(\u001b[0m\u001b[0;34m*\u001b[0m\u001b[0mpiecewises\u001b[0m\u001b[0;34m)\u001b[0m\u001b[0;34m)\u001b[0m\u001b[0;34m.\u001b[0m\u001b[0m_eval_interval\u001b[0m\u001b[0;34m(\u001b[0m\u001b[0mx\u001b[0m\u001b[0;34m,\u001b[0m \u001b[0ma\u001b[0m\u001b[0;34m,\u001b[0m \u001b[0mb\u001b[0m\u001b[0;34m)\u001b[0m\u001b[0;34m\u001b[0m\u001b[0m\n\u001b[0m\u001b[1;32m    634\u001b[0m                             \u001b[0mfunction\u001b[0m \u001b[0;34m=\u001b[0m \u001b[0muneval\u001b[0m \u001b[0;34m+\u001b[0m \u001b[0mevalued\u001b[0m \u001b[0;34m+\u001b[0m \u001b[0mevalued_pw\u001b[0m\u001b[0;34m\u001b[0m\u001b[0m\n\u001b[1;32m    635\u001b[0m                         \u001b[0;32mexcept\u001b[0m \u001b[0mNotImplementedError\u001b[0m\u001b[0;34m:\u001b[0m\u001b[0;34m\u001b[0m\u001b[0m\n",
      "\u001b[0;32m/home/mota/.local/lib/python3.6/site-packages/sympy/functions/elementary/piecewise.py\u001b[0m in \u001b[0;36m_eval_interval\u001b[0;34m(self, sym, a, b, _first)\u001b[0m\n\u001b[1;32m    560\u001b[0m                 \u001b[0;32melse\u001b[0m\u001b[0;34m:\u001b[0m\u001b[0;34m\u001b[0m\u001b[0m\n\u001b[1;32m    561\u001b[0m                     \u001b[0;32mreturn\u001b[0m \u001b[0mipw\u001b[0m\u001b[0;34m.\u001b[0m\u001b[0m_eval_interval\u001b[0m\u001b[0;34m(\u001b[0m\u001b[0mx\u001b[0m\u001b[0;34m,\u001b[0m \u001b[0mlo\u001b[0m\u001b[0;34m,\u001b[0m \u001b[0mhi\u001b[0m\u001b[0;34m)\u001b[0m\u001b[0;34m\u001b[0m\u001b[0m\n\u001b[0;32m--> 562\u001b[0;31m             \u001b[0mirv\u001b[0m \u001b[0;34m=\u001b[0m \u001b[0mself\u001b[0m\u001b[0;34m.\u001b[0m\u001b[0m_handle_irel\u001b[0m\u001b[0;34m(\u001b[0m\u001b[0mx\u001b[0m\u001b[0;34m,\u001b[0m \u001b[0mhandler\u001b[0m\u001b[0;34m)\u001b[0m\u001b[0;34m\u001b[0m\u001b[0m\n\u001b[0m\u001b[1;32m    563\u001b[0m             \u001b[0;32mif\u001b[0m \u001b[0mirv\u001b[0m \u001b[0;32mis\u001b[0m \u001b[0;32mnot\u001b[0m \u001b[0;32mNone\u001b[0m\u001b[0;34m:\u001b[0m\u001b[0;34m\u001b[0m\u001b[0m\n\u001b[1;32m    564\u001b[0m                 \u001b[0;32mreturn\u001b[0m \u001b[0mirv\u001b[0m\u001b[0;34m\u001b[0m\u001b[0m\n",
      "\u001b[0;32m/home/mota/.local/lib/python3.6/site-packages/sympy/functions/elementary/piecewise.py\u001b[0m in \u001b[0;36m_handle_irel\u001b[0;34m(self, x, handler)\u001b[0m\n\u001b[1;32m    402\u001b[0m                             reduce_inequalities, _solve_inequality)\n\u001b[1;32m    403\u001b[0m                         \u001b[0;32mtry\u001b[0m\u001b[0;34m:\u001b[0m\u001b[0;34m\u001b[0m\u001b[0m\n\u001b[0;32m--> 404\u001b[0;31m                             \u001b[0mt\u001b[0m \u001b[0;34m=\u001b[0m \u001b[0mreduce_inequalities\u001b[0m\u001b[0;34m(\u001b[0m\u001b[0mandargs\u001b[0m\u001b[0;34m,\u001b[0m \u001b[0mfree\u001b[0m\u001b[0;34m[\u001b[0m\u001b[0;36m0\u001b[0m\u001b[0;34m]\u001b[0m\u001b[0;34m)\u001b[0m\u001b[0;34m\u001b[0m\u001b[0m\n\u001b[0m\u001b[1;32m    405\u001b[0m                             \u001b[0;31m# ValueError when there are potentially\u001b[0m\u001b[0;34m\u001b[0m\u001b[0;34m\u001b[0m\u001b[0m\n\u001b[1;32m    406\u001b[0m                             \u001b[0;31m# nonvanishing imaginary parts\u001b[0m\u001b[0;34m\u001b[0m\u001b[0;34m\u001b[0m\u001b[0m\n",
      "\u001b[0;32m/home/mota/.local/lib/python3.6/site-packages/sympy/solvers/inequalities.py\u001b[0m in \u001b[0;36mreduce_inequalities\u001b[0;34m(inequalities, symbols)\u001b[0m\n\u001b[1;32m    985\u001b[0m \u001b[0;34m\u001b[0m\u001b[0m\n\u001b[1;32m    986\u001b[0m     \u001b[0;31m# solve system\u001b[0m\u001b[0;34m\u001b[0m\u001b[0;34m\u001b[0m\u001b[0m\n\u001b[0;32m--> 987\u001b[0;31m     \u001b[0mrv\u001b[0m \u001b[0;34m=\u001b[0m \u001b[0m_reduce_inequalities\u001b[0m\u001b[0;34m(\u001b[0m\u001b[0minequalities\u001b[0m\u001b[0;34m,\u001b[0m \u001b[0msymbols\u001b[0m\u001b[0;34m)\u001b[0m\u001b[0;34m\u001b[0m\u001b[0m\n\u001b[0m\u001b[1;32m    988\u001b[0m \u001b[0;34m\u001b[0m\u001b[0m\n\u001b[1;32m    989\u001b[0m     \u001b[0;31m# restore original symbols and return\u001b[0m\u001b[0;34m\u001b[0m\u001b[0;34m\u001b[0m\u001b[0m\n",
      "\u001b[0;32m/home/mota/.local/lib/python3.6/site-packages/sympy/solvers/inequalities.py\u001b[0m in \u001b[0;36m_reduce_inequalities\u001b[0;34m(inequalities, symbols)\u001b[0m\n\u001b[1;32m    922\u001b[0m \u001b[0;34m\u001b[0m\u001b[0m\n\u001b[1;32m    923\u001b[0m     \u001b[0;32mfor\u001b[0m \u001b[0mgen\u001b[0m\u001b[0;34m,\u001b[0m \u001b[0mexprs\u001b[0m \u001b[0;32min\u001b[0m \u001b[0mpoly_part\u001b[0m\u001b[0;34m.\u001b[0m\u001b[0mitems\u001b[0m\u001b[0;34m(\u001b[0m\u001b[0;34m)\u001b[0m\u001b[0;34m:\u001b[0m\u001b[0;34m\u001b[0m\u001b[0m\n\u001b[0;32m--> 924\u001b[0;31m         \u001b[0mpoly_reduced\u001b[0m\u001b[0;34m.\u001b[0m\u001b[0mappend\u001b[0m\u001b[0;34m(\u001b[0m\u001b[0mreduce_rational_inequalities\u001b[0m\u001b[0;34m(\u001b[0m\u001b[0;34m[\u001b[0m\u001b[0mexprs\u001b[0m\u001b[0;34m]\u001b[0m\u001b[0;34m,\u001b[0m \u001b[0mgen\u001b[0m\u001b[0;34m)\u001b[0m\u001b[0;34m)\u001b[0m\u001b[0;34m\u001b[0m\u001b[0m\n\u001b[0m\u001b[1;32m    925\u001b[0m \u001b[0;34m\u001b[0m\u001b[0m\n\u001b[1;32m    926\u001b[0m     \u001b[0;32mfor\u001b[0m \u001b[0mgen\u001b[0m\u001b[0;34m,\u001b[0m \u001b[0mexprs\u001b[0m \u001b[0;32min\u001b[0m \u001b[0mabs_part\u001b[0m\u001b[0;34m.\u001b[0m\u001b[0mitems\u001b[0m\u001b[0;34m(\u001b[0m\u001b[0;34m)\u001b[0m\u001b[0;34m:\u001b[0m\u001b[0;34m\u001b[0m\u001b[0m\n",
      "\u001b[0;32m/home/mota/.local/lib/python3.6/site-packages/sympy/solvers/inequalities.py\u001b[0m in \u001b[0;36mreduce_rational_inequalities\u001b[0;34m(exprs, gen, relational)\u001b[0m\n\u001b[1;32m    257\u001b[0m                 \u001b[0mexpr\u001b[0m \u001b[0;34m=\u001b[0m \u001b[0mnumer\u001b[0m\u001b[0;34m/\u001b[0m\u001b[0mdenom\u001b[0m\u001b[0;34m\u001b[0m\u001b[0m\n\u001b[1;32m    258\u001b[0m                 \u001b[0mexpr\u001b[0m \u001b[0;34m=\u001b[0m \u001b[0mRelational\u001b[0m\u001b[0;34m(\u001b[0m\u001b[0mexpr\u001b[0m\u001b[0;34m,\u001b[0m \u001b[0;36m0\u001b[0m\u001b[0;34m,\u001b[0m \u001b[0mrel\u001b[0m\u001b[0;34m)\u001b[0m\u001b[0;34m\u001b[0m\u001b[0m\n\u001b[0;32m--> 259\u001b[0;31m                 \u001b[0msolution\u001b[0m \u001b[0;34m&=\u001b[0m \u001b[0msolve_univariate_inequality\u001b[0m\u001b[0;34m(\u001b[0m\u001b[0mexpr\u001b[0m\u001b[0;34m,\u001b[0m \u001b[0mgen\u001b[0m\u001b[0;34m,\u001b[0m \u001b[0mrelational\u001b[0m\u001b[0;34m=\u001b[0m\u001b[0;32mFalse\u001b[0m\u001b[0;34m)\u001b[0m\u001b[0;34m\u001b[0m\u001b[0m\n\u001b[0m\u001b[1;32m    260\u001b[0m             \u001b[0;32melse\u001b[0m\u001b[0;34m:\u001b[0m\u001b[0;34m\u001b[0m\u001b[0m\n\u001b[1;32m    261\u001b[0m                 \u001b[0m_eqs\u001b[0m\u001b[0;34m.\u001b[0m\u001b[0mappend\u001b[0m\u001b[0;34m(\u001b[0m\u001b[0;34m(\u001b[0m\u001b[0;34m(\u001b[0m\u001b[0mnumer\u001b[0m\u001b[0;34m,\u001b[0m \u001b[0mdenom\u001b[0m\u001b[0;34m)\u001b[0m\u001b[0;34m,\u001b[0m \u001b[0mrel\u001b[0m\u001b[0;34m)\u001b[0m\u001b[0;34m)\u001b[0m\u001b[0;34m\u001b[0m\u001b[0m\n",
      "\u001b[0;32m/home/mota/.local/lib/python3.6/site-packages/sympy/solvers/inequalities.py\u001b[0m in \u001b[0;36msolve_univariate_inequality\u001b[0;34m(expr, gen, relational, domain, continuous)\u001b[0m\n\u001b[1;32m    526\u001b[0m                     \u001b[0mThe\u001b[0m \u001b[0minequality\u001b[0m\u001b[0;34m,\u001b[0m \u001b[0;34m%\u001b[0m\u001b[0ms\u001b[0m\u001b[0;34m,\u001b[0m \u001b[0mcannot\u001b[0m \u001b[0mbe\u001b[0m \u001b[0msolved\u001b[0m \u001b[0musing\u001b[0m\u001b[0;34m\u001b[0m\u001b[0m\n\u001b[1;32m    527\u001b[0m                     \u001b[0msolve_univariate_inequality\u001b[0m\u001b[0;34m.\u001b[0m\u001b[0;34m\u001b[0m\u001b[0m\n\u001b[0;32m--> 528\u001b[0;31m                     ''' % expr.subs(gen, Symbol('x'))))\n\u001b[0m\u001b[1;32m    529\u001b[0m \u001b[0;34m\u001b[0m\u001b[0m\n\u001b[1;32m    530\u001b[0m             \u001b[0mexpanded_e\u001b[0m \u001b[0;34m=\u001b[0m \u001b[0mexpand_mul\u001b[0m\u001b[0;34m(\u001b[0m\u001b[0me\u001b[0m\u001b[0;34m)\u001b[0m\u001b[0;34m\u001b[0m\u001b[0m\n",
      "\u001b[0;32m/home/mota/.local/lib/python3.6/site-packages/sympy/core/basic.py\u001b[0m in \u001b[0;36msubs\u001b[0;34m(self, *args, **kwargs)\u001b[0m\n\u001b[1;32m    928\u001b[0m             \u001b[0mrv\u001b[0m \u001b[0;34m=\u001b[0m \u001b[0mself\u001b[0m\u001b[0;34m\u001b[0m\u001b[0m\n\u001b[1;32m    929\u001b[0m             \u001b[0;32mfor\u001b[0m \u001b[0mold\u001b[0m\u001b[0;34m,\u001b[0m \u001b[0mnew\u001b[0m \u001b[0;32min\u001b[0m \u001b[0msequence\u001b[0m\u001b[0;34m:\u001b[0m\u001b[0;34m\u001b[0m\u001b[0m\n\u001b[0;32m--> 930\u001b[0;31m                 \u001b[0mrv\u001b[0m \u001b[0;34m=\u001b[0m \u001b[0mrv\u001b[0m\u001b[0;34m.\u001b[0m\u001b[0m_subs\u001b[0m\u001b[0;34m(\u001b[0m\u001b[0mold\u001b[0m\u001b[0;34m,\u001b[0m \u001b[0mnew\u001b[0m\u001b[0;34m,\u001b[0m \u001b[0;34m**\u001b[0m\u001b[0mkwargs\u001b[0m\u001b[0;34m)\u001b[0m\u001b[0;34m\u001b[0m\u001b[0m\n\u001b[0m\u001b[1;32m    931\u001b[0m                 \u001b[0;32mif\u001b[0m \u001b[0;32mnot\u001b[0m \u001b[0misinstance\u001b[0m\u001b[0;34m(\u001b[0m\u001b[0mrv\u001b[0m\u001b[0;34m,\u001b[0m \u001b[0mBasic\u001b[0m\u001b[0;34m)\u001b[0m\u001b[0;34m:\u001b[0m\u001b[0;34m\u001b[0m\u001b[0m\n\u001b[1;32m    932\u001b[0m                     \u001b[0;32mbreak\u001b[0m\u001b[0;34m\u001b[0m\u001b[0m\n",
      "\u001b[0;32m/home/mota/.local/lib/python3.6/site-packages/sympy/core/cache.py\u001b[0m in \u001b[0;36mwrapper\u001b[0;34m(*args, **kwargs)\u001b[0m\n\u001b[1;32m     93\u001b[0m                     \u001b[0mretval\u001b[0m \u001b[0;34m=\u001b[0m \u001b[0mcfunc\u001b[0m\u001b[0;34m(\u001b[0m\u001b[0;34m*\u001b[0m\u001b[0margs\u001b[0m\u001b[0;34m,\u001b[0m \u001b[0;34m**\u001b[0m\u001b[0mkwargs\u001b[0m\u001b[0;34m)\u001b[0m\u001b[0;34m\u001b[0m\u001b[0m\n\u001b[1;32m     94\u001b[0m                 \u001b[0;32mexcept\u001b[0m \u001b[0mTypeError\u001b[0m\u001b[0;34m:\u001b[0m\u001b[0;34m\u001b[0m\u001b[0m\n\u001b[0;32m---> 95\u001b[0;31m                     \u001b[0mretval\u001b[0m \u001b[0;34m=\u001b[0m \u001b[0mfunc\u001b[0m\u001b[0;34m(\u001b[0m\u001b[0;34m*\u001b[0m\u001b[0margs\u001b[0m\u001b[0;34m,\u001b[0m \u001b[0;34m**\u001b[0m\u001b[0mkwargs\u001b[0m\u001b[0;34m)\u001b[0m\u001b[0;34m\u001b[0m\u001b[0m\n\u001b[0m\u001b[1;32m     96\u001b[0m                 \u001b[0;32mreturn\u001b[0m \u001b[0mretval\u001b[0m\u001b[0;34m\u001b[0m\u001b[0m\n\u001b[1;32m     97\u001b[0m \u001b[0;34m\u001b[0m\u001b[0m\n",
      "\u001b[0;32m/home/mota/.local/lib/python3.6/site-packages/sympy/core/basic.py\u001b[0m in \u001b[0;36m_subs\u001b[0;34m(self, old, new, **hints)\u001b[0m\n\u001b[1;32m   1042\u001b[0m         \u001b[0mrv\u001b[0m \u001b[0;34m=\u001b[0m \u001b[0mself\u001b[0m\u001b[0;34m.\u001b[0m\u001b[0m_eval_subs\u001b[0m\u001b[0;34m(\u001b[0m\u001b[0mold\u001b[0m\u001b[0;34m,\u001b[0m \u001b[0mnew\u001b[0m\u001b[0;34m)\u001b[0m\u001b[0;34m\u001b[0m\u001b[0m\n\u001b[1;32m   1043\u001b[0m         \u001b[0;32mif\u001b[0m \u001b[0mrv\u001b[0m \u001b[0;32mis\u001b[0m \u001b[0;32mNone\u001b[0m\u001b[0;34m:\u001b[0m\u001b[0;34m\u001b[0m\u001b[0m\n\u001b[0;32m-> 1044\u001b[0;31m             \u001b[0mrv\u001b[0m \u001b[0;34m=\u001b[0m \u001b[0mfallback\u001b[0m\u001b[0;34m(\u001b[0m\u001b[0mself\u001b[0m\u001b[0;34m,\u001b[0m \u001b[0mold\u001b[0m\u001b[0;34m,\u001b[0m \u001b[0mnew\u001b[0m\u001b[0;34m)\u001b[0m\u001b[0;34m\u001b[0m\u001b[0m\n\u001b[0m\u001b[1;32m   1045\u001b[0m         \u001b[0;32mreturn\u001b[0m \u001b[0mrv\u001b[0m\u001b[0;34m\u001b[0m\u001b[0m\n\u001b[1;32m   1046\u001b[0m \u001b[0;34m\u001b[0m\u001b[0m\n",
      "\u001b[0;32m/home/mota/.local/lib/python3.6/site-packages/sympy/core/basic.py\u001b[0m in \u001b[0;36mfallback\u001b[0;34m(self, old, new)\u001b[0m\n\u001b[1;32m   1014\u001b[0m                 \u001b[0;32mif\u001b[0m \u001b[0;32mnot\u001b[0m \u001b[0mhasattr\u001b[0m\u001b[0;34m(\u001b[0m\u001b[0marg\u001b[0m\u001b[0;34m,\u001b[0m \u001b[0;34m'_eval_subs'\u001b[0m\u001b[0;34m)\u001b[0m\u001b[0;34m:\u001b[0m\u001b[0;34m\u001b[0m\u001b[0m\n\u001b[1;32m   1015\u001b[0m                     \u001b[0;32mcontinue\u001b[0m\u001b[0;34m\u001b[0m\u001b[0m\n\u001b[0;32m-> 1016\u001b[0;31m                 \u001b[0marg\u001b[0m \u001b[0;34m=\u001b[0m \u001b[0marg\u001b[0m\u001b[0;34m.\u001b[0m\u001b[0m_subs\u001b[0m\u001b[0;34m(\u001b[0m\u001b[0mold\u001b[0m\u001b[0;34m,\u001b[0m \u001b[0mnew\u001b[0m\u001b[0;34m,\u001b[0m \u001b[0;34m**\u001b[0m\u001b[0mhints\u001b[0m\u001b[0;34m)\u001b[0m\u001b[0;34m\u001b[0m\u001b[0m\n\u001b[0m\u001b[1;32m   1017\u001b[0m                 \u001b[0;32mif\u001b[0m \u001b[0;32mnot\u001b[0m \u001b[0m_aresame\u001b[0m\u001b[0;34m(\u001b[0m\u001b[0marg\u001b[0m\u001b[0;34m,\u001b[0m \u001b[0margs\u001b[0m\u001b[0;34m[\u001b[0m\u001b[0mi\u001b[0m\u001b[0;34m]\u001b[0m\u001b[0;34m)\u001b[0m\u001b[0;34m:\u001b[0m\u001b[0;34m\u001b[0m\u001b[0m\n\u001b[1;32m   1018\u001b[0m                     \u001b[0mhit\u001b[0m \u001b[0;34m=\u001b[0m \u001b[0;32mTrue\u001b[0m\u001b[0;34m\u001b[0m\u001b[0m\n",
      "\u001b[0;32m/home/mota/.local/lib/python3.6/site-packages/sympy/core/cache.py\u001b[0m in \u001b[0;36mwrapper\u001b[0;34m(*args, **kwargs)\u001b[0m\n\u001b[1;32m     93\u001b[0m                     \u001b[0mretval\u001b[0m \u001b[0;34m=\u001b[0m \u001b[0mcfunc\u001b[0m\u001b[0;34m(\u001b[0m\u001b[0;34m*\u001b[0m\u001b[0margs\u001b[0m\u001b[0;34m,\u001b[0m \u001b[0;34m**\u001b[0m\u001b[0mkwargs\u001b[0m\u001b[0;34m)\u001b[0m\u001b[0;34m\u001b[0m\u001b[0m\n\u001b[1;32m     94\u001b[0m                 \u001b[0;32mexcept\u001b[0m \u001b[0mTypeError\u001b[0m\u001b[0;34m:\u001b[0m\u001b[0;34m\u001b[0m\u001b[0m\n\u001b[0;32m---> 95\u001b[0;31m                     \u001b[0mretval\u001b[0m \u001b[0;34m=\u001b[0m \u001b[0mfunc\u001b[0m\u001b[0;34m(\u001b[0m\u001b[0;34m*\u001b[0m\u001b[0margs\u001b[0m\u001b[0;34m,\u001b[0m \u001b[0;34m**\u001b[0m\u001b[0mkwargs\u001b[0m\u001b[0;34m)\u001b[0m\u001b[0;34m\u001b[0m\u001b[0m\n\u001b[0m\u001b[1;32m     96\u001b[0m                 \u001b[0;32mreturn\u001b[0m \u001b[0mretval\u001b[0m\u001b[0;34m\u001b[0m\u001b[0m\n\u001b[1;32m     97\u001b[0m \u001b[0;34m\u001b[0m\u001b[0m\n",
      "\u001b[0;32m/home/mota/.local/lib/python3.6/site-packages/sympy/core/basic.py\u001b[0m in \u001b[0;36m_subs\u001b[0;34m(self, old, new, **hints)\u001b[0m\n\u001b[1;32m   1042\u001b[0m         \u001b[0mrv\u001b[0m \u001b[0;34m=\u001b[0m \u001b[0mself\u001b[0m\u001b[0;34m.\u001b[0m\u001b[0m_eval_subs\u001b[0m\u001b[0;34m(\u001b[0m\u001b[0mold\u001b[0m\u001b[0;34m,\u001b[0m \u001b[0mnew\u001b[0m\u001b[0;34m)\u001b[0m\u001b[0;34m\u001b[0m\u001b[0m\n\u001b[1;32m   1043\u001b[0m         \u001b[0;32mif\u001b[0m \u001b[0mrv\u001b[0m \u001b[0;32mis\u001b[0m \u001b[0;32mNone\u001b[0m\u001b[0;34m:\u001b[0m\u001b[0;34m\u001b[0m\u001b[0m\n\u001b[0;32m-> 1044\u001b[0;31m             \u001b[0mrv\u001b[0m \u001b[0;34m=\u001b[0m \u001b[0mfallback\u001b[0m\u001b[0;34m(\u001b[0m\u001b[0mself\u001b[0m\u001b[0;34m,\u001b[0m \u001b[0mold\u001b[0m\u001b[0;34m,\u001b[0m \u001b[0mnew\u001b[0m\u001b[0;34m)\u001b[0m\u001b[0;34m\u001b[0m\u001b[0m\n\u001b[0m\u001b[1;32m   1045\u001b[0m         \u001b[0;32mreturn\u001b[0m \u001b[0mrv\u001b[0m\u001b[0;34m\u001b[0m\u001b[0m\n\u001b[1;32m   1046\u001b[0m \u001b[0;34m\u001b[0m\u001b[0m\n",
      "\u001b[0;32m/home/mota/.local/lib/python3.6/site-packages/sympy/core/basic.py\u001b[0m in \u001b[0;36mfallback\u001b[0;34m(self, old, new)\u001b[0m\n\u001b[1;32m   1019\u001b[0m                     \u001b[0margs\u001b[0m\u001b[0;34m[\u001b[0m\u001b[0mi\u001b[0m\u001b[0;34m]\u001b[0m \u001b[0;34m=\u001b[0m \u001b[0marg\u001b[0m\u001b[0;34m\u001b[0m\u001b[0m\n\u001b[1;32m   1020\u001b[0m             \u001b[0;32mif\u001b[0m \u001b[0mhit\u001b[0m\u001b[0;34m:\u001b[0m\u001b[0;34m\u001b[0m\u001b[0m\n\u001b[0;32m-> 1021\u001b[0;31m                 \u001b[0mrv\u001b[0m \u001b[0;34m=\u001b[0m \u001b[0mself\u001b[0m\u001b[0;34m.\u001b[0m\u001b[0mfunc\u001b[0m\u001b[0;34m(\u001b[0m\u001b[0;34m*\u001b[0m\u001b[0margs\u001b[0m\u001b[0;34m)\u001b[0m\u001b[0;34m\u001b[0m\u001b[0m\n\u001b[0m\u001b[1;32m   1022\u001b[0m                 \u001b[0mhack2\u001b[0m \u001b[0;34m=\u001b[0m \u001b[0mhints\u001b[0m\u001b[0;34m.\u001b[0m\u001b[0mget\u001b[0m\u001b[0;34m(\u001b[0m\u001b[0;34m'hack2'\u001b[0m\u001b[0;34m,\u001b[0m \u001b[0;32mFalse\u001b[0m\u001b[0;34m)\u001b[0m\u001b[0;34m\u001b[0m\u001b[0m\n\u001b[1;32m   1023\u001b[0m                 \u001b[0;32mif\u001b[0m \u001b[0mhack2\u001b[0m \u001b[0;32mand\u001b[0m \u001b[0mself\u001b[0m\u001b[0;34m.\u001b[0m\u001b[0mis_Mul\u001b[0m \u001b[0;32mand\u001b[0m \u001b[0;32mnot\u001b[0m \u001b[0mrv\u001b[0m\u001b[0;34m.\u001b[0m\u001b[0mis_Mul\u001b[0m\u001b[0;34m:\u001b[0m  \u001b[0;31m# 2-arg hack\u001b[0m\u001b[0;34m\u001b[0m\u001b[0m\n",
      "\u001b[0;32m/home/mota/.local/lib/python3.6/site-packages/sympy/tensor/indexed.py\u001b[0m in \u001b[0;36m__new__\u001b[0;34m(cls, label, range, **kw_args)\u001b[0m\n\u001b[1;32m    588\u001b[0m \u001b[0;34m\u001b[0m\u001b[0m\n\u001b[1;32m    589\u001b[0m         \u001b[0;32mif\u001b[0m \u001b[0;32mnot\u001b[0m \u001b[0mlabel\u001b[0m\u001b[0;34m.\u001b[0m\u001b[0mis_integer\u001b[0m\u001b[0;34m:\u001b[0m\u001b[0;34m\u001b[0m\u001b[0m\n\u001b[0;32m--> 590\u001b[0;31m             \u001b[0;32mraise\u001b[0m \u001b[0mTypeError\u001b[0m\u001b[0;34m(\u001b[0m\u001b[0;34m\"Idx object requires an integer label.\"\u001b[0m\u001b[0;34m)\u001b[0m\u001b[0;34m\u001b[0m\u001b[0m\n\u001b[0m\u001b[1;32m    591\u001b[0m \u001b[0;34m\u001b[0m\u001b[0m\n\u001b[1;32m    592\u001b[0m         \u001b[0;32melif\u001b[0m \u001b[0mis_sequence\u001b[0m\u001b[0;34m(\u001b[0m\u001b[0mrange\u001b[0m\u001b[0;34m)\u001b[0m\u001b[0;34m:\u001b[0m\u001b[0;34m\u001b[0m\u001b[0m\n",
      "\u001b[0;31mTypeError\u001b[0m: Idx object requires an integer label."
     ]
    }
   ],
   "source": [
    "Iv = integrate( dv_dt.replace(r[c],x), (x,-oo,oo) )"
   ]
  },
  {
   "cell_type": "code",
   "execution_count": 308,
   "metadata": {},
   "outputs": [
    {
     "data": {
      "text/latex": [
       "$$\\int_{-\\infty}^{\\infty} \\sum_{a=0}^{n} W{\\left (\\frac{x - {r}_{a}}{h} \\right )} {\\nu}_{a} {g}_{a}\\, dx$$"
      ],
      "text/plain": [
       "∞                                  \n",
       "⌠                                  \n",
       "⎮    n                             \n",
       "⎮   ____                           \n",
       "⎮   ╲                              \n",
       "⎮    ╲    ⎛x - r[a]⎞               \n",
       "⎮     ╲  W⎜────────⎟⋅\\nu[a]⋅g[a]   \n",
       "⎮     ╱   ⎝   h    ⎠             dx\n",
       "⎮    ╱                             \n",
       "⎮   ╱                              \n",
       "⎮   ‾‾‾‾                           \n",
       "⎮  a = 0                           \n",
       "⌡                                  \n",
       "-∞                                 "
      ]
     },
     "execution_count": 308,
     "metadata": {},
     "output_type": "execute_result"
    }
   ],
   "source": [
    "iW = integrate(interpolation(x,g), (x,-oo,oo))\n",
    "#iW = iW.transform((x-r[a])/h,y).simplify()\n",
    "iW"
   ]
  },
  {
   "cell_type": "code",
   "execution_count": 309,
   "metadata": {},
   "outputs": [
    {
     "data": {
      "text/latex": [
       "$$\\left ( \\left ( W{\\left (\\frac{x}{h} - \\frac{{r}_{a}}{h} \\right )}, \\quad \\left ( x, \\quad -\\infty, \\quad \\infty\\right )\\right ), \\quad \\sum_{a=0}^{n} \\int_{-\\infty}^{\\infty} W{\\left (\\frac{x - {r}_{a}}{h} \\right )} {\\nu}_{a} {g}_{a}\\, dx\\right )$$"
      ],
      "text/plain": [
       "⎛                             n                                 ⎞\n",
       "⎜                           ______                              ⎟\n",
       "⎜                           ╲                                   ⎟\n",
       "⎜                            ╲     ∞                            ⎟\n",
       "⎜                             ╲    ⌠                            ⎟\n",
       "⎜                              ╲   ⎮   ⎛x - r[a]⎞               ⎟\n",
       "⎜⎛ ⎛x   r[a]⎞            ⎞      ╲  ⎮  W⎜────────⎟⋅\\nu[a]⋅g[a] dx⎟\n",
       "⎜⎜W⎜─ - ────⎟, (x, -∞, ∞)⎟,     ╱  ⎮   ⎝   h    ⎠               ⎟\n",
       "⎜⎝ ⎝h    h  ⎠            ⎠     ╱   ⌡                            ⎟\n",
       "⎜                             ╱    -∞                           ⎟\n",
       "⎜                            ╱                                  ⎟\n",
       "⎜                           ╱                                   ⎟\n",
       "⎜                           ‾‾‾‾‾‾                              ⎟\n",
       "⎝                           a = 0                               ⎠"
      ]
     },
     "execution_count": 309,
     "metadata": {},
     "output_type": "execute_result"
    }
   ],
   "source": [
    "commute = lambda expr: expr.args[0].func( expr.func( expr.args[0].args[0], expr.args[1] ), expr.args[0].args[1] )\n",
    "iW1 = commute(iW)\n",
    "iW1.doit().args[0].args[0].args, iW1"
   ]
  },
  {
   "cell_type": "code",
   "execution_count": 310,
   "metadata": {},
   "outputs": [
    {
     "data": {
      "text/latex": [
       "$$\\left ( \\int_{-\\infty}^{\\infty} W{\\left (\\frac{x}{h} - \\frac{{r}_{a}}{h} \\right )}\\, dx, \\quad \\sum_{a=0}^{n} {\\nu}_{a} {g}_{a} \\int_{-\\infty}^{\\infty} W{\\left (\\frac{x}{h} - \\frac{{r}_{a}}{h} \\right )}\\, dx\\right )$$"
      ],
      "text/plain": [
       "⎛                     n                                 ⎞\n",
       "⎜                   ______                              ⎟\n",
       "⎜                   ╲                                   ⎟\n",
       "⎜                    ╲                 ∞                ⎟\n",
       "⎜∞                    ╲                ⌠                ⎟\n",
       "⎜⌠                     ╲               ⎮   ⎛x   r[a]⎞   ⎟\n",
       "⎜⎮   ⎛x   r[a]⎞         ╲  \\nu[a]⋅g[a]⋅⎮  W⎜─ - ────⎟ dx⎟\n",
       "⎜⎮  W⎜─ - ────⎟ dx,     ╱              ⎮   ⎝h    h  ⎠   ⎟\n",
       "⎜⎮   ⎝h    h  ⎠        ╱               ⌡                ⎟\n",
       "⎜⌡                    ╱                -∞               ⎟\n",
       "⎜-∞                  ╱                                  ⎟\n",
       "⎜                   ╱                                   ⎟\n",
       "⎜                   ‾‾‾‾‾‾                              ⎟\n",
       "⎝                   a = 0                               ⎠"
      ]
     },
     "execution_count": 310,
     "metadata": {},
     "output_type": "execute_result"
    }
   ],
   "source": [
    "intW_1 = lambda expr: expr.replace(  )\n",
    "I = Integral(W((x - r[a])/h), (x,-oo,oo)).expand()\n",
    "I, iW1.doit().subs( I, 1 )"
   ]
  },
  {
   "cell_type": "code",
   "execution_count": 311,
   "metadata": {},
   "outputs": [
    {
     "data": {
      "text/latex": [
       "$$\\int_{-\\infty}^{\\infty} W{\\left (\\frac{w - {r}_{w_{2}}}{h} \\right )}\\, dw$$"
      ],
      "text/plain": [
       "∞                   \n",
       "⌠                   \n",
       "⎮   ⎛w - r[w_2_]⎞   \n",
       "⎮  W⎜───────────⎟ dw\n",
       "⎮   ⎝     h     ⎠   \n",
       "⌡                   \n",
       "-∞                  "
      ]
     },
     "execution_count": 311,
     "metadata": {},
     "output_type": "execute_result"
    }
   ],
   "source": [
    "I2 = Integral(W((w-r[w2])/h), (w,-oo,oo))\n",
    "I2"
   ]
  },
  {
   "cell_type": "code",
   "execution_count": 312,
   "metadata": {},
   "outputs": [
    {
     "name": "stdout",
     "output_type": "stream",
     "text": [
      "done W((x - r[a])/h) --> DiracDelta(x/h - r[a]/h)\n"
     ]
    },
    {
     "data": {
      "text/latex": [
       "$$\\sum_{a=0}^{n} h {\\nu}_{a} {g}_{a}$$"
      ],
      "text/plain": [
       "  n                \n",
       " ___               \n",
       " ╲                 \n",
       "  ╲   h⋅\\nu[a]⋅g[a]\n",
       "  ╱                \n",
       " ╱                 \n",
       " ‾‾‾               \n",
       "a = 0              "
      ]
     },
     "execution_count": 312,
     "metadata": {},
     "output_type": "execute_result"
    }
   ],
   "source": [
    "recursive_replace(iW1, [[ W(w), DiracDelta(w) ]] ).doit()"
   ]
  },
  {
   "cell_type": "code",
   "execution_count": 284,
   "metadata": {},
   "outputs": [
    {
     "data": {
      "text/latex": [
       "$$\\sum_{w_{2}=0}^{n} w$$"
      ],
      "text/plain": [
       "  n     \n",
       " ___    \n",
       " ╲      \n",
       "  ╲    w\n",
       "  ╱     \n",
       " ╱      \n",
       " ‾‾‾    \n",
       "w₂ = 0  "
      ]
     },
     "execution_count": 284,
     "metadata": {},
     "output_type": "execute_result"
    }
   ],
   "source": [
    "S1 = Sum( w, (w2,0,n) )\n",
    "S1"
   ]
  },
  {
   "cell_type": "code",
   "execution_count": 295,
   "metadata": {},
   "outputs": [],
   "source": [
    "iW1.match(W(w))"
   ]
  },
  {
   "cell_type": "code",
   "execution_count": 288,
   "metadata": {},
   "outputs": [],
   "source": [
    "I.match(I2)"
   ]
  },
  {
   "cell_type": "code",
   "execution_count": 68,
   "metadata": {},
   "outputs": [
    {
     "data": {
      "text/plain": [
       "sympy.tensor.indexed.Indexed"
      ]
     },
     "execution_count": 68,
     "metadata": {},
     "output_type": "execute_result"
    }
   ],
   "source": [
    "f[a].func"
   ]
  },
  {
   "cell_type": "code",
   "execution_count": 362,
   "metadata": {},
   "outputs": [
    {
     "name": "stdout",
     "output_type": "stream",
     "text": [
      "w_2_\n",
      "<class 'sympy.core.symbol.Wild'>\n",
      "ind_ a__\n",
      "ind_ <class 'sympy.core.symbol.Wild'>\n"
     ]
    },
    {
     "data": {
      "text/latex": [
       "$$\\sum_{a_{}=0}^{n} W{\\left (\\frac{w_{2} - {r}_{a_{}}}{h} \\right )} {\\nu}_{a_{}}$$"
      ],
      "text/plain": [
       "  n                          \n",
       " ____                        \n",
       " ╲                           \n",
       "  ╲    ⎛w₂ - r[a__]⎞         \n",
       "   ╲  W⎜───────────⎟⋅\\nu[a__]\n",
       "   ╱   ⎝     h     ⎠         \n",
       "  ╱                          \n",
       " ╱                           \n",
       " ‾‾‾‾                        \n",
       "a = 0                        "
      ]
     },
     "execution_count": 362,
     "metadata": {},
     "output_type": "execute_result"
    }
   ],
   "source": [
    "def rho(x):\n",
    "    return interpolation(x,1)\n",
    "\n",
    "#rho_def = [ rho(w), Function('rho')(w) ]\n",
    "rho(w2)"
   ]
  },
  {
   "cell_type": "code",
   "execution_count": 363,
   "metadata": {},
   "outputs": [
    {
     "name": "stdout",
     "output_type": "stream",
     "text": [
      "r[a]\n",
      "<class 'sympy.tensor.indexed.Indexed'>\n",
      "ind a\n",
      "ind <class 'sympy.tensor.indexed.Idx'>\n",
      "ind_ _b\n",
      "ind_ <class 'sympy.core.symbol.Dummy'>\n",
      "w_2_\n",
      "<class 'sympy.core.symbol.Wild'>\n",
      "ind_ a__\n",
      "ind_ <class 'sympy.core.symbol.Wild'>\n",
      "r[b]\n",
      "<class 'sympy.tensor.indexed.Indexed'>\n",
      "ind b\n",
      "ind <class 'sympy.tensor.indexed.Idx'>\n",
      "ind_ _c\n",
      "ind_ <class 'sympy.core.symbol.Dummy'>\n"
     ]
    },
    {
     "data": {
      "text/latex": [
       "$$\\sum_{c=0}^{n} W{\\left (\\frac{- {r}_{c} + {r}_{b}}{h} \\right )} {\\nu}_{c}$$"
      ],
      "text/plain": [
       "  n                           \n",
       " ____                         \n",
       " ╲                            \n",
       "  ╲    ⎛-r[_c] + r[b]⎞        \n",
       "   ╲  W⎜─────────────⎟⋅\\nu[_c]\n",
       "   ╱   ⎝      h      ⎠        \n",
       "  ╱                           \n",
       " ╱                            \n",
       " ‾‾‾‾                         \n",
       "c = 0                         "
      ]
     },
     "execution_count": 363,
     "metadata": {},
     "output_type": "execute_result"
    }
   ],
   "source": [
    "rho(r[a]).replace( rho(w2), rho(r[b]) )"
   ]
  },
  {
   "cell_type": "code",
   "execution_count": 535,
   "metadata": {},
   "outputs": [
    {
     "name": "stdout",
     "output_type": "stream",
     "text": [
      "done Sum(W((r[a] - r[b__])/h)*\\nu[b__], (b__, 0, n)) --> \\rho[a]\n",
      "args aftr [\\rho[a], -1] from (Sum(W((r[a] - r[b__])/h)*\\nu[b__], (b__, 0, n)), -1)\n",
      "args aftr [\\nu, a] from (\\nu, a)\n",
      "args aftr [f, a] from (f, a)\n",
      "args aftr [g, a] from (g, a)\n",
      "args aftr [h, -1] from (h, -1)\n",
      "args aftr [r, a] from (r, a)\n",
      "args aftr [-1, r[a]] from (-1, r[a])\n",
      "args aftr [x, -r[a]] from (x, -r[a])\n",
      "args aftr [1/h, x - r[a]] from (1/h, x - r[a])\n",
      "args aftr [(x - r[a])/h] from ((x - r[a])/h,)\n",
      "args aftr [1/\\rho[a], \\nu[a], f[a], g[a], W((x - r[a])/h)] from (1/Sum(W((r[a] - r[b__])/h)*\\nu[b__], (b__, 0, n)), \\nu[a], f[a], g[a], W((x - r[a])/h))\n",
      "args aftr [] from ()\n",
      "args aftr [a, 0, n] from (a, 0, n)\n",
      "args aftr [W((x - r[a])/h)*\\nu[a]*f[a]*g[a]/\\rho[a], (a, 0, n)] from (W((x - r[a])/h)*\\nu[a]*f[a]*g[a]/Sum(W((r[a] - r[b__])/h)*\\nu[b__], (b__, 0, n)), (a, 0, n))\n"
     ]
    },
    {
     "data": {
      "text/latex": [
       "$$\\sum_{a=0}^{n} \\frac{W{\\left (\\frac{x - {r}_{a}}{h} \\right )} {\\nu}_{a} {f}_{a} {g}_{a}}{{\\rho}_{a}}$$"
      ],
      "text/plain": [
       "  n                               \n",
       "_____                             \n",
       "╲                                 \n",
       " ╲     ⎛x - r[a]⎞                 \n",
       "  ╲   W⎜────────⎟⋅\\nu[a]⋅f[a]⋅g[a]\n",
       "   ╲   ⎝   h    ⎠                 \n",
       "   ╱  ────────────────────────────\n",
       "  ╱             \\rho[a]           \n",
       " ╱                                \n",
       "╱                                 \n",
       "‾‾‾‾‾                             \n",
       "a = 0                             "
      ]
     },
     "execution_count": 535,
     "metadata": {},
     "output_type": "execute_result"
    }
   ],
   "source": [
    "def sph(x, f):\n",
    "    rho_ = IndexedBase(r'\\rho')\n",
    "    w_ = Wild('w')\n",
    "    return interpolation( x,f/rho_ ).replace( rho_[w_], rho(r[w_]) )\n",
    "\n",
    "w2 = Wild('w_2')\n",
    "rho_def = [ rho(Indexed(r,w)), IndexedBase(r'\\rho')[w] ]\n",
    "assumptions = [rho_def]\n",
    "recursive_replace( sph(x,g*f), assumptions )"
   ]
  },
  {
   "cell_type": "code",
   "execution_count": 369,
   "metadata": {},
   "outputs": [
    {
     "name": "stdout",
     "output_type": "stream",
     "text": [
      "x\n",
      "<class 'sympy.core.symbol.Symbol'>\n",
      "ind_ _a\n",
      "ind_ <class 'sympy.core.symbol.Dummy'>\n",
      "rec_ind w_2_/\\rho\n",
      "rec_ind <class 'sympy.core.mul.Mul'>\n",
      "rec_ind w_2_\n",
      "rec_ind <class 'sympy.core.symbol.Wild'>\n",
      "rec_ind 1/\\rho\n",
      "rec_ind <class 'sympy.core.power.Pow'>\n",
      "rec_ind \\rho\n",
      "rec_ind <class 'sympy.tensor.indexed.IndexedBase'>\n",
      "rec_ind -1\n",
      "rec_ind <class 'sympy.core.numbers.NegativeOne'>\n",
      "r[w_]\n",
      "<class 'sympy.tensor.indexed.Indexed'>\n",
      "ind w_\n",
      "ind <class 'sympy.core.symbol.Wild'>\n",
      "ind_ b__\n",
      "ind_ <class 'sympy.core.symbol.Wild'>\n"
     ]
    },
    {
     "data": {
      "text/latex": [
       "$$\\sum_{a=0}^{n} \\frac{w_{2} W{\\left (\\frac{x - {r}_{a}}{h} \\right )} {\\nu}_{a}}{\\sum_{b_{}=0}^{n} W{\\left (\\frac{{r}_{a} - {r}_{b_{}}}{h} \\right )} {\\nu}_{b_{}}}$$"
      ],
      "text/plain": [
       "    n                                     \n",
       "_________                                 \n",
       "╲                                         \n",
       " ╲                ⎛x - r[_a]⎞             \n",
       "  ╲           w₂⋅W⎜─────────⎟⋅\\nu[_a]     \n",
       "   ╲              ⎝    h    ⎠             \n",
       "    ╲     ────────────────────────────────\n",
       "     ╲      n                             \n",
       "      ╲    ____                           \n",
       "       ╲   ╲                              \n",
       "       ╱    ╲    ⎛r[_a] - r[b__]⎞         \n",
       "      ╱      ╲  W⎜──────────────⎟⋅\\nu[b__]\n",
       "     ╱       ╱   ⎝      h       ⎠         \n",
       "    ╱       ╱                             \n",
       "   ╱       ╱                              \n",
       "  ╱        ‾‾‾‾                           \n",
       " ╱        b = 0                           \n",
       "╱                                         \n",
       "‾‾‾‾‾‾‾‾‾                                 \n",
       "  a = 0                                   "
      ]
     },
     "execution_count": 369,
     "metadata": {},
     "output_type": "execute_result"
    }
   ],
   "source": [
    "sph(x,w2)"
   ]
  },
  {
   "cell_type": "code",
   "execution_count": 520,
   "metadata": {},
   "outputs": [
    {
     "name": "stdout",
     "output_type": "stream",
     "text": [
      "w_\n",
      "<class 'sympy.core.symbol.Wild'>\n",
      "ind_ a__\n",
      "ind_ <class 'sympy.core.symbol.Wild'>\n",
      "rec_ind w_2_/\\rho\n",
      "rec_ind <class 'sympy.core.mul.Mul'>\n",
      "rec_ind w_2_\n",
      "rec_ind <class 'sympy.core.symbol.Wild'>\n",
      "rec_ind 1/\\rho\n",
      "rec_ind <class 'sympy.core.power.Pow'>\n",
      "rec_ind \\rho\n",
      "rec_ind <class 'sympy.tensor.indexed.IndexedBase'>\n",
      "rec_ind -1\n",
      "rec_ind <class 'sympy.core.numbers.NegativeOne'>\n",
      "r[w_]\n",
      "<class 'sympy.tensor.indexed.Indexed'>\n",
      "ind w_\n",
      "ind <class 'sympy.core.symbol.Wild'>\n",
      "ind_ b__\n",
      "ind_ <class 'sympy.core.symbol.Wild'>\n",
      "x\n",
      "<class 'sympy.core.symbol.Symbol'>\n",
      "ind_ a\n",
      "ind_ <class 'sympy.core.symbol.Symbol'>\n",
      "rec_ind f*g/\\rho\n",
      "rec_ind <class 'sympy.core.mul.Mul'>\n",
      "rec_ind 1/\\rho\n",
      "rec_ind <class 'sympy.core.power.Pow'>\n",
      "rec_ind \\rho\n",
      "rec_ind <class 'sympy.tensor.indexed.IndexedBase'>\n",
      "rec_ind -1\n",
      "rec_ind <class 'sympy.core.numbers.NegativeOne'>\n",
      "rec_ind f\n",
      "rec_ind <class 'sympy.tensor.indexed.IndexedBase'>\n",
      "rec_ind g\n",
      "rec_ind <class 'sympy.tensor.indexed.IndexedBase'>\n",
      "r[w_]\n",
      "<class 'sympy.tensor.indexed.Indexed'>\n",
      "ind w_\n",
      "ind <class 'sympy.core.symbol.Wild'>\n",
      "ind_ b__\n",
      "ind_ <class 'sympy.core.symbol.Wild'>\n"
     ]
    },
    {
     "data": {
      "text/latex": [
       "$$\\operatorname{sph}{\\left (x,{f}_{a} {g}_{a} \\right )}$$"
      ],
      "text/plain": [
       "sph(x, f[a]⋅g[a])"
      ]
     },
     "execution_count": 520,
     "metadata": {},
     "output_type": "execute_result"
    }
   ],
   "source": [
    "u = WildFunction('u')\n",
    "w2 = Wild('w_2')\n",
    "sph_def = [ sph(w,w2), Function('sph')(w,w2) ]\n",
    "assumptions = [ sph_def ] + assumptions\n",
    "sph(x,g*f).replace( *sph_def )"
   ]
  },
  {
   "cell_type": "code",
   "execution_count": 540,
   "metadata": {},
   "outputs": [
    {
     "name": "stdout",
     "output_type": "stream",
     "text": [
      "done Sum(W((r[a] - r[b__])/h)*\\nu[b__], (b__, 0, n)) --> \\rho[a]\n",
      "done Sum(W((-r[b__] + r[d])/h)*\\nu[b__], (b__, 0, n)) --> \\rho[d]\n"
     ]
    },
    {
     "data": {
      "text/latex": [
       "$$\\sum_{a=0}^{n} \\frac{W{\\left (\\frac{x - {r}_{a}}{h} \\right )} {\\nu}_{a} \\sum_{d=0}^{n} \\frac{W{\\left (\\frac{{r}_{c} - {r}_{d}}{h} \\right )} {\\nu}_{d} {f}_{d}}{{\\rho}_{d}}}{{\\rho}_{a}}$$"
      ],
      "text/plain": [
       "    n                                                        \n",
       "_________                                                    \n",
       "╲                                                            \n",
       " ╲                             n                             \n",
       "  ╲                          _____                           \n",
       "   ╲                         ╲                               \n",
       "    ╲                         ╲     ⎛r[c] - r[d]⎞            \n",
       "     ╲                         ╲   W⎜───────────⎟⋅\\nu[d]⋅f[d]\n",
       "      ╲    ⎛x - r[a]⎞           ╲   ⎝     h     ⎠            \n",
       "       ╲  W⎜────────⎟⋅\\nu[a]⋅   ╱  ──────────────────────────\n",
       "       ╱   ⎝   h    ⎠          ╱            \\rho[d]          \n",
       "      ╱                       ╱                              \n",
       "     ╱                       ╱                               \n",
       "    ╱                        ‾‾‾‾‾                           \n",
       "   ╱                         d = 0                           \n",
       "  ╱       ───────────────────────────────────────────────────\n",
       " ╱                              \\rho[a]                      \n",
       "╱                                                            \n",
       "‾‾‾‾‾‾‾‾‾                                                    \n",
       "  a = 0                                                      "
      ]
     },
     "execution_count": 540,
     "metadata": {},
     "output_type": "execute_result"
    }
   ],
   "source": [
    "recursive_replace( sph(x,sph(r[c],f)), assumptions )"
   ]
  },
  {
   "cell_type": "code",
   "execution_count": 544,
   "metadata": {},
   "outputs": [
    {
     "data": {
      "text/latex": [
       "$$\\operatorname{dsph}{\\left (x,{g}_{a} \\right )}$$"
      ],
      "text/plain": [
       "dsph(x, g[a])"
      ]
     },
     "execution_count": 544,
     "metadata": {},
     "output_type": "execute_result"
    }
   ],
   "source": [
    "w3 = Wild('w_3')\n",
    "dsph_def = [ diff( sph(x,w2), x ), Function('dsph')(x,w2) ]\n",
    "assumptions = [dsph_def] + assumptions\n",
    "diff( sph(x,g), x ).replace( *dsph_def )"
   ]
  },
  {
   "cell_type": "code",
   "execution_count": 561,
   "metadata": {},
   "outputs": [
    {
     "name": "stdout",
     "output_type": "stream",
     "text": [
      "done Derivative(W(_xi_1), _xi_1) --> h*W'(_xi_1)\n"
     ]
    },
    {
     "data": {
      "text/latex": [
       "$$- \\operatorname{W'}{\\left (\\frac{x - {r}_{a}}{h} \\right )} \\delta_{a b}$$"
      ],
      "text/plain": [
       "   ⎛x - r[a]⎞     \n",
       "-W'⎜────────⎟⋅δ   \n",
       "   ⎝   h    ⎠  a,b"
      ]
     },
     "execution_count": 561,
     "metadata": {},
     "output_type": "execute_result"
    }
   ],
   "source": [
    "Wprime = [ diff( W(w), w ), h*Function(r\"W'\")(w) ]\n",
    "assumptions += [Wprime]\n",
    "recursive_replace( diff( W((x-r[a])/h), r[b]), [Wprime] ).doit()"
   ]
  },
  {
   "cell_type": "code",
   "execution_count": 25,
   "metadata": {},
   "outputs": [
    {
     "ename": "NameError",
     "evalue": "name 'recursive_replace' is not defined",
     "output_type": "error",
     "traceback": [
      "\u001b[0;31m---------------------------------------------------------------------------\u001b[0m",
      "\u001b[0;31mNameError\u001b[0m                                 Traceback (most recent call last)",
      "\u001b[0;32m<ipython-input-25-502805a26929>\u001b[0m in \u001b[0;36m<module>\u001b[0;34m()\u001b[0m\n\u001b[0;32m----> 1\u001b[0;31m \u001b[0mrecursive_replace\u001b[0m\u001b[0;34m(\u001b[0m \u001b[0mdiff\u001b[0m\u001b[0;34m(\u001b[0m \u001b[0msph\u001b[0m\u001b[0;34m(\u001b[0m\u001b[0mx\u001b[0m\u001b[0;34m,\u001b[0m\u001b[0mg\u001b[0m\u001b[0;34m)\u001b[0m\u001b[0;34m,\u001b[0m \u001b[0mr\u001b[0m\u001b[0;34m[\u001b[0m\u001b[0mc\u001b[0m\u001b[0;34m]\u001b[0m \u001b[0;34m)\u001b[0m\u001b[0;34m,\u001b[0m \u001b[0massumptions\u001b[0m \u001b[0;34m)\u001b[0m\u001b[0;34m\u001b[0m\u001b[0m\n\u001b[0m\u001b[1;32m      2\u001b[0m \u001b[0;31m#recursive_replace( diff( sph(x,g), r[c] ), [Wprime,rho_def] )\u001b[0m\u001b[0;34m\u001b[0m\u001b[0;34m\u001b[0m\u001b[0m\n",
      "\u001b[0;31mNameError\u001b[0m: name 'recursive_replace' is not defined"
     ]
    }
   ],
   "source": [
    "recursive_replace( diff( sph(x,g), r[c] ), assumptions )\n",
    "#recursive_replace( diff( sph(x,g), r[c] ), [Wprime,rho_def] )"
   ]
  },
  {
   "cell_type": "code",
   "execution_count": null,
   "metadata": {},
   "outputs": [],
   "source": [
    "sph"
   ]
  },
  {
   "cell_type": "code",
   "execution_count": 376,
   "metadata": {},
   "outputs": [
    {
     "data": {
      "text/latex": [
       "$$\\operatorname{f_{sph}}{\\left (x,r \\right )}$$"
      ],
      "text/plain": [
       "fₛₚₕ(x, r)"
      ]
     },
     "execution_count": 376,
     "metadata": {},
     "output_type": "execute_result"
    }
   ],
   "source": [
    "f_sph = Function('f_sph')\n",
    "f_sph(x,r)"
   ]
  },
  {
   "cell_type": "code",
   "execution_count": 392,
   "metadata": {},
   "outputs": [
    {
     "data": {
      "text/latex": [
       "$${W'}_{a,b}$$"
      ],
      "text/plain": [
       "W'[a, b]"
      ]
     },
     "execution_count": 392,
     "metadata": {},
     "output_type": "execute_result"
    }
   ],
   "source": [
    "W_prime = lambda a_,b_: diff( W((x-a_)/h), b_)\n",
    "W_prime(r[a],r[b]).replace( W_prime(r[w],r[w2]), IndexedBase(r\"W'\")[w,w2])"
   ]
  },
  {
   "cell_type": "code",
   "execution_count": null,
   "metadata": {},
   "outputs": [],
   "source": [
    "diff( sph(x,g), r[c] ).replace( W_prime(r[w],r[w2]), IndexedBase(r\"W'\")[w,w2] )"
   ]
  },
  {
   "cell_type": "code",
   "execution_count": 108,
   "metadata": {},
   "outputs": [
    {
     "data": {
      "text/latex": [
       "$$450$$"
      ],
      "text/plain": [
       "450"
      ]
     },
     "execution_count": 108,
     "metadata": {},
     "output_type": "execute_result"
    }
   ],
   "source": [
    "import numpy as np\n",
    "\n",
    "class Numeric: pass\n",
    "\n",
    "def cspline(h,dim):\n",
    "    K = (2./3, 10*np.pi/7, 1./np.pi)[dim-1]/h**dim\n",
    "    return (\n",
    "        np.vectorize( lambda q: K* ( 0 if q > 2 else ( .25*(2-q)**3 if q > 1 else 1 - 1.5*q**2+.75*q**3 ) ) ), \n",
    "        np.vectorize( lambda q: K* ( 0 if q > 2 else ( -3*.25*(2-q)**2 if q > 1 else - 3*q+ 3*.75*q**2 ) ) ),\n",
    "        np.vectorize( lambda q: K* ( 0 if q > 2 else ( 6*.25*(2-q) if q > 1 else -3 + 6*.75*q ) ) )\n",
    "        )\n",
    "\n",
    "num = Numeric()\n",
    "num.dt = .1\n",
    "num.h = 2*num.dt\n",
    "num.L = 4\n",
    "num.N = int(90/num.h)\n",
    "num.n = num.N\n",
    "num.r = np.r_[-num.L:num.L:2.*num.L/num.N]\n",
    "num.nu = np.ones_like(num.r)\n",
    "num.f = 2*num.nu[:]\n",
    "len(num.r)"
   ]
  },
  {
   "cell_type": "code",
   "execution_count": 111,
   "metadata": {},
   "outputs": [
    {
     "data": {
      "text/plain": [
       "array(3.33333333)"
      ]
     },
     "execution_count": 111,
     "metadata": {},
     "output_type": "execute_result"
    }
   ],
   "source": [
    "num.W, num.Wprime, num.Wprime2 = cspline( num.h, 1 )\n",
    "num.W(0)"
   ]
  },
  {
   "cell_type": "code",
   "execution_count": 104,
   "metadata": {},
   "outputs": [
    {
     "data": {
      "text/latex": [
       "$$450.0$$"
      ],
      "text/plain": [
       "450.0"
      ]
     },
     "execution_count": 104,
     "metadata": {},
     "output_type": "execute_result"
    }
   ],
   "source": [
    "import re\n",
    "def num_sum( s ):\n",
    "    s_ = str(s).replace('\\\\','')\n",
    "    internal,index,start,stop = re.match( 'Sum\\((.*?),\\s\\((.*),\\s(.*),\\s(.*)\\)\\)', s_ ).groups()\n",
    "    cmd = internal.replace('[%s]'%index, '[%s:%s]'%(start,stop) )\n",
    "    cmd = re.sub( r'([a-zA-Z]\\w*)', r'num.\\1', cmd )\n",
    "    return np.sum(eval( cmd ))"
   ]
  },
  {
   "cell_type": "code",
   "execution_count": 109,
   "metadata": {},
   "outputs": [
    {
     "data": {
      "text/latex": [
       "$$\\left ( \\sum_{a=0}^{n} {\\nu}_{a} {f}_{a}, \\quad 900.0\\right )$$"
      ],
      "text/plain": [
       "⎛  n                     ⎞\n",
       "⎜ ___                    ⎟\n",
       "⎜ ╲                      ⎟\n",
       "⎜  ╲   \\nu[a]⋅f[a]       ⎟\n",
       "⎜  ╱              , 900.0⎟\n",
       "⎜ ╱                      ⎟\n",
       "⎜ ‾‾‾                    ⎟\n",
       "⎝a = 0                   ⎠"
      ]
     },
     "execution_count": 109,
     "metadata": {},
     "output_type": "execute_result"
    }
   ],
   "source": [
    "s,num_sum(s)"
   ]
  },
  {
   "cell_type": "code",
   "execution_count": 156,
   "metadata": {},
   "outputs": [],
   "source": [
    "from types import MethodType\n",
    "\n",
    "W = Function('W')\n",
    "W.eval = MethodType(lambda prec, q: num.W(q), W)\n",
    "\n",
    "Wprime = Function('W\\'')\n",
    "Wprime.eval = MethodType(lambda prec, q: num.Wprime(q), W)"
   ]
  },
  {
   "cell_type": "code",
   "execution_count": 189,
   "metadata": {},
   "outputs": [
    {
     "data": {
      "text/plain": [
       "array(-2.50000000000000, dtype=object)"
      ]
     },
     "execution_count": 189,
     "metadata": {},
     "output_type": "execute_result"
    }
   ],
   "source": [
    "W.fdiff = MethodType( lambda self,argindex: Wprime, W )\n"
   ]
  },
  {
   "cell_type": "code",
   "execution_count": 190,
   "metadata": {},
   "outputs": [
    {
     "ename": "TypeError",
     "evalue": "cannot determine truth value of Relational",
     "output_type": "error",
     "traceback": [
      "\u001b[0;31m---------------------------------------------------------------------------\u001b[0m",
      "\u001b[0;31mTypeError\u001b[0m                                 Traceback (most recent call last)",
      "\u001b[0;32m/home/mota/.local/lib/python3.6/site-packages/sympy/core/cache.py\u001b[0m in \u001b[0;36mwrapper\u001b[0;34m(*args, **kwargs)\u001b[0m\n\u001b[1;32m     92\u001b[0m                 \u001b[0;32mtry\u001b[0m\u001b[0;34m:\u001b[0m\u001b[0;34m\u001b[0m\u001b[0m\n\u001b[0;32m---> 93\u001b[0;31m                     \u001b[0mretval\u001b[0m \u001b[0;34m=\u001b[0m \u001b[0mcfunc\u001b[0m\u001b[0;34m(\u001b[0m\u001b[0;34m*\u001b[0m\u001b[0margs\u001b[0m\u001b[0;34m,\u001b[0m \u001b[0;34m**\u001b[0m\u001b[0mkwargs\u001b[0m\u001b[0;34m)\u001b[0m\u001b[0;34m\u001b[0m\u001b[0m\n\u001b[0m\u001b[1;32m     94\u001b[0m                 \u001b[0;32mexcept\u001b[0m \u001b[0mTypeError\u001b[0m\u001b[0;34m:\u001b[0m\u001b[0;34m\u001b[0m\u001b[0m\n",
      "\u001b[0;32m/home/mota/.local/lib/python3.6/site-packages/sympy/core/function.py\u001b[0m in \u001b[0;36m__new__\u001b[0;34m(cls, *args, **options)\u001b[0m\n\u001b[1;32m    250\u001b[0m         \u001b[0;32mif\u001b[0m \u001b[0mevaluate\u001b[0m\u001b[0;34m:\u001b[0m\u001b[0;34m\u001b[0m\u001b[0m\n\u001b[0;32m--> 251\u001b[0;31m             \u001b[0mevaluated\u001b[0m \u001b[0;34m=\u001b[0m \u001b[0mcls\u001b[0m\u001b[0;34m.\u001b[0m\u001b[0meval\u001b[0m\u001b[0;34m(\u001b[0m\u001b[0;34m*\u001b[0m\u001b[0margs\u001b[0m\u001b[0;34m)\u001b[0m\u001b[0;34m\u001b[0m\u001b[0m\n\u001b[0m\u001b[1;32m    252\u001b[0m             \u001b[0;32mif\u001b[0m \u001b[0mevaluated\u001b[0m \u001b[0;32mis\u001b[0m \u001b[0;32mnot\u001b[0m \u001b[0;32mNone\u001b[0m\u001b[0;34m:\u001b[0m\u001b[0;34m\u001b[0m\u001b[0m\n",
      "\u001b[0;32m<ipython-input-156-b3bc8c4a3295>\u001b[0m in \u001b[0;36m<lambda>\u001b[0;34m(prec, q)\u001b[0m\n\u001b[1;32m      3\u001b[0m \u001b[0mW\u001b[0m \u001b[0;34m=\u001b[0m \u001b[0mFunction\u001b[0m\u001b[0;34m(\u001b[0m\u001b[0;34m'W'\u001b[0m\u001b[0;34m)\u001b[0m\u001b[0;34m\u001b[0m\u001b[0m\n\u001b[0;32m----> 4\u001b[0;31m \u001b[0mW\u001b[0m\u001b[0;34m.\u001b[0m\u001b[0meval\u001b[0m \u001b[0;34m=\u001b[0m \u001b[0mMethodType\u001b[0m\u001b[0;34m(\u001b[0m\u001b[0;32mlambda\u001b[0m \u001b[0mprec\u001b[0m\u001b[0;34m,\u001b[0m \u001b[0mq\u001b[0m\u001b[0;34m:\u001b[0m \u001b[0mnum\u001b[0m\u001b[0;34m.\u001b[0m\u001b[0mW\u001b[0m\u001b[0;34m(\u001b[0m\u001b[0mq\u001b[0m\u001b[0;34m)\u001b[0m\u001b[0;34m,\u001b[0m \u001b[0mW\u001b[0m\u001b[0;34m)\u001b[0m\u001b[0;34m\u001b[0m\u001b[0m\n\u001b[0m\u001b[1;32m      5\u001b[0m \u001b[0;34m\u001b[0m\u001b[0m\n",
      "\u001b[0;32m/home/mota/.local/lib/python3.6/site-packages/numpy/lib/function_base.py\u001b[0m in \u001b[0;36m__call__\u001b[0;34m(self, *args, **kwargs)\u001b[0m\n\u001b[1;32m   1971\u001b[0m \u001b[0;34m\u001b[0m\u001b[0m\n\u001b[0;32m-> 1972\u001b[0;31m         \u001b[0;32mreturn\u001b[0m \u001b[0mself\u001b[0m\u001b[0;34m.\u001b[0m\u001b[0m_vectorize_call\u001b[0m\u001b[0;34m(\u001b[0m\u001b[0mfunc\u001b[0m\u001b[0;34m=\u001b[0m\u001b[0mfunc\u001b[0m\u001b[0;34m,\u001b[0m \u001b[0margs\u001b[0m\u001b[0;34m=\u001b[0m\u001b[0mvargs\u001b[0m\u001b[0;34m)\u001b[0m\u001b[0;34m\u001b[0m\u001b[0m\n\u001b[0m\u001b[1;32m   1973\u001b[0m \u001b[0;34m\u001b[0m\u001b[0m\n",
      "\u001b[0;32m/home/mota/.local/lib/python3.6/site-packages/numpy/lib/function_base.py\u001b[0m in \u001b[0;36m_vectorize_call\u001b[0;34m(self, func, args)\u001b[0m\n\u001b[1;32m   2041\u001b[0m         \u001b[0;32melse\u001b[0m\u001b[0;34m:\u001b[0m\u001b[0;34m\u001b[0m\u001b[0m\n\u001b[0;32m-> 2042\u001b[0;31m             \u001b[0mufunc\u001b[0m\u001b[0;34m,\u001b[0m \u001b[0motypes\u001b[0m \u001b[0;34m=\u001b[0m \u001b[0mself\u001b[0m\u001b[0;34m.\u001b[0m\u001b[0m_get_ufunc_and_otypes\u001b[0m\u001b[0;34m(\u001b[0m\u001b[0mfunc\u001b[0m\u001b[0;34m=\u001b[0m\u001b[0mfunc\u001b[0m\u001b[0;34m,\u001b[0m \u001b[0margs\u001b[0m\u001b[0;34m=\u001b[0m\u001b[0margs\u001b[0m\u001b[0;34m)\u001b[0m\u001b[0;34m\u001b[0m\u001b[0m\n\u001b[0m\u001b[1;32m   2043\u001b[0m \u001b[0;34m\u001b[0m\u001b[0m\n",
      "\u001b[0;32m/home/mota/.local/lib/python3.6/site-packages/numpy/lib/function_base.py\u001b[0m in \u001b[0;36m_get_ufunc_and_otypes\u001b[0;34m(self, func, args)\u001b[0m\n\u001b[1;32m   2001\u001b[0m             \u001b[0minputs\u001b[0m \u001b[0;34m=\u001b[0m \u001b[0;34m[\u001b[0m\u001b[0marg\u001b[0m\u001b[0;34m.\u001b[0m\u001b[0mflat\u001b[0m\u001b[0;34m[\u001b[0m\u001b[0;36m0\u001b[0m\u001b[0;34m]\u001b[0m \u001b[0;32mfor\u001b[0m \u001b[0marg\u001b[0m \u001b[0;32min\u001b[0m \u001b[0margs\u001b[0m\u001b[0;34m]\u001b[0m\u001b[0;34m\u001b[0m\u001b[0m\n\u001b[0;32m-> 2002\u001b[0;31m             \u001b[0moutputs\u001b[0m \u001b[0;34m=\u001b[0m \u001b[0mfunc\u001b[0m\u001b[0;34m(\u001b[0m\u001b[0;34m*\u001b[0m\u001b[0minputs\u001b[0m\u001b[0;34m)\u001b[0m\u001b[0;34m\u001b[0m\u001b[0m\n\u001b[0m\u001b[1;32m   2003\u001b[0m \u001b[0;34m\u001b[0m\u001b[0m\n",
      "\u001b[0;32m<ipython-input-108-9326ceb6dd3b>\u001b[0m in \u001b[0;36m<lambda>\u001b[0;34m(q)\u001b[0m\n\u001b[1;32m      7\u001b[0m     return (\n\u001b[0;32m----> 8\u001b[0;31m         \u001b[0mnp\u001b[0m\u001b[0;34m.\u001b[0m\u001b[0mvectorize\u001b[0m\u001b[0;34m(\u001b[0m \u001b[0;32mlambda\u001b[0m \u001b[0mq\u001b[0m\u001b[0;34m:\u001b[0m \u001b[0mK\u001b[0m\u001b[0;34m*\u001b[0m \u001b[0;34m(\u001b[0m \u001b[0;36m0\u001b[0m \u001b[0;32mif\u001b[0m \u001b[0mq\u001b[0m \u001b[0;34m>\u001b[0m \u001b[0;36m2\u001b[0m \u001b[0;32melse\u001b[0m \u001b[0;34m(\u001b[0m \u001b[0;36m.25\u001b[0m\u001b[0;34m*\u001b[0m\u001b[0;34m(\u001b[0m\u001b[0;36m2\u001b[0m\u001b[0;34m-\u001b[0m\u001b[0mq\u001b[0m\u001b[0;34m)\u001b[0m\u001b[0;34m**\u001b[0m\u001b[0;36m3\u001b[0m \u001b[0;32mif\u001b[0m \u001b[0mq\u001b[0m \u001b[0;34m>\u001b[0m \u001b[0;36m1\u001b[0m \u001b[0;32melse\u001b[0m \u001b[0;36m1\u001b[0m \u001b[0;34m-\u001b[0m \u001b[0;36m1.5\u001b[0m\u001b[0;34m*\u001b[0m\u001b[0mq\u001b[0m\u001b[0;34m**\u001b[0m\u001b[0;36m2\u001b[0m\u001b[0;34m+\u001b[0m\u001b[0;36m.75\u001b[0m\u001b[0;34m*\u001b[0m\u001b[0mq\u001b[0m\u001b[0;34m**\u001b[0m\u001b[0;36m3\u001b[0m \u001b[0;34m)\u001b[0m \u001b[0;34m)\u001b[0m \u001b[0;34m)\u001b[0m\u001b[0;34m,\u001b[0m\u001b[0;34m\u001b[0m\u001b[0m\n\u001b[0m\u001b[1;32m      9\u001b[0m         \u001b[0mnp\u001b[0m\u001b[0;34m.\u001b[0m\u001b[0mvectorize\u001b[0m\u001b[0;34m(\u001b[0m \u001b[0;32mlambda\u001b[0m \u001b[0mq\u001b[0m\u001b[0;34m:\u001b[0m \u001b[0mK\u001b[0m\u001b[0;34m*\u001b[0m \u001b[0;34m(\u001b[0m \u001b[0;36m0\u001b[0m \u001b[0;32mif\u001b[0m \u001b[0mq\u001b[0m \u001b[0;34m>\u001b[0m \u001b[0;36m2\u001b[0m \u001b[0;32melse\u001b[0m \u001b[0;34m(\u001b[0m \u001b[0;34m-\u001b[0m\u001b[0;36m3\u001b[0m\u001b[0;34m*\u001b[0m\u001b[0;36m.25\u001b[0m\u001b[0;34m*\u001b[0m\u001b[0;34m(\u001b[0m\u001b[0;36m2\u001b[0m\u001b[0;34m-\u001b[0m\u001b[0mq\u001b[0m\u001b[0;34m)\u001b[0m\u001b[0;34m**\u001b[0m\u001b[0;36m2\u001b[0m \u001b[0;32mif\u001b[0m \u001b[0mq\u001b[0m \u001b[0;34m>\u001b[0m \u001b[0;36m1\u001b[0m \u001b[0;32melse\u001b[0m \u001b[0;34m-\u001b[0m \u001b[0;36m3\u001b[0m\u001b[0;34m*\u001b[0m\u001b[0mq\u001b[0m\u001b[0;34m+\u001b[0m \u001b[0;36m3\u001b[0m\u001b[0;34m*\u001b[0m\u001b[0;36m.75\u001b[0m\u001b[0;34m*\u001b[0m\u001b[0mq\u001b[0m\u001b[0;34m**\u001b[0m\u001b[0;36m2\u001b[0m \u001b[0;34m)\u001b[0m \u001b[0;34m)\u001b[0m \u001b[0;34m)\u001b[0m\u001b[0;34m,\u001b[0m\u001b[0;34m\u001b[0m\u001b[0m\n",
      "\u001b[0;32m/home/mota/.local/lib/python3.6/site-packages/sympy/core/relational.py\u001b[0m in \u001b[0;36m__nonzero__\u001b[0;34m(self)\u001b[0m\n\u001b[1;32m    228\u001b[0m     \u001b[0;32mdef\u001b[0m \u001b[0m__nonzero__\u001b[0m\u001b[0;34m(\u001b[0m\u001b[0mself\u001b[0m\u001b[0;34m)\u001b[0m\u001b[0;34m:\u001b[0m\u001b[0;34m\u001b[0m\u001b[0m\n\u001b[0;32m--> 229\u001b[0;31m         \u001b[0;32mraise\u001b[0m \u001b[0mTypeError\u001b[0m\u001b[0;34m(\u001b[0m\u001b[0;34m\"cannot determine truth value of Relational\"\u001b[0m\u001b[0;34m)\u001b[0m\u001b[0;34m\u001b[0m\u001b[0m\n\u001b[0m\u001b[1;32m    230\u001b[0m \u001b[0;34m\u001b[0m\u001b[0m\n",
      "\u001b[0;31mTypeError\u001b[0m: cannot determine truth value of Relational",
      "\nDuring handling of the above exception, another exception occurred:\n",
      "\u001b[0;31mTypeError\u001b[0m                                 Traceback (most recent call last)",
      "\u001b[0;32m/home/mota/.local/lib/python3.6/site-packages/sympy/core/cache.py\u001b[0m in \u001b[0;36mwrapper\u001b[0;34m(*args, **kwargs)\u001b[0m\n\u001b[1;32m     92\u001b[0m                 \u001b[0;32mtry\u001b[0m\u001b[0;34m:\u001b[0m\u001b[0;34m\u001b[0m\u001b[0m\n\u001b[0;32m---> 93\u001b[0;31m                     \u001b[0mretval\u001b[0m \u001b[0;34m=\u001b[0m \u001b[0mcfunc\u001b[0m\u001b[0;34m(\u001b[0m\u001b[0;34m*\u001b[0m\u001b[0margs\u001b[0m\u001b[0;34m,\u001b[0m \u001b[0;34m**\u001b[0m\u001b[0mkwargs\u001b[0m\u001b[0;34m)\u001b[0m\u001b[0;34m\u001b[0m\u001b[0m\n\u001b[0m\u001b[1;32m     94\u001b[0m                 \u001b[0;32mexcept\u001b[0m \u001b[0mTypeError\u001b[0m\u001b[0;34m:\u001b[0m\u001b[0;34m\u001b[0m\u001b[0m\n",
      "\u001b[0;32m/home/mota/.local/lib/python3.6/site-packages/sympy/core/function.py\u001b[0m in \u001b[0;36m__new__\u001b[0;34m(cls, *args, **options)\u001b[0m\n\u001b[1;32m    441\u001b[0m         \u001b[0mevaluate\u001b[0m \u001b[0;34m=\u001b[0m \u001b[0moptions\u001b[0m\u001b[0;34m.\u001b[0m\u001b[0mget\u001b[0m\u001b[0;34m(\u001b[0m\u001b[0;34m'evaluate'\u001b[0m\u001b[0;34m,\u001b[0m \u001b[0mglobal_evaluate\u001b[0m\u001b[0;34m[\u001b[0m\u001b[0;36m0\u001b[0m\u001b[0;34m]\u001b[0m\u001b[0;34m)\u001b[0m\u001b[0;34m\u001b[0m\u001b[0m\n\u001b[0;32m--> 442\u001b[0;31m         \u001b[0mresult\u001b[0m \u001b[0;34m=\u001b[0m \u001b[0msuper\u001b[0m\u001b[0;34m(\u001b[0m\u001b[0mFunction\u001b[0m\u001b[0;34m,\u001b[0m \u001b[0mcls\u001b[0m\u001b[0;34m)\u001b[0m\u001b[0;34m.\u001b[0m\u001b[0m__new__\u001b[0m\u001b[0;34m(\u001b[0m\u001b[0mcls\u001b[0m\u001b[0;34m,\u001b[0m \u001b[0;34m*\u001b[0m\u001b[0margs\u001b[0m\u001b[0;34m,\u001b[0m \u001b[0;34m**\u001b[0m\u001b[0moptions\u001b[0m\u001b[0;34m)\u001b[0m\u001b[0;34m\u001b[0m\u001b[0m\n\u001b[0m\u001b[1;32m    443\u001b[0m         \u001b[0;32mif\u001b[0m \u001b[0mevaluate\u001b[0m \u001b[0;32mand\u001b[0m \u001b[0misinstance\u001b[0m\u001b[0;34m(\u001b[0m\u001b[0mresult\u001b[0m\u001b[0;34m,\u001b[0m \u001b[0mcls\u001b[0m\u001b[0;34m)\u001b[0m \u001b[0;32mand\u001b[0m \u001b[0mresult\u001b[0m\u001b[0;34m.\u001b[0m\u001b[0margs\u001b[0m\u001b[0;34m:\u001b[0m\u001b[0;34m\u001b[0m\u001b[0m\n",
      "\u001b[0;32m/home/mota/.local/lib/python3.6/site-packages/sympy/core/cache.py\u001b[0m in \u001b[0;36mwrapper\u001b[0;34m(*args, **kwargs)\u001b[0m\n\u001b[1;32m     94\u001b[0m                 \u001b[0;32mexcept\u001b[0m \u001b[0mTypeError\u001b[0m\u001b[0;34m:\u001b[0m\u001b[0;34m\u001b[0m\u001b[0m\n\u001b[0;32m---> 95\u001b[0;31m                     \u001b[0mretval\u001b[0m \u001b[0;34m=\u001b[0m \u001b[0mfunc\u001b[0m\u001b[0;34m(\u001b[0m\u001b[0;34m*\u001b[0m\u001b[0margs\u001b[0m\u001b[0;34m,\u001b[0m \u001b[0;34m**\u001b[0m\u001b[0mkwargs\u001b[0m\u001b[0;34m)\u001b[0m\u001b[0;34m\u001b[0m\u001b[0m\n\u001b[0m\u001b[1;32m     96\u001b[0m                 \u001b[0;32mreturn\u001b[0m \u001b[0mretval\u001b[0m\u001b[0;34m\u001b[0m\u001b[0m\n",
      "\u001b[0;32m/home/mota/.local/lib/python3.6/site-packages/sympy/core/function.py\u001b[0m in \u001b[0;36m__new__\u001b[0;34m(cls, *args, **options)\u001b[0m\n\u001b[1;32m    250\u001b[0m         \u001b[0;32mif\u001b[0m \u001b[0mevaluate\u001b[0m\u001b[0;34m:\u001b[0m\u001b[0;34m\u001b[0m\u001b[0m\n\u001b[0;32m--> 251\u001b[0;31m             \u001b[0mevaluated\u001b[0m \u001b[0;34m=\u001b[0m \u001b[0mcls\u001b[0m\u001b[0;34m.\u001b[0m\u001b[0meval\u001b[0m\u001b[0;34m(\u001b[0m\u001b[0;34m*\u001b[0m\u001b[0margs\u001b[0m\u001b[0;34m)\u001b[0m\u001b[0;34m\u001b[0m\u001b[0m\n\u001b[0m\u001b[1;32m    252\u001b[0m             \u001b[0;32mif\u001b[0m \u001b[0mevaluated\u001b[0m \u001b[0;32mis\u001b[0m \u001b[0;32mnot\u001b[0m \u001b[0;32mNone\u001b[0m\u001b[0;34m:\u001b[0m\u001b[0;34m\u001b[0m\u001b[0m\n",
      "\u001b[0;32m<ipython-input-156-b3bc8c4a3295>\u001b[0m in \u001b[0;36m<lambda>\u001b[0;34m(prec, q)\u001b[0m\n\u001b[1;32m      3\u001b[0m \u001b[0mW\u001b[0m \u001b[0;34m=\u001b[0m \u001b[0mFunction\u001b[0m\u001b[0;34m(\u001b[0m\u001b[0;34m'W'\u001b[0m\u001b[0;34m)\u001b[0m\u001b[0;34m\u001b[0m\u001b[0m\n\u001b[0;32m----> 4\u001b[0;31m \u001b[0mW\u001b[0m\u001b[0;34m.\u001b[0m\u001b[0meval\u001b[0m \u001b[0;34m=\u001b[0m \u001b[0mMethodType\u001b[0m\u001b[0;34m(\u001b[0m\u001b[0;32mlambda\u001b[0m \u001b[0mprec\u001b[0m\u001b[0;34m,\u001b[0m \u001b[0mq\u001b[0m\u001b[0;34m:\u001b[0m \u001b[0mnum\u001b[0m\u001b[0;34m.\u001b[0m\u001b[0mW\u001b[0m\u001b[0;34m(\u001b[0m\u001b[0mq\u001b[0m\u001b[0;34m)\u001b[0m\u001b[0;34m,\u001b[0m \u001b[0mW\u001b[0m\u001b[0;34m)\u001b[0m\u001b[0;34m\u001b[0m\u001b[0m\n\u001b[0m\u001b[1;32m      5\u001b[0m \u001b[0;34m\u001b[0m\u001b[0m\n",
      "\u001b[0;32m/home/mota/.local/lib/python3.6/site-packages/numpy/lib/function_base.py\u001b[0m in \u001b[0;36m__call__\u001b[0;34m(self, *args, **kwargs)\u001b[0m\n\u001b[1;32m   1971\u001b[0m \u001b[0;34m\u001b[0m\u001b[0m\n\u001b[0;32m-> 1972\u001b[0;31m         \u001b[0;32mreturn\u001b[0m \u001b[0mself\u001b[0m\u001b[0;34m.\u001b[0m\u001b[0m_vectorize_call\u001b[0m\u001b[0;34m(\u001b[0m\u001b[0mfunc\u001b[0m\u001b[0;34m=\u001b[0m\u001b[0mfunc\u001b[0m\u001b[0;34m,\u001b[0m \u001b[0margs\u001b[0m\u001b[0;34m=\u001b[0m\u001b[0mvargs\u001b[0m\u001b[0;34m)\u001b[0m\u001b[0;34m\u001b[0m\u001b[0m\n\u001b[0m\u001b[1;32m   1973\u001b[0m \u001b[0;34m\u001b[0m\u001b[0m\n",
      "\u001b[0;32m/home/mota/.local/lib/python3.6/site-packages/numpy/lib/function_base.py\u001b[0m in \u001b[0;36m_vectorize_call\u001b[0;34m(self, func, args)\u001b[0m\n\u001b[1;32m   2041\u001b[0m         \u001b[0;32melse\u001b[0m\u001b[0;34m:\u001b[0m\u001b[0;34m\u001b[0m\u001b[0m\n\u001b[0;32m-> 2042\u001b[0;31m             \u001b[0mufunc\u001b[0m\u001b[0;34m,\u001b[0m \u001b[0motypes\u001b[0m \u001b[0;34m=\u001b[0m \u001b[0mself\u001b[0m\u001b[0;34m.\u001b[0m\u001b[0m_get_ufunc_and_otypes\u001b[0m\u001b[0;34m(\u001b[0m\u001b[0mfunc\u001b[0m\u001b[0;34m=\u001b[0m\u001b[0mfunc\u001b[0m\u001b[0;34m,\u001b[0m \u001b[0margs\u001b[0m\u001b[0;34m=\u001b[0m\u001b[0margs\u001b[0m\u001b[0;34m)\u001b[0m\u001b[0;34m\u001b[0m\u001b[0m\n\u001b[0m\u001b[1;32m   2043\u001b[0m \u001b[0;34m\u001b[0m\u001b[0m\n",
      "\u001b[0;32m/home/mota/.local/lib/python3.6/site-packages/numpy/lib/function_base.py\u001b[0m in \u001b[0;36m_get_ufunc_and_otypes\u001b[0;34m(self, func, args)\u001b[0m\n\u001b[1;32m   2001\u001b[0m             \u001b[0minputs\u001b[0m \u001b[0;34m=\u001b[0m \u001b[0;34m[\u001b[0m\u001b[0marg\u001b[0m\u001b[0;34m.\u001b[0m\u001b[0mflat\u001b[0m\u001b[0;34m[\u001b[0m\u001b[0;36m0\u001b[0m\u001b[0;34m]\u001b[0m \u001b[0;32mfor\u001b[0m \u001b[0marg\u001b[0m \u001b[0;32min\u001b[0m \u001b[0margs\u001b[0m\u001b[0;34m]\u001b[0m\u001b[0;34m\u001b[0m\u001b[0m\n\u001b[0;32m-> 2002\u001b[0;31m             \u001b[0moutputs\u001b[0m \u001b[0;34m=\u001b[0m \u001b[0mfunc\u001b[0m\u001b[0;34m(\u001b[0m\u001b[0;34m*\u001b[0m\u001b[0minputs\u001b[0m\u001b[0;34m)\u001b[0m\u001b[0;34m\u001b[0m\u001b[0m\n\u001b[0m\u001b[1;32m   2003\u001b[0m \u001b[0;34m\u001b[0m\u001b[0m\n",
      "\u001b[0;32m<ipython-input-108-9326ceb6dd3b>\u001b[0m in \u001b[0;36m<lambda>\u001b[0;34m(q)\u001b[0m\n\u001b[1;32m      7\u001b[0m     return (\n\u001b[0;32m----> 8\u001b[0;31m         \u001b[0mnp\u001b[0m\u001b[0;34m.\u001b[0m\u001b[0mvectorize\u001b[0m\u001b[0;34m(\u001b[0m \u001b[0;32mlambda\u001b[0m \u001b[0mq\u001b[0m\u001b[0;34m:\u001b[0m \u001b[0mK\u001b[0m\u001b[0;34m*\u001b[0m \u001b[0;34m(\u001b[0m \u001b[0;36m0\u001b[0m \u001b[0;32mif\u001b[0m \u001b[0mq\u001b[0m \u001b[0;34m>\u001b[0m \u001b[0;36m2\u001b[0m \u001b[0;32melse\u001b[0m \u001b[0;34m(\u001b[0m \u001b[0;36m.25\u001b[0m\u001b[0;34m*\u001b[0m\u001b[0;34m(\u001b[0m\u001b[0;36m2\u001b[0m\u001b[0;34m-\u001b[0m\u001b[0mq\u001b[0m\u001b[0;34m)\u001b[0m\u001b[0;34m**\u001b[0m\u001b[0;36m3\u001b[0m \u001b[0;32mif\u001b[0m \u001b[0mq\u001b[0m \u001b[0;34m>\u001b[0m \u001b[0;36m1\u001b[0m \u001b[0;32melse\u001b[0m \u001b[0;36m1\u001b[0m \u001b[0;34m-\u001b[0m \u001b[0;36m1.5\u001b[0m\u001b[0;34m*\u001b[0m\u001b[0mq\u001b[0m\u001b[0;34m**\u001b[0m\u001b[0;36m2\u001b[0m\u001b[0;34m+\u001b[0m\u001b[0;36m.75\u001b[0m\u001b[0;34m*\u001b[0m\u001b[0mq\u001b[0m\u001b[0;34m**\u001b[0m\u001b[0;36m3\u001b[0m \u001b[0;34m)\u001b[0m \u001b[0;34m)\u001b[0m \u001b[0;34m)\u001b[0m\u001b[0;34m,\u001b[0m\u001b[0;34m\u001b[0m\u001b[0m\n\u001b[0m\u001b[1;32m      9\u001b[0m         \u001b[0mnp\u001b[0m\u001b[0;34m.\u001b[0m\u001b[0mvectorize\u001b[0m\u001b[0;34m(\u001b[0m \u001b[0;32mlambda\u001b[0m \u001b[0mq\u001b[0m\u001b[0;34m:\u001b[0m \u001b[0mK\u001b[0m\u001b[0;34m*\u001b[0m \u001b[0;34m(\u001b[0m \u001b[0;36m0\u001b[0m \u001b[0;32mif\u001b[0m \u001b[0mq\u001b[0m \u001b[0;34m>\u001b[0m \u001b[0;36m2\u001b[0m \u001b[0;32melse\u001b[0m \u001b[0;34m(\u001b[0m \u001b[0;34m-\u001b[0m\u001b[0;36m3\u001b[0m\u001b[0;34m*\u001b[0m\u001b[0;36m.25\u001b[0m\u001b[0;34m*\u001b[0m\u001b[0;34m(\u001b[0m\u001b[0;36m2\u001b[0m\u001b[0;34m-\u001b[0m\u001b[0mq\u001b[0m\u001b[0;34m)\u001b[0m\u001b[0;34m**\u001b[0m\u001b[0;36m2\u001b[0m \u001b[0;32mif\u001b[0m \u001b[0mq\u001b[0m \u001b[0;34m>\u001b[0m \u001b[0;36m1\u001b[0m \u001b[0;32melse\u001b[0m \u001b[0;34m-\u001b[0m \u001b[0;36m3\u001b[0m\u001b[0;34m*\u001b[0m\u001b[0mq\u001b[0m\u001b[0;34m+\u001b[0m \u001b[0;36m3\u001b[0m\u001b[0;34m*\u001b[0m\u001b[0;36m.75\u001b[0m\u001b[0;34m*\u001b[0m\u001b[0mq\u001b[0m\u001b[0;34m**\u001b[0m\u001b[0;36m2\u001b[0m \u001b[0;34m)\u001b[0m \u001b[0;34m)\u001b[0m \u001b[0;34m)\u001b[0m\u001b[0;34m,\u001b[0m\u001b[0;34m\u001b[0m\u001b[0m\n",
      "\u001b[0;32m/home/mota/.local/lib/python3.6/site-packages/sympy/core/relational.py\u001b[0m in \u001b[0;36m__nonzero__\u001b[0;34m(self)\u001b[0m\n\u001b[1;32m    228\u001b[0m     \u001b[0;32mdef\u001b[0m \u001b[0m__nonzero__\u001b[0m\u001b[0;34m(\u001b[0m\u001b[0mself\u001b[0m\u001b[0;34m)\u001b[0m\u001b[0;34m:\u001b[0m\u001b[0;34m\u001b[0m\u001b[0m\n\u001b[0;32m--> 229\u001b[0;31m         \u001b[0;32mraise\u001b[0m \u001b[0mTypeError\u001b[0m\u001b[0;34m(\u001b[0m\u001b[0;34m\"cannot determine truth value of Relational\"\u001b[0m\u001b[0;34m)\u001b[0m\u001b[0;34m\u001b[0m\u001b[0m\n\u001b[0m\u001b[1;32m    230\u001b[0m \u001b[0;34m\u001b[0m\u001b[0m\n",
      "\u001b[0;31mTypeError\u001b[0m: cannot determine truth value of Relational",
      "\nDuring handling of the above exception, another exception occurred:\n",
      "\u001b[0;31mTypeError\u001b[0m                                 Traceback (most recent call last)",
      "\u001b[0;32m/home/mota/.local/lib/python3.6/site-packages/sympy/core/cache.py\u001b[0m in \u001b[0;36mwrapper\u001b[0;34m(*args, **kwargs)\u001b[0m\n\u001b[1;32m     92\u001b[0m                 \u001b[0;32mtry\u001b[0m\u001b[0;34m:\u001b[0m\u001b[0;34m\u001b[0m\u001b[0m\n\u001b[0;32m---> 93\u001b[0;31m                     \u001b[0mretval\u001b[0m \u001b[0;34m=\u001b[0m \u001b[0mcfunc\u001b[0m\u001b[0;34m(\u001b[0m\u001b[0;34m*\u001b[0m\u001b[0margs\u001b[0m\u001b[0;34m,\u001b[0m \u001b[0;34m**\u001b[0m\u001b[0mkwargs\u001b[0m\u001b[0;34m)\u001b[0m\u001b[0;34m\u001b[0m\u001b[0m\n\u001b[0m\u001b[1;32m     94\u001b[0m                 \u001b[0;32mexcept\u001b[0m \u001b[0mTypeError\u001b[0m\u001b[0;34m:\u001b[0m\u001b[0;34m\u001b[0m\u001b[0m\n",
      "\u001b[0;32m/home/mota/.local/lib/python3.6/site-packages/sympy/core/function.py\u001b[0m in \u001b[0;36m__new__\u001b[0;34m(cls, *args, **options)\u001b[0m\n\u001b[1;32m    250\u001b[0m         \u001b[0;32mif\u001b[0m \u001b[0mevaluate\u001b[0m\u001b[0;34m:\u001b[0m\u001b[0;34m\u001b[0m\u001b[0m\n\u001b[0;32m--> 251\u001b[0;31m             \u001b[0mevaluated\u001b[0m \u001b[0;34m=\u001b[0m \u001b[0mcls\u001b[0m\u001b[0;34m.\u001b[0m\u001b[0meval\u001b[0m\u001b[0;34m(\u001b[0m\u001b[0;34m*\u001b[0m\u001b[0margs\u001b[0m\u001b[0;34m)\u001b[0m\u001b[0;34m\u001b[0m\u001b[0m\n\u001b[0m\u001b[1;32m    252\u001b[0m             \u001b[0;32mif\u001b[0m \u001b[0mevaluated\u001b[0m \u001b[0;32mis\u001b[0m \u001b[0;32mnot\u001b[0m \u001b[0;32mNone\u001b[0m\u001b[0;34m:\u001b[0m\u001b[0;34m\u001b[0m\u001b[0m\n",
      "\u001b[0;32m<ipython-input-156-b3bc8c4a3295>\u001b[0m in \u001b[0;36m<lambda>\u001b[0;34m(prec, q)\u001b[0m\n\u001b[1;32m      3\u001b[0m \u001b[0mW\u001b[0m \u001b[0;34m=\u001b[0m \u001b[0mFunction\u001b[0m\u001b[0;34m(\u001b[0m\u001b[0;34m'W'\u001b[0m\u001b[0;34m)\u001b[0m\u001b[0;34m\u001b[0m\u001b[0m\n\u001b[0;32m----> 4\u001b[0;31m \u001b[0mW\u001b[0m\u001b[0;34m.\u001b[0m\u001b[0meval\u001b[0m \u001b[0;34m=\u001b[0m \u001b[0mMethodType\u001b[0m\u001b[0;34m(\u001b[0m\u001b[0;32mlambda\u001b[0m \u001b[0mprec\u001b[0m\u001b[0;34m,\u001b[0m \u001b[0mq\u001b[0m\u001b[0;34m:\u001b[0m \u001b[0mnum\u001b[0m\u001b[0;34m.\u001b[0m\u001b[0mW\u001b[0m\u001b[0;34m(\u001b[0m\u001b[0mq\u001b[0m\u001b[0;34m)\u001b[0m\u001b[0;34m,\u001b[0m \u001b[0mW\u001b[0m\u001b[0;34m)\u001b[0m\u001b[0;34m\u001b[0m\u001b[0m\n\u001b[0m\u001b[1;32m      5\u001b[0m \u001b[0;34m\u001b[0m\u001b[0m\n",
      "\u001b[0;32m/home/mota/.local/lib/python3.6/site-packages/numpy/lib/function_base.py\u001b[0m in \u001b[0;36m__call__\u001b[0;34m(self, *args, **kwargs)\u001b[0m\n\u001b[1;32m   1971\u001b[0m \u001b[0;34m\u001b[0m\u001b[0m\n\u001b[0;32m-> 1972\u001b[0;31m         \u001b[0;32mreturn\u001b[0m \u001b[0mself\u001b[0m\u001b[0;34m.\u001b[0m\u001b[0m_vectorize_call\u001b[0m\u001b[0;34m(\u001b[0m\u001b[0mfunc\u001b[0m\u001b[0;34m=\u001b[0m\u001b[0mfunc\u001b[0m\u001b[0;34m,\u001b[0m \u001b[0margs\u001b[0m\u001b[0;34m=\u001b[0m\u001b[0mvargs\u001b[0m\u001b[0;34m)\u001b[0m\u001b[0;34m\u001b[0m\u001b[0m\n\u001b[0m\u001b[1;32m   1973\u001b[0m \u001b[0;34m\u001b[0m\u001b[0m\n",
      "\u001b[0;32m/home/mota/.local/lib/python3.6/site-packages/numpy/lib/function_base.py\u001b[0m in \u001b[0;36m_vectorize_call\u001b[0;34m(self, func, args)\u001b[0m\n\u001b[1;32m   2041\u001b[0m         \u001b[0;32melse\u001b[0m\u001b[0;34m:\u001b[0m\u001b[0;34m\u001b[0m\u001b[0m\n\u001b[0;32m-> 2042\u001b[0;31m             \u001b[0mufunc\u001b[0m\u001b[0;34m,\u001b[0m \u001b[0motypes\u001b[0m \u001b[0;34m=\u001b[0m \u001b[0mself\u001b[0m\u001b[0;34m.\u001b[0m\u001b[0m_get_ufunc_and_otypes\u001b[0m\u001b[0;34m(\u001b[0m\u001b[0mfunc\u001b[0m\u001b[0;34m=\u001b[0m\u001b[0mfunc\u001b[0m\u001b[0;34m,\u001b[0m \u001b[0margs\u001b[0m\u001b[0;34m=\u001b[0m\u001b[0margs\u001b[0m\u001b[0;34m)\u001b[0m\u001b[0;34m\u001b[0m\u001b[0m\n\u001b[0m\u001b[1;32m   2043\u001b[0m \u001b[0;34m\u001b[0m\u001b[0m\n",
      "\u001b[0;32m/home/mota/.local/lib/python3.6/site-packages/numpy/lib/function_base.py\u001b[0m in \u001b[0;36m_get_ufunc_and_otypes\u001b[0;34m(self, func, args)\u001b[0m\n\u001b[1;32m   2001\u001b[0m             \u001b[0minputs\u001b[0m \u001b[0;34m=\u001b[0m \u001b[0;34m[\u001b[0m\u001b[0marg\u001b[0m\u001b[0;34m.\u001b[0m\u001b[0mflat\u001b[0m\u001b[0;34m[\u001b[0m\u001b[0;36m0\u001b[0m\u001b[0;34m]\u001b[0m \u001b[0;32mfor\u001b[0m \u001b[0marg\u001b[0m \u001b[0;32min\u001b[0m \u001b[0margs\u001b[0m\u001b[0;34m]\u001b[0m\u001b[0;34m\u001b[0m\u001b[0m\n\u001b[0;32m-> 2002\u001b[0;31m             \u001b[0moutputs\u001b[0m \u001b[0;34m=\u001b[0m \u001b[0mfunc\u001b[0m\u001b[0;34m(\u001b[0m\u001b[0;34m*\u001b[0m\u001b[0minputs\u001b[0m\u001b[0;34m)\u001b[0m\u001b[0;34m\u001b[0m\u001b[0m\n\u001b[0m\u001b[1;32m   2003\u001b[0m \u001b[0;34m\u001b[0m\u001b[0m\n",
      "\u001b[0;32m<ipython-input-108-9326ceb6dd3b>\u001b[0m in \u001b[0;36m<lambda>\u001b[0;34m(q)\u001b[0m\n\u001b[1;32m      7\u001b[0m     return (\n\u001b[0;32m----> 8\u001b[0;31m         \u001b[0mnp\u001b[0m\u001b[0;34m.\u001b[0m\u001b[0mvectorize\u001b[0m\u001b[0;34m(\u001b[0m \u001b[0;32mlambda\u001b[0m \u001b[0mq\u001b[0m\u001b[0;34m:\u001b[0m \u001b[0mK\u001b[0m\u001b[0;34m*\u001b[0m \u001b[0;34m(\u001b[0m \u001b[0;36m0\u001b[0m \u001b[0;32mif\u001b[0m \u001b[0mq\u001b[0m \u001b[0;34m>\u001b[0m \u001b[0;36m2\u001b[0m \u001b[0;32melse\u001b[0m \u001b[0;34m(\u001b[0m \u001b[0;36m.25\u001b[0m\u001b[0;34m*\u001b[0m\u001b[0;34m(\u001b[0m\u001b[0;36m2\u001b[0m\u001b[0;34m-\u001b[0m\u001b[0mq\u001b[0m\u001b[0;34m)\u001b[0m\u001b[0;34m**\u001b[0m\u001b[0;36m3\u001b[0m \u001b[0;32mif\u001b[0m \u001b[0mq\u001b[0m \u001b[0;34m>\u001b[0m \u001b[0;36m1\u001b[0m \u001b[0;32melse\u001b[0m \u001b[0;36m1\u001b[0m \u001b[0;34m-\u001b[0m \u001b[0;36m1.5\u001b[0m\u001b[0;34m*\u001b[0m\u001b[0mq\u001b[0m\u001b[0;34m**\u001b[0m\u001b[0;36m2\u001b[0m\u001b[0;34m+\u001b[0m\u001b[0;36m.75\u001b[0m\u001b[0;34m*\u001b[0m\u001b[0mq\u001b[0m\u001b[0;34m**\u001b[0m\u001b[0;36m3\u001b[0m \u001b[0;34m)\u001b[0m \u001b[0;34m)\u001b[0m \u001b[0;34m)\u001b[0m\u001b[0;34m,\u001b[0m\u001b[0;34m\u001b[0m\u001b[0m\n\u001b[0m\u001b[1;32m      9\u001b[0m         \u001b[0mnp\u001b[0m\u001b[0;34m.\u001b[0m\u001b[0mvectorize\u001b[0m\u001b[0;34m(\u001b[0m \u001b[0;32mlambda\u001b[0m \u001b[0mq\u001b[0m\u001b[0;34m:\u001b[0m \u001b[0mK\u001b[0m\u001b[0;34m*\u001b[0m \u001b[0;34m(\u001b[0m \u001b[0;36m0\u001b[0m \u001b[0;32mif\u001b[0m \u001b[0mq\u001b[0m \u001b[0;34m>\u001b[0m \u001b[0;36m2\u001b[0m \u001b[0;32melse\u001b[0m \u001b[0;34m(\u001b[0m \u001b[0;34m-\u001b[0m\u001b[0;36m3\u001b[0m\u001b[0;34m*\u001b[0m\u001b[0;36m.25\u001b[0m\u001b[0;34m*\u001b[0m\u001b[0;34m(\u001b[0m\u001b[0;36m2\u001b[0m\u001b[0;34m-\u001b[0m\u001b[0mq\u001b[0m\u001b[0;34m)\u001b[0m\u001b[0;34m**\u001b[0m\u001b[0;36m2\u001b[0m \u001b[0;32mif\u001b[0m \u001b[0mq\u001b[0m \u001b[0;34m>\u001b[0m \u001b[0;36m1\u001b[0m \u001b[0;32melse\u001b[0m \u001b[0;34m-\u001b[0m \u001b[0;36m3\u001b[0m\u001b[0;34m*\u001b[0m\u001b[0mq\u001b[0m\u001b[0;34m+\u001b[0m \u001b[0;36m3\u001b[0m\u001b[0;34m*\u001b[0m\u001b[0;36m.75\u001b[0m\u001b[0;34m*\u001b[0m\u001b[0mq\u001b[0m\u001b[0;34m**\u001b[0m\u001b[0;36m2\u001b[0m \u001b[0;34m)\u001b[0m \u001b[0;34m)\u001b[0m \u001b[0;34m)\u001b[0m\u001b[0;34m,\u001b[0m\u001b[0;34m\u001b[0m\u001b[0m\n",
      "\u001b[0;32m/home/mota/.local/lib/python3.6/site-packages/sympy/core/relational.py\u001b[0m in \u001b[0;36m__nonzero__\u001b[0;34m(self)\u001b[0m\n\u001b[1;32m    228\u001b[0m     \u001b[0;32mdef\u001b[0m \u001b[0m__nonzero__\u001b[0m\u001b[0;34m(\u001b[0m\u001b[0mself\u001b[0m\u001b[0;34m)\u001b[0m\u001b[0;34m:\u001b[0m\u001b[0;34m\u001b[0m\u001b[0m\n\u001b[0;32m--> 229\u001b[0;31m         \u001b[0;32mraise\u001b[0m \u001b[0mTypeError\u001b[0m\u001b[0;34m(\u001b[0m\u001b[0;34m\"cannot determine truth value of Relational\"\u001b[0m\u001b[0;34m)\u001b[0m\u001b[0;34m\u001b[0m\u001b[0m\n\u001b[0m\u001b[1;32m    230\u001b[0m \u001b[0;34m\u001b[0m\u001b[0m\n",
      "\u001b[0;31mTypeError\u001b[0m: cannot determine truth value of Relational",
      "\nDuring handling of the above exception, another exception occurred:\n",
      "\u001b[0;31mTypeError\u001b[0m                                 Traceback (most recent call last)",
      "\u001b[0;32m<ipython-input-190-8340af8da5e0>\u001b[0m in \u001b[0;36m<module>\u001b[0;34m()\u001b[0m\n\u001b[0;32m----> 1\u001b[0;31m \u001b[0ms\u001b[0m \u001b[0;34m=\u001b[0m \u001b[0msummation\u001b[0m\u001b[0;34m(\u001b[0m \u001b[0msym\u001b[0m\u001b[0;34m.\u001b[0m\u001b[0mnu\u001b[0m\u001b[0;34m[\u001b[0m\u001b[0ma\u001b[0m\u001b[0;34m]\u001b[0m\u001b[0;34m*\u001b[0m\u001b[0msym\u001b[0m\u001b[0;34m.\u001b[0m\u001b[0mf\u001b[0m\u001b[0;34m[\u001b[0m\u001b[0ma\u001b[0m\u001b[0;34m]\u001b[0m\u001b[0;34m*\u001b[0m\u001b[0mW\u001b[0m\u001b[0;34m(\u001b[0m\u001b[0msym\u001b[0m\u001b[0;34m.\u001b[0m\u001b[0mnu\u001b[0m\u001b[0;34m[\u001b[0m\u001b[0ma\u001b[0m\u001b[0;34m]\u001b[0m\u001b[0;34m)\u001b[0m\u001b[0;34m,\u001b[0m \u001b[0;34m(\u001b[0m\u001b[0ma\u001b[0m\u001b[0;34m,\u001b[0m\u001b[0;36m0\u001b[0m\u001b[0;34m,\u001b[0m\u001b[0msym\u001b[0m\u001b[0;34m.\u001b[0m\u001b[0mn\u001b[0m\u001b[0;34m)\u001b[0m\u001b[0;34m)\u001b[0m\u001b[0;34m\u001b[0m\u001b[0m\n\u001b[0m",
      "\u001b[0;32m/home/mota/.local/lib/python3.6/site-packages/sympy/core/function.py\u001b[0m in \u001b[0;36m__new__\u001b[0;34m(cls, *args, **options)\u001b[0m\n\u001b[1;32m    789\u001b[0m     \u001b[0;32mdef\u001b[0m \u001b[0m__new__\u001b[0m\u001b[0;34m(\u001b[0m\u001b[0mcls\u001b[0m\u001b[0;34m,\u001b[0m \u001b[0;34m*\u001b[0m\u001b[0margs\u001b[0m\u001b[0;34m,\u001b[0m \u001b[0;34m**\u001b[0m\u001b[0moptions\u001b[0m\u001b[0;34m)\u001b[0m\u001b[0;34m:\u001b[0m\u001b[0;34m\u001b[0m\u001b[0m\n\u001b[1;32m    790\u001b[0m         \u001b[0margs\u001b[0m \u001b[0;34m=\u001b[0m \u001b[0mlist\u001b[0m\u001b[0;34m(\u001b[0m\u001b[0mmap\u001b[0m\u001b[0;34m(\u001b[0m\u001b[0msympify\u001b[0m\u001b[0;34m,\u001b[0m \u001b[0margs\u001b[0m\u001b[0;34m)\u001b[0m\u001b[0;34m)\u001b[0m\u001b[0;34m\u001b[0m\u001b[0m\n\u001b[0;32m--> 791\u001b[0;31m         \u001b[0mobj\u001b[0m \u001b[0;34m=\u001b[0m \u001b[0msuper\u001b[0m\u001b[0;34m(\u001b[0m\u001b[0mAppliedUndef\u001b[0m\u001b[0;34m,\u001b[0m \u001b[0mcls\u001b[0m\u001b[0;34m)\u001b[0m\u001b[0;34m.\u001b[0m\u001b[0m__new__\u001b[0m\u001b[0;34m(\u001b[0m\u001b[0mcls\u001b[0m\u001b[0;34m,\u001b[0m \u001b[0;34m*\u001b[0m\u001b[0margs\u001b[0m\u001b[0;34m,\u001b[0m \u001b[0;34m**\u001b[0m\u001b[0moptions\u001b[0m\u001b[0;34m)\u001b[0m\u001b[0;34m\u001b[0m\u001b[0m\n\u001b[0m\u001b[1;32m    792\u001b[0m         \u001b[0;32mreturn\u001b[0m \u001b[0mobj\u001b[0m\u001b[0;34m\u001b[0m\u001b[0m\n\u001b[1;32m    793\u001b[0m \u001b[0;34m\u001b[0m\u001b[0m\n",
      "\u001b[0;32m/home/mota/.local/lib/python3.6/site-packages/sympy/core/cache.py\u001b[0m in \u001b[0;36mwrapper\u001b[0;34m(*args, **kwargs)\u001b[0m\n\u001b[1;32m     93\u001b[0m                     \u001b[0mretval\u001b[0m \u001b[0;34m=\u001b[0m \u001b[0mcfunc\u001b[0m\u001b[0;34m(\u001b[0m\u001b[0;34m*\u001b[0m\u001b[0margs\u001b[0m\u001b[0;34m,\u001b[0m \u001b[0;34m**\u001b[0m\u001b[0mkwargs\u001b[0m\u001b[0;34m)\u001b[0m\u001b[0;34m\u001b[0m\u001b[0m\n\u001b[1;32m     94\u001b[0m                 \u001b[0;32mexcept\u001b[0m \u001b[0mTypeError\u001b[0m\u001b[0;34m:\u001b[0m\u001b[0;34m\u001b[0m\u001b[0m\n\u001b[0;32m---> 95\u001b[0;31m                     \u001b[0mretval\u001b[0m \u001b[0;34m=\u001b[0m \u001b[0mfunc\u001b[0m\u001b[0;34m(\u001b[0m\u001b[0;34m*\u001b[0m\u001b[0margs\u001b[0m\u001b[0;34m,\u001b[0m \u001b[0;34m**\u001b[0m\u001b[0mkwargs\u001b[0m\u001b[0;34m)\u001b[0m\u001b[0;34m\u001b[0m\u001b[0m\n\u001b[0m\u001b[1;32m     96\u001b[0m                 \u001b[0;32mreturn\u001b[0m \u001b[0mretval\u001b[0m\u001b[0;34m\u001b[0m\u001b[0m\n\u001b[1;32m     97\u001b[0m \u001b[0;34m\u001b[0m\u001b[0m\n",
      "\u001b[0;32m/home/mota/.local/lib/python3.6/site-packages/sympy/core/function.py\u001b[0m in \u001b[0;36m__new__\u001b[0;34m(cls, *args, **options)\u001b[0m\n\u001b[1;32m    440\u001b[0m \u001b[0;34m\u001b[0m\u001b[0m\n\u001b[1;32m    441\u001b[0m         \u001b[0mevaluate\u001b[0m \u001b[0;34m=\u001b[0m \u001b[0moptions\u001b[0m\u001b[0;34m.\u001b[0m\u001b[0mget\u001b[0m\u001b[0;34m(\u001b[0m\u001b[0;34m'evaluate'\u001b[0m\u001b[0;34m,\u001b[0m \u001b[0mglobal_evaluate\u001b[0m\u001b[0;34m[\u001b[0m\u001b[0;36m0\u001b[0m\u001b[0;34m]\u001b[0m\u001b[0;34m)\u001b[0m\u001b[0;34m\u001b[0m\u001b[0m\n\u001b[0;32m--> 442\u001b[0;31m         \u001b[0mresult\u001b[0m \u001b[0;34m=\u001b[0m \u001b[0msuper\u001b[0m\u001b[0;34m(\u001b[0m\u001b[0mFunction\u001b[0m\u001b[0;34m,\u001b[0m \u001b[0mcls\u001b[0m\u001b[0;34m)\u001b[0m\u001b[0;34m.\u001b[0m\u001b[0m__new__\u001b[0m\u001b[0;34m(\u001b[0m\u001b[0mcls\u001b[0m\u001b[0;34m,\u001b[0m \u001b[0;34m*\u001b[0m\u001b[0margs\u001b[0m\u001b[0;34m,\u001b[0m \u001b[0;34m**\u001b[0m\u001b[0moptions\u001b[0m\u001b[0;34m)\u001b[0m\u001b[0;34m\u001b[0m\u001b[0m\n\u001b[0m\u001b[1;32m    443\u001b[0m         \u001b[0;32mif\u001b[0m \u001b[0mevaluate\u001b[0m \u001b[0;32mand\u001b[0m \u001b[0misinstance\u001b[0m\u001b[0;34m(\u001b[0m\u001b[0mresult\u001b[0m\u001b[0;34m,\u001b[0m \u001b[0mcls\u001b[0m\u001b[0;34m)\u001b[0m \u001b[0;32mand\u001b[0m \u001b[0mresult\u001b[0m\u001b[0;34m.\u001b[0m\u001b[0margs\u001b[0m\u001b[0;34m:\u001b[0m\u001b[0;34m\u001b[0m\u001b[0m\n\u001b[1;32m    444\u001b[0m             \u001b[0mpr2\u001b[0m \u001b[0;34m=\u001b[0m \u001b[0mmin\u001b[0m\u001b[0;34m(\u001b[0m\u001b[0mcls\u001b[0m\u001b[0;34m.\u001b[0m\u001b[0m_should_evalf\u001b[0m\u001b[0;34m(\u001b[0m\u001b[0ma\u001b[0m\u001b[0;34m)\u001b[0m \u001b[0;32mfor\u001b[0m \u001b[0ma\u001b[0m \u001b[0;32min\u001b[0m \u001b[0mresult\u001b[0m\u001b[0;34m.\u001b[0m\u001b[0margs\u001b[0m\u001b[0;34m)\u001b[0m\u001b[0;34m\u001b[0m\u001b[0m\n",
      "\u001b[0;32m/home/mota/.local/lib/python3.6/site-packages/sympy/core/cache.py\u001b[0m in \u001b[0;36mwrapper\u001b[0;34m(*args, **kwargs)\u001b[0m\n\u001b[1;32m     93\u001b[0m                     \u001b[0mretval\u001b[0m \u001b[0;34m=\u001b[0m \u001b[0mcfunc\u001b[0m\u001b[0;34m(\u001b[0m\u001b[0;34m*\u001b[0m\u001b[0margs\u001b[0m\u001b[0;34m,\u001b[0m \u001b[0;34m**\u001b[0m\u001b[0mkwargs\u001b[0m\u001b[0;34m)\u001b[0m\u001b[0;34m\u001b[0m\u001b[0m\n\u001b[1;32m     94\u001b[0m                 \u001b[0;32mexcept\u001b[0m \u001b[0mTypeError\u001b[0m\u001b[0;34m:\u001b[0m\u001b[0;34m\u001b[0m\u001b[0m\n\u001b[0;32m---> 95\u001b[0;31m                     \u001b[0mretval\u001b[0m \u001b[0;34m=\u001b[0m \u001b[0mfunc\u001b[0m\u001b[0;34m(\u001b[0m\u001b[0;34m*\u001b[0m\u001b[0margs\u001b[0m\u001b[0;34m,\u001b[0m \u001b[0;34m**\u001b[0m\u001b[0mkwargs\u001b[0m\u001b[0;34m)\u001b[0m\u001b[0;34m\u001b[0m\u001b[0m\n\u001b[0m\u001b[1;32m     96\u001b[0m                 \u001b[0;32mreturn\u001b[0m \u001b[0mretval\u001b[0m\u001b[0;34m\u001b[0m\u001b[0m\n\u001b[1;32m     97\u001b[0m \u001b[0;34m\u001b[0m\u001b[0m\n",
      "\u001b[0;32m/home/mota/.local/lib/python3.6/site-packages/sympy/core/function.py\u001b[0m in \u001b[0;36m__new__\u001b[0;34m(cls, *args, **options)\u001b[0m\n\u001b[1;32m    249\u001b[0m \u001b[0;34m\u001b[0m\u001b[0m\n\u001b[1;32m    250\u001b[0m         \u001b[0;32mif\u001b[0m \u001b[0mevaluate\u001b[0m\u001b[0;34m:\u001b[0m\u001b[0;34m\u001b[0m\u001b[0m\n\u001b[0;32m--> 251\u001b[0;31m             \u001b[0mevaluated\u001b[0m \u001b[0;34m=\u001b[0m \u001b[0mcls\u001b[0m\u001b[0;34m.\u001b[0m\u001b[0meval\u001b[0m\u001b[0;34m(\u001b[0m\u001b[0;34m*\u001b[0m\u001b[0margs\u001b[0m\u001b[0;34m)\u001b[0m\u001b[0;34m\u001b[0m\u001b[0m\n\u001b[0m\u001b[1;32m    252\u001b[0m             \u001b[0;32mif\u001b[0m \u001b[0mevaluated\u001b[0m \u001b[0;32mis\u001b[0m \u001b[0;32mnot\u001b[0m \u001b[0;32mNone\u001b[0m\u001b[0;34m:\u001b[0m\u001b[0;34m\u001b[0m\u001b[0m\n\u001b[1;32m    253\u001b[0m                 \u001b[0;32mreturn\u001b[0m \u001b[0mevaluated\u001b[0m\u001b[0;34m\u001b[0m\u001b[0m\n",
      "\u001b[0;32m<ipython-input-156-b3bc8c4a3295>\u001b[0m in \u001b[0;36m<lambda>\u001b[0;34m(prec, q)\u001b[0m\n\u001b[1;32m      2\u001b[0m \u001b[0;34m\u001b[0m\u001b[0m\n\u001b[1;32m      3\u001b[0m \u001b[0mW\u001b[0m \u001b[0;34m=\u001b[0m \u001b[0mFunction\u001b[0m\u001b[0;34m(\u001b[0m\u001b[0;34m'W'\u001b[0m\u001b[0;34m)\u001b[0m\u001b[0;34m\u001b[0m\u001b[0m\n\u001b[0;32m----> 4\u001b[0;31m \u001b[0mW\u001b[0m\u001b[0;34m.\u001b[0m\u001b[0meval\u001b[0m \u001b[0;34m=\u001b[0m \u001b[0mMethodType\u001b[0m\u001b[0;34m(\u001b[0m\u001b[0;32mlambda\u001b[0m \u001b[0mprec\u001b[0m\u001b[0;34m,\u001b[0m \u001b[0mq\u001b[0m\u001b[0;34m:\u001b[0m \u001b[0mnum\u001b[0m\u001b[0;34m.\u001b[0m\u001b[0mW\u001b[0m\u001b[0;34m(\u001b[0m\u001b[0mq\u001b[0m\u001b[0;34m)\u001b[0m\u001b[0;34m,\u001b[0m \u001b[0mW\u001b[0m\u001b[0;34m)\u001b[0m\u001b[0;34m\u001b[0m\u001b[0m\n\u001b[0m\u001b[1;32m      5\u001b[0m \u001b[0;34m\u001b[0m\u001b[0m\n\u001b[1;32m      6\u001b[0m \u001b[0mWprime\u001b[0m \u001b[0;34m=\u001b[0m \u001b[0mFunction\u001b[0m\u001b[0;34m(\u001b[0m\u001b[0;34m'W\\''\u001b[0m\u001b[0;34m)\u001b[0m\u001b[0;34m\u001b[0m\u001b[0m\n",
      "\u001b[0;32m/home/mota/.local/lib/python3.6/site-packages/numpy/lib/function_base.py\u001b[0m in \u001b[0;36m__call__\u001b[0;34m(self, *args, **kwargs)\u001b[0m\n\u001b[1;32m   1970\u001b[0m             \u001b[0mvargs\u001b[0m\u001b[0;34m.\u001b[0m\u001b[0mextend\u001b[0m\u001b[0;34m(\u001b[0m\u001b[0;34m[\u001b[0m\u001b[0mkwargs\u001b[0m\u001b[0;34m[\u001b[0m\u001b[0m_n\u001b[0m\u001b[0;34m]\u001b[0m \u001b[0;32mfor\u001b[0m \u001b[0m_n\u001b[0m \u001b[0;32min\u001b[0m \u001b[0mnames\u001b[0m\u001b[0;34m]\u001b[0m\u001b[0;34m)\u001b[0m\u001b[0;34m\u001b[0m\u001b[0m\n\u001b[1;32m   1971\u001b[0m \u001b[0;34m\u001b[0m\u001b[0m\n\u001b[0;32m-> 1972\u001b[0;31m         \u001b[0;32mreturn\u001b[0m \u001b[0mself\u001b[0m\u001b[0;34m.\u001b[0m\u001b[0m_vectorize_call\u001b[0m\u001b[0;34m(\u001b[0m\u001b[0mfunc\u001b[0m\u001b[0;34m=\u001b[0m\u001b[0mfunc\u001b[0m\u001b[0;34m,\u001b[0m \u001b[0margs\u001b[0m\u001b[0;34m=\u001b[0m\u001b[0mvargs\u001b[0m\u001b[0;34m)\u001b[0m\u001b[0;34m\u001b[0m\u001b[0m\n\u001b[0m\u001b[1;32m   1973\u001b[0m \u001b[0;34m\u001b[0m\u001b[0m\n\u001b[1;32m   1974\u001b[0m     \u001b[0;32mdef\u001b[0m \u001b[0m_get_ufunc_and_otypes\u001b[0m\u001b[0;34m(\u001b[0m\u001b[0mself\u001b[0m\u001b[0;34m,\u001b[0m \u001b[0mfunc\u001b[0m\u001b[0;34m,\u001b[0m \u001b[0margs\u001b[0m\u001b[0;34m)\u001b[0m\u001b[0;34m:\u001b[0m\u001b[0;34m\u001b[0m\u001b[0m\n",
      "\u001b[0;32m/home/mota/.local/lib/python3.6/site-packages/numpy/lib/function_base.py\u001b[0m in \u001b[0;36m_vectorize_call\u001b[0;34m(self, func, args)\u001b[0m\n\u001b[1;32m   2040\u001b[0m             \u001b[0mres\u001b[0m \u001b[0;34m=\u001b[0m \u001b[0mfunc\u001b[0m\u001b[0;34m(\u001b[0m\u001b[0;34m)\u001b[0m\u001b[0;34m\u001b[0m\u001b[0m\n\u001b[1;32m   2041\u001b[0m         \u001b[0;32melse\u001b[0m\u001b[0;34m:\u001b[0m\u001b[0;34m\u001b[0m\u001b[0m\n\u001b[0;32m-> 2042\u001b[0;31m             \u001b[0mufunc\u001b[0m\u001b[0;34m,\u001b[0m \u001b[0motypes\u001b[0m \u001b[0;34m=\u001b[0m \u001b[0mself\u001b[0m\u001b[0;34m.\u001b[0m\u001b[0m_get_ufunc_and_otypes\u001b[0m\u001b[0;34m(\u001b[0m\u001b[0mfunc\u001b[0m\u001b[0;34m=\u001b[0m\u001b[0mfunc\u001b[0m\u001b[0;34m,\u001b[0m \u001b[0margs\u001b[0m\u001b[0;34m=\u001b[0m\u001b[0margs\u001b[0m\u001b[0;34m)\u001b[0m\u001b[0;34m\u001b[0m\u001b[0m\n\u001b[0m\u001b[1;32m   2043\u001b[0m \u001b[0;34m\u001b[0m\u001b[0m\n\u001b[1;32m   2044\u001b[0m             \u001b[0;31m# Convert args to object arrays first\u001b[0m\u001b[0;34m\u001b[0m\u001b[0;34m\u001b[0m\u001b[0m\n",
      "\u001b[0;32m/home/mota/.local/lib/python3.6/site-packages/numpy/lib/function_base.py\u001b[0m in \u001b[0;36m_get_ufunc_and_otypes\u001b[0;34m(self, func, args)\u001b[0m\n\u001b[1;32m   2000\u001b[0m \u001b[0;34m\u001b[0m\u001b[0m\n\u001b[1;32m   2001\u001b[0m             \u001b[0minputs\u001b[0m \u001b[0;34m=\u001b[0m \u001b[0;34m[\u001b[0m\u001b[0marg\u001b[0m\u001b[0;34m.\u001b[0m\u001b[0mflat\u001b[0m\u001b[0;34m[\u001b[0m\u001b[0;36m0\u001b[0m\u001b[0;34m]\u001b[0m \u001b[0;32mfor\u001b[0m \u001b[0marg\u001b[0m \u001b[0;32min\u001b[0m \u001b[0margs\u001b[0m\u001b[0;34m]\u001b[0m\u001b[0;34m\u001b[0m\u001b[0m\n\u001b[0;32m-> 2002\u001b[0;31m             \u001b[0moutputs\u001b[0m \u001b[0;34m=\u001b[0m \u001b[0mfunc\u001b[0m\u001b[0;34m(\u001b[0m\u001b[0;34m*\u001b[0m\u001b[0minputs\u001b[0m\u001b[0;34m)\u001b[0m\u001b[0;34m\u001b[0m\u001b[0m\n\u001b[0m\u001b[1;32m   2003\u001b[0m \u001b[0;34m\u001b[0m\u001b[0m\n\u001b[1;32m   2004\u001b[0m             \u001b[0;31m# Performance note: profiling indicates that -- for simple\u001b[0m\u001b[0;34m\u001b[0m\u001b[0;34m\u001b[0m\u001b[0m\n",
      "\u001b[0;32m<ipython-input-108-9326ceb6dd3b>\u001b[0m in \u001b[0;36m<lambda>\u001b[0;34m(q)\u001b[0m\n\u001b[1;32m      6\u001b[0m     \u001b[0mK\u001b[0m \u001b[0;34m=\u001b[0m \u001b[0;34m(\u001b[0m\u001b[0;36m2.\u001b[0m\u001b[0;34m/\u001b[0m\u001b[0;36m3\u001b[0m\u001b[0;34m,\u001b[0m \u001b[0;36m10\u001b[0m\u001b[0;34m*\u001b[0m\u001b[0mnp\u001b[0m\u001b[0;34m.\u001b[0m\u001b[0mpi\u001b[0m\u001b[0;34m/\u001b[0m\u001b[0;36m7\u001b[0m\u001b[0;34m,\u001b[0m \u001b[0;36m1.\u001b[0m\u001b[0;34m/\u001b[0m\u001b[0mnp\u001b[0m\u001b[0;34m.\u001b[0m\u001b[0mpi\u001b[0m\u001b[0;34m)\u001b[0m\u001b[0;34m[\u001b[0m\u001b[0mdim\u001b[0m\u001b[0;34m-\u001b[0m\u001b[0;36m1\u001b[0m\u001b[0;34m]\u001b[0m\u001b[0;34m/\u001b[0m\u001b[0mh\u001b[0m\u001b[0;34m**\u001b[0m\u001b[0mdim\u001b[0m\u001b[0;34m\u001b[0m\u001b[0m\n\u001b[1;32m      7\u001b[0m     return (\n\u001b[0;32m----> 8\u001b[0;31m         \u001b[0mnp\u001b[0m\u001b[0;34m.\u001b[0m\u001b[0mvectorize\u001b[0m\u001b[0;34m(\u001b[0m \u001b[0;32mlambda\u001b[0m \u001b[0mq\u001b[0m\u001b[0;34m:\u001b[0m \u001b[0mK\u001b[0m\u001b[0;34m*\u001b[0m \u001b[0;34m(\u001b[0m \u001b[0;36m0\u001b[0m \u001b[0;32mif\u001b[0m \u001b[0mq\u001b[0m \u001b[0;34m>\u001b[0m \u001b[0;36m2\u001b[0m \u001b[0;32melse\u001b[0m \u001b[0;34m(\u001b[0m \u001b[0;36m.25\u001b[0m\u001b[0;34m*\u001b[0m\u001b[0;34m(\u001b[0m\u001b[0;36m2\u001b[0m\u001b[0;34m-\u001b[0m\u001b[0mq\u001b[0m\u001b[0;34m)\u001b[0m\u001b[0;34m**\u001b[0m\u001b[0;36m3\u001b[0m \u001b[0;32mif\u001b[0m \u001b[0mq\u001b[0m \u001b[0;34m>\u001b[0m \u001b[0;36m1\u001b[0m \u001b[0;32melse\u001b[0m \u001b[0;36m1\u001b[0m \u001b[0;34m-\u001b[0m \u001b[0;36m1.5\u001b[0m\u001b[0;34m*\u001b[0m\u001b[0mq\u001b[0m\u001b[0;34m**\u001b[0m\u001b[0;36m2\u001b[0m\u001b[0;34m+\u001b[0m\u001b[0;36m.75\u001b[0m\u001b[0;34m*\u001b[0m\u001b[0mq\u001b[0m\u001b[0;34m**\u001b[0m\u001b[0;36m3\u001b[0m \u001b[0;34m)\u001b[0m \u001b[0;34m)\u001b[0m \u001b[0;34m)\u001b[0m\u001b[0;34m,\u001b[0m\u001b[0;34m\u001b[0m\u001b[0m\n\u001b[0m\u001b[1;32m      9\u001b[0m         \u001b[0mnp\u001b[0m\u001b[0;34m.\u001b[0m\u001b[0mvectorize\u001b[0m\u001b[0;34m(\u001b[0m \u001b[0;32mlambda\u001b[0m \u001b[0mq\u001b[0m\u001b[0;34m:\u001b[0m \u001b[0mK\u001b[0m\u001b[0;34m*\u001b[0m \u001b[0;34m(\u001b[0m \u001b[0;36m0\u001b[0m \u001b[0;32mif\u001b[0m \u001b[0mq\u001b[0m \u001b[0;34m>\u001b[0m \u001b[0;36m2\u001b[0m \u001b[0;32melse\u001b[0m \u001b[0;34m(\u001b[0m \u001b[0;34m-\u001b[0m\u001b[0;36m3\u001b[0m\u001b[0;34m*\u001b[0m\u001b[0;36m.25\u001b[0m\u001b[0;34m*\u001b[0m\u001b[0;34m(\u001b[0m\u001b[0;36m2\u001b[0m\u001b[0;34m-\u001b[0m\u001b[0mq\u001b[0m\u001b[0;34m)\u001b[0m\u001b[0;34m**\u001b[0m\u001b[0;36m2\u001b[0m \u001b[0;32mif\u001b[0m \u001b[0mq\u001b[0m \u001b[0;34m>\u001b[0m \u001b[0;36m1\u001b[0m \u001b[0;32melse\u001b[0m \u001b[0;34m-\u001b[0m \u001b[0;36m3\u001b[0m\u001b[0;34m*\u001b[0m\u001b[0mq\u001b[0m\u001b[0;34m+\u001b[0m \u001b[0;36m3\u001b[0m\u001b[0;34m*\u001b[0m\u001b[0;36m.75\u001b[0m\u001b[0;34m*\u001b[0m\u001b[0mq\u001b[0m\u001b[0;34m**\u001b[0m\u001b[0;36m2\u001b[0m \u001b[0;34m)\u001b[0m \u001b[0;34m)\u001b[0m \u001b[0;34m)\u001b[0m\u001b[0;34m,\u001b[0m\u001b[0;34m\u001b[0m\u001b[0m\n\u001b[1;32m     10\u001b[0m         \u001b[0mnp\u001b[0m\u001b[0;34m.\u001b[0m\u001b[0mvectorize\u001b[0m\u001b[0;34m(\u001b[0m \u001b[0;32mlambda\u001b[0m \u001b[0mq\u001b[0m\u001b[0;34m:\u001b[0m \u001b[0mK\u001b[0m\u001b[0;34m*\u001b[0m \u001b[0;34m(\u001b[0m \u001b[0;36m0\u001b[0m \u001b[0;32mif\u001b[0m \u001b[0mq\u001b[0m \u001b[0;34m>\u001b[0m \u001b[0;36m2\u001b[0m \u001b[0;32melse\u001b[0m \u001b[0;34m(\u001b[0m \u001b[0;36m6\u001b[0m\u001b[0;34m*\u001b[0m\u001b[0;36m.25\u001b[0m\u001b[0;34m*\u001b[0m\u001b[0;34m(\u001b[0m\u001b[0;36m2\u001b[0m\u001b[0;34m-\u001b[0m\u001b[0mq\u001b[0m\u001b[0;34m)\u001b[0m \u001b[0;32mif\u001b[0m \u001b[0mq\u001b[0m \u001b[0;34m>\u001b[0m \u001b[0;36m1\u001b[0m \u001b[0;32melse\u001b[0m \u001b[0;34m-\u001b[0m\u001b[0;36m3\u001b[0m \u001b[0;34m+\u001b[0m \u001b[0;36m6\u001b[0m\u001b[0;34m*\u001b[0m\u001b[0;36m.75\u001b[0m\u001b[0;34m*\u001b[0m\u001b[0mq\u001b[0m \u001b[0;34m)\u001b[0m \u001b[0;34m)\u001b[0m \u001b[0;34m)\u001b[0m\u001b[0;34m\u001b[0m\u001b[0m\n",
      "\u001b[0;32m/home/mota/.local/lib/python3.6/site-packages/sympy/core/relational.py\u001b[0m in \u001b[0;36m__nonzero__\u001b[0;34m(self)\u001b[0m\n\u001b[1;32m    227\u001b[0m \u001b[0;34m\u001b[0m\u001b[0m\n\u001b[1;32m    228\u001b[0m     \u001b[0;32mdef\u001b[0m \u001b[0m__nonzero__\u001b[0m\u001b[0;34m(\u001b[0m\u001b[0mself\u001b[0m\u001b[0;34m)\u001b[0m\u001b[0;34m:\u001b[0m\u001b[0;34m\u001b[0m\u001b[0m\n\u001b[0;32m--> 229\u001b[0;31m         \u001b[0;32mraise\u001b[0m \u001b[0mTypeError\u001b[0m\u001b[0;34m(\u001b[0m\u001b[0;34m\"cannot determine truth value of Relational\"\u001b[0m\u001b[0;34m)\u001b[0m\u001b[0;34m\u001b[0m\u001b[0m\n\u001b[0m\u001b[1;32m    230\u001b[0m \u001b[0;34m\u001b[0m\u001b[0m\n\u001b[1;32m    231\u001b[0m     \u001b[0m__bool__\u001b[0m \u001b[0;34m=\u001b[0m \u001b[0m__nonzero__\u001b[0m\u001b[0;34m\u001b[0m\u001b[0m\n",
      "\u001b[0;31mTypeError\u001b[0m: cannot determine truth value of Relational"
     ]
    }
   ],
   "source": [
    "s = summation( sym.nu[a]*sym.f[a]*W(sym.nu[a]), (a,0,sym.n))"
   ]
  },
  {
   "cell_type": "code",
   "execution_count": 153,
   "metadata": {},
   "outputs": [
    {
     "data": {
      "text/plain": [
       "array(0.833333333333333, dtype=object)"
      ]
     },
     "execution_count": 153,
     "metadata": {},
     "output_type": "execute_result"
    }
   ],
   "source": [
    "W(sym.x)"
   ]
  },
  {
   "cell_type": "code",
   "execution_count": 142,
   "metadata": {},
   "outputs": [
    {
     "data": {
      "text/plain": [
       "array(3.33333333)"
      ]
     },
     "execution_count": 142,
     "metadata": {},
     "output_type": "execute_result"
    }
   ],
   "source": [
    "W.eval(0)"
   ]
  },
  {
   "cell_type": "code",
   "execution_count": 146,
   "metadata": {},
   "outputs": [
    {
     "data": {
      "text/plain": [
       "(array([3.33333333333333, 2.39583333333333, 0.833333333333333],\n",
       "       dtype=object), W(x))"
      ]
     },
     "execution_count": 146,
     "metadata": {},
     "output_type": "execute_result"
    }
   ],
   "source": [
    "W([0,.5,1]), W(sym.x)"
   ]
  },
  {
   "cell_type": "code",
   "execution_count": null,
   "metadata": {},
   "outputs": [],
   "source": [
    "def generateindex(i=0):\n",
    "    return Dummy('a_%d'%i)"
   ]
  },
  {
   "cell_type": "code",
   "execution_count": null,
   "metadata": {},
   "outputs": [],
   "source": [
    "#indexes = sp.symbols('a b c d e f', cls=sp.Idx)\n",
    "class rho(Function):\n",
    "    @classmethod\n",
    "    def eval(cls, x_, j_=0 ):\n",
    "        return (lambda i_: summation( nu[i_]*W(x_-r[i_] ), (i_,0,n) ))(generateindex(j_))\n",
    "    \n",
    "    @classmethod\n",
    "    def fdiff(cls):\n",
    "        global a\n",
    "        a += [Dummy('a_%d'%len(a))]\n",
    "        return cls.diff()\n",
    "\n",
    "rho(x)"
   ]
  },
  {
   "cell_type": "code",
   "execution_count": null,
   "metadata": {},
   "outputs": [],
   "source": [
    "def rho_f():\n",
    "    return lambda x"
   ]
  },
  {
   "cell_type": "code",
   "execution_count": null,
   "metadata": {},
   "outputs": [],
   "source": [
    "c = symbols('c', cls=Idx)\n",
    "b = symbols('b', cls=Idx)\n",
    "diff(1/rho(r[b]), r[c]).expand()"
   ]
  },
  {
   "cell_type": "code",
   "execution_count": null,
   "metadata": {},
   "outputs": [],
   "source": [
    "diff( rho(r[b]), r[b] )"
   ]
  },
  {
   "cell_type": "code",
   "execution_count": null,
   "metadata": {},
   "outputs": [],
   "source": [
    "def Symbolic.sph( self, f, j_=0 ):\n",
    "    i_ = Dummy('b')\n",
    "    return lambda x_: summation( f[i_]*self.nu[i_]*self.W(x_-r[i_] )/self.rho(r[i_]), (i_,0,self.n) )\n",
    "\n",
    "sym.f_sph = sym.sph(f)(x)\n",
    "sym.f_sph"
   ]
  },
  {
   "cell_type": "code",
   "execution_count": null,
   "metadata": {},
   "outputs": [],
   "source": [
    "df_sph = diff( sph(f)(x), x)\n",
    "df_sph"
   ]
  },
  {
   "cell_type": "code",
   "execution_count": null,
   "metadata": {},
   "outputs": [],
   "source": [
    "import matplotlib.pyplot as plt\n",
    "%matplotlib inline"
   ]
  },
  {
   "cell_type": "code",
   "execution_count": null,
   "metadata": {},
   "outputs": [],
   "source": []
  },
  {
   "cell_type": "code",
   "execution_count": null,
   "metadata": {},
   "outputs": [],
   "source": []
  },
  {
   "cell_type": "code",
   "execution_count": null,
   "metadata": {},
   "outputs": [],
   "source": [
    "plt.figure()\n",
    "x_ = range(100)\n",
    "plt.plot(x_,)\n",
    "#plt.show()"
   ]
  },
  {
   "cell_type": "code",
   "execution_count": null,
   "metadata": {},
   "outputs": [],
   "source": [
    "b = sp.symbols('b', cls=sp.Idx)\n",
    "F = sp.summation( f[b]*nu[b]/rho(r[b]), (b,0,n) )\n",
    "F"
   ]
  },
  {
   "cell_type": "code",
   "execution_count": null,
   "metadata": {},
   "outputs": [],
   "source": [
    "res = sp.diff( F, r[c] ).expand().simplify().doit()\n",
    "res.args[0][0].simplify()"
   ]
  },
  {
   "cell_type": "code",
   "execution_count": null,
   "metadata": {},
   "outputs": [],
   "source": [
    "#f_cspm = lambda x_: sp.summation( nu[i]*W(r[i]-x_)*f[i], (i,0,n) )/rho(x_)\n",
    "#f_cspm(x).replace( rho(a), sp.Function(r'\\rho')(a) )\n",
    "def cspm( f ):\n",
    "    i_ = Dummy('b')\n",
    "    if type(f) is sp.Function:\n",
    "        F = f(r[i_])\n",
    "    else:\n",
    "        F = f[i_]\n",
    "    return lambda x_: sph(f)(x_)/rho(x_)\n",
    "\n",
    "cspm(f)(x)"
   ]
  },
  {
   "cell_type": "code",
   "execution_count": null,
   "metadata": {},
   "outputs": [],
   "source": [
    "sp.diff( cspm(f)(x), x )"
   ]
  },
  {
   "cell_type": "code",
   "execution_count": null,
   "metadata": {},
   "outputs": [],
   "source": [
    "g = sp.Function('g')\n",
    "gprime = sp.Function(\"g'\")\n",
    "A, B = sp.symbols('A B')\n",
    "expr1 = sphf(x,g)-g(x)*sphf(x,lambda x_:1) - sphf(x,lambda x_:x_-x)*gprime(x)\n",
    "expr1 = expr1.replace(g(r[a]), sp.IndexedBase('g')[a]).replace( g(x), A).replace( gprime(x), B)\n",
    "expr1"
   ]
  },
  {
   "cell_type": "code",
   "execution_count": null,
   "metadata": {},
   "outputs": [],
   "source": [
    "expr1\\\n",
    ".replace( I_sph(a), sp.Function('I')(a) )\\\n",
    ".replace( Delta_sph(a), sp.Function('\\Delta')(a) )\\\n",
    ".replace( rho(a), sp.Function(r\"\\rho\")(a) )\\\n",
    ".replace( sphf(a,g), sp.Function(\"G\")(a) )"
   ]
  },
  {
   "cell_type": "code",
   "execution_count": null,
   "metadata": {},
   "outputs": [],
   "source": [
    "i4 = sp.symbols('i_4', cls=sp.Idx)\n",
    "expr3 = sphfD(x,g) - g(x)*sphfD(x, lambda x_:1) - sphfD(x, lambda x_:x_-x)*gprime(x)\n",
    "expr3 = expr3.replace(i3, i4).replace(g(r[a]), sp.IndexedBase('g')[a]).replace( g(x), A).replace( gprime(x), B)\n",
    "expr3"
   ]
  },
  {
   "cell_type": "code",
   "execution_count": null,
   "metadata": {},
   "outputs": [],
   "source": [
    "i5 = sp.symbols('i_5', cls=sp.Idx)\n",
    "expr2 = sphfDiff(x,g) \\\n",
    "    - g(x)*sphfDiff(x, lambda x_:1) \\\n",
    "    - sphfDiff(x, lambda x_:x_-x)*gprime(x)\n",
    "expr2 = expr2.replace(i3, i5).replace(g(r[a]), sp.IndexedBase('g')[a]).replace( g(x), A).replace( gprime(x), B)\n",
    "expr2"
   ]
  },
  {
   "cell_type": "code",
   "execution_count": null,
   "metadata": {},
   "outputs": [],
   "source": [
    "from sympy.solvers.solveset import linsolve, linear_eq_to_matrix"
   ]
  },
  {
   "cell_type": "code",
   "execution_count": null,
   "metadata": {},
   "outputs": [],
   "source": [
    "eqns = [expr1, expr2]\n",
    "mat = linear_eq_to_matrix( eqns, A, B )\n",
    "mat"
   ]
  },
  {
   "cell_type": "code",
   "execution_count": null,
   "metadata": {},
   "outputs": [],
   "source": [
    "mat[0]"
   ]
  },
  {
   "cell_type": "code",
   "execution_count": null,
   "metadata": {},
   "outputs": [],
   "source": [
    "mat[0]**(-1)*mat[1]"
   ]
  },
  {
   "cell_type": "code",
   "execution_count": null,
   "metadata": {},
   "outputs": [],
   "source": [
    "res = linsolve(eqns, A, B)\n",
    "res"
   ]
  },
  {
   "cell_type": "code",
   "execution_count": null,
   "metadata": {},
   "outputs": [],
   "source": [
    "res = linsolve([expr1, expr3], A, B )\n",
    "res"
   ]
  },
  {
   "cell_type": "code",
   "execution_count": null,
   "metadata": {},
   "outputs": [],
   "source": [
    "I_sph = lambda y_: sphf(y_,lambda x_:1)\n",
    "I_sph(x)"
   ]
  },
  {
   "cell_type": "code",
   "execution_count": null,
   "metadata": {},
   "outputs": [],
   "source": [
    "Delta_sph = lambda y_: sphf(y_, lambda x_: x_-y_)\n",
    "Delta_sph(x)"
   ]
  },
  {
   "cell_type": "code",
   "execution_count": null,
   "metadata": {},
   "outputs": [],
   "source": [
    "res\\\n",
    ".replace( I_sph(a), sp.Function('I')(a) )\\\n",
    ".replace( Delta_sph(a), sp.Function('\\Delta')(a) )\\\n",
    ".replace( sph(a,r), sp.Function('R')(a) )\\\n",
    ".replace( rho(a), sp.Function(r'\\rho')(a) )\\\n",
    ".replace( sphf(a,g), sp.Function('G')(a) )\\"
   ]
  },
  {
   "cell_type": "code",
   "execution_count": null,
   "metadata": {},
   "outputs": [],
   "source": [
    "res2 = linsolve([expr1, expr3], g(x), sp.diff(g(x),x) )\n",
    "res2"
   ]
  }
 ],
 "metadata": {
  "kernelspec": {
   "display_name": "Python 3",
   "language": "python",
   "name": "python3"
  },
  "language_info": {
   "codemirror_mode": {
    "name": "ipython",
    "version": 3
   },
   "file_extension": ".py",
   "mimetype": "text/x-python",
   "name": "python",
   "nbconvert_exporter": "python",
   "pygments_lexer": "ipython3",
   "version": "3.6.6"
  }
 },
 "nbformat": 4,
 "nbformat_minor": 2
}
