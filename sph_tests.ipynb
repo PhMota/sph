{
 "cells": [
  {
   "cell_type": "markdown",
   "metadata": {},
   "source": [
    "recommended \\\n",
    "`jupyter lab` \\\n",
    "running python 3.6+.\\\n",
    "use \\\n",
    "    `pip3 install <package>`\\\n",
    "to install missing packages. \\\n",
    "add `--user` at the end of the command if you don't have superuser privileges"
   ]
  },
  {
   "cell_type": "markdown",
   "metadata": {},
   "source": [
    "## modules"
   ]
  },
  {
   "cell_type": "code",
   "execution_count": 116,
   "metadata": {},
   "outputs": [
    {
     "name": "stdout",
     "output_type": "stream",
     "text": [
      "The memory_profiler extension is already loaded. To reload it, use:\n",
      "  %reload_ext memory_profiler\n",
      "The line_profiler extension is already loaded. To reload it, use:\n",
      "  %reload_ext line_profiler\n"
     ]
    }
   ],
   "source": [
    "# numeric arrays\n",
    "from numpy import *\n",
    "# optimizition\n",
    "import numba\n",
    "# plotting\n",
    "import matplotlib.pyplot as plt\n",
    "# jupyter magic command for plot display\n",
    "%matplotlib inline\n",
    "# plotting setup\n",
    "plt.rcParams.update({\n",
    "    \"image.origin\": \"lower\",\n",
    "    \"font.family\": \"serif\",\n",
    "    \"font.size\": 12,\n",
    "    \"grid.alpha\": .5,\n",
    "#     \"text.usetex\": True, # I was not able to load the livetex package\n",
    "})\n",
    "# statistical functions\n",
    "import scipy.stats\n",
    "# compressed sparse row matrices\n",
    "from scipy.sparse import csr_matrix\n",
    "# variable length arrays\n",
    "import awkward as ak\n",
    "# labeled arrays\n",
    "import xarray as xr\n",
    "# memory debugging\n",
    "from memory_profiler import profile\n",
    "# jupyter magic\n",
    "%load_ext memory_profiler\n",
    "%load_ext line_profiler"
   ]
  },
  {
   "cell_type": "markdown",
   "metadata": {},
   "source": [
    "### Cached decorator"
   ]
  },
  {
   "cell_type": "code",
   "execution_count": 50,
   "metadata": {},
   "outputs": [],
   "source": [
    "class CachedAttribute(object):    \n",
    "    '''Computes attribute value and caches it in the instance.\n",
    "    From the Python Cookbook (Denis Otkidach)\n",
    "    This decorator allows you to create a property which can be computed once and\n",
    "    accessed many times. Sort of like memoization.\n",
    "    '''\n",
    "    def __init__(self, method, name=None):\n",
    "        # record the unbound-method and the name\n",
    "        self.method = method\n",
    "        self.name = name or method.__name__\n",
    "        self.__doc__ = method.__doc__\n",
    "    def __get__(self, inst, cls):\n",
    "        # self: <__main__.cache object at 0xb781340c>\n",
    "        # inst: <__main__.Foo object at 0xb781348c>\n",
    "        # cls: <class '__main__.Foo'>       \n",
    "        if inst is None:\n",
    "            # instance attribute accessed on class, return self\n",
    "            # You get here if you write `Foo.bar`\n",
    "            return self\n",
    "        # compute, cache and return the instance's attribute value\n",
    "        result = self.method(inst)\n",
    "        # setattr redefines the instance's attribute so this doesn't get called again\n",
    "        setattr(inst, self.name, result)\n",
    "        return result"
   ]
  },
  {
   "cell_type": "markdown",
   "metadata": {},
   "source": [
    "## Kernel class"
   ]
  },
  {
   "cell_type": "code",
   "execution_count": 526,
   "metadata": {},
   "outputs": [],
   "source": [
    "# nu = ones(r.shape[0])\n",
    "def Wfunc(q):\n",
    "    return scipy.stats.norm.pdf(q, 1) if q < 2. else 0.\n",
    "Wvec = vectorize(Wfunc)\n",
    "h = 1.\n",
    "Wvec(0)\n",
    "class BaseKernel:\n",
    "    def __call__(self, delta_r):\n",
    "        pass\n",
    "\n",
    "class Vectorized(BaseKernel):\n",
    "    def __init__(self, h, dim):\n",
    "        self.k = [ 2/(3*h), 10/(7*pi*h**2), 1/(pi*h**3) ][dim-1]        \n",
    "        self.h = h\n",
    "        self._func = vectorize(self._core)\n",
    "        \n",
    "    def _core(self, q):\n",
    "        if q > 2: return 0\n",
    "        if q > 1: return 1./4 * (2. - q)**3\n",
    "        return 1 - 3/2*q**2*( 1 - q/2 )\n",
    "    \n",
    "    def __call__(self, delta_r):\n",
    "        return self._func( abs(delta_r)/self.h )*self.k\n",
    "    \n",
    "class CSpline(BaseKernel):\n",
    "    def __init__(self, h, dim):\n",
    "        self.k = [ 2/(3*h), 10/(7*pi*h**2), 1/(pi*h**3) ][dim]\n",
    "        self.h = h\n",
    "        \n",
    "    @staticmethod\n",
    "    def _part_0(q):\n",
    "        return 1 - 3/2*q**2*( 1 - q/2 )\n",
    "    \n",
    "    @staticmethod\n",
    "    def _part_1(q):\n",
    "        return 1./4 * (2. - q)**3\n",
    "    \n",
    "    def _core(self, q):\n",
    "        ret = zeros_like(q)\n",
    "        ret[ logical_and( q >=1, q<2 ) ] = self._part_1( q[ logical_and( q >=1, q<2 ) ] )\n",
    "        ret[ q < 1 ] = self._part_0( q[q < 1] )\n",
    "        return ret\n",
    "    \n",
    "    def __call__(self, delta_r):\n",
    "        return self._core(abs(delta_r)/self.h)*self.k\n",
    "\n",
    "@numba.vectorize([numba.float64(numba.float64)])\n",
    "def core_1d(q):\n",
    "    if q > 2: return 0\n",
    "    if q > 1: return 1./4 * (2. - q)**3\n",
    "    return 1 - 3/2*q**2*( 1 - q/2 )\n",
    "\n",
    "class CSplineNB(BaseKernel):\n",
    "    def __init__(self, h, dim):\n",
    "        self.k = [ 2/(3*h), 10/(7*pi*h**2), 1/(pi*h**3) ][dim-1]\n",
    "        self.h = h\n",
    "        \n",
    "    def __call__(self, delta_r):\n",
    "        return core_1d(abs(delta_r)/self.h)*self.k\n",
    "\n",
    "class QSpline(BaseKernel):\n",
    "    pass"
   ]
  },
  {
   "cell_type": "code",
   "execution_count": 13,
   "metadata": {},
   "outputs": [
    {
     "name": "stdout",
     "output_type": "stream",
     "text": [
      " "
     ]
    },
    {
     "data": {
      "text/plain": [
       "         100063 function calls (100060 primitive calls) in 0.093 seconds\n",
       "\n",
       "   Ordered by: internal time\n",
       "\n",
       "   ncalls  tottime  percall  cumtime  percall filename:lineno(function)\n",
       "   100001    0.047    0.000    0.047    0.000 <ipython-input-9-dbf26a538e4c>:17(_core)\n",
       "        1    0.033    0.033    0.089    0.089 function_base.py:2179(_vectorize_call)\n",
       "        6    0.008    0.001    0.008    0.001 {built-in method numpy.array}\n",
       "        1    0.002    0.002    0.091    0.091 function_base.py:2080(__call__)\n",
       "        1    0.001    0.001    0.001    0.001 function_base.py:23(linspace)\n",
       "        1    0.001    0.001    0.092    0.092 <ipython-input-9-dbf26a538e4c>:22(__call__)\n",
       "        1    0.000    0.000    0.000    0.000 {built-in method numpy.arange}\n",
       "        1    0.000    0.000    0.000    0.000 {built-in method builtins.abs}\n",
       "        1    0.000    0.000    0.093    0.093 {built-in method builtins.exec}\n",
       "        1    0.000    0.000    0.000    0.000 function_base.py:2110(_get_ufunc_and_otypes)\n",
       "      4/1    0.000    0.000    0.001    0.001 {built-in method numpy.core._multiarray_umath.implement_array_function}\n",
       "        1    0.000    0.000    0.000    0.000 {method 'reduce' of 'numpy.ufunc' objects}\n",
       "        1    0.000    0.000    0.000    0.000 function_base.py:2048(__init__)\n",
       "        1    0.000    0.000    0.000    0.000 fromnumeric.py:70(_wrapreduction)\n",
       "        1    0.000    0.000    0.093    0.093 <string>:1(<module>)\n",
       "        1    0.000    0.000    0.000    0.000 <ipython-input-9-dbf26a538e4c>:12(__init__)\n",
       "        1    0.000    0.000    0.001    0.001 <__array_function__ internals>:2(linspace)\n",
       "        1    0.000    0.000    0.000    0.000 {built-in method numpy.frompyfunc}\n",
       "        1    0.000    0.000    0.000    0.000 function_base.py:2145(<listcomp>)\n",
       "        1    0.000    0.000    0.000    0.000 function_base.py:244(iterable)\n",
       "        1    0.000    0.000    0.000    0.000 fromnumeric.py:2249(any)\n",
       "        1    0.000    0.000    0.000    0.000 {method 'astype' of 'numpy.ndarray' objects}\n",
       "        1    0.000    0.000    0.000    0.000 {method 'any' of 'numpy.generic' objects}\n",
       "        1    0.000    0.000    0.000    0.000 {method 'reshape' of 'numpy.ndarray' objects}\n",
       "        1    0.000    0.000    0.000    0.000 _methods.py:53(_any)\n",
       "        1    0.000    0.000    0.000    0.000 <__array_function__ internals>:2(result_type)\n",
       "        1    0.000    0.000    0.000    0.000 function_base.py:2140(<listcomp>)\n",
       "        1    0.000    0.000    0.000    0.000 function_base.py:2169(<listcomp>)\n",
       "        2    0.000    0.000    0.000    0.000 _asarray.py:86(asanyarray)\n",
       "        2    0.000    0.000    0.000    0.000 function_base.py:2141(<genexpr>)\n",
       "        1    0.000    0.000    0.000    0.000 <__array_function__ internals>:2(ndim)\n",
       "        1    0.000    0.000    0.000    0.000 fromnumeric.py:3075(ndim)\n",
       "        1    0.000    0.000    0.000    0.000 <__array_function__ internals>:2(any)\n",
       "        1    0.000    0.000    0.005    0.005 function_base.py:2189(<listcomp>)\n",
       "        1    0.000    0.000    0.000    0.000 fromnumeric.py:71(<dictcomp>)\n",
       "        1    0.000    0.000    0.000    0.000 {built-in method builtins.any}\n",
       "        3    0.000    0.000    0.000    0.000 {built-in method builtins.isinstance}\n",
       "        1    0.000    0.000    0.000    0.000 {built-in method builtins.iter}\n",
       "        1    0.000    0.000    0.000    0.000 numeric.py:1816(isscalar)\n",
       "        2    0.000    0.000    0.000    0.000 _asarray.py:14(asarray)\n",
       "        1    0.000    0.000    0.000    0.000 {built-in method builtins.getattr}\n",
       "        1    0.000    0.000    0.000    0.000 function_base.py:18(_linspace_dispatcher)\n",
       "        1    0.000    0.000    0.000    0.000 fromnumeric.py:3071(_ndim_dispatcher)\n",
       "        1    0.000    0.000    0.000    0.000 {method 'items' of 'dict' objects}\n",
       "        1    0.000    0.000    0.000    0.000 {method 'join' of 'str' objects}\n",
       "        1    0.000    0.000    0.000    0.000 {built-in method builtins.len}\n",
       "        1    0.000    0.000    0.000    0.000 {built-in method _operator.index}\n",
       "        1    0.000    0.000    0.000    0.000 fromnumeric.py:2245(_any_dispatcher)\n",
       "        1    0.000    0.000    0.000    0.000 multiarray.py:634(result_type)\n",
       "        1    0.000    0.000    0.000    0.000 {method 'disable' of '_lsprof.Profiler' objects}"
      ]
     },
     "metadata": {},
     "output_type": "display_data"
    }
   ],
   "source": [
    "%prun Vectorized(1.,1)( linspace(-3,3,int(1e5)) )"
   ]
  },
  {
   "cell_type": "code",
   "execution_count": 12,
   "metadata": {},
   "outputs": [
    {
     "name": "stdout",
     "output_type": "stream",
     "text": [
      " "
     ]
    },
    {
     "data": {
      "text/plain": [
       "         52 function calls (47 primitive calls) in 0.009 seconds\n",
       "\n",
       "   Ordered by: internal time\n",
       "\n",
       "   ncalls  tottime  percall  cumtime  percall filename:lineno(function)\n",
       "        1    0.005    0.005    0.005    0.005 <ipython-input-9-dbf26a538e4c>:34(_part_1)\n",
       "        1    0.001    0.001    0.007    0.007 <ipython-input-9-dbf26a538e4c>:38(_core)\n",
       "        1    0.001    0.001    0.001    0.001 function_base.py:23(linspace)\n",
       "        1    0.001    0.001    0.008    0.008 <ipython-input-9-dbf26a538e4c>:44(__call__)\n",
       "        1    0.000    0.000    0.000    0.000 {built-in method numpy.arange}\n",
       "        1    0.000    0.000    0.000    0.000 <ipython-input-9-dbf26a538e4c>:30(_part_0)\n",
       "        1    0.000    0.000    0.000    0.000 {built-in method builtins.abs}\n",
       "      7/2    0.000    0.000    0.001    0.001 {built-in method numpy.core._multiarray_umath.implement_array_function}\n",
       "        1    0.000    0.000    0.009    0.009 {built-in method builtins.exec}\n",
       "        1    0.000    0.000    0.000    0.000 {method 'reduce' of 'numpy.ufunc' objects}\n",
       "        1    0.000    0.000    0.000    0.000 fromnumeric.py:70(_wrapreduction)\n",
       "        1    0.000    0.000    0.009    0.009 <string>:1(<module>)\n",
       "        2    0.000    0.000    0.000    0.000 {built-in method numpy.array}\n",
       "        1    0.000    0.000    0.000    0.000 numeric.py:75(zeros_like)\n",
       "        1    0.000    0.000    0.000    0.000 fromnumeric.py:2249(any)\n",
       "        1    0.000    0.000    0.000    0.000 <ipython-input-9-dbf26a538e4c>:26(__init__)\n",
       "        1    0.000    0.000    0.001    0.001 <__array_function__ internals>:2(linspace)\n",
       "        1    0.000    0.000    0.000    0.000 {method 'any' of 'numpy.generic' objects}\n",
       "        1    0.000    0.000    0.000    0.000 {built-in method numpy.zeros}\n",
       "        1    0.000    0.000    0.000    0.000 <__array_function__ internals>:2(zeros_like)\n",
       "        1    0.000    0.000    0.000    0.000 {method 'astype' of 'numpy.ndarray' objects}\n",
       "        1    0.000    0.000    0.000    0.000 {method 'reshape' of 'numpy.ndarray' objects}\n",
       "        1    0.000    0.000    0.000    0.000 <__array_function__ internals>:2(ndim)\n",
       "        1    0.000    0.000    0.000    0.000 numeric.py:1816(isscalar)\n",
       "        2    0.000    0.000    0.000    0.000 _asarray.py:86(asanyarray)\n",
       "        1    0.000    0.000    0.000    0.000 fromnumeric.py:3075(ndim)\n",
       "        1    0.000    0.000    0.000    0.000 _methods.py:53(_any)\n",
       "        1    0.000    0.000    0.000    0.000 <__array_function__ internals>:2(any)\n",
       "        1    0.000    0.000    0.000    0.000 <__array_function__ internals>:2(empty_like)\n",
       "        1    0.000    0.000    0.000    0.000 <__array_function__ internals>:2(copyto)\n",
       "        1    0.000    0.000    0.000    0.000 fromnumeric.py:71(<dictcomp>)\n",
       "        1    0.000    0.000    0.000    0.000 <__array_function__ internals>:2(result_type)\n",
       "        1    0.000    0.000    0.000    0.000 function_base.py:18(_linspace_dispatcher)\n",
       "        1    0.000    0.000    0.000    0.000 fromnumeric.py:2245(_any_dispatcher)\n",
       "        1    0.000    0.000    0.000    0.000 fromnumeric.py:3071(_ndim_dispatcher)\n",
       "        1    0.000    0.000    0.000    0.000 multiarray.py:1043(copyto)\n",
       "        1    0.000    0.000    0.000    0.000 numeric.py:71(_zeros_like_dispatcher)\n",
       "        1    0.000    0.000    0.000    0.000 multiarray.py:634(result_type)\n",
       "        1    0.000    0.000    0.000    0.000 {built-in method builtins.getattr}\n",
       "        1    0.000    0.000    0.000    0.000 {built-in method builtins.isinstance}\n",
       "        1    0.000    0.000    0.000    0.000 multiarray.py:75(empty_like)\n",
       "        1    0.000    0.000    0.000    0.000 {method 'disable' of '_lsprof.Profiler' objects}\n",
       "        1    0.000    0.000    0.000    0.000 {method 'items' of 'dict' objects}\n",
       "        1    0.000    0.000    0.000    0.000 {built-in method _operator.index}"
      ]
     },
     "metadata": {},
     "output_type": "display_data"
    }
   ],
   "source": [
    "%prun CSpline(1.,1)( linspace(-3,3,int(1e5)) )"
   ]
  },
  {
   "cell_type": "code",
   "execution_count": 14,
   "metadata": {},
   "outputs": [
    {
     "data": {
      "text/plain": [
       "[<matplotlib.lines.Line2D at 0x7f9eb88ba128>]"
      ]
     },
     "execution_count": 14,
     "metadata": {},
     "output_type": "execute_result"
    },
    {
     "data": {
      "image/png": "[encoded data removed]",
      "text/plain": [
       "<Figure size 432x288 with 1 Axes>"
      ]
     },
     "metadata": {
      "needs_background": "light"
     },
     "output_type": "display_data"
    }
   ],
   "source": [
    "W = CSpline(1., 1)\n",
    "x = arange(-3,3,.1)\n",
    "plt.plot( x, W(x) )"
   ]
  },
  {
   "cell_type": "markdown",
   "metadata": {},
   "source": [
    "## BaseSystem"
   ]
  },
  {
   "cell_type": "code",
   "execution_count": 17,
   "metadata": {},
   "outputs": [],
   "source": [
    "class BaseSystem:\n",
    "    def __init__(self, h, W, r=None, nu=None, N=None, dim=None ):\n",
    "        self._h = h\n",
    "        if r is None:\n",
    "            self._N, self._dim = N, dim\n",
    "            self._r = random.normal(0, 1, (N,dim) )\n",
    "        else:\n",
    "            self._r = r\n",
    "            self._N, self._dim = r.shape\n",
    "        if type(W) is type:\n",
    "            self._W = W(dim=self._dim, h=self._h)\n",
    "        if nu is None:\n",
    "            self._nu = ones(self._N)\n",
    "        else:\n",
    "            self._nu = nu\n",
    "    \n",
    "    def rho(self):\n",
    "        pass\n",
    "    \n",
    "    def dist(self):\n",
    "        pass\n",
    "    "
   ]
  },
  {
   "cell_type": "markdown",
   "metadata": {},
   "source": [
    "## BruteForce class"
   ]
  },
  {
   "cell_type": "code",
   "execution_count": 518,
   "metadata": {},
   "outputs": [],
   "source": [
    "class BruteForce(BaseSystem):\n",
    "    def delta_r(self):\n",
    "        return self._r[:,None,:] - self._r[None,:,:]\n",
    "    \n",
    "    def dist(self):\n",
    "        return sqrt( sum(self.delta_r()**2, axis=-1) )\n",
    "    \n",
    "    @CachedAttribute\n",
    "    def rho(self):\n",
    "        return sum( self._nu[:, None]*self._W(self.dist()), axis=0 )"
   ]
  },
  {
   "cell_type": "code",
   "execution_count": 520,
   "metadata": {},
   "outputs": [
    {
     "name": "stdout",
     "output_type": "stream",
     "text": [
      "N= 10\n",
      "CPU times: user 182 µs, sys: 48 µs, total: 230 µs\n",
      "Wall time: 205 µs\n",
      "N= 100\n",
      "CPU times: user 1.16 ms, sys: 1.79 ms, total: 2.95 ms\n",
      "Wall time: 1.62 ms\n",
      "N= 1000\n",
      "CPU times: user 40.3 ms, sys: 975 µs, total: 41.3 ms\n",
      "Wall time: 40.9 ms\n",
      "N= 10000\n",
      "CPU times: user 3.91 s, sys: 2.37 s, total: 6.27 s\n",
      "Wall time: 6.27 s\n",
      "N= 20000\n",
      "CPU times: user 16.3 s, sys: 10.8 s, total: 27 s\n",
      "Wall time: 27 s\n"
     ]
    }
   ],
   "source": [
    "Ns = [10, 100, int(1e3), int(1e4), 2*int(1e4) ]\n",
    "for N in Ns:\n",
    "    print(\"N=\", N)\n",
    "    %time BruteForce(N=N, dim=2, h=.2, W=CSplineNB).rho"
   ]
  },
  {
   "cell_type": "code",
   "execution_count": 224,
   "metadata": {},
   "outputs": [
    {
     "name": "stdout",
     "output_type": "stream",
     "text": [
      " "
     ]
    },
    {
     "data": {
      "text/plain": [
       "         34 function calls in 5.508 seconds\n",
       "\n",
       "   Ordered by: internal time\n",
       "\n",
       "   ncalls  tottime  percall  cumtime  percall filename:lineno(function)\n",
       "        2    2.065    1.033    2.065    1.033 {method 'reduce' of 'numpy.ufunc' objects}\n",
       "        1    1.455    1.455    1.455    1.455 <ipython-input-214-b4dec1537647>:2(delta_r)\n",
       "        1    0.665    0.665    1.010    1.010 <ipython-input-80-b15176aa07c9>:58(__call__)\n",
       "        1    0.665    0.665    4.113    4.113 <ipython-input-214-b4dec1537647>:5(dist)\n",
       "        1    0.345    0.345    0.345    0.345 {built-in method builtins.abs}\n",
       "        1    0.311    0.311    5.507    5.507 <ipython-input-214-b4dec1537647>:8(rho)\n",
       "        1    0.001    0.001    0.001    0.001 {method 'normal' of 'numpy.random.mtrand.RandomState' objects}\n",
       "        1    0.000    0.000    5.508    5.508 {built-in method builtins.exec}\n",
       "        2    0.000    0.000    2.066    1.033 fromnumeric.py:2105(sum)\n",
       "        2    0.000    0.000    2.065    1.033 fromnumeric.py:70(_wrapreduction)\n",
       "        3    0.000    0.000    2.066    0.689 {built-in method numpy.core._multiarray_umath.implement_array_function}\n",
       "        2    0.000    0.000    2.066    1.033 <__array_function__ internals>:2(sum)\n",
       "        1    0.000    0.000    0.001    0.001 <ipython-input-17-f1bca672b8b0>:2(__init__)\n",
       "        1    0.000    0.000    5.508    5.508 <string>:1(<module>)\n",
       "        2    0.000    0.000    0.000    0.000 {built-in method builtins.isinstance}\n",
       "        2    0.000    0.000    0.000    0.000 fromnumeric.py:71(<dictcomp>)\n",
       "        1    0.000    0.000    0.000    0.000 numeric.py:144(ones)\n",
       "        1    0.000    0.000    0.000    0.000 <ipython-input-80-b15176aa07c9>:54(__init__)\n",
       "        1    0.000    0.000    0.000    0.000 <__array_function__ internals>:2(copyto)\n",
       "        2    0.000    0.000    0.000    0.000 {method 'items' of 'dict' objects}\n",
       "        2    0.000    0.000    0.000    0.000 fromnumeric.py:2100(_sum_dispatcher)\n",
       "        1    0.000    0.000    0.000    0.000 {built-in method numpy.empty}\n",
       "        1    0.000    0.000    0.000    0.000 multiarray.py:1043(copyto)\n",
       "        1    0.000    0.000    0.000    0.000 {method 'disable' of '_lsprof.Profiler' objects}"
      ]
     },
     "metadata": {},
     "output_type": "display_data"
    }
   ],
   "source": [
    "%prun BruteForce( N=int(1e4), h=.2, dim=2, W=CSplineNB ).rho()"
   ]
  },
  {
   "cell_type": "code",
   "execution_count": 81,
   "metadata": {},
   "outputs": [
    {
     "name": "stdout",
     "output_type": "stream",
     "text": [
      "(10, 100, 1000) (4.71, 314, 30000.0)\n"
     ]
    },
    {
     "data": {
      "text/plain": [
       "<matplotlib.legend.Legend at 0x7f2714148780>"
      ]
     },
     "execution_count": 81,
     "metadata": {},
     "output_type": "execute_result"
    },
    {
     "data": {
      "image/png": "[encoded data removed]",
      "text/plain": [
       "<Figure size 432x288 with 1 Axes>"
      ]
     },
     "metadata": {
      "needs_background": "light"
     },
     "output_type": "display_data"
    }
   ],
   "source": [
    "brute_force_times_1d={\n",
    "    10: 4.71,\n",
    "    100: 314,\n",
    "    1000: 30e3\n",
    "}\n",
    "brute_force_times_2d={\n",
    "    10: 2.24,\n",
    "    100: 70.7,\n",
    "    1000: 5.82e3\n",
    "}\n",
    "brute_force_times_3d={\n",
    "    10: 1.8,\n",
    "    100: 23.7,\n",
    "    1000: 1.24e3,\n",
    "    10000: (60+55)*1e3,\n",
    "}\n",
    "\n",
    "ax = plt.figure().subplots()\n",
    "ax.set_yscale(\"log\")\n",
    "ax.set_xscale(\"log\")\n",
    "print( *zip(*brute_force_times_1d.items() ) )\n",
    "ax.plot( *zip(*brute_force_times_1d.items()), 'bo--', label=\"brute force 1d\" )\n",
    "ax.plot( *zip(*brute_force_times_2d.items()), 'go--', label=\"brute force 2d\" )\n",
    "ax.plot( *zip(*brute_force_times_3d.items()), 'ro--', label=\"brute force 3d\" )\n",
    "\n",
    "ax.plot( *zip(*csr_np_times_1d.items()), 'bo-', label=\"csr 1d\" )\n",
    "ax.plot( *zip(*csr_np_times_2d.items()), 'go-', label=\"csr 2d\" )\n",
    "ax.plot( *zip(*csr_np_times_3d.items()), 'ro-', label=\"csr 3d\" )\n",
    "ax.legend()"
   ]
  },
  {
   "cell_type": "code",
   "execution_count": 310,
   "metadata": {},
   "outputs": [
    {
     "data": {
      "text/plain": [
       "(12, 12, 2)"
      ]
     },
     "execution_count": 310,
     "metadata": {},
     "output_type": "execute_result"
    }
   ],
   "source": [
    "x = mgrid[-3:3:h/2, -3:3:h/2].T\n",
    "x.shape"
   ]
  },
  {
   "cell_type": "code",
   "execution_count": 311,
   "metadata": {},
   "outputs": [],
   "source": [
    "# print( vW( abs(r.cross_sub(x)) ) )"
   ]
  },
  {
   "cell_type": "code",
   "execution_count": 312,
   "metadata": {},
   "outputs": [
    {
     "name": "stdout",
     "output_type": "stream",
     "text": [
      "abs\n"
     ]
    },
    {
     "data": {
      "text/plain": [
       "(12, 12)"
      ]
     },
     "execution_count": 312,
     "metadata": {},
     "output_type": "execute_result"
    }
   ],
   "source": [
    "rho_x = sum( nu[:,None,None] * vW( abs(r.cross_sub(x))/h ), axis=0 )\n",
    "rho_x.shape"
   ]
  },
  {
   "cell_type": "code",
   "execution_count": 313,
   "metadata": {},
   "outputs": [
    {
     "data": {
      "text/plain": [
       "<AxesSubplot:>"
      ]
     },
     "execution_count": 313,
     "metadata": {},
     "output_type": "execute_result"
    },
    {
     "data": {
      "image/png": "[encoded data removed]",
      "text/plain": [
       "<Figure size 432x288 with 1 Axes>"
      ]
     },
     "metadata": {
      "needs_background": "light"
     },
     "output_type": "display_data"
    }
   ],
   "source": [
    "ax = plt.figure().subplots()\n",
    "ax.scatter(*r.xy(), c='black', s=1)\n",
    "ax.imshow( rho_x, extent=[ amin(x[:,:,0]), amax(x[:,:,0]), amin(x[:,:,1]), amax(x[:,:,1])] )\n",
    "ax"
   ]
  },
  {
   "cell_type": "code",
   "execution_count": 314,
   "metadata": {},
   "outputs": [
    {
     "data": {
      "text/plain": [
       "<matplotlib.collections.PathCollection at 0x7f38819daf28>"
      ]
     },
     "execution_count": 314,
     "metadata": {},
     "output_type": "execute_result"
    },
    {
     "data": {
      "image/png": "[encoded data removed]",
      "text/plain": [
       "<Figure size 432x288 with 1 Axes>"
      ]
     },
     "metadata": {
      "needs_background": "light"
     },
     "output_type": "display_data"
    }
   ],
   "source": [
    "ax = plt.figure().subplots()\n",
    "ax.hist2d(*r.xy(), 15)\n",
    "ax.scatter(*r.xy(), c='black', s=1)"
   ]
  },
  {
   "cell_type": "markdown",
   "metadata": {},
   "source": [
    "## csr index magic"
   ]
  },
  {
   "cell_type": "code",
   "execution_count": 27,
   "metadata": {},
   "outputs": [
    {
     "name": "stdout",
     "output_type": "stream",
     "text": [
      "center at function [2 2] 2\n",
      "shifts [[[2]]\n",
      "\n",
      " [[2]]] (2, 1, 1)\n",
      "shifts [[[-2 -2 -2 -2 -2]\n",
      "  [-1 -1 -1 -1 -1]\n",
      "  [ 0  0  0  0  0]\n",
      "  [ 1  1  1  1  1]\n",
      "  [ 2  2  2  2  2]]\n",
      "\n",
      " [[-2 -1  0  1  2]\n",
      "  [-2 -1  0  1  2]\n",
      "  [-2 -1  0  1  2]\n",
      "  [-2 -1  0  1  2]\n",
      "  [-2 -1  0  1  2]]] (2, 5, 5)\n",
      "unfolded_shifts [-38 -37 -36 -35 -34 -20 -19 -18 -17 -16  -2  -1   0   1   2  16  17  18\n",
      "  19  20  34  35  36  37  38] (25,)\n",
      "rho.shape (1000,)\n"
     ]
    },
    {
     "data": {
      "text/plain": [
       "<matplotlib.collections.PathCollection at 0x7f9eb88616d8>"
      ]
     },
     "execution_count": 27,
     "metadata": {},
     "output_type": "execute_result"
    },
    {
     "data": {
      "image/png": "[encoded data removed]",
      "text/plain": [
       "<Figure size 432x288 with 1 Axes>"
      ]
     },
     "metadata": {
      "needs_background": "light"
     },
     "output_type": "display_data"
    }
   ],
   "source": [
    "shape = (1000,2)\n",
    "r = random.normal(0, 1, shape)\n",
    "\n",
    "def digitize_dd(arr, binsize, border=None, center=True, axis=0):\n",
    "    if center:\n",
    "        arr = arr - mean(arr, axis=axis)\n",
    "    digitized = floor(arr/binsize).astype(int)\n",
    "    digitized = digitized - amin(digitized, axis=axis)\n",
    "    extra = 1\n",
    "    if not border is None:\n",
    "        digitized += border\n",
    "        extra += border\n",
    "    return digitized, amax(digitized, axis=axis) + extra\n",
    "\n",
    "def flatten(arr, shape):\n",
    "    return ravel_multi_index( arr.T, shape.T )\n",
    "\n",
    "def fold(arr, shape):\n",
    "    return array(unravel_index( arr, shape.T )).T\n",
    "\n",
    "def shifts(center, border):\n",
    "    center = array(center)\n",
    "    length = center.shape[-1]\n",
    "    shifts = mgrid[ tuple([ slice(-border, border+1) ]*length) ]\n",
    "    print( \"center at function\", center, length )\n",
    "    print( \"shifts\", center[ tuple([slice(None)] + [None]*length) ], center[ tuple([slice(None)] + [None]*length) ].shape )\n",
    "    print( \"shifts\", shifts, shifts.shape )\n",
    "    return (center[ tuple([slice(None)] + [None]*length) ] + shifts).T\n",
    "\n",
    "def build(arr, h, border):\n",
    "    digitized, shape = digitize_dd(arr, h, border)\n",
    "    flat = flatten( digitized, shape )\n",
    "    occupiedbins = unique( flat )\n",
    "    center = array([border]*len(shape))\n",
    "    unfolded_shifts = flatten(shifts(center, border), shape).flatten() - flatten(center, shape).flatten()[0]\n",
    "    print( \"unfolded_shifts\", unfolded_shifts, unfolded_shifts.shape )\n",
    "    ptr = arange(arr.shape[0])\n",
    "    S = csr_matrix( (ptr, (flat, ptr)), shape=(prod(shape), arr.shape[0]) )\n",
    "    pointers = array( [ group for group in split(S.data, S.indptr[1:-1])], dtype=object )\n",
    "\n",
    "    def get_positions(ibin):\n",
    "        ipointer = occupiedbins[ibin]\n",
    "        indices = pointers[ipointer] \n",
    "        return indices\n",
    "    def get_neighbors(ibin):\n",
    "        ipointer = occupiedbins[ibin]\n",
    "        indices = concatenate( pointers[ ipointer + unfolded_shifts ] )\n",
    "        return indices\n",
    "    def summation( arg, kernel ):\n",
    "        ret = zeros( arg.shape[0] )\n",
    "#         print( ret.shape )\n",
    "        for ibin, ipointer in enumerate(occupiedbins):\n",
    "            indices = get_positions(ibin)\n",
    "            neighbor_indices = get_neighbors(ibin)\n",
    "#             print( indices, \"\\n\", neighbor_indices )\n",
    "            q = sqrt(sum( (arr[None,indices,:] - arr[neighbor_indices,None,:])**2, axis=-1))\n",
    "            ret[indices] = sum( arg[neighbor_indices,...] * kernel(q), axis=0 )\n",
    "        return ret\n",
    "    return get_positions, get_neighbors, summation\n",
    "\n",
    "h = .5\n",
    "get_positions, get_neighbors, summation_ = build(r, h, 2)\n",
    "rho = summation_( ones_like(r[:,0])[:,None], CSpline(dim=r.shape[1],h=h) )\n",
    "print( \"rho.shape\", rho.shape )\n",
    "ibin = 50\n",
    "ax = plt.figure().subplots()\n",
    "ax.scatter( *r.T, s=1)\n",
    "ax.scatter( *r[get_neighbors(ibin)].T, s=2, c='red' )\n",
    "ax.scatter( *r[get_positions(ibin)].T, s=2, c='black' )"
   ]
  },
  {
   "cell_type": "markdown",
   "metadata": {},
   "source": [
    "## CSR class"
   ]
  },
  {
   "cell_type": "code",
   "execution_count": 515,
   "metadata": {},
   "outputs": [],
   "source": [
    "class CSR_sum:\n",
    "    def __init__(self, method, name=None):\n",
    "        self.method = method\n",
    "        self.name = name or method.__name__\n",
    "        self.__doc__ = method.__doc__\n",
    "    \n",
    "    def __get__(self, obj, cls):\n",
    "        arr, broadcast = self.method(obj)\n",
    "        ret = zeros_like( arr )\n",
    "        for a, b in zip(obj._occupants, obj._neighbors):\n",
    "            delta_r = sqrt(sum( (obj._r[None, a,:] - obj._r[b, None, :])**2, axis=-1))\n",
    "            ret[a] = sum( arr[b][broadcast] * obj._W(delta_r), axis=0 )\n",
    "        setattr(obj, self.name, ret)\n",
    "        return ret\n",
    "\n",
    "class CSR(BaseSystem):\n",
    "    def __init__(self, *args, **kwargs):\n",
    "        super().__init__(*args, **kwargs)\n",
    "        self._border = 2\n",
    "        self._initialize_indices()\n",
    "        \n",
    "    @CachedAttribute\n",
    "    def _digitized(self):\n",
    "        r = self._r - mean(self._r, axis=0)\n",
    "        digitized = floor(r/self._h).astype(int)\n",
    "        digitized -= amin(digitized, axis=0)\n",
    "        digitized += self._border\n",
    "        return digitized\n",
    "    \n",
    "    @CachedAttribute\n",
    "    def _digitized_shape(self):\n",
    "        return amax(self._digitized, axis=0) + 1 + self._border\n",
    "    \n",
    "    @CachedAttribute\n",
    "    def _flat_digitized(self):\n",
    "        return self.flatten( self._digitized.T )\n",
    "        \n",
    "    def flatten(self, nd):\n",
    "        return ravel_multi_index( nd, self._digitized_shape )\n",
    "    \n",
    "    @CachedAttribute\n",
    "    def _occupied_bins(self):\n",
    "        return unique(self._flat_digitized)\n",
    "    \n",
    "    @CachedAttribute\n",
    "    def _Nrange(self):\n",
    "        nrange = arange( self._N )\n",
    "        return nrange\n",
    "    \n",
    "    @CachedAttribute\n",
    "    def _border_dd(self):\n",
    "        return array( [self._border]*self._dim )\n",
    "    \n",
    "#     @CachedAttribute\n",
    "#     def _shifts_dd(self):\n",
    "#         shifts_ = mgrid[ tuple([ slice(-self._border, self._border+1) ]*self._dim) ]\n",
    "#         center_ = self._border_dd[ tuple([slice(None)] + [None]*self._dim) ]\n",
    "#         offset = ( center_ + shifts_ ).T\n",
    "#         return offset\n",
    "\n",
    "    @CachedAttribute\n",
    "    def _shifts_dd(self):\n",
    "        return mgrid[ tuple([ slice(-self._border, self._border+1) ]*self._dim) ] + self._border\n",
    "    \n",
    "    @CachedAttribute\n",
    "    def _shifts_1d(self):\n",
    "        _shifts_1d = self.flatten( self._shifts_dd ).flatten() \n",
    "        _shifts_1d -= self.flatten( self._border_dd ).flatten()[0]\n",
    "        return _shifts_1d\n",
    "        \n",
    "    def _initialize_indices(self):\n",
    "        S = csr_matrix( \n",
    "            (self._Nrange, (self._flat_digitized, self._Nrange) ), \n",
    "            shape=( prod(self._digitized_shape), self._N ),\n",
    "        )\n",
    "        self._pointers = array( [ group for group in split(S.data, S.indptr[1:-1])], dtype=object )\n",
    "    \n",
    "    @CachedAttribute\n",
    "    def _occupants(self):\n",
    "        return self._pointers[ self._occupied_bins ]\n",
    "        \n",
    "    @CachedAttribute\n",
    "    def _neighbors(self):\n",
    "        neighbors = [ \n",
    "            concatenate( self._pointers[ ipointer + self._shifts_1d ] ) \n",
    "            for ipointer in self._occupied_bins \n",
    "        ]\n",
    "        return neighbors\n",
    "    \n",
    "    @CachedAttribute\n",
    "    def kernel(self):\n",
    "        for a, b in zip(self._occupants, self._neighbors):\n",
    "            pass\n",
    "    \n",
    "    @CachedAttribute\n",
    "    def rho_cache(self):\n",
    "        ret = zeros_like( self._nu )\n",
    "        for a, b in zip(self._occupants, self._neighbors):\n",
    "            delta_r = sqrt(sum( (self._r[None, a,:] - self._r[b, None, :])**2, axis=-1))\n",
    "            ret[a] = sum( self._nu[b, None] * self._W(delta_r), axis=0 )\n",
    "        return ret\n",
    "    \n",
    "    @CSR_sum\n",
    "    def rho(self):\n",
    "        return self._nu, (slice(None), None)\n",
    "\n",
    "    @CSR_sum\n",
    "    def ones(self):\n",
    "        return 1/self.rho, (slice(None), None)\n",
    "    "
   ]
  },
  {
   "cell_type": "code",
   "execution_count": 516,
   "metadata": {},
   "outputs": [
    {
     "name": "stdout",
     "output_type": "stream",
     "text": [
      "[ 7633.34642964 20478.76407201 13912.58092844 24918.98617278\n",
      "  5135.49376697  4033.80723115 16534.22202057 26052.73434083\n",
      "  7193.87305165  2077.36784089]\n",
      "CPU times: user 7.51 s, sys: 147 ms, total: 7.66 s\n",
      "Wall time: 7.66 s\n",
      "[ 7633.34642964 20478.76407201 13912.58092844 24918.98617278\n",
      "  5135.49376697  4033.80723115 16534.22202057 26052.73434083\n",
      "  7193.87305165  2077.36784089]\n",
      "CPU times: user 329 µs, sys: 0 ns, total: 329 µs\n",
      "Wall time: 303 µs\n"
     ]
    }
   ],
   "source": [
    "init = dict(\n",
    "    h=.2, \n",
    "    W=CSplineNB, \n",
    "    r=random.normal( 0, 1., (int(5e4),2) ) \n",
    ")\n",
    "csr = CSR(**init)\n",
    "# print( csr._nu.shape )\n",
    "%time print( csr.rho[:10] )\n",
    "%time print( csr.rho[:10] )"
   ]
  },
  {
   "cell_type": "code",
   "execution_count": 512,
   "metadata": {},
   "outputs": [
    {
     "data": {
      "text/plain": [
       "0.1691682981151721"
      ]
     },
     "execution_count": 512,
     "metadata": {},
     "output_type": "execute_result"
    }
   ],
   "source": [
    "amax(csr.ones - 1)"
   ]
  },
  {
   "cell_type": "markdown",
   "metadata": {},
   "source": [
    "### test consistency"
   ]
  },
  {
   "cell_type": "code",
   "execution_count": 527,
   "metadata": {},
   "outputs": [
    {
     "data": {
      "text/plain": [
       "array([0.00000000e+00, 0.00000000e+00, 0.00000000e+00, 0.00000000e+00,\n",
       "       0.00000000e+00, 0.00000000e+00, 0.00000000e+00, 0.00000000e+00,\n",
       "       0.00000000e+00, 0.00000000e+00, 0.00000000e+00, 0.00000000e+00,\n",
       "       0.00000000e+00, 0.00000000e+00, 0.00000000e+00, 0.00000000e+00,\n",
       "       0.00000000e+00, 0.00000000e+00, 0.00000000e+00, 0.00000000e+00,\n",
       "       0.00000000e+00, 0.00000000e+00, 0.00000000e+00, 0.00000000e+00,\n",
       "       0.00000000e+00, 0.00000000e+00, 0.00000000e+00, 0.00000000e+00,\n",
       "       0.00000000e+00, 0.00000000e+00, 0.00000000e+00, 0.00000000e+00,\n",
       "       0.00000000e+00, 0.00000000e+00, 0.00000000e+00, 0.00000000e+00,\n",
       "       0.00000000e+00, 0.00000000e+00, 0.00000000e+00, 0.00000000e+00,\n",
       "       0.00000000e+00, 0.00000000e+00, 0.00000000e+00, 0.00000000e+00,\n",
       "       0.00000000e+00, 0.00000000e+00, 0.00000000e+00, 1.42108547e-14,\n",
       "       0.00000000e+00, 0.00000000e+00, 0.00000000e+00, 0.00000000e+00,\n",
       "       0.00000000e+00, 0.00000000e+00, 0.00000000e+00, 0.00000000e+00,\n",
       "       0.00000000e+00, 0.00000000e+00, 0.00000000e+00, 0.00000000e+00,\n",
       "       0.00000000e+00, 0.00000000e+00, 0.00000000e+00, 0.00000000e+00,\n",
       "       0.00000000e+00, 0.00000000e+00, 0.00000000e+00, 0.00000000e+00,\n",
       "       0.00000000e+00, 0.00000000e+00, 0.00000000e+00, 0.00000000e+00,\n",
       "       0.00000000e+00, 0.00000000e+00, 0.00000000e+00, 0.00000000e+00,\n",
       "       0.00000000e+00, 0.00000000e+00, 0.00000000e+00, 0.00000000e+00,\n",
       "       0.00000000e+00, 0.00000000e+00, 0.00000000e+00, 0.00000000e+00,\n",
       "       0.00000000e+00, 0.00000000e+00, 0.00000000e+00, 0.00000000e+00,\n",
       "       0.00000000e+00, 0.00000000e+00, 0.00000000e+00, 0.00000000e+00,\n",
       "       0.00000000e+00, 0.00000000e+00, 7.10542736e-15, 0.00000000e+00,\n",
       "       0.00000000e+00, 0.00000000e+00, 0.00000000e+00, 0.00000000e+00])"
      ]
     },
     "execution_count": 527,
     "metadata": {},
     "output_type": "execute_result"
    }
   ],
   "source": [
    "init = dict(\n",
    "    h=.2, \n",
    "    W=CSplineNB, \n",
    "    r=random.normal( 0, 1., (100,3) ) \n",
    ")\n",
    "CSR(**init).rho - BruteForce(**init).rho"
   ]
  },
  {
   "cell_type": "markdown",
   "metadata": {},
   "source": [
    "### time"
   ]
  },
  {
   "cell_type": "code",
   "execution_count": 438,
   "metadata": {},
   "outputs": [
    {
     "name": "stdout",
     "output_type": "stream",
     "text": [
      "N= 10\n",
      "init\n",
      "CPU times: user 5.16 ms, sys: 48 µs, total: 5.21 ms\n",
      "Wall time: 4.23 ms\n",
      "rho\n",
      "funcname rho\n",
      "CPU times: user 2.71 ms, sys: 1.22 ms, total: 3.93 ms\n",
      "Wall time: 3.08 ms\n",
      "second call rho\n",
      "CPU times: user 6 µs, sys: 0 ns, total: 6 µs\n",
      "Wall time: 10.5 µs\n",
      "N= 100\n",
      "init\n",
      "CPU times: user 5.84 ms, sys: 282 µs, total: 6.12 ms\n",
      "Wall time: 5.99 ms\n",
      "rho\n",
      "funcname rho\n",
      "CPU times: user 7.99 ms, sys: 0 ns, total: 7.99 ms\n",
      "Wall time: 7.8 ms\n",
      "second call rho\n",
      "CPU times: user 4 µs, sys: 1e+03 ns, total: 5 µs\n",
      "Wall time: 9.3 µs\n",
      "N= 1000\n",
      "init\n",
      "CPU times: user 8.44 ms, sys: 85 µs, total: 8.52 ms\n",
      "Wall time: 8.23 ms\n",
      "rho\n",
      "funcname rho\n",
      "CPU times: user 35.7 ms, sys: 101 µs, total: 35.8 ms\n",
      "Wall time: 35.5 ms\n",
      "second call rho\n",
      "CPU times: user 5 µs, sys: 0 ns, total: 5 µs\n",
      "Wall time: 7.87 µs\n",
      "N= 10000\n",
      "init\n",
      "CPU times: user 10.3 ms, sys: 84 µs, total: 10.4 ms\n",
      "Wall time: 9.24 ms\n",
      "rho\n",
      "funcname rho\n",
      "CPU times: user 454 ms, sys: 0 ns, total: 454 ms\n",
      "Wall time: 452 ms\n",
      "second call rho\n",
      "CPU times: user 5 µs, sys: 0 ns, total: 5 µs\n",
      "Wall time: 7.87 µs\n",
      "N= 20000\n",
      "init\n",
      "CPU times: user 12.9 ms, sys: 0 ns, total: 12.9 ms\n",
      "Wall time: 11.8 ms\n",
      "rho\n",
      "funcname rho\n",
      "CPU times: user 1.23 s, sys: 1.44 ms, total: 1.23 s\n",
      "Wall time: 1.23 s\n",
      "second call rho\n",
      "CPU times: user 5 µs, sys: 0 ns, total: 5 µs\n",
      "Wall time: 6.91 µs\n",
      "N= 30000\n",
      "init\n",
      "CPU times: user 12.3 ms, sys: 0 ns, total: 12.3 ms\n",
      "Wall time: 10.8 ms\n",
      "rho\n",
      "funcname rho\n",
      "CPU times: user 2.61 s, sys: 17.6 ms, total: 2.63 s\n",
      "Wall time: 2.63 s\n",
      "second call rho\n",
      "CPU times: user 4 µs, sys: 0 ns, total: 4 µs\n",
      "Wall time: 6.44 µs\n",
      "N= 100000\n",
      "init\n",
      "CPU times: user 23.2 ms, sys: 0 ns, total: 23.2 ms\n",
      "Wall time: 22.1 ms\n",
      "rho\n",
      "funcname rho\n",
      "CPU times: user 29.6 s, sys: 11.4 s, total: 41 s\n",
      "Wall time: 41 s\n",
      "second call rho\n",
      "CPU times: user 3 µs, sys: 1e+03 ns, total: 4 µs\n",
      "Wall time: 6.2 µs\n"
     ]
    }
   ],
   "source": [
    "Ns = [10, 100, int(1e3), int(1e4), 2*int(1e4), 3*int(1e4), int(1e5) ]\n",
    "init = dict(N=N, dim=2, h=.2, W=CSplineNB)\n",
    "for N in Ns:\n",
    "    init = dict(N=N, dim=2, h=.2, W=CSplineNB)\n",
    "    print(\"N=\", N)\n",
    "    print(\"init\")\n",
    "    csr = %time CSR(**init)\n",
    "    print(\"rho\")\n",
    "    %time csr.rho\n",
    "    print(\"second call rho\")\n",
    "    %time csr.rho"
   ]
  },
  {
   "cell_type": "markdown",
   "metadata": {},
   "source": [
    "### prun"
   ]
  },
  {
   "cell_type": "code",
   "execution_count": 264,
   "metadata": {},
   "outputs": [
    {
     "name": "stdout",
     "output_type": "stream",
     "text": [
      " "
     ]
    },
    {
     "data": {
      "text/plain": [
       "         19658 function calls (19655 primitive calls) in 1.332 seconds\n",
       "\n",
       "   Ordered by: internal time\n",
       "\n",
       "   ncalls  tottime  percall  cumtime  percall filename:lineno(function)\n",
       "     1706    0.608    0.000    0.608    0.000 {method 'reduce' of 'numpy.ufunc' objects}\n",
       "        1    0.573    0.573    1.332    1.332 <ipython-input-219-692eb8f60c2f>:67(rho)\n",
       "      853    0.095    0.000    0.115    0.000 <ipython-input-80-b15176aa07c9>:58(__call__)\n",
       "      853    0.021    0.000    0.021    0.000 {built-in method builtins.abs}\n",
       "2563/2561    0.016    0.000    0.635    0.000 {built-in method numpy.core._multiarray_umath.implement_array_function}\n",
       "        1    0.005    0.005    0.021    0.021 <ipython-input-219-692eb8f60c2f>:62(<listcomp>)\n",
       "     1706    0.003    0.000    0.613    0.000 fromnumeric.py:70(_wrapreduction)\n",
       "     1706    0.003    0.000    0.617    0.000 fromnumeric.py:2105(sum)\n",
       "     1706    0.002    0.000    0.621    0.000 <__array_function__ internals>:2(sum)\n",
       "        1    0.002    0.002    0.002    0.002 {method 'sort' of 'numpy.ndarray' objects}\n",
       "     1706    0.001    0.000    0.001    0.000 fromnumeric.py:71(<dictcomp>)\n",
       "      853    0.001    0.000    0.015    0.000 <__array_function__ internals>:2(concatenate)\n",
       "     1706    0.001    0.000    0.001    0.000 {built-in method builtins.isinstance}\n",
       "     1706    0.000    0.000    0.000    0.000 fromnumeric.py:2100(_sum_dispatcher)\n",
       "     1706    0.000    0.000    0.000    0.000 {method 'items' of 'dict' objects}\n",
       "      853    0.000    0.000    0.000    0.000 multiarray.py:143(concatenate)\n",
       "        1    0.000    0.000    0.002    0.002 arraysetops.py:309(_unique1d)\n",
       "        1    0.000    0.000    1.332    1.332 {built-in method builtins.exec}\n",
       "        1    0.000    0.000    0.000    0.000 {method 'flatten' of 'numpy.ndarray' objects}\n",
       "        1    0.000    0.000    0.002    0.002 <ipython-input-219-692eb8f60c2f>:55(_occupants)\n",
       "      3/2    0.000    0.000    0.022    0.011 <ipython-input-50-d875e7c540d0>:12(__get__)\n",
       "        1    0.000    0.000    0.000    0.000 numeric.py:75(zeros_like)\n",
       "        1    0.000    0.000    0.002    0.002 arraysetops.py:149(unique)\n",
       "        1    0.000    0.000    0.000    0.000 arraysetops.py:136(_unpack_tuple)\n",
       "        1    0.000    0.000    0.000    0.000 {built-in method numpy.zeros}\n",
       "        1    0.000    0.000    0.000    0.000 {built-in method numpy.empty}\n",
       "        1    0.000    0.000    0.002    0.002 <ipython-input-219-692eb8f60c2f>:26(_occupied_bins)\n",
       "        1    0.000    0.000    0.000    0.000 <__array_function__ internals>:2(zeros_like)\n",
       "        2    0.000    0.000    0.000    0.000 _asarray.py:86(asanyarray)\n",
       "        1    0.000    0.000    0.021    0.021 <ipython-input-219-692eb8f60c2f>:59(_neighbors)\n",
       "        1    0.000    0.000    0.002    0.002 <__array_function__ internals>:2(unique)\n",
       "        1    0.000    0.000    1.332    1.332 <string>:1(<module>)\n",
       "        1    0.000    0.000    0.000    0.000 <__array_function__ internals>:2(empty_like)\n",
       "        3    0.000    0.000    0.000    0.000 {built-in method builtins.setattr}\n",
       "        2    0.000    0.000    0.000    0.000 {built-in method numpy.array}\n",
       "        1    0.000    0.000    0.000    0.000 <__array_function__ internals>:2(copyto)\n",
       "        1    0.000    0.000    0.000    0.000 numeric.py:71(_zeros_like_dispatcher)\n",
       "        1    0.000    0.000    0.000    0.000 {built-in method builtins.len}\n",
       "        1    0.000    0.000    0.000    0.000 arraysetops.py:144(_unique_dispatcher)\n",
       "        1    0.000    0.000    0.000    0.000 multiarray.py:1043(copyto)\n",
       "        1    0.000    0.000    0.000    0.000 multiarray.py:75(empty_like)\n",
       "        1    0.000    0.000    0.000    0.000 {method 'disable' of '_lsprof.Profiler' objects}"
      ]
     },
     "metadata": {},
     "output_type": "display_data"
    }
   ],
   "source": [
    "csr = CSR( N=int(2e4), h=.2, dim=2, W=CSplineNB )\n",
    "%prun csr.rho()"
   ]
  },
  {
   "cell_type": "markdown",
   "metadata": {},
   "source": [
    "### N= 100 dim= 1\n",
    "###### 293 ms ± 10.5 ms per loop (mean ± std. dev. of 7 runs, 1 loop each)\n",
    "###### 296 ms ± 24.2 ms per loop (mean ± std. dev. of 7 runs, 1 loop each)\n",
    "###### 289 ms ± 3.15 ms per loop (mean ± std. dev. of 7 runs, 1 loop each)\n",
    "\n",
    "#### N= 200 dim= 1\n",
    "###### 1.12 s ± 79.1 ms per loop (mean ± std. dev. of 7 runs, 1 loop each)\n",
    "###### 1.19 s ± 33.8 ms per loop (mean ± std. dev. of 7 runs, 1 loop each)\n",
    "###### 1.31 s ± 136 ms per loop (mean ± std. dev. of 7 runs, 1 loop each)\n",
    "\n",
    "### N= 300 dim= 1\n",
    "###### 2.52 s ± 73.6 ms per loop (mean ± std. dev. of 7 runs, 1 loop each)\n",
    "###### 2.63 s ± 94.4 ms per loop (mean ± std. dev. of 7 runs, 1 loop each)\n",
    "###### 2.56 s ± 42.9 ms per loop (mean ± std. dev. of 7 runs, 1 loop each)\n",
    "\n",
    "### N= 400 dim= 1\n",
    "###### 4.48 s ± 130 ms per loop (mean ± std. dev. of 7 runs, 1 loop each)\n",
    "###### 4.59 s ± 154 ms per loop (mean ± std. dev. of 7 runs, 1 loop each)\n",
    "###### 4.53 s ± 29.8 ms per loop (mean ± std. dev. of 7 runs, 1 loop each)\n",
    "\n",
    "### N= 500 dim= 1\n",
    "###### 7.44 s ± 593 ms per loop (mean ± std. dev. of 7 runs, 1 loop each)\n",
    "###### 7.42 s ± 589 ms per loop (mean ± std. dev. of 7 runs, 1 loop each)\n",
    "###### 6.8 s ± 176 ms per loop (mean ± std. dev. of 7 runs, 1 loop each)\n",
    "\n",
    "### N= 600 dim= 1\n",
    "###### 10.1 s ± 297 ms per loop (mean ± std. dev. of 7 runs, 1 loop each)\n",
    "###### 10.1 s ± 371 ms per loop (mean ± std. dev. of 7 runs, 1 loop each)\n",
    "###### 10 s ± 26.8 ms per loop (mean ± std. dev. of 7 runs, 1 loop each)\n",
    "### N= 700 dim= 1\n",
    "13.8 s ± 376 ms per loop (mean ± std. dev. of 7 runs, 1 loop each)\n",
    "15.7 s ± 1.27 s per loop (mean ± std. dev. of 7 runs, 1 loop each)\n",
    "14.6 s ± 689 ms per loop (mean ± std. dev. of 7 runs, 1 loop each)\n",
    "### N= 800 dim= 1\n",
    "19.8 s ± 1.7 s per loop (mean ± std. dev. of 7 runs, 1 loop each)\n",
    "21.7 s ± 584 ms per loop (mean ± std. dev. of 7 runs, 1 loop each)\n",
    "21.4 s ± 1.15 s per loop (mean ± std. dev. of 7 runs, 1 loop each)\n",
    "### N= 900 dim= 1\n",
    "23.7 s ± 999 ms per loop (mean ± std. dev. of 7 runs, 1 loop each)\n",
    "25.5 s ± 1.88 s per loop (mean ± std. dev. of 7 runs, 1 loop each)\n",
    "26.4 s ± 1.42 s per loop (mean ± std. dev. of 7 runs, 1 loop each)\n",
    "### N= 1000 dim= 1\n",
    "33.8 s ± 507 ms per loop (mean ± std. dev. of 7 runs, 1 loop each)\n",
    "30.2 s ± 1.96 s per loop (mean ± std. dev. of 7 runs, 1 loop each)\n",
    "28 s ± 317 ms per loop (mean ± std. dev. of 7 runs, 1 loop each)\n",
    "### N= 100 dim= 2\n",
    "66.6 ms ± 4.62 ms per loop (mean ± std. dev. of 7 runs, 10 loops each)\n",
    "84.8 ms ± 1.37 ms per loop (mean ± std. dev. of 7 runs, 10 loops each)\n",
    "77.8 ms ± 670 µs per loop (mean ± std. dev. of 7 runs, 10 loops each)\n",
    "### N= 200 dim= 2\n",
    "237 ms ± 24 ms per loop (mean ± std. dev. of 7 runs, 1 loop each)\n",
    "266 ms ± 14.7 ms per loop (mean ± std. dev. of 7 runs, 1 loop each)\n",
    "271 ms ± 1.28 ms per loop (mean ± std. dev. of 7 runs, 1 loop each)\n",
    "### N= 300 dim= 2\n",
    "554 ms ± 71.9 ms per loop (mean ± std. dev. of 7 runs, 1 loop each)\n",
    "550 ms ± 21.6 ms per loop (mean ± std. dev. of 7 runs, 1 loop each)\n",
    "550 ms ± 6.05 ms per loop (mean ± std. dev. of 7 runs, 1 loop each)\n",
    "### N= 400 dim= 2\n",
    "922 ms ± 31.1 ms per loop (mean ± std. dev. of 7 runs, 1 loop each)\n",
    "927 ms ± 51 ms per loop (mean ± std. dev. of 7 runs, 1 loop each)\n",
    "993 ms ± 7.4 ms per loop (mean ± std. dev. of 7 runs, 1 loop each)\n",
    "### N= 500 dim= 2\n",
    "1.43 s ± 66.6 ms per loop (mean ± std. dev. of 7 runs, 1 loop each)\n",
    "1.45 s ± 98 ms per loop (mean ± std. dev. of 7 runs, 1 loop each)\n",
    "1.38 s ± 9.42 ms per loop (mean ± std. dev. of 7 runs, 1 loop each)\n",
    "### N= 600 dim= 2\n",
    "2.07 s ± 42.3 ms per loop (mean ± std. dev. of 7 runs, 1 loop each)\n",
    "2 s ± 56.6 ms per loop (mean ± std. dev. of 7 runs, 1 loop each)\n",
    "1.95 s ± 11 ms per loop (mean ± std. dev. of 7 runs, 1 loop each)\n",
    "### N= 700 dim= 2\n",
    "2.71 s ± 112 ms per loop (mean ± std. dev. of 7 runs, 1 loop each)\n",
    "2.65 s ± 41.4 ms per loop (mean ± std. dev. of 7 runs, 1 loop each)\n",
    "2.55 s ± 44.5 ms per loop (mean ± std. dev. of 7 runs, 1 loop each)\n",
    "### N= 800 dim= 2\n",
    "3.48 s ± 120 ms per loop (mean ± std. dev. of 7 runs, 1 loop each)\n",
    "3.32 s ± 112 ms per loop (mean ± std. dev. of 7 runs, 1 loop each)\n",
    "3.22 s ± 17.1 ms per loop (mean ± std. dev. of 7 runs, 1 loop each)\n",
    "### N= 900 dim= 2\n",
    "4.33 s ± 242 ms per loop (mean ± std. dev. of 7 runs, 1 loop each)\n",
    "4.19 s ± 45 ms per loop (mean ± std. dev. of 7 runs, 1 loop each)\n",
    "4.14 s ± 72.4 ms per loop (mean ± std. dev. of 7 runs, 1 loop each)\n",
    "### N= 1000 dim= 2\n",
    "5.67 s ± 479 ms per loop (mean ± std. dev. of 7 runs, 1 loop each)\n",
    "5.21 s ± 192 ms per loop (mean ± std. dev. of 7 runs, 1 loop each)\n",
    "5.1 s ± 25.1 ms per loop (mean ± std. dev. of 7 runs, 1 loop each)\n",
    "### N= 100 dim= 3\n",
    "21.9 ms ± 530 µs per loop (mean ± std. dev. of 7 runs, 10 loops each)\n",
    "97.5 ms ± 2.69 ms per loop (mean ± std. dev. of 7 runs, 10 loops each)\n",
    "41.8 ms ± 190 µs per loop (mean ± std. dev. of 7 runs, 10 loops each)\n",
    "### N= 200 dim= 3\n",
    "63.4 ms ± 1.6 ms per loop (mean ± std. dev. of 7 runs, 10 loops each)\n",
    "161 ms ± 2.68 ms per loop (mean ± std. dev. of 7 runs, 10 loops each)\n",
    "91.1 ms ± 1.29 ms per loop (mean ± std. dev. of 7 runs, 10 loops each)\n",
    "### N= 300 dim= 3\n",
    "122 ms ± 2.36 ms per loop (mean ± std. dev. of 7 runs, 10 loops each)\n",
    "250 ms ± 13.7 ms per loop (mean ± std. dev. of 7 runs, 1 loop each)\n",
    "159 ms ± 1.02 ms per loop (mean ± std. dev. of 7 runs, 10 loops each)\n",
    "### N= 400 dim= 3\n",
    "206 ms ± 5.76 ms per loop (mean ± std. dev. of 7 runs, 1 loop each)\n",
    "340 ms ± 18.8 ms per loop (mean ± std. dev. of 7 runs, 1 loop each)\n",
    "232 ms ± 3.09 ms per loop (mean ± std. dev. of 7 runs, 1 loop each)\n",
    "### N= 500 dim= 3\n",
    "311 ms ± 9.64 ms per loop (mean ± std. dev. of 7 runs, 1 loop each)\n",
    "415 ms ± 11.2 ms per loop (mean ± std. dev. of 7 runs, 1 loop each)\n",
    "330 ms ± 1.72 ms per loop (mean ± std. dev. of 7 runs, 1 loop each)\n",
    "### N= 600 dim= 3\n",
    "418 ms ± 16.8 ms per loop (mean ± std. dev. of 7 runs, 1 loop each)\n",
    "529 ms ± 17.8 ms per loop (mean ± std. dev. of 7 runs, 1 loop each)\n",
    "421 ms ± 1.36 ms per loop (mean ± std. dev. of 7 runs, 1 loop each)\n",
    "### N= 700 dim= 3\n",
    "553 ms ± 24.7 ms per loop (mean ± std. dev. of 7 runs, 1 loop each)\n",
    "657 ms ± 19.8 ms per loop (mean ± std. dev. of 7 runs, 1 loop each)\n",
    "562 ms ± 2.21 ms per loop (mean ± std. dev. of 7 runs, 1 loop each)\n",
    "### N= 800 dim= 3\n",
    "723 ms ± 15.9 ms per loop (mean ± std. dev. of 7 runs, 1 loop each)\n",
    "832 ms ± 30.2 ms per loop (mean ± std. dev. of 7 runs, 1 loop each)\n",
    "697 ms ± 3.25 ms per loop (mean ± std. dev. of 7 runs, 1 loop each)\n",
    "### N= 900 dim= 3\n",
    "895 ms ± 37.9 ms per loop (mean ± std. dev. of 7 runs, 1 loop each)\n",
    "1.12 s ± 102 ms per loop (mean ± std. dev. of 7 runs, 1 loop each)\n",
    "994 ms ± 6.46 ms per loop (mean ± std. dev. of 7 runs, 1 loop each)\n",
    "### N= 1000 dim= 3\n",
    "1.23 s ± 16.7 ms per loop (mean ± std. dev. of 7 runs, 1 loop each)\n",
    "1.27 s ± 51.1 ms per loop (mean ± std. dev. of 7 runs, 1 loop each)\n",
    "1.08 s ± 97.8 ms per loop (mean ± std. dev. of 7 runs, 1 loop each)"
   ]
  },
  {
   "cell_type": "code",
   "execution_count": 79,
   "metadata": {},
   "outputs": [],
   "source": [
    "csr_np_times_1d = {\n",
    "    10: 7,\n",
    "    100: 369,\n",
    "    1000: 35e3\n",
    "}\n",
    "csr_np_times_2d = {\n",
    "    10: 7.6,\n",
    "    100: 259,\n",
    "    1000: 18.6e3\n",
    "}\n",
    "csr_np_times_3d = {\n",
    "    10: 26.6,\n",
    "    100: 195,\n",
    "    1000: 8.6e3\n",
    "}\n"
   ]
  },
  {
   "cell_type": "markdown",
   "metadata": {},
   "source": [
    "## xArray"
   ]
  },
  {
   "cell_type": "code",
   "execution_count": 301,
   "metadata": {},
   "outputs": [],
   "source": [
    "class XArray(BaseSystem):\n",
    "    def __init__(self, *args, **kwargs):\n",
    "        super().__init__(*args, **kwargs)\n",
    "        self.ds = xr.Dataset( dict( \n",
    "            positions = ([\"a\",\"i\"], self._r),\n",
    "            weights = ([\"a\"], self._nu),\n",
    "        ) )\n",
    "        self._border = 2\n",
    "        self._initialize()\n",
    "\n",
    "    @CachedAttribute\n",
    "    def _digitized(self):\n",
    "        r = self.ds.positions - self.ds.positions.mean('a')\n",
    "        digitized = floor(r/self._h).astype(int)\n",
    "        digitized -= amin(digitized, axis=0)\n",
    "        digitized += self._border\n",
    "        return digitized\n",
    "\n",
    "    @property\n",
    "    def _digitized_shape(self):\n",
    "        return self._digitized.max(\"a\").data + 1 + self._border\n",
    "\n",
    "    def flatten(self, nd):\n",
    "        return ravel_multi_index( nd.T, self._digitized_shape.T )\n",
    "    \n",
    "    @property\n",
    "    def ndshifts(self):\n",
    "        return mgrid[[slice(-self._border, self._border+1)]*self._dim]\n",
    "    \n",
    "    @property\n",
    "    def shifts(self):\n",
    "        offset_shifts = ravel_multi_index( self.ndshifts + self._border, self._digitized_shape ).flatten()\n",
    "        return offset_shifts - ravel_multi_index( [self._border]*self._dim , self._digitized_shape )\n",
    "    \n",
    "    @property\n",
    "    def flat_indices(self):\n",
    "        return ravel_multi_index( self._digitized.transpose(\"i\",\"a\"), self._digitized_shape )\n",
    "    \n",
    "    def _initialize(self):\n",
    "        \n",
    "        self.ds.coords['a'] = self.flat_indices\n",
    "        self._occupants = self.ds.groupby('a').groups\n",
    "\n",
    "        self._neighbors = {}\n",
    "        [ \n",
    "            self._neighbors.setdefault(ptr + offset, []).extend( indices ) \n",
    "            for ptr, indices in self._occupants.items() for offset in self.shifts \n",
    "        ]\n",
    "\n",
    "    def rho2(self):\n",
    "        self.ds.update( dict(\n",
    "            rho = ([\"a\"], zeros_like(self.ds.weights))\n",
    "        ))\n",
    "        for key, a in self._occupants.items():\n",
    "            b = self._neighbors[key]\n",
    "            dists = sqrt( ((self.ds.positions.isel(a=a) - self.ds.positions.isel(a=b).rename({\"a\":\"b\"}))**2).sum('i') )\n",
    "            self.ds.rho.data[a] = ( self.ds.weights.isel(a=a) * xr.apply_ufunc( self._W, dists ) ).sum('b')\n",
    "        return self.ds.rho\n",
    "    \n",
    "    def rho(self):\n",
    "        self.ds.update( dict(\n",
    "            rho = ([\"a\"], zeros_like(self.ds.weights))\n",
    "        ))\n",
    "        r = self.ds.positions.data\n",
    "        for key, a in self._occupants.items():\n",
    "            b = self._neighbors[key]\n",
    "            dists = sqrt( (( r[None, a, :] - r[b, None, :])**2).sum(-1) )\n",
    "            self.ds.rho.data[a] = ( self.ds.weights.data[b, None] * self._W( dists ) ).sum(0)\n",
    "        return self.ds.rho\n",
    "    \n",
    "    def __str__(self):\n",
    "        return str(self.ds)"
   ]
  },
  {
   "cell_type": "markdown",
   "metadata": {},
   "source": [
    "### test zero"
   ]
  },
  {
   "cell_type": "code",
   "execution_count": 307,
   "metadata": {},
   "outputs": [
    {
     "name": "stdout",
     "output_type": "stream",
     "text": [
      "<xarray.DataArray 'rho' (a: 10000)>\n",
      "array([3.63797881e-12, 1.36424205e-12, 9.09494702e-13, ...,\n",
      "       4.54747351e-13, 0.00000000e+00, 5.45696821e-12])\n",
      "Coordinates:\n",
      "  * a        (a) int64 1079 731 813 937 899 556 898 ... 510 456 1035 996 770 908\n"
     ]
    }
   ],
   "source": [
    "init = dict(\n",
    "    h=.2, \n",
    "    W=CSplineNB, \n",
    "    r=random.normal( 0, 1., (int(1e4),2) ) \n",
    ")\n",
    "print( XArray(**init).rho() - BruteForce(**init).rho() )"
   ]
  },
  {
   "cell_type": "markdown",
   "metadata": {},
   "source": [
    "### time"
   ]
  },
  {
   "cell_type": "code",
   "execution_count": 294,
   "metadata": {},
   "outputs": [
    {
     "name": "stdout",
     "output_type": "stream",
     "text": [
      "N= 10\n",
      "CPU times: user 26.4 ms, sys: 2.22 ms, total: 28.6 ms\n",
      "Wall time: 26.1 ms\n",
      "N= 100\n",
      "CPU times: user 91 ms, sys: 0 ns, total: 91 ms\n",
      "Wall time: 90.9 ms\n",
      "N= 1000\n",
      "CPU times: user 389 ms, sys: 2.77 ms, total: 392 ms\n",
      "Wall time: 391 ms\n",
      "N= 10000\n",
      "CPU times: user 1.11 s, sys: 36 µs, total: 1.11 s\n",
      "Wall time: 1.11 s\n",
      "N= 20000\n",
      "CPU times: user 2.32 s, sys: 22 µs, total: 2.32 s\n",
      "Wall time: 2.32 s\n",
      "N= 30000\n",
      "CPU times: user 4.19 s, sys: 656 µs, total: 4.19 s\n",
      "Wall time: 4.19 s\n",
      "N= 100000\n",
      "CPU times: user 35.1 s, sys: 12.4 s, total: 47.5 s\n",
      "Wall time: 47.5 s\n"
     ]
    }
   ],
   "source": [
    "Ns = [10, 100, int(1e3), int(1e4), 2*int(1e4), 3*int(1e4), int(1e5) ]\n",
    "for N in Ns:\n",
    "    init = dict(N=N, dim=2, h=.2, W=CSplineNB)\n",
    "    print(\"N=\", N)\n",
    "    %time XArray(**init).rho()\n",
    "#     xarr = XArray(**init)\n",
    "#     %time xarr.rho()\n",
    "#     %time xarr.rho()"
   ]
  },
  {
   "cell_type": "markdown",
   "metadata": {},
   "source": [
    "### prun"
   ]
  },
  {
   "cell_type": "code",
   "execution_count": 303,
   "metadata": {},
   "outputs": [
    {
     "name": "stdout",
     "output_type": "stream",
     "text": [
      " "
     ]
    },
    {
     "data": {
      "text/plain": [
       "         581383 function calls (574602 primitive calls) in 1.675 seconds\n",
       "\n",
       "   Ordered by: internal time\n",
       "\n",
       "   ncalls  tottime  percall  cumtime  percall filename:lineno(function)\n",
       "        1    0.614    0.614    1.675    1.675 <ipython-input-301-6e95c757e037>:60(rho)\n",
       "     1684    0.543    0.000    0.543    0.000 {method 'reduce' of 'numpy.ufunc' objects}\n",
       "      842    0.088    0.000    0.109    0.000 <ipython-input-80-b15176aa07c9>:58(__call__)\n",
       "     5063    0.054    0.000    0.327    0.000 dataset.py:1254(_construct_dataarray)\n",
       "    35453    0.027    0.000    0.046    0.000 typing.py:1223(__new__)\n",
       "      842    0.021    0.000    0.021    0.000 {built-in method builtins.abs}\n",
       "    28692    0.017    0.000    0.024    0.000 _collections_abc.py:742(__iter__)\n",
       "    15215    0.016    0.000    0.016    0.000 {built-in method builtins.hasattr}\n",
       "     5064    0.014    0.000    0.075    0.000 coordinates.py:205(variables)\n",
       "     5064    0.013    0.000    0.038    0.000 coordinates.py:208(<dictcomp>)\n",
       "     5065    0.013    0.000    0.024    0.000 dataarray.py:364(__init__)\n",
       "    13504    0.013    0.000    0.030    0.000 dataset.py:654(variables)\n",
       "    35453    0.011    0.000    0.019    0.000 typing.py:1184(_generic_new)\n",
       "25340/25339    0.010    0.000    0.010    0.000 common.py:251(__setattr__)\n",
       "     1689    0.010    0.000    0.401    0.000 common.py:221(__getattr__)\n",
       "    37145    0.008    0.000    0.008    0.000 {built-in method __new__ of type object at 0x7f9fa03f2060}\n",
       "    10128    0.008    0.000    0.087    0.000 coordinates.py:61(__iter__)\n",
       "     5063    0.008    0.000    0.345    0.000 dataset.py:1349(__getitem__)\n",
       "     1689    0.008    0.000    0.090    0.000 dataset.py:139(_get_virtual_variable)\n",
       "     6751    0.007    0.000    0.019    0.000 dataset.py:1467(coords)\n",
       "     1687    0.007    0.000    0.310    0.000 dataset.py:1292(_item_sources)\n",
       "28772/28756    0.007    0.000    0.010    0.000 {built-in method builtins.isinstance}\n",
       "     3376    0.007    0.000    0.017    0.000 dataset.py:687(dims)\n",
       "     1689    0.007    0.000    0.015    0.000 utils.py:69(_maybe_cast_to_cftimeindex)\n",
       "     1687    0.006    0.000    0.030    0.000 base.py:293(__new__)\n",
       "    30380    0.006    0.000    0.006    0.000 utils.py:425(__getitem__)\n",
       "     1687    0.005    0.000    0.013    0.000 dataset.py:1201(_level_coords)\n",
       "     6772    0.005    0.000    0.007    0.000 <frozen importlib._bootstrap>:416(parent)\n",
       "    25314    0.005    0.000    0.005    0.000 coordinates.py:197(_names)\n",
       "     1688    0.005    0.000    0.026    0.000 indexing.py:1396(__init__)\n",
       "     6752    0.004    0.000    0.006    0.000 _collections_abc.py:676(items)\n",
       "    11817    0.004    0.000    0.011    0.000 utils.py:428(__iter__)\n",
       "     1687    0.004    0.000    0.009    0.000 range.py:134(_simple_new)\n",
       "15238/10164    0.004    0.000    0.006    0.000 {built-in method builtins.len}\n",
       "15193/13505    0.004    0.000    0.008    0.000 {built-in method builtins.iter}\n",
       "     1688    0.004    0.000    0.049    0.000 variable.py:2405(__init__)\n",
       "     5061    0.004    0.000    0.004    0.000 range.py:320(dtype)\n",
       "    21944    0.004    0.000    0.004    0.000 utils.py:422(__init__)\n",
       "     1687    0.003    0.000    0.274    0.000 dataset.py:1298(<dictcomp>)\n",
       "     1688    0.003    0.000    0.003    0.000 {built-in method builtins.sorted}\n",
       "     1692    0.003    0.000    0.008    0.000 variable.py:556(_parse_dimensions)\n",
       "     8459    0.003    0.000    0.013    0.000 <frozen importlib._bootstrap>:997(_handle_fromlist)\n",
       "     3380    0.003    0.000    0.003    0.000 {built-in method builtins.getattr}\n",
       "     1687    0.003    0.000    0.313    0.000 dataset.py:1287(_attr_sources)\n",
       "     1692    0.003    0.000    0.042    0.000 variable.py:308(__init__)\n",
       "     1689    0.003    0.000    0.007    0.000 dataset.py:1474(data_vars)\n",
       "     1687    0.002    0.000    0.012    0.000 range.py:116(from_range)\n",
       "     6772    0.002    0.000    0.002    0.000 {method 'rpartition' of 'str' objects}\n",
       "     3386    0.002    0.000    0.008    0.000 utils.py:532(ndim)\n",
       "     1687    0.002    0.000    0.076    0.000 dataset.py:422(__getitem__)\n",
       "     1692    0.002    0.000    0.028    0.000 variable.py:165(_maybe_wrap_data)\n",
       "     5066    0.002    0.000    0.007    0.000 utils.py:238(is_dict_like)\n",
       "     5063    0.002    0.000    0.003    0.000 utils.py:634(hashable)\n",
       "     5063    0.002    0.000    0.002    0.000 dataset.py:1275(<dictcomp>)\n",
       "     1692    0.002    0.000    0.031    0.000 variable.py:187(as_compatible_data)\n",
       "     1687    0.002    0.000    0.003    0.000 base.py:1182(name)\n",
       "     1684    0.002    0.000    0.546    0.000 {method 'sum' of 'numpy.ndarray' objects}\n",
       "    10154    0.002    0.000    0.002    0.000 variable.py:547(dims)\n",
       "     8440    0.002    0.000    0.002    0.000 {built-in method builtins.hash}\n",
       "     3374    0.002    0.000    0.004    0.000 base.py:5659(maybe_extract_name)\n",
       "     3395    0.002    0.000    0.006    0.000 variable.py:341(shape)\n",
       "     1685    0.002    0.000    0.004    0.000 dataarray.py:616(data)\n",
       "     5061    0.002    0.000    0.002    0.000 range.py:687(__len__)\n",
       "     1691    0.002    0.000    0.002    0.000 dataset.py:1460(indexes)\n",
       "     1689    0.002    0.000    0.017    0.000 utils.py:87(safe_cast_to_index)\n",
       "     6751    0.001    0.000    0.001    0.000 coordinates.py:194(__init__)\n",
       "     6753    0.001    0.000    0.001    0.000 _collections_abc.py:698(__init__)\n",
       "     3385    0.001    0.000    0.004    0.000 indexing.py:1426(shape)\n",
       "     3377    0.001    0.000    0.002    0.000 inference.py:322(is_hashable)\n",
       "     1690    0.001    0.000    0.001    0.000 utils.py:434(__contains__)\n",
       "     1687    0.001    0.000    0.003    0.000 generic.py:10(_check)\n",
       "     1688    0.001    0.000    0.004    0.000 utils.py:465(__iter__)\n",
       "     1685    0.001    0.000    0.002    0.000 variable.py:356(data)\n",
       "     1684    0.001    0.000    0.544    0.000 _methods.py:45(_sum)\n",
       "     1685    0.001    0.000    0.001    0.000 utils.py:250(is_duck_array)\n",
       "     1690    0.001    0.000    0.001    0.000 base.py:544(_reset_identity)\n",
       "     3376    0.001    0.000    0.001    0.000 utils.py:453(__init__)\n",
       "     5084    0.001    0.000    0.001    0.000 {method 'items' of 'dict' objects}\n",
       "     1687    0.001    0.000    0.001    0.000 utils.py:303(is_valid_numpy_dtype)\n",
       "     1695    0.001    0.000    0.001    0.000 contextlib.py:239(__init__)\n",
       "     1689    0.001    0.000    0.001    0.000 dataset.py:406(__init__)\n",
       "     1687    0.001    0.000    0.001    0.000 indexes.py:54(__iter__)\n",
       "     1688    0.001    0.000    0.001    0.000 dataset.py:665(attrs)\n",
       "     1691    0.000    0.000    0.000    0.000 indexes.py:44(__init__)\n",
       "     1687    0.000    0.000    0.000    0.000 utils.py:472(__contains__)\n",
       "     1689    0.000    0.000    0.000    0.000 coordinates.py:337(__init__)\n",
       "     1687    0.000    0.000    0.000    0.000 numeric.py:81(_validate_dtype)\n",
       "     1693    0.000    0.000    0.000    0.000 indexes.py:63(__getitem__)\n",
       "     1698    0.000    0.000    0.000    0.000 dataarray.py:588(variable)\n",
       "     1695    0.000    0.000    0.000    0.000 contextlib.py:245(__exit__)\n",
       "     1688    0.000    0.000    0.000    0.000 utils.py:456(__getitem__)\n",
       "     1695    0.000    0.000    0.000    0.000 contextlib.py:242(__enter__)\n",
       "     1687    0.000    0.000    0.000    0.000 typing.py:1428(cast)\n",
       "        1    0.000    0.000    0.000    0.000 alignment.py:74(align)\n",
       "      3/1    0.000    0.000    0.000    0.000 {built-in method numpy.core._multiarray_umath.implement_array_function}\n",
       "        1    0.000    0.000    1.675    1.675 {built-in method builtins.exec}\n",
       "        1    0.000    0.000    0.000    0.000 alignment.py:362(deep_align)\n",
       "        1    0.000    0.000    0.001    0.001 merge.py:537(merge_core)\n",
       "        4    0.000    0.000    0.000    0.000 dataarray.py:683(_getitem_coord)\n",
       "        2    0.000    0.000    0.000    0.000 merge.py:239(collect_variables_and_indexes)\n",
       "        8    0.000    0.000    0.000    0.000 abc.py:194(__subclasscheck__)\n",
       "        5    0.000    0.000    0.000    0.000 alignment.py:440(<genexpr>)\n",
       "       25    0.000    0.000    0.000    0.000 _weakrefset.py:70(__contains__)\n",
       "        1    0.000    0.000    0.001    0.001 merge.py:908(dataset_update_method)\n",
       "        1    0.000    0.000    0.000    0.000 variable.py:2707(assert_unique_multiindex_level_names)\n",
       "        9    0.000    0.000    0.000    0.000 {pandas._libs.lib.is_list_like}\n",
       "       16    0.000    0.000    0.000    0.000 {built-in method builtins.issubclass}\n",
       "        2    0.000    0.000    0.000    0.000 variable.py:955(_replace)\n",
       "        3    0.000    0.000    0.000    0.000 base.py:1246(set_names)\n",
       "        1    0.000    0.000    0.000    0.000 merge.py:332(determine_coords)\n",
       "        2    0.000    0.000    0.000    0.000 variable.py:84(as_variable)\n",
       "        8    0.000    0.000    0.000    0.000 typing.py:1144(__subclasscheck__)\n",
       "        9    0.000    0.000    0.000    0.000 copy.py:66(copy)\n",
       "        2    0.000    0.000    0.000    0.000 dataset.py:972(_replace)\n",
       "        2    0.000    0.000    0.000    0.000 merge.py:163(merge_collected)\n",
       "        2    0.000    0.000    0.000    0.000 dataarray.py:436(_replace_maybe_drop_dims)\n",
       "        1    0.000    0.000    0.001    0.001 dataset.py:3760(update)\n",
       "        1    0.000    0.000    0.000    0.000 dataset.py:187(calculate_dimensions)\n",
       "        2    0.000    0.000    0.000    0.000 dataarray.py:728(_item_sources)\n",
       "        4    0.000    0.000    0.000    0.000 dataarray.py:772(coords)\n",
       "        3    0.000    0.000    0.000    0.000 base.py:498(_shallow_copy)\n",
       "       13    0.000    0.000    0.000    0.000 base.py:567(__len__)\n",
       "        3    0.000    0.000    0.000    0.000 base.py:1216(_set_names)\n",
       "        1    0.000    0.000    0.000    0.000 dataset.py:946(_construct_direct)\n",
       "        1    0.000    0.000    0.000    0.000 <string>:35(_asdict)\n",
       "        3    0.000    0.000    0.000    0.000 variable.py:2575(level_names)\n",
       "        3    0.000    0.000    0.000    0.000 numeric.py:105(_shallow_copy)\n",
       "        2    0.000    0.000    0.000    0.000 {method 'format' of 'str' objects}\n",
       "        3    0.000    0.000    0.000    0.000 _collections_abc.py:657(get)\n",
       "        3    0.000    0.000    0.000    0.000 _collections_abc.py:760(__iter__)\n",
       "        4    0.000    0.000    0.000    0.000 coordinates.py:282(__getitem__)\n",
       "        1    0.000    0.000    0.000    0.000 dataset.py:1075(copy)\n",
       "        1    0.000    0.000    0.000    0.000 merge.py:370(coerce_pandas_values)\n",
       "        3    0.000    0.000    0.000    0.000 variable.py:2557(to_index)\n",
       "        6    0.000    0.000    0.000    0.000 dataarray.py:644(dims)\n",
       "        2    0.000    0.000    0.000    0.000 dataarray.py:668(_level_coords)\n",
       "        2    0.000    0.000    0.000    0.000 dataarray.py:723(_attr_sources)\n",
       "        3    0.000    0.000    0.000    0.000 base.py:463(_simple_new)\n",
       "        1    0.000    0.000    0.000    0.000 numeric.py:75(zeros_like)\n",
       "        9    0.000    0.000    0.000    0.000 abc.py:178(__instancecheck__)\n",
       "        6    0.000    0.000    0.000    0.000 dataset.py:411(<genexpr>)\n",
       "        3    0.000    0.000    0.000    0.000 merge.py:153(_assert_compat_valid)\n",
       "        2    0.000    0.000    0.000    0.000 variable.py:874(copy)\n",
       "        1    0.000    0.000    0.000    0.000 variable.py:2500(copy)\n",
       "        2    0.000    0.000    0.000    0.000 dataarray.py:421(_replace)\n",
       "        2    0.000    0.000    0.000    0.000 dataarray.py:733(<dictcomp>)\n",
       "        1    0.000    0.000    0.000    0.000 <__array_function__ internals>:2(zeros_like)\n",
       "        4    0.000    0.000    0.000    0.000 {built-in method numpy.array}\n",
       "        8    0.000    0.000    0.000    0.000 typing.py:1018(_abc_negative_cache)\n",
       "        1    0.000    0.000    0.000    0.000 dataset.py:1174(<dictcomp>)\n",
       "        4    0.000    0.000    0.000    0.000 merge.py:199(<listcomp>)\n",
       "        5    0.000    0.000    0.000    0.000 merge.py:256(append)\n",
       "        1    0.000    0.000    0.000    0.000 merge.py:260(append_all)\n",
       "        1    0.000    0.000    0.000    0.000 merge.py:403(_get_priority_vars_and_indexes)\n",
       "        3    0.000    0.000    0.000    0.000 variable.py:2593(name)\n",
       "        1    0.000    0.000    0.000    0.000 alignment.py:33(_get_joiner)\n",
       "        1    0.000    0.000    0.000    0.000 {built-in method numpy.zeros}\n",
       "        8    0.000    0.000    0.000    0.000 typing.py:1032(_abc_negative_cache_version)\n",
       "       14    0.000    0.000    0.000    0.000 {method 'append' of 'list' objects}\n",
       "        6    0.000    0.000    0.000    0.000 {method 'copy' of 'dict' objects}\n",
       "        1    0.000    0.000    0.000    0.000 dataset.py:683(encoding)\n",
       "        3    0.000    0.000    0.000    0.000 merge.py:80(unique_variable)\n",
       "        1    0.000    0.000    0.000    0.000 merge.py:618(<listcomp>)\n",
       "        1    0.000    0.000    0.000    0.000 common.py:130(__array__)\n",
       "        1    0.000    0.000    0.000    0.000 dataarray.py:625(values)\n",
       "        2    0.000    0.000    0.000    0.000 dataarray.py:745(attrs)\n",
       "        2    0.000    0.000    0.000    0.000 alignment.py:306(<genexpr>)\n",
       "        3    0.000    0.000    0.000    0.000 base.py:3873(_values)\n",
       "        1    0.000    0.000    0.000    0.000 base.py:520(is_)\n",
       "        3    0.000    0.000    0.000    0.000 base.py:1378(nlevels)\n",
       "        1    0.000    0.000    1.675    1.675 <string>:1(<module>)\n",
       "        4    0.000    0.000    0.000    0.000 _asarray.py:14(asarray)\n",
       "        1    0.000    0.000    0.000    0.000 <__array_function__ internals>:2(copyto)\n",
       "       10    0.000    0.000    0.000    0.000 {method 'get' of 'dict' objects}\n",
       "        1    0.000    0.000    0.000    0.000 {method 'intersection' of 'set' objects}\n",
       "        2    0.000    0.000    0.000    0.000 {method 'update' of 'set' objects}\n",
       "        2    0.000    0.000    0.000    0.000 {built-in method builtins.all}\n",
       "        1    0.000    0.000    0.000    0.000 {built-in method builtins.any}\n",
       "        1    0.000    0.000    0.000    0.000 _collections_abc.py:680(values)\n",
       "        4    0.000    0.000    0.000    0.000 coordinates.py:271(__init__)\n",
       "        2    0.000    0.000    0.000    0.000 coordinates.py:340(__getitem__)\n",
       "        1    0.000    0.000    0.000    0.000 dataset.py:195(<setcomp>)\n",
       "        2    0.000    0.000    0.000    0.000 dataset.py:409(__iter__)\n",
       "        1    0.000    0.000    0.000    0.000 dataset.py:1314(__iter__)\n",
       "        1    0.000    0.000    0.000    0.000 indexes.py:57(__len__)\n",
       "        1    0.000    0.000    0.000    0.000 indexes.py:60(__contains__)\n",
       "        1    0.000    0.000    0.000    0.000 merge.py:495(merge_attrs)\n",
       "        1    0.000    0.000    0.000    0.000 indexing.py:1477(copy)\n",
       "        1    0.000    0.000    0.000    0.000 variable.py:509(values)\n",
       "        2    0.000    0.000    0.000    0.000 variable.py:849(attrs)\n",
       "        2    0.000    0.000    0.000    0.000 variable.py:856(attrs)\n",
       "        1    0.000    0.000    0.000    0.000 variable.py:867(encoding)\n",
       "        1    0.000    0.000    0.000    0.000 alignment.py:348(<dictcomp>)\n",
       "        3    0.000    0.000    0.000    0.000 alignment.py:381(is_alignable)\n",
       "        1    0.000    0.000    0.000    0.000 utils.py:39(_check_inplace)\n",
       "        1    0.000    0.000    0.000    0.000 base.py:4199(equals)\n",
       "        3    0.000    0.000    0.000    0.000 base.py:1175(name)\n",
       "        1    0.000    0.000    0.000    0.000 multiarray.py:1043(copyto)\n",
       "        1    0.000    0.000    0.000    0.000 <__array_function__ internals>:2(empty_like)\n",
       "        1    0.000    0.000    0.000    0.000 multiarray.py:75(empty_like)\n",
       "        1    0.000    0.000    0.000    0.000 {method 'disable' of '_lsprof.Profiler' objects}\n",
       "        5    0.000    0.000    0.000    0.000 {method 'setdefault' of 'dict' objects}\n",
       "        2    0.000    0.000    0.000    0.000 {method 'add' of 'set' objects}\n",
       "        2    0.000    0.000    0.000    0.000 {method 'split' of 'str' objects}\n",
       "        1    0.000    0.000    0.000    0.000 dataset.py:676(encoding)\n",
       "        1    0.000    0.000    0.000    0.000 dataset.py:699(sizes)\n",
       "        3    0.000    0.000    0.000    0.000 merge.py:227(<listcomp>)\n",
       "        1    0.000    0.000    0.000    0.000 <string>:12(__new__)\n",
       "        1    0.000    0.000    0.000    0.000 variable.py:257(_as_array_or_item)\n",
       "        1    0.000    0.000    0.000    0.000 variable.py:2551(to_index_variable)\n",
       "        1    0.000    0.000    0.000    0.000 variable.py:2729(<listcomp>)\n",
       "        4    0.000    0.000    0.000    0.000 dataarray.py:597(shape)\n",
       "        1    0.000    0.000    0.000    0.000 numeric.py:71(_zeros_like_dispatcher)\n",
       "        8    0.000    0.000    0.000    0.000 typing.py:1155(__instancecheck__)\n",
       "        5    0.000    0.000    0.000    0.000 copy.py:111(_copy_immutable)\n",
       "        2    0.000    0.000    0.000    0.000 {method 'values' of 'dict' objects}\n",
       "        1    0.000    0.000    0.000    0.000 {method 'copy' of 'set' objects}"
      ]
     },
     "metadata": {},
     "output_type": "display_data"
    }
   ],
   "source": [
    "xarr = XArray( N=int(2e4), h=.2, dim=2, W=CSplineNB )\n",
    "%prun xarr.rho()"
   ]
  },
  {
   "cell_type": "code",
   "execution_count": 304,
   "metadata": {},
   "outputs": [
    {
     "name": "stdout",
     "output_type": "stream",
     "text": [
      "<xarray.Dataset>\n",
      "Dimensions:    (a: 20000, i: 2)\n",
      "Coordinates:\n",
      "  * a          (a) int64 1175 758 659 808 667 1084 ... 1304 892 942 991 1127 661\n",
      "Dimensions without coordinates: i\n",
      "Data variables:\n",
      "    positions  (a, i) float64 0.9806 0.309 -0.8735 ... -0.1267 -1.381 -1.234\n",
      "    weights    (a) float64 1.0 1.0 1.0 1.0 1.0 1.0 ... 1.0 1.0 1.0 1.0 1.0 1.0\n",
      "    rho        (a) float64 6.363e+03 7.12e+03 1.198e+03 ... 8.143e+03 2.176e+03\n"
     ]
    }
   ],
   "source": [
    "print( xarr )"
   ]
  },
  {
   "cell_type": "code",
   "execution_count": 32,
   "metadata": {},
   "outputs": [
    {
     "data": {
      "text/plain": [
       "dict_items([(37, [82]), (57, [134]), (59, [5, 852]), (60, [673, 722]), (61, [872]), (62, [333]), (71, [778]), (73, [396]), (74, [237]), (75, [194, 442, 548]), (76, [63, 95, 743, 825]), (77, [343, 441, 558, 874, 928, 962, 965]), (78, [48, 995]), (80, [732]), (89, [692]), (90, [860, 985]), (91, [7, 805, 846, 976]), (92, [89, 180, 304, 345, 468, 476, 550, 554, 980]), (93, [20, 24, 141, 149, 320, 648, 907]), (94, [77, 115, 140, 745]), (95, [220, 381, 701]), (96, [18, 120, 761, 782, 871]), (97, [151]), (106, [355, 695]), (107, [92, 102, 794, 909, 993]), (108, [84, 192, 248, 330, 521, 565, 595, 668, 905, 927]), (109, [26, 57, 214, 293, 336, 384, 477, 571, 629, 699, 767, 775, 917, 943]), (110, [66, 105, 216, 279, 298, 368, 454, 581, 587, 641, 665, 705, 786, 845]), (111, [139, 231, 258, 327, 331, 388, 638, 774, 788, 881]), (112, [191, 326, 511, 631, 643, 649, 944, 949]), (113, [125, 166, 183, 312, 424, 502, 566, 640, 829, 896]), (114, [173, 429, 486, 903]), (115, [394]), (116, [70]), (121, [49]), (122, [79, 362, 498, 858]), (123, [335, 713, 819]), (124, [9, 273, 437, 500, 590, 634, 720, 727]), (125, [103, 225, 236, 334, 433, 458, 578, 686, 752, 895]), (126, [112, 226, 260, 297, 323, 339, 352, 390, 404, 412, 426, 488, 517, 527, 594, 679, 685, 691, 706, 744, 866, 894, 918, 968]), (127, [32, 43, 100, 204, 229, 257, 259, 276, 414, 472, 499, 508, 537, 547, 559, 617, 619, 625, 644, 661, 804, 831, 952, 988]), (128, [21, 34, 75, 99, 101, 127, 150, 156, 176, 265, 313, 401, 434, 451, 455, 501, 528, 592, 622, 680, 681, 696, 710, 739, 793, 834, 904, 983]), (129, [44, 133, 145, 160, 350, 357, 389, 397, 439, 490, 529, 584, 598, 667, 787, 799, 803, 808, 811, 851, 857, 906, 913, 946, 959, 964, 966]), (130, [1, 90, 200, 242, 263, 341, 421, 483, 492, 533, 534, 618, 670, 854, 911, 940]), (131, [286, 470, 503, 900, 996]), (132, [240, 400, 546]), (133, [487]), (138, [246]), (139, [288, 822]), (140, [69, 329, 612, 790]), (141, [96, 280, 310, 623, 813]), (142, [111, 132, 142, 144, 155, 189, 364, 479, 613, 750, 758]), (143, [55, 61, 67, 80, 138, 143, 184, 195, 208, 228, 244, 294, 306, 374, 375, 406, 408, 475, 478, 507, 560, 561, 633, 664, 683, 684, 718, 754, 802, 812, 844, 887]), (144, [37, 38, 51, 74, 118, 124, 186, 199, 272, 303, 322, 325, 356, 363, 377, 410, 425, 513, 540, 541, 549, 570, 621, 639, 645, 693, 707, 709, 765, 781, 789, 818, 912, 915, 916, 929, 930, 937, 955]), (145, [12, 86, 174, 207, 213, 224, 275, 285, 289, 316, 317, 321, 376, 411, 456, 462, 480, 545, 572, 588, 637, 647, 676, 688, 714, 769, 810, 828, 832, 836, 839, 850, 863, 878, 947, 960, 974, 981, 992]), (146, [25, 45, 106, 117, 131, 164, 187, 202, 270, 359, 379, 459, 469, 471, 497, 526, 555, 557, 603, 604, 607, 703, 728, 764, 796, 864, 891, 922, 924, 942, 951, 970]), (147, [2, 13, 146, 185, 206, 256, 287, 309, 360, 373, 418, 420, 430, 453, 518, 624, 723, 807, 814, 827, 986]), (148, [83, 167, 230, 251, 264, 340, 536, 562, 614, 815, 939]), (149, [130, 971]), (150, [574, 662]), (156, [153]), (157, [15, 367]), (158, [6, 338, 463, 481, 585, 642, 849, 987]), (159, [42, 209, 238, 250, 262, 347, 370, 385, 431, 445, 473, 491, 605, 615, 652, 736, 747, 768, 876, 938, 978, 984]), (160, [3, 41, 46, 56, 68, 169, 232, 247, 324, 366, 371, 402, 432, 444, 466, 482, 505, 512, 551, 569, 616, 635, 702, 741, 757, 798, 801, 830, 838, 867, 882, 892]), (161, [17, 53, 81, 87, 129, 135, 158, 168, 170, 227, 266, 268, 302, 348, 382, 461, 493, 510, 532, 577, 591, 601, 609, 620, 715, 733, 735, 738, 746, 762, 777, 809, 847, 890, 919, 935, 936, 991]), (162, [11, 36, 109, 110, 172, 182, 201, 223, 267, 269, 274, 358, 393, 438, 450, 484, 485, 514, 535, 542, 575, 636, 650, 663, 689, 704, 729, 784, 837, 859, 879, 901, 931, 948, 969, 973]), (163, [22, 28, 123, 157, 188, 221, 235, 307, 351, 365, 403, 405, 419, 544, 655, 671, 711, 833, 840, 843, 898, 899, 934, 958, 999]), (164, [72, 147, 154, 193, 205, 277, 315, 318, 398, 416, 474, 525, 608, 659, 678]), (165, [35, 107, 113, 203, 443, 495, 597, 630, 651, 682, 737, 740, 742, 772, 800, 925]), (166, [27, 378, 413, 573, 675, 817, 884]), (167, [219]), (172, [766]), (174, [656]), (175, [85, 210, 328, 539, 626, 753, 975]), (176, [14, 76, 217, 254, 346, 423, 457, 460, 725, 749, 862, 886]), (177, [108, 243, 369, 415, 449, 524, 632, 687, 700, 734, 760, 779, 869, 873, 877, 897, 926]), (178, [29, 64, 65, 88, 91, 104, 175, 196, 212, 271, 281, 295, 427, 436, 448, 494, 509, 579, 593, 599, 712, 724, 748, 756, 816, 856, 865, 870, 956, 982, 989]), (179, [60, 98, 122, 128, 162, 171, 179, 190, 215, 234, 299, 305, 337, 383, 399, 543, 553, 580, 606, 669, 672, 698, 797, 855, 861, 883, 889, 910, 933, 972, 998]), (180, [8, 16, 39, 52, 73, 93, 114, 148, 163, 165, 177, 222, 233, 252, 278, 283, 290, 311, 372, 496, 515, 522, 523, 717, 721, 755, 776, 780, 806, 842, 902, 921, 994]), (181, [71, 349, 409, 467, 586, 596, 660, 677, 690, 719, 771, 932]), (182, [30, 504, 792, 824]), (183, [600]), (190, [759]), (191, [875]), (192, [178, 308, 582, 697]), (193, [161, 314, 567, 611, 628, 694]), (194, [0, 116, 249, 354, 387, 489, 506, 552, 773, 868, 880, 953]), (195, [47, 136, 301, 386, 407, 465, 520, 530, 531, 602, 763, 823, 841, 954, 961]), (196, [4, 23, 181, 197, 245, 261, 284, 391, 422, 428, 464, 538, 627, 653, 791, 893, 950, 957]), (197, [332, 395, 564, 576, 646, 708, 730, 783, 835, 888, 914, 920, 979]), (198, [253, 361, 380, 589, 658, 826, 853, 990, 997]), (199, [10, 59, 770, 885]), (207, [344]), (208, [923, 967]), (209, [54, 435, 820, 821]), (210, [19, 40, 152, 296, 392, 446, 977]), (211, [563, 963]), (212, [239, 342, 516, 657, 674, 751, 908]), (213, [33, 50, 218, 241, 353, 447, 654, 795, 941, 945]), (214, [31, 94, 119, 255, 440, 666, 785]), (215, [556, 726]), (216, [282]), (218, [452]), (226, [121]), (228, [58, 198]), (229, [292, 610]), (230, [211, 319, 583]), (231, [62, 97, 159, 291, 716, 731, 848]), (233, [417]), (247, [300, 519]), (248, [137]), (249, [78]), (261, [568]), (262, [126])])"
      ]
     },
     "execution_count": 32,
     "metadata": {},
     "output_type": "execute_result"
    }
   ],
   "source": [
    "digitized, shape = digitize_dd( ds.positions.data, h, 2 )\n",
    "# print( digitized.shape, amin(digitized, axis=0), amax(digitized, axis=0) )\n",
    "flat = flatten( digitized, shape )\n",
    "# print( flat[:10] )\n",
    "ds.coords['a'] = flat\n",
    "grouped = ds.groupby('a')\n",
    "occupants = grouped.groups\n",
    "occupants.items()"
   ]
  },
  {
   "cell_type": "code",
   "execution_count": 44,
   "metadata": {},
   "outputs": [
    {
     "data": {
      "text/plain": [
       "<matplotlib.collections.PathCollection at 0x7f27156f4b38>"
      ]
     },
     "execution_count": 44,
     "metadata": {},
     "output_type": "execute_result"
    },
    {
     "data": {
      "image/png": "[encoded data removed]",
      "text/plain": [
       "<Figure size 720x720 with 1 Axes>"
      ]
     },
     "metadata": {
      "needs_background": "light"
     },
     "output_type": "display_data"
    }
   ],
   "source": [
    "# print( grouped.groups )\n",
    "# print( occupants[150] )\n",
    "# print( ds.positions[occupants[150]] )\n",
    "\n",
    "border = 2\n",
    "center = array([border]*len(shape))\n",
    "# print( center )\n",
    "unfolded_shifts = flatten( shifts(center, border), shape).flatten() - flatten(center, shape).flatten()[0]\n",
    "# print( unfolded_shifts )\n",
    "neighbors = {}\n",
    "\n",
    "[ neighbors.setdefault(ptr + offset, []).extend( indices ) for ptr, indices in occupants.items() for offset in unfolded_shifts ]\n",
    "\n",
    "ax = plt.figure(figsize=(10,10)).subplots()\n",
    "ax.scatter( *ds.positions.transpose(\"i\", \"a\"), s=1)\n",
    "n = 60\n",
    "key = list(occupants.keys())[n]\n",
    "mean_ = ds.positions.mean('a')\n",
    "ticks = floor((ds.positions - ds.positions.mean('a'))/h).data.astype(int)\n",
    "# print(\"ticks\", ticks[:,0])\n",
    "ax.set_xticks(arange( ticks[:,0].min()*h, (ticks[:,0].max()+1)*h, h))\n",
    "ax.set_yticks(arange( ticks[:,1].min()*h, (ticks[:,1].max()+1)*h, h))\n",
    "ax.grid()\n",
    "ax.scatter( *ds.positions[ neighbors[key] ].transpose(\"i\",\"a\"), s=2, c='black' )\n",
    "ax.scatter( *ds.positions[ occupants[key] ].transpose(\"i\",\"a\"), s=4, c='red' )\n"
   ]
  },
  {
   "cell_type": "code",
   "execution_count": null,
   "metadata": {},
   "outputs": [],
   "source": [
    "dists = sqrt( ((positions - positions.rename({\"a\":\"b\"}))**2).sum('i') )\n",
    "# dists\n",
    "kernels = vW(dists/h)\n",
    "print( kernels, type(kernels) )\n"
   ]
  },
  {
   "cell_type": "code",
   "execution_count": 1041,
   "metadata": {},
   "outputs": [
    {
     "data": {
      "text/plain": [
       "<matplotlib.collections.PathCollection at 0x7f38f0f5b400>"
      ]
     },
     "execution_count": 1041,
     "metadata": {},
     "output_type": "execute_result"
    },
    {
     "data": {
      "image/png": "[encoded data removed]",
      "text/plain": [
       "<Figure size 432x288 with 1 Axes>"
      ]
     },
     "metadata": {
      "needs_background": "light"
     },
     "output_type": "display_data"
    }
   ],
   "source": [
    "rho = xr.apply_ufunc( vW, dists/h ).sum('b')\n"
   ]
  },
  {
   "cell_type": "code",
   "execution_count": 1043,
   "metadata": {},
   "outputs": [
    {
     "data": {
      "text/plain": [
       "<matplotlib.collections.PathCollection at 0x7f38f0ea8898>"
      ]
     },
     "execution_count": 1043,
     "metadata": {},
     "output_type": "execute_result"
    },
    {
     "data": {
      "image/png": "[encoded data removed]",
      "text/plain": [
       "<Figure size 432x288 with 1 Axes>"
      ]
     },
     "metadata": {
      "needs_background": "light"
     },
     "output_type": "display_data"
    }
   ],
   "source": [
    "plt.scatter( positions.loc[:,\"x\"], positions.loc[:,\"y\"], c=rho )"
   ]
  },
  {
   "cell_type": "markdown",
   "metadata": {},
   "source": [
    "## Vector class"
   ]
  },
  {
   "cell_type": "code",
   "execution_count": 205,
   "metadata": {},
   "outputs": [],
   "source": [
    "class Vector(ndarray):\n",
    "    def __new__(cls, arr):\n",
    "        return asarray(arr).view(cls)\n",
    "    \n",
    "    def __finalaize_array__(self, obj):\n",
    "        if obj is None: return\n",
    "        return\n",
    "    \n",
    "    @property\n",
    "    def dim(self):\n",
    "        return len(self.shape)\n",
    "    \n",
    "    def __abs__(self):\n",
    "        return sqrt( tensordot(self, self, axes=(-1, -1)))\n",
    "    \n"
   ]
  },
  {
   "cell_type": "code",
   "execution_count": 206,
   "metadata": {},
   "outputs": [
    {
     "data": {
      "text/plain": [
       "2.8284271247461903"
      ]
     },
     "execution_count": 206,
     "metadata": {},
     "output_type": "execute_result"
    }
   ],
   "source": [
    "a = Vector([2,2])\n",
    "abs(a)"
   ]
  },
  {
   "cell_type": "code",
   "execution_count": 299,
   "metadata": {},
   "outputs": [],
   "source": [
    "class VectorArray(ndarray):\n",
    "    def __new__(cls, arr):\n",
    "        return asarray(arr).view(cls)\n",
    "    \n",
    "    def __finalize_array(self, obj):\n",
    "        if obj is None: return None\n",
    "        return\n",
    "    \n",
    "    @property\n",
    "    def dim(self):\n",
    "        return self.shape[-1]\n",
    "    \n",
    "    @property\n",
    "    def N(self):\n",
    "        return self.shape[0]\n",
    "    \n",
    "    def xy(self, transpose=False):\n",
    "        if T:\n",
    "            return tuple(self.T)[::-1]\n",
    "        return tuple(self.T)\n",
    "    \n",
    "    def cross_sub(self, other):\n",
    "        otherslice = [None] + [slice(None)]*len(other.shape)\n",
    "        selfslice = [slice(None)] + [None]*(len(other.shape)-1) + [slice(None)]\n",
    "        return self[tuple(selfslice)] - other[tuple(otherslice)]\n",
    "    \n",
    "    def __abs__(self):\n",
    "        print(\"abs\")\n",
    "        return sqrt( sum( self*self, axis=-1 ) )"
   ]
  },
  {
   "cell_type": "code",
   "execution_count": 28,
   "metadata": {},
   "outputs": [
    {
     "ename": "NameError",
     "evalue": "name 'VectorArray' is not defined",
     "output_type": "error",
     "traceback": [
      "\u001b[0;31m---------------------------------------------------------------------------\u001b[0m",
      "\u001b[0;31mNameError\u001b[0m                                 Traceback (most recent call last)",
      "\u001b[0;32m<ipython-input-28-831a3ca82166>\u001b[0m in \u001b[0;36m<module>\u001b[0;34m\u001b[0m\n\u001b[1;32m      1\u001b[0m \u001b[0mN\u001b[0m \u001b[0;34m=\u001b[0m \u001b[0;36m100\u001b[0m\u001b[0;34m\u001b[0m\u001b[0m\n\u001b[1;32m      2\u001b[0m \u001b[0mshape\u001b[0m \u001b[0;34m=\u001b[0m \u001b[0;34m(\u001b[0m\u001b[0mint\u001b[0m\u001b[0;34m(\u001b[0m\u001b[0mN\u001b[0m\u001b[0;34m/\u001b[0m\u001b[0;36m2\u001b[0m\u001b[0;34m)\u001b[0m\u001b[0;34m,\u001b[0m \u001b[0;36m2\u001b[0m\u001b[0;34m)\u001b[0m\u001b[0;34m\u001b[0m\u001b[0m\n\u001b[0;32m----> 3\u001b[0;31m \u001b[0mr\u001b[0m \u001b[0;34m=\u001b[0m \u001b[0mVectorArray\u001b[0m\u001b[0;34m(\u001b[0m \u001b[0mrandom\u001b[0m\u001b[0;34m.\u001b[0m\u001b[0mnormal\u001b[0m\u001b[0;34m(\u001b[0m\u001b[0;36m0\u001b[0m\u001b[0;34m,\u001b[0m \u001b[0;36m1\u001b[0m\u001b[0;34m,\u001b[0m \u001b[0mshape\u001b[0m\u001b[0;34m)\u001b[0m \u001b[0;34m)\u001b[0m\u001b[0;34m\u001b[0m\u001b[0m\n\u001b[0m\u001b[1;32m      4\u001b[0m \u001b[0mprint\u001b[0m\u001b[0;34m(\u001b[0m \u001b[0mr\u001b[0m\u001b[0;34m.\u001b[0m\u001b[0mshape\u001b[0m \u001b[0;34m)\u001b[0m\u001b[0;34m\u001b[0m\u001b[0m\n",
      "\u001b[0;31mNameError\u001b[0m: name 'VectorArray' is not defined"
     ]
    }
   ],
   "source": [
    "N = 100\n",
    "shape = (int(N/2), 2)\n",
    "r = VectorArray( random.normal(0, 1, shape) )\n",
    "print( r.shape )"
   ]
  },
  {
   "cell_type": "code",
   "execution_count": 238,
   "metadata": {},
   "outputs": [
    {
     "name": "stdout",
     "output_type": "stream",
     "text": [
      "abs\n",
      "[[0.         3.59148917 2.81061062 ... 2.52486781 1.85098849 2.61804277]\n",
      " [3.59148917 0.         3.71016908 ... 1.09639498 1.75763937 0.98588448]\n",
      " [2.81061062 3.71016908 0.         ... 2.86838133 2.60618592 3.21491094]\n",
      " ...\n",
      " [2.52486781 1.09639498 2.86838133 ... 0.         0.67427647 0.35965339]\n",
      " [1.85098849 1.75763937 2.60618592 ... 0.67427647 0.         0.83148615]\n",
      " [2.61804277 0.98588448 3.21491094 ... 0.35965339 0.83148615 0.        ]]\n"
     ]
    }
   ],
   "source": [
    "print( abs(r.cross_sub(r)) )"
   ]
  },
  {
   "cell_type": "code",
   "execution_count": 702,
   "metadata": {},
   "outputs": [],
   "source": [
    "class Index:\n",
    "    def __init__(self, name):\n",
    "        self.name = name\n",
    "    \n",
    "    def __repr__(self):\n",
    "        return f\"{self.name}:{self.__class__.__name__}\"\n",
    "    \n",
    "    def __gt__(self, other):\n",
    "        return self.name > other.name\n",
    "    \n",
    "class Particle(Index):\n",
    "    pass\n",
    "    \n",
    "class Space(Index):\n",
    "    pass\n",
    "\n",
    "uniquesorted = lambda l: list(dict.fromkeys(sorted(l)))\n",
    "\n",
    "class Vector:\n",
    "    def __init__(self, arr, sig):\n",
    "        self._arr = asarray(arr)\n",
    "        self._sig = sig\n",
    "    \n",
    "    @property\n",
    "    def signature(self):\n",
    "        return self._sig\n",
    "    \n",
    "    @property\n",
    "    def array(self):\n",
    "        return self._arr\n",
    "    \n",
    "    def __repr__(self):\n",
    "        return f\"({ ', '.join([ f'{s.__name__}:{sh}' for s, sh in zip(self._sig, self._arr.shape) ]) })\\n{self._arr}\" \n",
    "    \n",
    "    def __str__(self):\n",
    "        return self.__repr__()\n",
    "    \n",
    "    def __getitem__(self, inds):\n",
    "        try:\n",
    "            return self._arr[inds]\n",
    "        except IndexError:\n",
    "            for ind, sig in zip(inds, self._sig):\n",
    "                assert isinstance( ind, sig ), f\"{ind} is not instance of {sig}\"\n",
    "            return IndexedVector( self._arr, inds )\n",
    "    \n",
    "    def __setitem__(self, inds, other):\n",
    "        for i, s, o in zip(inds, self._sig, other.signature):\n",
    "            assert isinstance(i, s), f\"{i} is not an instance of {s}\"\n",
    "            assert s == o, f\"{s} is not equal to {o}\"\n",
    "        self.__init__( other._base, other.signature )\n",
    "        \n",
    "class IndexedVector:\n",
    "    def __init__(self, base, inds):\n",
    "        self._base = base\n",
    "        self._inds = inds\n",
    "    \n",
    "    @property\n",
    "    def signature(self):\n",
    "        return tuple( ind.__class__ for ind in self._inds )\n",
    "    \n",
    "    def _combine_indexes(self, other):\n",
    "        return uniquesorted( self._inds + other._inds )\n",
    "\n",
    "    def _get_slices(self, inds):\n",
    "        return tuple( slice(None) if ind in self._inds else None for ind in inds )\n",
    "    \n",
    "    def _sliced_base(self, inds):\n",
    "        return self._base[self._get_slices(inds)]\n",
    "    \n",
    "    def __add__(self, other):\n",
    "        try:\n",
    "            complex(other)\n",
    "            return indexedVector( self._base + other, self._inds )\n",
    "        except TypeError:\n",
    "            inds = self._combine_indexes(other)\n",
    "            return IndexedVector( self._sliced_base(inds) + other._sliced_base(inds), inds )\n",
    "        \n",
    "    def __mul__(self, other):\n",
    "        try:\n",
    "            complex(other)\n",
    "            return IndexedVector( self._base*other, self._inds )\n",
    "        except TypeError:\n",
    "            inds = self._combine_indexes(other)\n",
    "            return IndexedVector( self._sliced_base(inds) * other._sliced_base(inds), inds )\n",
    "    \n",
    "    def __pow__(self, other):\n",
    "        try:\n",
    "            complex(other)\n",
    "            return indexedVector( self._base ** other, self._inds )\n",
    "        except TypeError:\n",
    "            inds = self._combine_indexes(other)\n",
    "            return IndexedVector( self._sliced_base(inds) ** other._sliced_base(inds), inds )\n",
    "\n",
    "    def __truediv__(self, other):\n",
    "        try:\n",
    "            complex(other)\n",
    "            return IndexedVector( self._base/other, self._inds )\n",
    "        except TypeError:\n",
    "            inds = self._combine_indexes(other)\n",
    "            return IndexedVector( self._sliced_base(inds)/other._sliced_base(inds), inds )\n",
    "\n",
    "    def __radd__(self, other):\n",
    "        return IndexedVector.__add__(self, other)\n",
    "    \n",
    "    def __rmul__(self, other):\n",
    "        return IndexedVector.__mul__(self, other)\n",
    "    \n",
    "    def __rtruediv__(self, other):\n",
    "        return IndexedVector.__mul__(self**(-1), other)\n",
    "    \n",
    "    def __neg__(self):\n",
    "        return IndexedVector( -self._base, self._inds )\n",
    "    \n",
    "    def __sub__(self, other):\n",
    "        return self + (-other)\n",
    "        \n",
    "    def sum(self, ind):\n",
    "        axis = self._inds.index(ind)\n",
    "        inds = [ i for i in self._inds if i != ind ]\n",
    "        return IndexedVector( sum( self._base, axis=axis ), inds )\n",
    "        \n",
    "    def __repr__(self):\n",
    "        return f\"{', '.join([ f'{i}' for i, s in zip(self._inds, self.signature)])}\\n{self._base}\"\n",
    "    \n",
    "    def int(self):\n",
    "        return IndexedVector( rint(self._base), self._inds )"
   ]
  },
  {
   "cell_type": "code",
   "execution_count": 703,
   "metadata": {},
   "outputs": [
    {
     "data": {
      "text/plain": [
       "(Particle:2, Space:2)\n",
       "[[1. 2.]\n",
       " [3. 4.]]"
      ]
     },
     "execution_count": 703,
     "metadata": {},
     "output_type": "execute_result"
    }
   ],
   "source": [
    "x = Vector([[1.,2.],[3.,4.]], (Particle, Space))\n",
    "x"
   ]
  },
  {
   "cell_type": "code",
   "execution_count": 704,
   "metadata": {},
   "outputs": [
    {
     "name": "stdout",
     "output_type": "stream",
     "text": [
      "ype ()\n",
      "None <class '__main__.Vector'> <class '__main__.IndexedVector'>\n",
      "y (Particle:2, Particle:2, Space:2)\n",
      "[[[ 0.  0.]\n",
      "  [-2. -2.]]\n",
      "\n",
      " [[ 2.  2.]\n",
      "  [ 0.  0.]]]\n",
      "a:Particle, b:Particle, i:Space\n",
      "[[[ 0.  0.]\n",
      "  [-2. -2.]]\n",
      "\n",
      " [[ 2.  2.]\n",
      "  [ 0.  0.]]]\n",
      "dist a:Particle, b:Particle\n",
      "[[0. 8.]\n",
      " [8. 0.]]\n",
      "*2 a:Particle, b:Particle\n",
      "[[ 0. -8.]\n",
      " [ 8.  0.]]\n",
      "a:Particle, b:Particle\n",
      "[[ 0. -8.]\n",
      " [ 8.  0.]]\n",
      "a:Particle, b:Particle\n",
      "[[ 0. -2.]\n",
      " [ 2.  0.]]\n",
      "a:Particle\n",
      "[1.5        0.58333333]\n"
     ]
    }
   ],
   "source": [
    "i = Space('i')\n",
    "j = Space('j')\n",
    "a = Particle('a')\n",
    "b = Particle('b')\n",
    "y = Vector(None, (Particle, Particle, Space))\n",
    "print( \"ype\", y, type(y), type(y[a,b,i]) )\n",
    "y[a,b,i] = x[a,i] - x[b,i]\n",
    "print( \"y\", y )\n",
    "print( y[a,b,i] )\n",
    "print( \"dist\", (y[a,b,i]*y[a,b,i]).sum(i) )\n",
    "print( \"*2\", (y[a,b,i]*2).sum(i) )\n",
    "print( (2*y[a,b,i]).sum(i) )\n",
    "print( (y[a,b,i]/2).sum(i) )\n",
    "print( (1./x[a,i]).sum(i) )"
   ]
  },
  {
   "cell_type": "code",
   "execution_count": 827,
   "metadata": {},
   "outputs": [],
   "source": [
    "h = .5\n",
    "shape = (1000, 2)\n",
    "r = Vector( random.normal(0, 1, shape), (Particle, Space) )"
   ]
  },
  {
   "cell_type": "code",
   "execution_count": 828,
   "metadata": {},
   "outputs": [
    {
     "name": "stdout",
     "output_type": "stream",
     "text": [
      "a:Particle, i:Space\n",
      "[[ 1.8545541   0.34897795]\n",
      " [ 1.77049507 -1.37472852]\n",
      " [ 2.78285421  1.86520722]\n",
      " ...\n",
      " [ 1.46404155 -0.38591944]\n",
      " [-2.21437782 -0.26885224]\n",
      " [-2.69530897  0.48159079]] [[ 1.  0.]\n",
      " [ 1. -2.]\n",
      " [ 2.  1.]\n",
      " ...\n",
      " [ 1. -1.]\n",
      " [-3. -1.]\n",
      " [-3.  0.]]\n"
     ]
    }
   ],
   "source": [
    "print( (r[a,i]/h), floor(r[a,i]._base/h) )"
   ]
  },
  {
   "cell_type": "code",
   "execution_count": 591,
   "metadata": {},
   "outputs": [
    {
     "ename": "NameError",
     "evalue": "name 'neighbor' is not defined",
     "output_type": "error",
     "traceback": [
      "\u001b[0;31m---------------------------------------------------------------------------\u001b[0m",
      "\u001b[0;31mNameError\u001b[0m                                 Traceback (most recent call last)",
      "\u001b[0;32m<ipython-input-591-81c853a08504>\u001b[0m in \u001b[0;36m<module>\u001b[0;34m\u001b[0m\n\u001b[0;32m----> 1\u001b[0;31m \u001b[0mf\u001b[0m\u001b[0;34m[\u001b[0m\u001b[0ma\u001b[0m\u001b[0;34m]\u001b[0m \u001b[0;34m=\u001b[0m \u001b[0mneighbor\u001b[0m\u001b[0;34m.\u001b[0m\u001b[0msum\u001b[0m\u001b[0;34m[\u001b[0m\u001b[0mb\u001b[0m\u001b[0;34m]\u001b[0m\u001b[0;34m(\u001b[0m \u001b[0mW\u001b[0m\u001b[0;34m(\u001b[0m \u001b[0mr\u001b[0m\u001b[0;34m[\u001b[0m\u001b[0mb\u001b[0m\u001b[0;34m]\u001b[0m \u001b[0;34m-\u001b[0m \u001b[0mr\u001b[0m\u001b[0;34m[\u001b[0m\u001b[0ma\u001b[0m\u001b[0;34m]\u001b[0m\u001b[0;34m,\u001b[0m \u001b[0mh\u001b[0m \u001b[0;34m)\u001b[0m \u001b[0;34m)\u001b[0m\u001b[0;34m\u001b[0m\u001b[0m\n\u001b[0m\u001b[1;32m      2\u001b[0m \u001b[0mg\u001b[0m\u001b[0;34m[\u001b[0m\u001b[0ma\u001b[0m\u001b[0;34m]\u001b[0m \u001b[0;34m=\u001b[0m \u001b[0mneighbor\u001b[0m\u001b[0;34m.\u001b[0m\u001b[0msum\u001b[0m\u001b[0;34m[\u001b[0m\u001b[0mb\u001b[0m\u001b[0;34m]\u001b[0m\u001b[0;34m(\u001b[0m \u001b[0mv\u001b[0m\u001b[0;34m[\u001b[0m\u001b[0mb\u001b[0m\u001b[0;34m]\u001b[0m \u001b[0;34m*\u001b[0m \u001b[0mWp\u001b[0m\u001b[0;34m(\u001b[0m \u001b[0mr\u001b[0m\u001b[0;34m[\u001b[0m\u001b[0ma\u001b[0m\u001b[0;34m]\u001b[0m \u001b[0;34m-\u001b[0m \u001b[0mr\u001b[0m\u001b[0;34m[\u001b[0m\u001b[0mb\u001b[0m\u001b[0;34m]\u001b[0m\u001b[0;34m,\u001b[0m \u001b[0mh\u001b[0m \u001b[0;34m)\u001b[0m \u001b[0;34m)\u001b[0m\u001b[0;34m\u001b[0m\u001b[0m\n",
      "\u001b[0;31mNameError\u001b[0m: name 'neighbor' is not defined"
     ]
    }
   ],
   "source": [
    "f[a] = neighbor.sum[b]( W( r[b] - r[a], h ) )\n",
    "g[a] = neighbor.sum[b]( v[b] * Wp( r[a] - r[b], h ) )"
   ]
  },
  {
   "cell_type": "markdown",
   "metadata": {},
   "source": [
    "# Testing cppyy"
   ]
  },
  {
   "cell_type": "code",
   "execution_count": 13,
   "metadata": {},
   "outputs": [
    {
     "name": "stdout",
     "output_type": "stream",
     "text": [
      "Defaulting to user installation because normal site-packages is not writeable\n",
      "Requirement already satisfied: pip in /home/mota/.local/lib/python3.6/site-packages (21.1.1)\n",
      "Requirement already satisfied: cppyy in /home/mota/.local/lib/python3.6/site-packages (1.9.6)\n",
      "Requirement already satisfied: cppyy-backend==1.14.4 in /home/mota/.local/lib/python3.6/site-packages (from cppyy) (1.14.4)\n",
      "Requirement already satisfied: cppyy-cling==6.21.7 in /home/mota/.local/lib/python3.6/site-packages (from cppyy) (6.21.7)\n",
      "Requirement already satisfied: CPyCppyy==1.12.5 in /home/mota/.local/lib/python3.6/site-packages (from cppyy) (1.12.5)\n"
     ]
    }
   ],
   "source": [
    "!python3 -m pip install --upgrade pip\n",
    "!pip3 install cppyy --user"
   ]
  },
  {
   "cell_type": "code",
   "execution_count": 11,
   "metadata": {},
   "outputs": [
    {
     "name": "stdout",
     "output_type": "stream",
     "text": [
      "-O2 -mavx\n"
     ]
    }
   ],
   "source": [
    "!export EXTRA_CLING_ARGS='-O2 -std=c++11'\n",
    "!echo $EXTRA_CLING_ARGS"
   ]
  },
  {
   "cell_type": "code",
   "execution_count": 2,
   "metadata": {},
   "outputs": [],
   "source": [
    "# import os\n",
    "# print( os.environ.get(\"EXTRA_CLING_ARGS\") )\n",
    "# os.environ[\"EXTRA_CLING_ARGS\"] = \"-std=c++11 -O2\"\n",
    "# print( os.environ.get(\"EXTRA_CLING_ARGS\") )\n",
    "import cppyy"
   ]
  },
  {
   "cell_type": "code",
   "execution_count": 3,
   "metadata": {},
   "outputs": [
    {
     "name": "stdout",
     "output_type": "stream",
     "text": [
      "hey\n"
     ]
    }
   ],
   "source": [
    "print( \"hey\" )"
   ]
  },
  {
   "cell_type": "code",
   "execution_count": 1,
   "metadata": {},
   "outputs": [
    {
     "name": "stdout",
     "output_type": "stream",
     "text": [
      "['__all__', '__author__', '__builtins__', '__cached__', '__doc__', '__file__', '__loader__', '__name__', '__package__', '__path__', '__spec__', '__version__', '_backend', '_begin_capture_stderr', '_cpython_cppyy', '_end_capture_stderr', '_get_name', '_pythonization', '_sizes', '_standard_pythonizations', '_stdcpp_fix', '_stderr_capture', '_typeids', '_typemap', '_version', 'add_autoload_map', 'add_include_path', 'add_library_path', 'addressof', 'ape', 'bind_object', 'c_include', 'cppdef', 'cppexec', 'ctypes', 'gbl', 'include', 'line', 'load_library', 'load_reflection_info', 'local_pch', 'multi', 'nullptr', 'os', 'py', 'py_make_smartptr', 'set_debug', 'sizeof', 'sys', 'sysconfig', 'typeid', 'warnings']\n"
     ]
    },
    {
     "data": {
      "text/plain": [
       "True"
      ]
     },
     "execution_count": 1,
     "metadata": {},
     "output_type": "execute_result"
    }
   ],
   "source": [
    "# %%file cppyy_test.py\n",
    "\n",
    "import cppyy\n",
    "print( dir(cppyy) )\n",
    "cppyy.cppdef(\"\"\"\n",
    "int test(){\n",
    "    return 5;\n",
    "}\n",
    "\"\"\")\n",
    "\n",
    "# cppyy.add_include_path(\"/opt/versatushpc/softwares/root/5.34-gnu-5.3/include/root\")\n",
    "# cppyy.include(\"TROOT.h\")\n",
    "# cppyy.include(\"TFile.h\")\n",
    "# cppyy.include(\"TTree.h\")\n",
    "\n",
    "# # cppyy.add_library_path(\"/opt/spack/opt/spack/linux-centos7-x86_64/gcc-5.3.0/root-6.14.00-kpuyabmncxz47fftbv564gw3iq2p6njf/lib\")\n",
    "# # cppyy.load_library(\"Core\")\n",
    "\n",
    "# cppyy.cppdef(\"\"\"\n",
    "# void write(){\n",
    "#     TFile file(\"exemplacppyy.root\", \"recreate\");\n",
    "#     TTree tree(\"tree\");\n",
    "    \n",
    "#     return;\n",
    "# }\n",
    "# \"\"\")\n",
    "\n",
    "# cppyy.gbl.write()"
   ]
  },
  {
   "cell_type": "code",
   "execution_count": 2,
   "metadata": {},
   "outputs": [
    {
     "data": {
      "text/plain": [
       "5"
      ]
     },
     "execution_count": 2,
     "metadata": {},
     "output_type": "execute_result"
    }
   ],
   "source": [
    "cppyy.gbl.test()"
   ]
  },
  {
   "cell_type": "markdown",
   "metadata": {},
   "source": [
    "# miscellaneous"
   ]
  },
  {
   "cell_type": "code",
   "execution_count": 26,
   "metadata": {},
   "outputs": [
    {
     "name": "stdout",
     "output_type": "stream",
     "text": [
      "values [1, 2, 3, 4, 10, 11, 9]\n",
      "lens [4, 2, 1]\n",
      "splits [4, 6]\n",
      "[array([1, 2, 3, 4]), array([10, 11]), array([9])]\n",
      "[[ 1  2  3  4  0  0  0]\n",
      " [ 0  0  0  0 10 11  0]\n",
      " [ 0  0  0  0  0  0  9]]\n",
      "[ 1  2  3  4 10 11  9]\n",
      "[0 4 6 7]\n",
      "[array([1, 2, 3, 4]), array([10, 11]), array([9])]\n",
      "sum [[1.42857143]\n",
      " [3.        ]\n",
      " [1.28571429]]\n"
     ]
    }
   ],
   "source": [
    "import numpy as np\n",
    "from functools import reduce\n",
    "from scipy.sparse import csr_matrix\n",
    "\n",
    "def binned_statistic(x, values, func, nbins, range):\n",
    "    '''The usage is nearly the same as scipy.stats.binned_statistic''' \n",
    "\n",
    "    N = len(values)\n",
    "    r0, r1 = range\n",
    "\n",
    "    digitized = (float(nbins)/(r1 - r0)*(x - r0)).astype(int)\n",
    "    row = digitized\n",
    "    column = np.arange(N)\n",
    "    S = csr_matrix((values, [row, column]), shape=(nbins, N))\n",
    "\n",
    "    return [func(group) for group in np.split(S.data, S.indptr[1:-1])]\n",
    "\n",
    "nested = [[1,2,3,4], [10,11], [9]]\n",
    "\n",
    "values = reduce( lambda x,y: x + y, nested )\n",
    "print( 'values', values )\n",
    "lens = list(map( len, nested ))\n",
    "print( 'lens', lens )\n",
    "splits = [ sum(lens[:i]) for i in range(1,len(nested)) ]\n",
    "print( 'splits', splits )\n",
    "print( np.split( values, splits ) )\n",
    "row, values = np.array( [ (ind, element) for ind, array in enumerate(nested) for element in array ] ).T\n",
    "N = values.size\n",
    "S = csr_matrix( (values, (row, np.arange(N))), shape=(row.max()+1, N) )\n",
    "print( S.toarray() )\n",
    "print( S.data )\n",
    "print( S.indptr )\n",
    "print( np.split(values, S.indptr[1:-1]) )\n",
    "# print( 'list', S.tolil() )\n",
    "print( 'sum', S.mean(axis=1) )"
   ]
  },
  {
   "cell_type": "code",
   "execution_count": 58,
   "metadata": {},
   "outputs": [
    {
     "name": "stdout",
     "output_type": "stream",
     "text": [
      "Collecting numba\n",
      "  Downloading numba-0.53.1-cp36-cp36m-manylinux2014_x86_64.whl (3.4 MB)\n",
      "\u001b[K     |████████████████████████████████| 3.4 MB 22.2 MB/s eta 0:00:01     |███████████████▉                | 1.7 MB 22.2 MB/s eta 0:00:01\n",
      "\u001b[?25hRequirement already satisfied: numpy>=1.15 in /home/mota/.local/lib/python3.6/site-packages (from numba) (1.19.4)\n",
      "Requirement already satisfied: setuptools in /home/mota/.local/lib/python3.6/site-packages (from numba) (51.1.0)\n",
      "Collecting llvmlite<0.37,>=0.36.0rc1\n",
      "  Downloading llvmlite-0.36.0-cp36-cp36m-manylinux2010_x86_64.whl (25.3 MB)\n",
      "\u001b[K     |████████████████████████████████| 25.3 MB 15.1 MB/s eta 0:00:01    |███▏                            | 2.5 MB 15.1 MB/s eta 0:00:02     |████████████████████▍           | 16.1 MB 15.1 MB/s eta 0:00:01     |███████████████████████▋        | 18.6 MB 15.1 MB/s eta 0:00:01\n",
      "\u001b[?25hInstalling collected packages: llvmlite, numba\n",
      "Successfully installed llvmlite-0.36.0 numba-0.53.1\n"
     ]
    }
   ],
   "source": [
    "!pip3 install numba --user"
   ]
  }
 ],
 "metadata": {
  "kernelspec": {
   "display_name": "Python 3",
   "language": "python",
   "name": "python3"
  },
  "language_info": {
   "codemirror_mode": {
    "name": "ipython",
    "version": 3
   },
   "file_extension": ".py",
   "mimetype": "text/x-python",
   "name": "python",
   "nbconvert_exporter": "python",
   "pygments_lexer": "ipython3",
   "version": "3.6.3"
  }
 },
 "nbformat": 4,
 "nbformat_minor": 4
}
